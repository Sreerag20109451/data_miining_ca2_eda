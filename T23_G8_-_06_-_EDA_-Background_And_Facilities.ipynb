{
 "cells": [
  {
   "metadata": {},
   "cell_type": "markdown",
   "source": "# 6 BACKGROUND AND FACILITIES",
   "id": "3253fa18febe4d97"
  },
  {
   "metadata": {
    "ExecuteTime": {
     "end_time": "2025-03-20T21:05:42.705858Z",
     "start_time": "2025-03-20T21:05:42.699849Z"
    }
   },
   "cell_type": "code",
   "source": [
    "import pandas as pd\n",
    "import numpy as np\n",
    "import  matplotlib.pyplot as plt\n",
    "import seaborn as sns"
   ],
   "id": "ffdf6cdd6bfdc09d",
   "outputs": [],
   "execution_count": 3
  },
  {
   "metadata": {
    "ExecuteTime": {
     "end_time": "2025-03-20T21:05:42.736684Z",
     "start_time": "2025-03-20T21:05:42.714865Z"
    }
   },
   "cell_type": "code",
   "source": "df = pd.read_feather(\"./data/cleaned_behavior.feather\")",
   "id": "d4738d34562131b3",
   "outputs": [],
   "execution_count": 4
  },
  {
   "metadata": {
    "ExecuteTime": {
     "end_time": "2025-03-20T21:05:42.790641Z",
     "start_time": "2025-03-20T21:05:42.768909Z"
    }
   },
   "cell_type": "code",
   "source": "df.info()",
   "id": "33c17d6b66440756",
   "outputs": [
    {
     "name": "stdout",
     "output_type": "stream",
     "text": [
      "<class 'pandas.core.frame.DataFrame'>\n",
      "Index: 3875 entries, 0 to 5089\n",
      "Data columns (total 64 columns):\n",
      " #   Column                                        Non-Null Count  Dtype   \n",
      "---  ------                                        --------------  -----   \n",
      " 0   Gender_Student                                3875 non-null   category\n",
      " 1   Lang_Spoken_Home                              3875 non-null   category\n",
      " 2   Books_Home                                    3875 non-null   category\n",
      " 3   Own_Computer                                  3875 non-null   category\n",
      " 4   Shared_Computer                               3875 non-null   category\n",
      " 5   Smartphone                                    3875 non-null   category\n",
      " 6   Internet_Access                               3875 non-null   category\n",
      " 7   Study_Desk                                    3875 non-null   category\n",
      " 8   Own_Room                                      3875 non-null   category\n",
      " 9   ParentA_Edu_Level                             3875 non-null   category\n",
      " 10  ParentB_Edu_Level                             3875 non-null   category\n",
      " 11  Education_Expectation                         3875 non-null   category\n",
      " 12  ParentA_Born_Country                          3875 non-null   category\n",
      " 13  ParentB_Born_Country                          3875 non-null   category\n",
      " 14  1ST_PV_MATHEMATICS                            3875 non-null   float64 \n",
      " 15  2ND_PV_MATHEMATICS                            3875 non-null   float64 \n",
      " 16  3RD_PV_MATHEMATICS                            3875 non-null   float64 \n",
      " 17  4TH_PV_MATHEMATICS                            3875 non-null   float64 \n",
      " 18  5TH_PV_MATHEMATICS                            3875 non-null   float64 \n",
      " 19  1ST_PV_SCIENCE                                3875 non-null   float64 \n",
      " 20  2ND_PV_SCIENCE                                3875 non-null   float64 \n",
      " 21  3RD_PV_SCIENCE                                3875 non-null   float64 \n",
      " 22  4TH_PV_SCIENCE                                3875 non-null   float64 \n",
      " 23  5TH_PV_SCIENCE                                3875 non-null   float64 \n",
      " 24  1ST_PV_BIOLOGY                                3875 non-null   float64 \n",
      " 25  2ND_PV_BIOLOGY                                3875 non-null   float64 \n",
      " 26  3RD_PV_BIOLOGY                                3875 non-null   float64 \n",
      " 27  4TH_PV_BIOLOGY                                3875 non-null   float64 \n",
      " 28  5TH_PV_BIOLOGY                                3875 non-null   float64 \n",
      " 29  1ST_PV_CHEMISTRY                              3875 non-null   float64 \n",
      " 30  2ND_PV_CHEMISTRY                              3875 non-null   float64 \n",
      " 31  3RD_PV_CHEMISTRY                              3875 non-null   float64 \n",
      " 32  4TH_PV_CHEMISTRY                              3875 non-null   float64 \n",
      " 33  5TH_PV_CHEMISTRY                              3875 non-null   float64 \n",
      " 34  1ST_PV_PHYSICS                                3875 non-null   float64 \n",
      " 35  2ND_PV PHYSICS                                3875 non-null   float64 \n",
      " 36  3RD_PV_PHYSICS                                3875 non-null   float64 \n",
      " 37  4TH_PV_PHYSICS                                3875 non-null   float64 \n",
      " 38  5TH_PV_PHYSICS                                3875 non-null   float64 \n",
      " 39  1ST_PV_EARTH_SCIENCE                          3875 non-null   float64 \n",
      " 40  2ND_PV_EARTH_SCIENCE                          3875 non-null   float64 \n",
      " 41  3RD_PV_EARTH_SCIENCE                          3875 non-null   float64 \n",
      " 42  4TH_PV_EARTH_SCIENCE                          3875 non-null   float64 \n",
      " 43  5TH_PV_EARTH_SCIENCE                          3875 non-null   float64 \n",
      " 44  Sense_of_School_Belonging                     3875 non-null   category\n",
      " 45  Student_Bullying                              3875 non-null   category\n",
      " 46  Students_Like_Learning_Mathematics            3875 non-null   category\n",
      " 47  Instructional_Clarity_in_Mathematics_Lessons  3875 non-null   category\n",
      " 48  Disorderly_Behavior_during_Math_Lessons       3875 non-null   category\n",
      " 49  Students_Confident_in_Mathematics             3875 non-null   category\n",
      " 50  Students_Value_Mathematics                    3875 non-null   category\n",
      " 51  Students_Like_Learning_Science                3875 non-null   category\n",
      " 52  Instructional_Clarity_in_Science_Lessons      3875 non-null   category\n",
      " 53  Students_Confident_in_Science                 3875 non-null   category\n",
      " 54  Students_Value_Science                        3875 non-null   category\n",
      " 55  Digital_Self_Efficacy                         3875 non-null   category\n",
      " 56  Disorderly_Behavior_during_Science_Lessons    3875 non-null   category\n",
      " 57  Students_Value_Environmental_Preservation     3875 non-null   object  \n",
      " 58  AVERAGE_PV_SCIENCE                            3875 non-null   float64 \n",
      " 59  AVERAGE_PV_MATHEMATICS                        3875 non-null   float64 \n",
      " 60  AVERAGE_PV_BIOLOGY                            3875 non-null   float64 \n",
      " 61  AVERAGE_PV_CHEMISTRY                          3875 non-null   float64 \n",
      " 62  AVERAGE_PV_PHYSICS                            3875 non-null   float64 \n",
      " 63  AVERAGE_PV_EARTH_SCIENCE                      3875 non-null   float64 \n",
      "dtypes: category(27), float64(36), object(1)\n",
      "memory usage: 1.2+ MB\n"
     ]
    }
   ],
   "execution_count": 5
  },
  {
   "metadata": {
    "ExecuteTime": {
     "end_time": "2025-03-20T21:05:42.810778Z",
     "start_time": "2025-03-20T21:05:42.806602Z"
    }
   },
   "cell_type": "code",
   "source": "## 2.",
   "id": "8cec9f57ba2ff71a",
   "outputs": [],
   "execution_count": null
  }
 ],
 "metadata": {
  "kernelspec": {
   "display_name": "Python 3",
   "language": "python",
   "name": "python3"
  },
  "language_info": {
   "codemirror_mode": {
    "name": "ipython",
    "version": 2
   },
   "file_extension": ".py",
   "mimetype": "text/x-python",
   "name": "python",
   "nbconvert_exporter": "python",
   "pygments_lexer": "ipython2",
   "version": "2.7.6"
  }
 },
 "nbformat": 4,
 "nbformat_minor": 5
}

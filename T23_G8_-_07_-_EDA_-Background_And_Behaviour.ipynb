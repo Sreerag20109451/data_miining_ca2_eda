{
 "cells": [
  {
   "metadata": {},
   "cell_type": "markdown",
   "source": "# 7. Background and Behaviour",
   "id": "2a4a1ffc433fa4ce"
  },
  {
   "metadata": {
    "ExecuteTime": {
     "end_time": "2025-03-23T20:07:15.969642Z",
     "start_time": "2025-03-23T20:07:15.827887Z"
    }
   },
   "cell_type": "code",
   "source": [
    "\n",
    "\n",
    "\n",
    "import pandas as pd\n",
    "import numpy as np\n",
    "import  seaborn as sns\n",
    "import matplotlib.pyplot as plt\n",
    "import utils as utils"
   ],
   "id": "f2fbb5daea9d14",
   "outputs": [],
   "execution_count": 2
  },
  {
   "metadata": {
    "ExecuteTime": {
     "end_time": "2025-03-23T20:07:16.096213Z",
     "start_time": "2025-03-23T20:07:16.044674Z"
    }
   },
   "cell_type": "code",
   "source": [
    "df = pd.read_feather(\"./data/cleaned_parental_origin\")\n",
    "df.info()"
   ],
   "id": "cc38ef568eb47712",
   "outputs": [
    {
     "name": "stdout",
     "output_type": "stream",
     "text": [
      "<class 'pandas.core.frame.DataFrame'>\n",
      "Index: 3875 entries, 0 to 5089\n",
      "Data columns (total 66 columns):\n",
      " #   Column                                        Non-Null Count  Dtype   \n",
      "---  ------                                        --------------  -----   \n",
      " 0   Gender_Student                                3875 non-null   category\n",
      " 1   Lang_Spoken_Home                              3875 non-null   category\n",
      " 2   Books_Home                                    3875 non-null   category\n",
      " 3   Own_Computer                                  3875 non-null   category\n",
      " 4   Shared_Computer                               3875 non-null   category\n",
      " 5   Smartphone                                    3875 non-null   category\n",
      " 6   Internet_Access                               3875 non-null   category\n",
      " 7   Study_Desk                                    3875 non-null   category\n",
      " 8   Own_Room                                      3875 non-null   category\n",
      " 9   ParentA_Edu_Level                             3875 non-null   category\n",
      " 10  ParentB_Edu_Level                             3875 non-null   category\n",
      " 11  Education_Expectation                         3875 non-null   category\n",
      " 12  ParentA_Born_Country                          3875 non-null   object  \n",
      " 13  ParentB_Born_Country                          3875 non-null   object  \n",
      " 14  1ST_PV_MATHEMATICS                            3875 non-null   float64 \n",
      " 15  2ND_PV_MATHEMATICS                            3875 non-null   float64 \n",
      " 16  3RD_PV_MATHEMATICS                            3875 non-null   float64 \n",
      " 17  4TH_PV_MATHEMATICS                            3875 non-null   float64 \n",
      " 18  5TH_PV_MATHEMATICS                            3875 non-null   float64 \n",
      " 19  1ST_PV_SCIENCE                                3875 non-null   float64 \n",
      " 20  2ND_PV_SCIENCE                                3875 non-null   float64 \n",
      " 21  3RD_PV_SCIENCE                                3875 non-null   float64 \n",
      " 22  4TH_PV_SCIENCE                                3875 non-null   float64 \n",
      " 23  5TH_PV_SCIENCE                                3875 non-null   float64 \n",
      " 24  1ST_PV_BIOLOGY                                3875 non-null   float64 \n",
      " 25  2ND_PV_BIOLOGY                                3875 non-null   float64 \n",
      " 26  3RD_PV_BIOLOGY                                3875 non-null   float64 \n",
      " 27  4TH_PV_BIOLOGY                                3875 non-null   float64 \n",
      " 28  5TH_PV_BIOLOGY                                3875 non-null   float64 \n",
      " 29  1ST_PV_CHEMISTRY                              3875 non-null   float64 \n",
      " 30  2ND_PV_CHEMISTRY                              3875 non-null   float64 \n",
      " 31  3RD_PV_CHEMISTRY                              3875 non-null   float64 \n",
      " 32  4TH_PV_CHEMISTRY                              3875 non-null   float64 \n",
      " 33  5TH_PV_CHEMISTRY                              3875 non-null   float64 \n",
      " 34  1ST_PV_PHYSICS                                3875 non-null   float64 \n",
      " 35  2ND_PV PHYSICS                                3875 non-null   float64 \n",
      " 36  3RD_PV_PHYSICS                                3875 non-null   float64 \n",
      " 37  4TH_PV_PHYSICS                                3875 non-null   float64 \n",
      " 38  5TH_PV_PHYSICS                                3875 non-null   float64 \n",
      " 39  1ST_PV_EARTH_SCIENCE                          3875 non-null   float64 \n",
      " 40  2ND_PV_EARTH_SCIENCE                          3875 non-null   float64 \n",
      " 41  3RD_PV_EARTH_SCIENCE                          3875 non-null   float64 \n",
      " 42  4TH_PV_EARTH_SCIENCE                          3875 non-null   float64 \n",
      " 43  5TH_PV_EARTH_SCIENCE                          3875 non-null   float64 \n",
      " 44  Sense_of_School_Belonging                     3875 non-null   category\n",
      " 45  Student_Bullying                              3875 non-null   category\n",
      " 46  Students_Like_Learning_Mathematics            3875 non-null   category\n",
      " 47  Instructional_Clarity_in_Mathematics_Lessons  3875 non-null   category\n",
      " 48  Disorderly_Behavior_during_Math_Lessons       3875 non-null   category\n",
      " 49  Students_Confident_in_Mathematics             3875 non-null   category\n",
      " 50  Students_Value_Mathematics                    3875 non-null   category\n",
      " 51  Students_Like_Learning_Science                3875 non-null   category\n",
      " 52  Instructional_Clarity_in_Science_Lessons      3875 non-null   category\n",
      " 53  Students_Confident_in_Science                 3875 non-null   category\n",
      " 54  Students_Value_Science                        3875 non-null   category\n",
      " 55  Digital_Self_Efficacy                         3875 non-null   category\n",
      " 56  Disorderly_Behavior_during_Science_Lessons    3875 non-null   category\n",
      " 57  Students_Value_Environmental_Preservation     3875 non-null   object  \n",
      " 58  AVERAGE_PV_SCIENCE                            3875 non-null   float64 \n",
      " 59  AVERAGE_PV_MATHEMATICS                        3875 non-null   float64 \n",
      " 60  AVERAGE_PV_BIOLOGY                            3875 non-null   float64 \n",
      " 61  AVERAGE_PV_CHEMISTRY                          3875 non-null   float64 \n",
      " 62  AVERAGE_PV_PHYSICS                            3875 non-null   float64 \n",
      " 63  AVERAGE_PV_EARTH_SCIENCE                      3875 non-null   float64 \n",
      " 64  highest                                       3875 non-null   category\n",
      " 65  Parental_Origin                               3875 non-null   object  \n",
      "dtypes: category(26), float64(36), object(4)\n",
      "memory usage: 1.3+ MB\n"
     ]
    }
   ],
   "execution_count": 3
  },
  {
   "metadata": {},
   "cell_type": "markdown",
   "source": "# 7.1 Disorderly Behaviour and Background\n",
   "id": "9ebbd468ee4160d9"
  },
  {
   "metadata": {
    "ExecuteTime": {
     "end_time": "2025-03-23T20:07:16.169393Z",
     "start_time": "2025-03-23T20:07:16.138870Z"
    }
   },
   "cell_type": "code",
   "source": [
    "disorderly_mask = df.columns.str.contains(\"Disorderly\")\n",
    "df[df.columns[disorderly_mask]].value_counts()"
   ],
   "id": "21d940a58679dfb5",
   "outputs": [
    {
     "data": {
      "text/plain": [
       "Disorderly_Behavior_during_Math_Lessons  Disorderly_Behavior_during_Science_Lessons\n",
       "Some Lessons                             Some Lessons                                  2059\n",
       "Few Lessons                              Few Lessons                                   1441\n",
       "Most Lessons                             Most Lessons                                   375\n",
       "Name: count, dtype: int64"
      ]
     },
     "execution_count": 4,
     "metadata": {},
     "output_type": "execute_result"
    }
   ],
   "execution_count": 4
  },
  {
   "metadata": {
    "ExecuteTime": {
     "end_time": "2025-03-23T20:07:16.245781Z",
     "start_time": "2025-03-23T20:07:16.237467Z"
    }
   },
   "cell_type": "code",
   "source": [
    "df[\"Disorderly_Behavior_during_Math_Lessons\"]  = pd.Categorical(df[\"Disorderly_Behavior_during_Math_Lessons\"] ,ordered=True, categories=[\"Few Lessons\", \"Some Lessons\", \"Most Lessons\"])\n",
    "\n"
   ],
   "id": "2c49dc13f380f81",
   "outputs": [],
   "execution_count": 5
  },
  {
   "metadata": {},
   "cell_type": "markdown",
   "source": "### 7.1.1 Background and Disorderly Behaviour in Math Classes",
   "id": "e687ee50b2e35fe3"
  },
  {
   "metadata": {},
   "cell_type": "markdown",
   "source": "#### 7.1.1.1 Background(Origin and Education level of Parents) and distribution of students having frequent disorderly behaviour",
   "id": "bf0c40f4f1e3d632"
  },
  {
   "metadata": {
    "ExecuteTime": {
     "end_time": "2025-03-23T20:07:16.933875Z",
     "start_time": "2025-03-23T20:07:16.385290Z"
    }
   },
   "cell_type": "code",
   "source": [
    "columns = [\"Parental_Origin\", \"highest\"]\n",
    "plt.figure(figsize = (14,7))\n",
    "for index, col in enumerate(columns):\n",
    "    sns.countplot(data=df, x=col, hue=\"Disorderly_Behavior_during_Math_Lessons\")\n",
    "plt.legend()\n",
    "plt.tight_layout()\n",
    "plt.show()"
   ],
   "id": "7f302883b2a98e4a",
   "outputs": [
    {
     "data": {
      "text/plain": [
       "<Figure size 1400x700 with 1 Axes>"
      ],
      "image/png": "[encoded data removed]"
     },
     "metadata": {},
     "output_type": "display_data"
    }
   ],
   "execution_count": 6
  },
  {
   "metadata": {
    "ExecuteTime": {
     "end_time": "2025-03-23T20:07:17.458826Z",
     "start_time": "2025-03-23T20:07:17.025003Z"
    }
   },
   "cell_type": "code",
   "source": [
    "maths_filterd, math_grouped = utils.getDissorderlyBehaviourGrouped(df,\"Parental_Origin\", \"Math\", \"Most\")\n",
    "math_grouped.describe()\n",
    "\n",
    "maths_filterd_edu, math_grouped_edu = utils.getDissorderlyBehaviourGrouped(df,\"highest\", \"Math\", \"Most\")\n",
    "math_grouped_edu.describe()"
   ],
   "id": "cb4a886286511c0c",
   "outputs": [
    {
     "data": {
      "text/plain": [
       "<Figure size 640x480 with 1 Axes>"
      ],
      "image/png": "[encoded data removed]"
     },
     "metadata": {},
     "output_type": "display_data"
    },
    {
     "data": {
      "text/plain": [
       "<Figure size 640x480 with 1 Axes>"
      ],
      "image/png": "[encoded data removed]"
     },
     "metadata": {},
     "output_type": "display_data"
    },
    {
     "data": {
      "text/plain": [
       "                count unique              top freq\n",
       "highest                                           \n",
       "Not Available     113      1    Not Available  113\n",
       "Primary            21      1          Primary   21\n",
       "Upper Secondary    40      1  Upper Secondary   40\n",
       "Tertiary           85      1         Tertiary   85\n",
       "Undergraduate      33      1    Undergraduate   33\n",
       "Postgraduate       83      1     Postgraduate   83"
      ],
      "text/html": [
       "<div>\n",
       "<style scoped>\n",
       "    .dataframe tbody tr th:only-of-type {\n",
       "        vertical-align: middle;\n",
       "    }\n",
       "\n",
       "    .dataframe tbody tr th {\n",
       "        vertical-align: top;\n",
       "    }\n",
       "\n",
       "    .dataframe thead th {\n",
       "        text-align: right;\n",
       "    }\n",
       "</style>\n",
       "<table border=\"1\" class=\"dataframe\">\n",
       "  <thead>\n",
       "    <tr style=\"text-align: right;\">\n",
       "      <th></th>\n",
       "      <th>count</th>\n",
       "      <th>unique</th>\n",
       "      <th>top</th>\n",
       "      <th>freq</th>\n",
       "    </tr>\n",
       "    <tr>\n",
       "      <th>highest</th>\n",
       "      <th></th>\n",
       "      <th></th>\n",
       "      <th></th>\n",
       "      <th></th>\n",
       "    </tr>\n",
       "  </thead>\n",
       "  <tbody>\n",
       "    <tr>\n",
       "      <th>Not Available</th>\n",
       "      <td>113</td>\n",
       "      <td>1</td>\n",
       "      <td>Not Available</td>\n",
       "      <td>113</td>\n",
       "    </tr>\n",
       "    <tr>\n",
       "      <th>Primary</th>\n",
       "      <td>21</td>\n",
       "      <td>1</td>\n",
       "      <td>Primary</td>\n",
       "      <td>21</td>\n",
       "    </tr>\n",
       "    <tr>\n",
       "      <th>Upper Secondary</th>\n",
       "      <td>40</td>\n",
       "      <td>1</td>\n",
       "      <td>Upper Secondary</td>\n",
       "      <td>40</td>\n",
       "    </tr>\n",
       "    <tr>\n",
       "      <th>Tertiary</th>\n",
       "      <td>85</td>\n",
       "      <td>1</td>\n",
       "      <td>Tertiary</td>\n",
       "      <td>85</td>\n",
       "    </tr>\n",
       "    <tr>\n",
       "      <th>Undergraduate</th>\n",
       "      <td>33</td>\n",
       "      <td>1</td>\n",
       "      <td>Undergraduate</td>\n",
       "      <td>33</td>\n",
       "    </tr>\n",
       "    <tr>\n",
       "      <th>Postgraduate</th>\n",
       "      <td>83</td>\n",
       "      <td>1</td>\n",
       "      <td>Postgraduate</td>\n",
       "      <td>83</td>\n",
       "    </tr>\n",
       "  </tbody>\n",
       "</table>\n",
       "</div>"
      ]
     },
     "execution_count": 7,
     "metadata": {},
     "output_type": "execute_result"
    }
   ],
   "execution_count": 7
  },
  {
   "metadata": {},
   "cell_type": "markdown",
   "source": "#### 7.1.1.2 Background and Distribution of students having some disorderly behaviour",
   "id": "a9e5d766e4b2e034"
  },
  {
   "metadata": {
    "ExecuteTime": {
     "end_time": "2025-03-23T20:07:18.063612Z",
     "start_time": "2025-03-23T20:07:17.540448Z"
    }
   },
   "cell_type": "code",
   "source": [
    "maths_filterd, math_grouped = utils.getDissorderlyBehaviourGrouped(df,\"Parental_Origin\", \"Math\", \"Some\")\n",
    "math_grouped.describe()\n",
    "\n",
    "maths_filterd_edu, math_grouped_edu = utils.getDissorderlyBehaviourGrouped(df,\"highest\", \"Math\", \"Some\")\n",
    "math_grouped_edu.describe()"
   ],
   "id": "59a1ba0b8099c27b",
   "outputs": [
    {
     "data": {
      "text/plain": [
       "<Figure size 640x480 with 1 Axes>"
      ],
      "image/png": "[encoded data removed]"
     },
     "metadata": {},
     "output_type": "display_data"
    },
    {
     "data": {
      "text/plain": [
       "<Figure size 640x480 with 1 Axes>"
      ],
      "image/png": "[encoded data removed]"
     },
     "metadata": {},
     "output_type": "display_data"
    },
    {
     "data": {
      "text/plain": [
       "                count unique              top freq\n",
       "highest                                           \n",
       "Not Available     655      1    Not Available  655\n",
       "Primary            83      1          Primary   83\n",
       "Upper Secondary   226      1  Upper Secondary  226\n",
       "Tertiary          399      1         Tertiary  399\n",
       "Undergraduate     218      1    Undergraduate  218\n",
       "Postgraduate      478      1     Postgraduate  478"
      ],
      "text/html": [
       "<div>\n",
       "<style scoped>\n",
       "    .dataframe tbody tr th:only-of-type {\n",
       "        vertical-align: middle;\n",
       "    }\n",
       "\n",
       "    .dataframe tbody tr th {\n",
       "        vertical-align: top;\n",
       "    }\n",
       "\n",
       "    .dataframe thead th {\n",
       "        text-align: right;\n",
       "    }\n",
       "</style>\n",
       "<table border=\"1\" class=\"dataframe\">\n",
       "  <thead>\n",
       "    <tr style=\"text-align: right;\">\n",
       "      <th></th>\n",
       "      <th>count</th>\n",
       "      <th>unique</th>\n",
       "      <th>top</th>\n",
       "      <th>freq</th>\n",
       "    </tr>\n",
       "    <tr>\n",
       "      <th>highest</th>\n",
       "      <th></th>\n",
       "      <th></th>\n",
       "      <th></th>\n",
       "      <th></th>\n",
       "    </tr>\n",
       "  </thead>\n",
       "  <tbody>\n",
       "    <tr>\n",
       "      <th>Not Available</th>\n",
       "      <td>655</td>\n",
       "      <td>1</td>\n",
       "      <td>Not Available</td>\n",
       "      <td>655</td>\n",
       "    </tr>\n",
       "    <tr>\n",
       "      <th>Primary</th>\n",
       "      <td>83</td>\n",
       "      <td>1</td>\n",
       "      <td>Primary</td>\n",
       "      <td>83</td>\n",
       "    </tr>\n",
       "    <tr>\n",
       "      <th>Upper Secondary</th>\n",
       "      <td>226</td>\n",
       "      <td>1</td>\n",
       "      <td>Upper Secondary</td>\n",
       "      <td>226</td>\n",
       "    </tr>\n",
       "    <tr>\n",
       "      <th>Tertiary</th>\n",
       "      <td>399</td>\n",
       "      <td>1</td>\n",
       "      <td>Tertiary</td>\n",
       "      <td>399</td>\n",
       "    </tr>\n",
       "    <tr>\n",
       "      <th>Undergraduate</th>\n",
       "      <td>218</td>\n",
       "      <td>1</td>\n",
       "      <td>Undergraduate</td>\n",
       "      <td>218</td>\n",
       "    </tr>\n",
       "    <tr>\n",
       "      <th>Postgraduate</th>\n",
       "      <td>478</td>\n",
       "      <td>1</td>\n",
       "      <td>Postgraduate</td>\n",
       "      <td>478</td>\n",
       "    </tr>\n",
       "  </tbody>\n",
       "</table>\n",
       "</div>"
      ]
     },
     "execution_count": 8,
     "metadata": {},
     "output_type": "execute_result"
    }
   ],
   "execution_count": 8
  },
  {
   "metadata": {},
   "cell_type": "markdown",
   "source": "#### 7.1.1.3 BAckground and distribution of Students having few disorderly behaviour",
   "id": "7f264e00c76caaf6"
  },
  {
   "metadata": {
    "ExecuteTime": {
     "end_time": "2025-03-23T20:07:18.585339Z",
     "start_time": "2025-03-23T20:07:18.141196Z"
    }
   },
   "cell_type": "code",
   "source": [
    "maths_filterd, math_grouped = utils.getDissorderlyBehaviourGrouped(df,\"Parental_Origin\", \"Math\", \"Few\")\n",
    "math_grouped.describe()\n",
    "\n",
    "maths_filterd_edu, math_grouped_edu = utils.getDissorderlyBehaviourGrouped(df,\"highest\", \"Math\", \"Few\")\n",
    "math_grouped_edu.describe()"
   ],
   "id": "f9b47a00ab34460e",
   "outputs": [
    {
     "data": {
      "text/plain": [
       "<Figure size 640x480 with 1 Axes>"
      ],
      "image/png": "[encoded data removed]"
     },
     "metadata": {},
     "output_type": "display_data"
    },
    {
     "data": {
      "text/plain": [
       "<Figure size 640x480 with 1 Axes>"
      ],
      "image/png": "[encoded data removed]"
     },
     "metadata": {},
     "output_type": "display_data"
    },
    {
     "data": {
      "text/plain": [
       "                count unique              top freq\n",
       "highest                                           \n",
       "Not Available     413      1    Not Available  413\n",
       "Primary            44      1          Primary   44\n",
       "Upper Secondary   127      1  Upper Secondary  127\n",
       "Tertiary          291      1         Tertiary  291\n",
       "Undergraduate     167      1    Undergraduate  167\n",
       "Postgraduate      399      1     Postgraduate  399"
      ],
      "text/html": [
       "<div>\n",
       "<style scoped>\n",
       "    .dataframe tbody tr th:only-of-type {\n",
       "        vertical-align: middle;\n",
       "    }\n",
       "\n",
       "    .dataframe tbody tr th {\n",
       "        vertical-align: top;\n",
       "    }\n",
       "\n",
       "    .dataframe thead th {\n",
       "        text-align: right;\n",
       "    }\n",
       "</style>\n",
       "<table border=\"1\" class=\"dataframe\">\n",
       "  <thead>\n",
       "    <tr style=\"text-align: right;\">\n",
       "      <th></th>\n",
       "      <th>count</th>\n",
       "      <th>unique</th>\n",
       "      <th>top</th>\n",
       "      <th>freq</th>\n",
       "    </tr>\n",
       "    <tr>\n",
       "      <th>highest</th>\n",
       "      <th></th>\n",
       "      <th></th>\n",
       "      <th></th>\n",
       "      <th></th>\n",
       "    </tr>\n",
       "  </thead>\n",
       "  <tbody>\n",
       "    <tr>\n",
       "      <th>Not Available</th>\n",
       "      <td>413</td>\n",
       "      <td>1</td>\n",
       "      <td>Not Available</td>\n",
       "      <td>413</td>\n",
       "    </tr>\n",
       "    <tr>\n",
       "      <th>Primary</th>\n",
       "      <td>44</td>\n",
       "      <td>1</td>\n",
       "      <td>Primary</td>\n",
       "      <td>44</td>\n",
       "    </tr>\n",
       "    <tr>\n",
       "      <th>Upper Secondary</th>\n",
       "      <td>127</td>\n",
       "      <td>1</td>\n",
       "      <td>Upper Secondary</td>\n",
       "      <td>127</td>\n",
       "    </tr>\n",
       "    <tr>\n",
       "      <th>Tertiary</th>\n",
       "      <td>291</td>\n",
       "      <td>1</td>\n",
       "      <td>Tertiary</td>\n",
       "      <td>291</td>\n",
       "    </tr>\n",
       "    <tr>\n",
       "      <th>Undergraduate</th>\n",
       "      <td>167</td>\n",
       "      <td>1</td>\n",
       "      <td>Undergraduate</td>\n",
       "      <td>167</td>\n",
       "    </tr>\n",
       "    <tr>\n",
       "      <th>Postgraduate</th>\n",
       "      <td>399</td>\n",
       "      <td>1</td>\n",
       "      <td>Postgraduate</td>\n",
       "      <td>399</td>\n",
       "    </tr>\n",
       "  </tbody>\n",
       "</table>\n",
       "</div>"
      ]
     },
     "execution_count": 9,
     "metadata": {},
     "output_type": "execute_result"
    }
   ],
   "execution_count": 9
  },
  {
   "metadata": {},
   "cell_type": "markdown",
   "source": "### 7.1.2 Background and Disorderly Behaviour in Science Classes",
   "id": "852a52461f802c23"
  },
  {
   "metadata": {},
   "cell_type": "markdown",
   "source": "#### 7.1.2.1 Background(Origin and Education level of Parents) and distribution of students having frequent disorderly behaviour",
   "id": "a74882f75c4d7ea4"
  },
  {
   "metadata": {
    "ExecuteTime": {
     "end_time": "2025-03-23T20:07:19.313482Z",
     "start_time": "2025-03-23T20:07:18.814430Z"
    }
   },
   "cell_type": "code",
   "source": [
    "columns = [\"Parental_Origin\", \"highest\"]\n",
    "plt.figure(figsize = (14,7))\n",
    "for index, col in enumerate(columns):\n",
    "    sns.countplot(data=df, x=col, hue=\"Disorderly_Behavior_during_Science_Lessons\")\n",
    "plt.legend()\n",
    "plt.tight_layout()\n",
    "plt.show()"
   ],
   "id": "19dd96e53b1406f0",
   "outputs": [
    {
     "data": {
      "text/plain": [
       "<Figure size 1400x700 with 1 Axes>"
      ],
      "image/png": "[encoded data removed]"
     },
     "metadata": {},
     "output_type": "display_data"
    }
   ],
   "execution_count": 10
  },
  {
   "metadata": {
    "ExecuteTime": {
     "end_time": "2025-03-23T20:07:19.783112Z",
     "start_time": "2025-03-23T20:07:19.390793Z"
    }
   },
   "cell_type": "code",
   "source": [
    "sci_fil, sci_grouped = utils.getDissorderlyBehaviourGrouped(df,\"Parental_Origin\", \"Science\", \"Most\")\n",
    "sci_grouped.describe()\n",
    "\n",
    "sci_filterd_edu, sci_grouped_edu = utils.getDissorderlyBehaviourGrouped(df,\"highest\", \"Science\", \"Most\")\n",
    "sci_grouped_edu.describe()"
   ],
   "id": "1046bc788731a833",
   "outputs": [
    {
     "data": {
      "text/plain": [
       "<Figure size 640x480 with 1 Axes>"
      ],
      "image/png": "[encoded data removed]"
     },
     "metadata": {},
     "output_type": "display_data"
    },
    {
     "data": {
      "text/plain": [
       "<Figure size 640x480 with 1 Axes>"
      ],
      "image/png": "[encoded data removed]"
     },
     "metadata": {},
     "output_type": "display_data"
    },
    {
     "data": {
      "text/plain": [
       "                count unique              top freq\n",
       "highest                                           \n",
       "Not Available     113      1    Not Available  113\n",
       "Primary            21      1          Primary   21\n",
       "Upper Secondary    40      1  Upper Secondary   40\n",
       "Tertiary           85      1         Tertiary   85\n",
       "Undergraduate      33      1    Undergraduate   33\n",
       "Postgraduate       83      1     Postgraduate   83"
      ],
      "text/html": [
       "<div>\n",
       "<style scoped>\n",
       "    .dataframe tbody tr th:only-of-type {\n",
       "        vertical-align: middle;\n",
       "    }\n",
       "\n",
       "    .dataframe tbody tr th {\n",
       "        vertical-align: top;\n",
       "    }\n",
       "\n",
       "    .dataframe thead th {\n",
       "        text-align: right;\n",
       "    }\n",
       "</style>\n",
       "<table border=\"1\" class=\"dataframe\">\n",
       "  <thead>\n",
       "    <tr style=\"text-align: right;\">\n",
       "      <th></th>\n",
       "      <th>count</th>\n",
       "      <th>unique</th>\n",
       "      <th>top</th>\n",
       "      <th>freq</th>\n",
       "    </tr>\n",
       "    <tr>\n",
       "      <th>highest</th>\n",
       "      <th></th>\n",
       "      <th></th>\n",
       "      <th></th>\n",
       "      <th></th>\n",
       "    </tr>\n",
       "  </thead>\n",
       "  <tbody>\n",
       "    <tr>\n",
       "      <th>Not Available</th>\n",
       "      <td>113</td>\n",
       "      <td>1</td>\n",
       "      <td>Not Available</td>\n",
       "      <td>113</td>\n",
       "    </tr>\n",
       "    <tr>\n",
       "      <th>Primary</th>\n",
       "      <td>21</td>\n",
       "      <td>1</td>\n",
       "      <td>Primary</td>\n",
       "      <td>21</td>\n",
       "    </tr>\n",
       "    <tr>\n",
       "      <th>Upper Secondary</th>\n",
       "      <td>40</td>\n",
       "      <td>1</td>\n",
       "      <td>Upper Secondary</td>\n",
       "      <td>40</td>\n",
       "    </tr>\n",
       "    <tr>\n",
       "      <th>Tertiary</th>\n",
       "      <td>85</td>\n",
       "      <td>1</td>\n",
       "      <td>Tertiary</td>\n",
       "      <td>85</td>\n",
       "    </tr>\n",
       "    <tr>\n",
       "      <th>Undergraduate</th>\n",
       "      <td>33</td>\n",
       "      <td>1</td>\n",
       "      <td>Undergraduate</td>\n",
       "      <td>33</td>\n",
       "    </tr>\n",
       "    <tr>\n",
       "      <th>Postgraduate</th>\n",
       "      <td>83</td>\n",
       "      <td>1</td>\n",
       "      <td>Postgraduate</td>\n",
       "      <td>83</td>\n",
       "    </tr>\n",
       "  </tbody>\n",
       "</table>\n",
       "</div>"
      ]
     },
     "execution_count": 11,
     "metadata": {},
     "output_type": "execute_result"
    }
   ],
   "execution_count": 11
  },
  {
   "metadata": {},
   "cell_type": "markdown",
   "source": "#### 7.1.2.2 Background and Distribution of students having some disorderly behaviour",
   "id": "fdfa98be15f41ab4"
  },
  {
   "metadata": {
    "ExecuteTime": {
     "end_time": "2025-03-23T20:07:20.379783Z",
     "start_time": "2025-03-23T20:07:19.900598Z"
    }
   },
   "cell_type": "code",
   "source": [
    "sci_fil, sci_grouped = utils.getDissorderlyBehaviourGrouped(df,\"Parental_Origin\", \"Science\", \"Some\")\n",
    "sci_grouped.describe()\n",
    "\n",
    "sci_filterd_edu, sci_grouped_edu = utils.getDissorderlyBehaviourGrouped(df,\"highest\", \"Science\", \"Some\")\n",
    "sci_grouped_edu.describe()"
   ],
   "id": "7d3849e9da6e6c0f",
   "outputs": [
    {
     "data": {
      "text/plain": [
       "<Figure size 640x480 with 1 Axes>"
      ],
      "image/png": "[encoded data removed]"
     },
     "metadata": {},
     "output_type": "display_data"
    },
    {
     "data": {
      "text/plain": [
       "<Figure size 640x480 with 1 Axes>"
      ],
      "image/png": "[encoded data removed]"
     },
     "metadata": {},
     "output_type": "display_data"
    },
    {
     "data": {
      "text/plain": [
       "                count unique              top freq\n",
       "highest                                           \n",
       "Not Available     655      1    Not Available  655\n",
       "Primary            83      1          Primary   83\n",
       "Upper Secondary   226      1  Upper Secondary  226\n",
       "Tertiary          399      1         Tertiary  399\n",
       "Undergraduate     218      1    Undergraduate  218\n",
       "Postgraduate      478      1     Postgraduate  478"
      ],
      "text/html": [
       "<div>\n",
       "<style scoped>\n",
       "    .dataframe tbody tr th:only-of-type {\n",
       "        vertical-align: middle;\n",
       "    }\n",
       "\n",
       "    .dataframe tbody tr th {\n",
       "        vertical-align: top;\n",
       "    }\n",
       "\n",
       "    .dataframe thead th {\n",
       "        text-align: right;\n",
       "    }\n",
       "</style>\n",
       "<table border=\"1\" class=\"dataframe\">\n",
       "  <thead>\n",
       "    <tr style=\"text-align: right;\">\n",
       "      <th></th>\n",
       "      <th>count</th>\n",
       "      <th>unique</th>\n",
       "      <th>top</th>\n",
       "      <th>freq</th>\n",
       "    </tr>\n",
       "    <tr>\n",
       "      <th>highest</th>\n",
       "      <th></th>\n",
       "      <th></th>\n",
       "      <th></th>\n",
       "      <th></th>\n",
       "    </tr>\n",
       "  </thead>\n",
       "  <tbody>\n",
       "    <tr>\n",
       "      <th>Not Available</th>\n",
       "      <td>655</td>\n",
       "      <td>1</td>\n",
       "      <td>Not Available</td>\n",
       "      <td>655</td>\n",
       "    </tr>\n",
       "    <tr>\n",
       "      <th>Primary</th>\n",
       "      <td>83</td>\n",
       "      <td>1</td>\n",
       "      <td>Primary</td>\n",
       "      <td>83</td>\n",
       "    </tr>\n",
       "    <tr>\n",
       "      <th>Upper Secondary</th>\n",
       "      <td>226</td>\n",
       "      <td>1</td>\n",
       "      <td>Upper Secondary</td>\n",
       "      <td>226</td>\n",
       "    </tr>\n",
       "    <tr>\n",
       "      <th>Tertiary</th>\n",
       "      <td>399</td>\n",
       "      <td>1</td>\n",
       "      <td>Tertiary</td>\n",
       "      <td>399</td>\n",
       "    </tr>\n",
       "    <tr>\n",
       "      <th>Undergraduate</th>\n",
       "      <td>218</td>\n",
       "      <td>1</td>\n",
       "      <td>Undergraduate</td>\n",
       "      <td>218</td>\n",
       "    </tr>\n",
       "    <tr>\n",
       "      <th>Postgraduate</th>\n",
       "      <td>478</td>\n",
       "      <td>1</td>\n",
       "      <td>Postgraduate</td>\n",
       "      <td>478</td>\n",
       "    </tr>\n",
       "  </tbody>\n",
       "</table>\n",
       "</div>"
      ]
     },
     "execution_count": 12,
     "metadata": {},
     "output_type": "execute_result"
    }
   ],
   "execution_count": 12
  },
  {
   "metadata": {},
   "cell_type": "markdown",
   "source": "#### 7.1.2.3 Background and distribution of Students having few disorderly behaviour",
   "id": "2f425a6248cc9874"
  },
  {
   "metadata": {
    "ExecuteTime": {
     "end_time": "2025-03-23T20:07:20.982535Z",
     "start_time": "2025-03-23T20:07:20.565436Z"
    }
   },
   "cell_type": "code",
   "source": [
    "sci_fil, sci_grouped = utils.getDissorderlyBehaviourGrouped(df,\"Parental_Origin\", \"Science\", \"Few\")\n",
    "sci_grouped.describe()\n",
    "\n",
    "sci_filterd_edu, sci_grouped_edu = utils.getDissorderlyBehaviourGrouped(df,\"highest\", \"Science\", \"Few\")\n",
    "sci_grouped_edu.describe()"
   ],
   "id": "4f0cd297d661cba8",
   "outputs": [
    {
     "data": {
      "text/plain": [
       "<Figure size 640x480 with 1 Axes>"
      ],
      "image/png": "[encoded data removed]"
     },
     "metadata": {},
     "output_type": "display_data"
    },
    {
     "data": {
      "text/plain": [
       "<Figure size 640x480 with 1 Axes>"
      ],
      "image/png": "[encoded data removed]"
     },
     "metadata": {},
     "output_type": "display_data"
    },
    {
     "data": {
      "text/plain": [
       "                count unique              top freq\n",
       "highest                                           \n",
       "Not Available     413      1    Not Available  413\n",
       "Primary            44      1          Primary   44\n",
       "Upper Secondary   127      1  Upper Secondary  127\n",
       "Tertiary          291      1         Tertiary  291\n",
       "Undergraduate     167      1    Undergraduate  167\n",
       "Postgraduate      399      1     Postgraduate  399"
      ],
      "text/html": [
       "<div>\n",
       "<style scoped>\n",
       "    .dataframe tbody tr th:only-of-type {\n",
       "        vertical-align: middle;\n",
       "    }\n",
       "\n",
       "    .dataframe tbody tr th {\n",
       "        vertical-align: top;\n",
       "    }\n",
       "\n",
       "    .dataframe thead th {\n",
       "        text-align: right;\n",
       "    }\n",
       "</style>\n",
       "<table border=\"1\" class=\"dataframe\">\n",
       "  <thead>\n",
       "    <tr style=\"text-align: right;\">\n",
       "      <th></th>\n",
       "      <th>count</th>\n",
       "      <th>unique</th>\n",
       "      <th>top</th>\n",
       "      <th>freq</th>\n",
       "    </tr>\n",
       "    <tr>\n",
       "      <th>highest</th>\n",
       "      <th></th>\n",
       "      <th></th>\n",
       "      <th></th>\n",
       "      <th></th>\n",
       "    </tr>\n",
       "  </thead>\n",
       "  <tbody>\n",
       "    <tr>\n",
       "      <th>Not Available</th>\n",
       "      <td>413</td>\n",
       "      <td>1</td>\n",
       "      <td>Not Available</td>\n",
       "      <td>413</td>\n",
       "    </tr>\n",
       "    <tr>\n",
       "      <th>Primary</th>\n",
       "      <td>44</td>\n",
       "      <td>1</td>\n",
       "      <td>Primary</td>\n",
       "      <td>44</td>\n",
       "    </tr>\n",
       "    <tr>\n",
       "      <th>Upper Secondary</th>\n",
       "      <td>127</td>\n",
       "      <td>1</td>\n",
       "      <td>Upper Secondary</td>\n",
       "      <td>127</td>\n",
       "    </tr>\n",
       "    <tr>\n",
       "      <th>Tertiary</th>\n",
       "      <td>291</td>\n",
       "      <td>1</td>\n",
       "      <td>Tertiary</td>\n",
       "      <td>291</td>\n",
       "    </tr>\n",
       "    <tr>\n",
       "      <th>Undergraduate</th>\n",
       "      <td>167</td>\n",
       "      <td>1</td>\n",
       "      <td>Undergraduate</td>\n",
       "      <td>167</td>\n",
       "    </tr>\n",
       "    <tr>\n",
       "      <th>Postgraduate</th>\n",
       "      <td>399</td>\n",
       "      <td>1</td>\n",
       "      <td>Postgraduate</td>\n",
       "      <td>399</td>\n",
       "    </tr>\n",
       "  </tbody>\n",
       "</table>\n",
       "</div>"
      ]
     },
     "execution_count": 13,
     "metadata": {},
     "output_type": "execute_result"
    }
   ],
   "execution_count": 13
  },
  {
   "metadata": {},
   "cell_type": "markdown",
   "source": "### 7.1.3 Background and overall disorderly Behaviour",
   "id": "b3dd83e790f5fb33"
  },
  {
   "metadata": {
    "ExecuteTime": {
     "end_time": "2025-03-23T20:07:21.264558Z",
     "start_time": "2025-03-23T20:07:21.243849Z"
    }
   },
   "cell_type": "code",
   "source": [
    "science_most = df[\"Disorderly_Behavior_during_Science_Lessons\"].str.contains(\"Most\")\n",
    "maths_most = df[\"Disorderly_Behavior_during_Math_Lessons\"].str.contains(\"Most\")\n",
    "science_few = df[\"Disorderly_Behavior_during_Science_Lessons\"].str.contains(\"Few\")\n",
    "maths_few = df[\"Disorderly_Behavior_during_Math_Lessons\"].str.contains(\"Few\")\n",
    "\n"
   ],
   "id": "d37c72f1ca921a6e",
   "outputs": [],
   "execution_count": 14
  },
  {
   "metadata": {},
   "cell_type": "markdown",
   "source": "#### 7.1.3.1 Background and distribution of students having frequent disorderly behavior across subjects",
   "id": "6516a876c1852146"
  },
  {
   "metadata": {
    "ExecuteTime": {
     "end_time": "2025-03-23T20:07:21.639883Z",
     "start_time": "2025-03-23T20:07:21.544773Z"
    }
   },
   "cell_type": "code",
   "source": [
    "most_disorderly = df[science_most & maths_most]\n",
    "most_disorderly.describe()\n"
   ],
   "id": "2482714bc2199d7b",
   "outputs": [
    {
     "data": {
      "text/plain": [
       "       1ST_PV_MATHEMATICS  2ND_PV_MATHEMATICS  3RD_PV_MATHEMATICS  \\\n",
       "count          375.000000          375.000000          375.000000   \n",
       "mean           504.957021          507.967439          507.430038   \n",
       "std             72.076804           75.277862           73.323459   \n",
       "min            321.690010          301.721470          323.701920   \n",
       "25%            455.359065          460.015970          452.324495   \n",
       "50%            510.570510          513.028050          512.592640   \n",
       "75%            552.367395          560.164180          559.478110   \n",
       "max            709.089030          740.147210          697.746350   \n",
       "\n",
       "       4TH_PV_MATHEMATICS  5TH_PV_MATHEMATICS  1ST_PV_SCIENCE  2ND_PV_SCIENCE  \\\n",
       "count          375.000000          375.000000      375.000000      375.000000   \n",
       "mean           506.996353          507.643269      517.395550      519.363338   \n",
       "std             73.151227           75.047655       78.341466       82.896807   \n",
       "min            283.797580          285.025620      304.615810      262.684720   \n",
       "25%            458.439780          460.272860      460.427845      460.316145   \n",
       "50%            514.228300          509.982280      521.247920      522.164860   \n",
       "75%            556.733855          554.698950      567.452510      574.304715   \n",
       "max            704.066950          736.804680      741.083230      737.233290   \n",
       "\n",
       "       3RD_PV_SCIENCE  4TH_PV_SCIENCE  5TH_PV_SCIENCE  ...  \\\n",
       "count      375.000000      375.000000      375.000000  ...   \n",
       "mean       519.677339      521.794787      520.595490  ...   \n",
       "std         78.756068       82.635062       81.783305  ...   \n",
       "min        317.678650      298.899250      255.672900  ...   \n",
       "25%        467.059685      466.915120      474.173365  ...   \n",
       "50%        517.497900      523.824920      521.985970  ...   \n",
       "75%        576.266705      578.417630      580.651740  ...   \n",
       "max        756.094360      732.127710      724.134910  ...   \n",
       "\n",
       "       2ND_PV_EARTH_SCIENCE  3RD_PV_EARTH_SCIENCE  4TH_PV_EARTH_SCIENCE  \\\n",
       "count            375.000000            375.000000            375.000000   \n",
       "mean             522.570258            527.288851            524.217921   \n",
       "std               82.414376             82.044059             82.434559   \n",
       "min              235.014930            290.635780            210.880330   \n",
       "25%              468.228840            475.336215            473.000775   \n",
       "50%              528.833000            528.348630            526.261000   \n",
       "75%              579.652880            580.879850            579.092665   \n",
       "max              717.989830            742.065030            718.222080   \n",
       "\n",
       "       5TH_PV_EARTH_SCIENCE  AVERAGE_PV_SCIENCE  AVERAGE_PV_MATHEMATICS  \\\n",
       "count            375.000000          375.000000              375.000000   \n",
       "mean             523.628670          519.765301              506.998824   \n",
       "std               82.963126           77.146383               70.588357   \n",
       "min              270.262330          303.699012              307.604440   \n",
       "25%              469.248200          470.595295              458.082107   \n",
       "50%              526.473480          524.729316              513.948918   \n",
       "75%              572.122050          573.453676              555.179755   \n",
       "max              737.258580          697.753074              687.338924   \n",
       "\n",
       "       AVERAGE_PV_BIOLOGY  AVERAGE_PV_CHEMISTRY  AVERAGE_PV_PHYSICS  \\\n",
       "count          375.000000            375.000000          375.000000   \n",
       "mean           519.214729            521.885680          511.457032   \n",
       "std             82.494197             75.013464           81.504871   \n",
       "min            308.626900            297.973606          282.453055   \n",
       "25%            461.747890            470.247034          460.909382   \n",
       "50%            517.475674            528.181114          515.585190   \n",
       "75%            580.084199            571.597758          568.080555   \n",
       "max            721.367310            712.031484          704.573155   \n",
       "\n",
       "       AVERAGE_PV_EARTH_SCIENCE  \n",
       "count                375.000000  \n",
       "mean                 525.502349  \n",
       "std                   76.942052  \n",
       "min                  292.409028  \n",
       "25%                  480.328878  \n",
       "50%                  526.524528  \n",
       "75%                  581.454334  \n",
       "max                  700.483012  \n",
       "\n",
       "[8 rows x 36 columns]"
      ],
      "text/html": [
       "<div>\n",
       "<style scoped>\n",
       "    .dataframe tbody tr th:only-of-type {\n",
       "        vertical-align: middle;\n",
       "    }\n",
       "\n",
       "    .dataframe tbody tr th {\n",
       "        vertical-align: top;\n",
       "    }\n",
       "\n",
       "    .dataframe thead th {\n",
       "        text-align: right;\n",
       "    }\n",
       "</style>\n",
       "<table border=\"1\" class=\"dataframe\">\n",
       "  <thead>\n",
       "    <tr style=\"text-align: right;\">\n",
       "      <th></th>\n",
       "      <th>1ST_PV_MATHEMATICS</th>\n",
       "      <th>2ND_PV_MATHEMATICS</th>\n",
       "      <th>3RD_PV_MATHEMATICS</th>\n",
       "      <th>4TH_PV_MATHEMATICS</th>\n",
       "      <th>5TH_PV_MATHEMATICS</th>\n",
       "      <th>1ST_PV_SCIENCE</th>\n",
       "      <th>2ND_PV_SCIENCE</th>\n",
       "      <th>3RD_PV_SCIENCE</th>\n",
       "      <th>4TH_PV_SCIENCE</th>\n",
       "      <th>5TH_PV_SCIENCE</th>\n",
       "      <th>...</th>\n",
       "      <th>2ND_PV_EARTH_SCIENCE</th>\n",
       "      <th>3RD_PV_EARTH_SCIENCE</th>\n",
       "      <th>4TH_PV_EARTH_SCIENCE</th>\n",
       "      <th>5TH_PV_EARTH_SCIENCE</th>\n",
       "      <th>AVERAGE_PV_SCIENCE</th>\n",
       "      <th>AVERAGE_PV_MATHEMATICS</th>\n",
       "      <th>AVERAGE_PV_BIOLOGY</th>\n",
       "      <th>AVERAGE_PV_CHEMISTRY</th>\n",
       "      <th>AVERAGE_PV_PHYSICS</th>\n",
       "      <th>AVERAGE_PV_EARTH_SCIENCE</th>\n",
       "    </tr>\n",
       "  </thead>\n",
       "  <tbody>\n",
       "    <tr>\n",
       "      <th>count</th>\n",
       "      <td>375.000000</td>\n",
       "      <td>375.000000</td>\n",
       "      <td>375.000000</td>\n",
       "      <td>375.000000</td>\n",
       "      <td>375.000000</td>\n",
       "      <td>375.000000</td>\n",
       "      <td>375.000000</td>\n",
       "      <td>375.000000</td>\n",
       "      <td>375.000000</td>\n",
       "      <td>375.000000</td>\n",
       "      <td>...</td>\n",
       "      <td>375.000000</td>\n",
       "      <td>375.000000</td>\n",
       "      <td>375.000000</td>\n",
       "      <td>375.000000</td>\n",
       "      <td>375.000000</td>\n",
       "      <td>375.000000</td>\n",
       "      <td>375.000000</td>\n",
       "      <td>375.000000</td>\n",
       "      <td>375.000000</td>\n",
       "      <td>375.000000</td>\n",
       "    </tr>\n",
       "    <tr>\n",
       "      <th>mean</th>\n",
       "      <td>504.957021</td>\n",
       "      <td>507.967439</td>\n",
       "      <td>507.430038</td>\n",
       "      <td>506.996353</td>\n",
       "      <td>507.643269</td>\n",
       "      <td>517.395550</td>\n",
       "      <td>519.363338</td>\n",
       "      <td>519.677339</td>\n",
       "      <td>521.794787</td>\n",
       "      <td>520.595490</td>\n",
       "      <td>...</td>\n",
       "      <td>522.570258</td>\n",
       "      <td>527.288851</td>\n",
       "      <td>524.217921</td>\n",
       "      <td>523.628670</td>\n",
       "      <td>519.765301</td>\n",
       "      <td>506.998824</td>\n",
       "      <td>519.214729</td>\n",
       "      <td>521.885680</td>\n",
       "      <td>511.457032</td>\n",
       "      <td>525.502349</td>\n",
       "    </tr>\n",
       "    <tr>\n",
       "      <th>std</th>\n",
       "      <td>72.076804</td>\n",
       "      <td>75.277862</td>\n",
       "      <td>73.323459</td>\n",
       "      <td>73.151227</td>\n",
       "      <td>75.047655</td>\n",
       "      <td>78.341466</td>\n",
       "      <td>82.896807</td>\n",
       "      <td>78.756068</td>\n",
       "      <td>82.635062</td>\n",
       "      <td>81.783305</td>\n",
       "      <td>...</td>\n",
       "      <td>82.414376</td>\n",
       "      <td>82.044059</td>\n",
       "      <td>82.434559</td>\n",
       "      <td>82.963126</td>\n",
       "      <td>77.146383</td>\n",
       "      <td>70.588357</td>\n",
       "      <td>82.494197</td>\n",
       "      <td>75.013464</td>\n",
       "      <td>81.504871</td>\n",
       "      <td>76.942052</td>\n",
       "    </tr>\n",
       "    <tr>\n",
       "      <th>min</th>\n",
       "      <td>321.690010</td>\n",
       "      <td>301.721470</td>\n",
       "      <td>323.701920</td>\n",
       "      <td>283.797580</td>\n",
       "      <td>285.025620</td>\n",
       "      <td>304.615810</td>\n",
       "      <td>262.684720</td>\n",
       "      <td>317.678650</td>\n",
       "      <td>298.899250</td>\n",
       "      <td>255.672900</td>\n",
       "      <td>...</td>\n",
       "      <td>235.014930</td>\n",
       "      <td>290.635780</td>\n",
       "      <td>210.880330</td>\n",
       "      <td>270.262330</td>\n",
       "      <td>303.699012</td>\n",
       "      <td>307.604440</td>\n",
       "      <td>308.626900</td>\n",
       "      <td>297.973606</td>\n",
       "      <td>282.453055</td>\n",
       "      <td>292.409028</td>\n",
       "    </tr>\n",
       "    <tr>\n",
       "      <th>25%</th>\n",
       "      <td>455.359065</td>\n",
       "      <td>460.015970</td>\n",
       "      <td>452.324495</td>\n",
       "      <td>458.439780</td>\n",
       "      <td>460.272860</td>\n",
       "      <td>460.427845</td>\n",
       "      <td>460.316145</td>\n",
       "      <td>467.059685</td>\n",
       "      <td>466.915120</td>\n",
       "      <td>474.173365</td>\n",
       "      <td>...</td>\n",
       "      <td>468.228840</td>\n",
       "      <td>475.336215</td>\n",
       "      <td>473.000775</td>\n",
       "      <td>469.248200</td>\n",
       "      <td>470.595295</td>\n",
       "      <td>458.082107</td>\n",
       "      <td>461.747890</td>\n",
       "      <td>470.247034</td>\n",
       "      <td>460.909382</td>\n",
       "      <td>480.328878</td>\n",
       "    </tr>\n",
       "    <tr>\n",
       "      <th>50%</th>\n",
       "      <td>510.570510</td>\n",
       "      <td>513.028050</td>\n",
       "      <td>512.592640</td>\n",
       "      <td>514.228300</td>\n",
       "      <td>509.982280</td>\n",
       "      <td>521.247920</td>\n",
       "      <td>522.164860</td>\n",
       "      <td>517.497900</td>\n",
       "      <td>523.824920</td>\n",
       "      <td>521.985970</td>\n",
       "      <td>...</td>\n",
       "      <td>528.833000</td>\n",
       "      <td>528.348630</td>\n",
       "      <td>526.261000</td>\n",
       "      <td>526.473480</td>\n",
       "      <td>524.729316</td>\n",
       "      <td>513.948918</td>\n",
       "      <td>517.475674</td>\n",
       "      <td>528.181114</td>\n",
       "      <td>515.585190</td>\n",
       "      <td>526.524528</td>\n",
       "    </tr>\n",
       "    <tr>\n",
       "      <th>75%</th>\n",
       "      <td>552.367395</td>\n",
       "      <td>560.164180</td>\n",
       "      <td>559.478110</td>\n",
       "      <td>556.733855</td>\n",
       "      <td>554.698950</td>\n",
       "      <td>567.452510</td>\n",
       "      <td>574.304715</td>\n",
       "      <td>576.266705</td>\n",
       "      <td>578.417630</td>\n",
       "      <td>580.651740</td>\n",
       "      <td>...</td>\n",
       "      <td>579.652880</td>\n",
       "      <td>580.879850</td>\n",
       "      <td>579.092665</td>\n",
       "      <td>572.122050</td>\n",
       "      <td>573.453676</td>\n",
       "      <td>555.179755</td>\n",
       "      <td>580.084199</td>\n",
       "      <td>571.597758</td>\n",
       "      <td>568.080555</td>\n",
       "      <td>581.454334</td>\n",
       "    </tr>\n",
       "    <tr>\n",
       "      <th>max</th>\n",
       "      <td>709.089030</td>\n",
       "      <td>740.147210</td>\n",
       "      <td>697.746350</td>\n",
       "      <td>704.066950</td>\n",
       "      <td>736.804680</td>\n",
       "      <td>741.083230</td>\n",
       "      <td>737.233290</td>\n",
       "      <td>756.094360</td>\n",
       "      <td>732.127710</td>\n",
       "      <td>724.134910</td>\n",
       "      <td>...</td>\n",
       "      <td>717.989830</td>\n",
       "      <td>742.065030</td>\n",
       "      <td>718.222080</td>\n",
       "      <td>737.258580</td>\n",
       "      <td>697.753074</td>\n",
       "      <td>687.338924</td>\n",
       "      <td>721.367310</td>\n",
       "      <td>712.031484</td>\n",
       "      <td>704.573155</td>\n",
       "      <td>700.483012</td>\n",
       "    </tr>\n",
       "  </tbody>\n",
       "</table>\n",
       "<p>8 rows × 36 columns</p>\n",
       "</div>"
      ]
     },
     "execution_count": 15,
     "metadata": {},
     "output_type": "execute_result"
    }
   ],
   "execution_count": 15
  },
  {
   "metadata": {
    "ExecuteTime": {
     "end_time": "2025-03-23T20:07:22.024124Z",
     "start_time": "2025-03-23T20:07:22.003997Z"
    }
   },
   "cell_type": "code",
   "source": [
    "origin_grouped = most_disorderly.groupby(\"Parental_Origin\", observed=False)[\"Parental_Origin\"]\n",
    "origin_grouped.describe()"
   ],
   "id": "9f558a1ab62ef90",
   "outputs": [
    {
     "data": {
      "text/plain": [
       "                count unique           top freq\n",
       "Parental_Origin                                \n",
       "All Foreign        67      1   All Foreign   67\n",
       "All Native        232      1    All Native  232\n",
       "At least One       70      1  At least One   70\n",
       "NA                  6      1            NA    6"
      ],
      "text/html": [
       "<div>\n",
       "<style scoped>\n",
       "    .dataframe tbody tr th:only-of-type {\n",
       "        vertical-align: middle;\n",
       "    }\n",
       "\n",
       "    .dataframe tbody tr th {\n",
       "        vertical-align: top;\n",
       "    }\n",
       "\n",
       "    .dataframe thead th {\n",
       "        text-align: right;\n",
       "    }\n",
       "</style>\n",
       "<table border=\"1\" class=\"dataframe\">\n",
       "  <thead>\n",
       "    <tr style=\"text-align: right;\">\n",
       "      <th></th>\n",
       "      <th>count</th>\n",
       "      <th>unique</th>\n",
       "      <th>top</th>\n",
       "      <th>freq</th>\n",
       "    </tr>\n",
       "    <tr>\n",
       "      <th>Parental_Origin</th>\n",
       "      <th></th>\n",
       "      <th></th>\n",
       "      <th></th>\n",
       "      <th></th>\n",
       "    </tr>\n",
       "  </thead>\n",
       "  <tbody>\n",
       "    <tr>\n",
       "      <th>All Foreign</th>\n",
       "      <td>67</td>\n",
       "      <td>1</td>\n",
       "      <td>All Foreign</td>\n",
       "      <td>67</td>\n",
       "    </tr>\n",
       "    <tr>\n",
       "      <th>All Native</th>\n",
       "      <td>232</td>\n",
       "      <td>1</td>\n",
       "      <td>All Native</td>\n",
       "      <td>232</td>\n",
       "    </tr>\n",
       "    <tr>\n",
       "      <th>At least One</th>\n",
       "      <td>70</td>\n",
       "      <td>1</td>\n",
       "      <td>At least One</td>\n",
       "      <td>70</td>\n",
       "    </tr>\n",
       "    <tr>\n",
       "      <th>NA</th>\n",
       "      <td>6</td>\n",
       "      <td>1</td>\n",
       "      <td>NA</td>\n",
       "      <td>6</td>\n",
       "    </tr>\n",
       "  </tbody>\n",
       "</table>\n",
       "</div>"
      ]
     },
     "execution_count": 16,
     "metadata": {},
     "output_type": "execute_result"
    }
   ],
   "execution_count": 16
  },
  {
   "metadata": {
    "ExecuteTime": {
     "end_time": "2025-03-23T20:07:22.320796Z",
     "start_time": "2025-03-23T20:07:22.286986Z"
    }
   },
   "cell_type": "code",
   "source": [
    "edu_grouped = most_disorderly.groupby(\"highest\", observed=False)[\"highest\"]\n",
    "edu_grouped.describe()"
   ],
   "id": "9278632d6776d5bb",
   "outputs": [
    {
     "data": {
      "text/plain": [
       "                count unique              top freq\n",
       "highest                                           \n",
       "Not Available     113      1    Not Available  113\n",
       "Primary            21      1          Primary   21\n",
       "Upper Secondary    40      1  Upper Secondary   40\n",
       "Tertiary           85      1         Tertiary   85\n",
       "Undergraduate      33      1    Undergraduate   33\n",
       "Postgraduate       83      1     Postgraduate   83"
      ],
      "text/html": [
       "<div>\n",
       "<style scoped>\n",
       "    .dataframe tbody tr th:only-of-type {\n",
       "        vertical-align: middle;\n",
       "    }\n",
       "\n",
       "    .dataframe tbody tr th {\n",
       "        vertical-align: top;\n",
       "    }\n",
       "\n",
       "    .dataframe thead th {\n",
       "        text-align: right;\n",
       "    }\n",
       "</style>\n",
       "<table border=\"1\" class=\"dataframe\">\n",
       "  <thead>\n",
       "    <tr style=\"text-align: right;\">\n",
       "      <th></th>\n",
       "      <th>count</th>\n",
       "      <th>unique</th>\n",
       "      <th>top</th>\n",
       "      <th>freq</th>\n",
       "    </tr>\n",
       "    <tr>\n",
       "      <th>highest</th>\n",
       "      <th></th>\n",
       "      <th></th>\n",
       "      <th></th>\n",
       "      <th></th>\n",
       "    </tr>\n",
       "  </thead>\n",
       "  <tbody>\n",
       "    <tr>\n",
       "      <th>Not Available</th>\n",
       "      <td>113</td>\n",
       "      <td>1</td>\n",
       "      <td>Not Available</td>\n",
       "      <td>113</td>\n",
       "    </tr>\n",
       "    <tr>\n",
       "      <th>Primary</th>\n",
       "      <td>21</td>\n",
       "      <td>1</td>\n",
       "      <td>Primary</td>\n",
       "      <td>21</td>\n",
       "    </tr>\n",
       "    <tr>\n",
       "      <th>Upper Secondary</th>\n",
       "      <td>40</td>\n",
       "      <td>1</td>\n",
       "      <td>Upper Secondary</td>\n",
       "      <td>40</td>\n",
       "    </tr>\n",
       "    <tr>\n",
       "      <th>Tertiary</th>\n",
       "      <td>85</td>\n",
       "      <td>1</td>\n",
       "      <td>Tertiary</td>\n",
       "      <td>85</td>\n",
       "    </tr>\n",
       "    <tr>\n",
       "      <th>Undergraduate</th>\n",
       "      <td>33</td>\n",
       "      <td>1</td>\n",
       "      <td>Undergraduate</td>\n",
       "      <td>33</td>\n",
       "    </tr>\n",
       "    <tr>\n",
       "      <th>Postgraduate</th>\n",
       "      <td>83</td>\n",
       "      <td>1</td>\n",
       "      <td>Postgraduate</td>\n",
       "      <td>83</td>\n",
       "    </tr>\n",
       "  </tbody>\n",
       "</table>\n",
       "</div>"
      ]
     },
     "execution_count": 17,
     "metadata": {},
     "output_type": "execute_result"
    }
   ],
   "execution_count": 17
  },
  {
   "metadata": {},
   "cell_type": "markdown",
   "source": "##### 7.1.3.1.1 Percentage distribution of frequent disorderly behaviour among classes  - By Origin and Highest Education(In that order)",
   "id": "385ffc817c912f4b"
  },
  {
   "metadata": {
    "ExecuteTime": {
     "end_time": "2025-03-23T20:07:22.676264Z",
     "start_time": "2025-03-23T20:07:22.665682Z"
    }
   },
   "cell_type": "code",
   "source": [
    "origin_wise_percentage =  origin_grouped.count() / most_disorderly[\"Parental_Origin\"].count()\n",
    "origin_wise_percentage * 100"
   ],
   "id": "aaaedb1615b240b9",
   "outputs": [
    {
     "data": {
      "text/plain": [
       "Parental_Origin\n",
       "All Foreign     17.866667\n",
       "All Native      61.866667\n",
       "At least One    18.666667\n",
       "NA               1.600000\n",
       "Name: Parental_Origin, dtype: float64"
      ]
     },
     "execution_count": 18,
     "metadata": {},
     "output_type": "execute_result"
    }
   ],
   "execution_count": 18
  },
  {
   "metadata": {
    "ExecuteTime": {
     "end_time": "2025-03-23T20:07:22.855859Z",
     "start_time": "2025-03-23T20:07:22.845906Z"
    }
   },
   "cell_type": "code",
   "source": [
    "edu_wise_percentage =  edu_grouped.count() /  most_disorderly[\"highest\"].count()\n",
    "edu_wise_percentage * 100"
   ],
   "id": "ced480bee78730ab",
   "outputs": [
    {
     "data": {
      "text/plain": [
       "highest\n",
       "Not Available      30.133333\n",
       "Primary             5.600000\n",
       "Upper Secondary    10.666667\n",
       "Tertiary           22.666667\n",
       "Undergraduate       8.800000\n",
       "Postgraduate       22.133333\n",
       "Name: highest, dtype: float64"
      ]
     },
     "execution_count": 19,
     "metadata": {},
     "output_type": "execute_result"
    }
   ],
   "execution_count": 19
  },
  {
   "metadata": {},
   "cell_type": "markdown",
   "source": "##### 7.1.3.1.2 Percentage distribution of frequent disorderly behaviour among classes  with respect to enitre dataset  - By Origin and Highest Education(In that order) -",
   "id": "b8425461b0464331"
  },
  {
   "metadata": {
    "ExecuteTime": {
     "end_time": "2025-03-23T20:07:23.029792Z",
     "start_time": "2025-03-23T20:07:23.018253Z"
    }
   },
   "cell_type": "code",
   "source": [
    "origin_wise_percentage =  origin_grouped.count() / df[\"Parental_Origin\"].count()\n",
    "origin_wise_percentage * 100"
   ],
   "id": "5ac92a56954091ef",
   "outputs": [
    {
     "data": {
      "text/plain": [
       "Parental_Origin\n",
       "All Foreign     1.729032\n",
       "All Native      5.987097\n",
       "At least One    1.806452\n",
       "NA              0.154839\n",
       "Name: Parental_Origin, dtype: float64"
      ]
     },
     "execution_count": 20,
     "metadata": {},
     "output_type": "execute_result"
    }
   ],
   "execution_count": 20
  },
  {
   "metadata": {
    "ExecuteTime": {
     "end_time": "2025-03-23T20:07:23.125722Z",
     "start_time": "2025-03-23T20:07:23.114372Z"
    }
   },
   "cell_type": "code",
   "source": [
    "edu_wise_percentage =  edu_grouped.count() /  df[\"highest\"].count()\n",
    "edu_wise_percentage * 100"
   ],
   "id": "4085810e3286b6fb",
   "outputs": [
    {
     "data": {
      "text/plain": [
       "highest\n",
       "Not Available      2.916129\n",
       "Primary            0.541935\n",
       "Upper Secondary    1.032258\n",
       "Tertiary           2.193548\n",
       "Undergraduate      0.851613\n",
       "Postgraduate       2.141935\n",
       "Name: highest, dtype: float64"
      ]
     },
     "execution_count": 21,
     "metadata": {},
     "output_type": "execute_result"
    }
   ],
   "execution_count": 21
  },
  {
   "metadata": {},
   "cell_type": "markdown",
   "source": "#### 7.1.3.2 Background and distribution of students having few disorderly behavior across subjects",
   "id": "834f56639c27ee63"
  },
  {
   "metadata": {
    "ExecuteTime": {
     "end_time": "2025-03-23T20:07:23.369275Z",
     "start_time": "2025-03-23T20:07:23.268768Z"
    }
   },
   "cell_type": "code",
   "source": [
    "few_disorderly = df[science_few & maths_few]\n",
    "few_disorderly.describe()\n"
   ],
   "id": "3f856c540f78e828",
   "outputs": [
    {
     "data": {
      "text/plain": [
       "       1ST_PV_MATHEMATICS  2ND_PV_MATHEMATICS  3RD_PV_MATHEMATICS  \\\n",
       "count         1441.000000         1441.000000         1441.000000   \n",
       "mean           548.358049          550.954225          550.074022   \n",
       "std             67.719940           69.205449           68.492787   \n",
       "min            291.373750          298.765990          308.104870   \n",
       "25%            504.808490          509.013060          504.575700   \n",
       "50%            551.481640          551.443710          552.346820   \n",
       "75%            594.925900          598.598080          597.153750   \n",
       "max            751.619820          750.731260          764.581760   \n",
       "\n",
       "       4TH_PV_MATHEMATICS  5TH_PV_MATHEMATICS  1ST_PV_SCIENCE  2ND_PV_SCIENCE  \\\n",
       "count         1441.000000         1441.000000     1441.000000     1441.000000   \n",
       "mean           550.365967          552.432089      557.536949      555.837424   \n",
       "std             68.159482           68.529970       74.729541       73.758842   \n",
       "min            315.644160          297.390230      304.790470      302.586380   \n",
       "25%            503.973010          508.224350      505.933520      506.797570   \n",
       "50%            552.728040          555.264900      558.956690      557.370590   \n",
       "75%            595.887340          599.083850      609.238450      606.928880   \n",
       "max            763.670550          768.400850      774.870490      792.583400   \n",
       "\n",
       "       3RD_PV_SCIENCE  4TH_PV_SCIENCE  5TH_PV_SCIENCE  ...  \\\n",
       "count     1441.000000     1441.000000     1441.000000  ...   \n",
       "mean       557.987383      556.662270      555.818173  ...   \n",
       "std         74.296812       75.127105       73.627132  ...   \n",
       "min        289.264260      325.955050      298.902460  ...   \n",
       "25%        507.091450      505.648550      508.608690  ...   \n",
       "50%        561.468070      559.275320      558.167350  ...   \n",
       "75%        610.363440      610.659280      606.669020  ...   \n",
       "max        854.079880      781.217900      772.777110  ...   \n",
       "\n",
       "       2ND_PV_EARTH_SCIENCE  3RD_PV_EARTH_SCIENCE  4TH_PV_EARTH_SCIENCE  \\\n",
       "count           1441.000000           1441.000000           1441.000000   \n",
       "mean             571.240766            569.286956            567.641457   \n",
       "std               75.965584             74.528020             76.295129   \n",
       "min              317.109650            305.971780            304.269270   \n",
       "25%              521.279910            516.417610            514.552980   \n",
       "50%              573.127950            571.266220            569.432590   \n",
       "75%              623.442590            623.514820            621.249830   \n",
       "max              789.719250            784.436000            811.250690   \n",
       "\n",
       "       5TH_PV_EARTH_SCIENCE  AVERAGE_PV_SCIENCE  AVERAGE_PV_MATHEMATICS  \\\n",
       "count           1441.000000         1441.000000             1441.000000   \n",
       "mean             568.716444          556.768440              550.436870   \n",
       "std               76.344937           70.466838               65.214779   \n",
       "min              322.353240          313.761826              324.385906   \n",
       "25%              519.357050          508.879936              508.767946   \n",
       "50%              570.022750          558.876548              552.740312   \n",
       "75%              621.880870          607.751186              595.557154   \n",
       "max              789.078170          742.874860              753.278594   \n",
       "\n",
       "       AVERAGE_PV_BIOLOGY  AVERAGE_PV_CHEMISTRY  AVERAGE_PV_PHYSICS  \\\n",
       "count         1441.000000           1441.000000         1441.000000   \n",
       "mean           551.959917            560.219221          549.809656   \n",
       "std             78.161108             69.591530           75.346759   \n",
       "min            313.759200            338.047442          303.714330   \n",
       "25%            498.297980            511.849938          498.904660   \n",
       "50%            555.356706            561.495542          552.619573   \n",
       "75%            608.078298            611.681538          601.435795   \n",
       "max            777.098024            758.184318          768.962130   \n",
       "\n",
       "       AVERAGE_PV_EARTH_SCIENCE  \n",
       "count               1441.000000  \n",
       "mean                 569.123699  \n",
       "std                   70.122074  \n",
       "min                  311.737224  \n",
       "25%                  522.814984  \n",
       "50%                  570.581502  \n",
       "75%                  619.250100  \n",
       "max                  771.381018  \n",
       "\n",
       "[8 rows x 36 columns]"
      ],
      "text/html": [
       "<div>\n",
       "<style scoped>\n",
       "    .dataframe tbody tr th:only-of-type {\n",
       "        vertical-align: middle;\n",
       "    }\n",
       "\n",
       "    .dataframe tbody tr th {\n",
       "        vertical-align: top;\n",
       "    }\n",
       "\n",
       "    .dataframe thead th {\n",
       "        text-align: right;\n",
       "    }\n",
       "</style>\n",
       "<table border=\"1\" class=\"dataframe\">\n",
       "  <thead>\n",
       "    <tr style=\"text-align: right;\">\n",
       "      <th></th>\n",
       "      <th>1ST_PV_MATHEMATICS</th>\n",
       "      <th>2ND_PV_MATHEMATICS</th>\n",
       "      <th>3RD_PV_MATHEMATICS</th>\n",
       "      <th>4TH_PV_MATHEMATICS</th>\n",
       "      <th>5TH_PV_MATHEMATICS</th>\n",
       "      <th>1ST_PV_SCIENCE</th>\n",
       "      <th>2ND_PV_SCIENCE</th>\n",
       "      <th>3RD_PV_SCIENCE</th>\n",
       "      <th>4TH_PV_SCIENCE</th>\n",
       "      <th>5TH_PV_SCIENCE</th>\n",
       "      <th>...</th>\n",
       "      <th>2ND_PV_EARTH_SCIENCE</th>\n",
       "      <th>3RD_PV_EARTH_SCIENCE</th>\n",
       "      <th>4TH_PV_EARTH_SCIENCE</th>\n",
       "      <th>5TH_PV_EARTH_SCIENCE</th>\n",
       "      <th>AVERAGE_PV_SCIENCE</th>\n",
       "      <th>AVERAGE_PV_MATHEMATICS</th>\n",
       "      <th>AVERAGE_PV_BIOLOGY</th>\n",
       "      <th>AVERAGE_PV_CHEMISTRY</th>\n",
       "      <th>AVERAGE_PV_PHYSICS</th>\n",
       "      <th>AVERAGE_PV_EARTH_SCIENCE</th>\n",
       "    </tr>\n",
       "  </thead>\n",
       "  <tbody>\n",
       "    <tr>\n",
       "      <th>count</th>\n",
       "      <td>1441.000000</td>\n",
       "      <td>1441.000000</td>\n",
       "      <td>1441.000000</td>\n",
       "      <td>1441.000000</td>\n",
       "      <td>1441.000000</td>\n",
       "      <td>1441.000000</td>\n",
       "      <td>1441.000000</td>\n",
       "      <td>1441.000000</td>\n",
       "      <td>1441.000000</td>\n",
       "      <td>1441.000000</td>\n",
       "      <td>...</td>\n",
       "      <td>1441.000000</td>\n",
       "      <td>1441.000000</td>\n",
       "      <td>1441.000000</td>\n",
       "      <td>1441.000000</td>\n",
       "      <td>1441.000000</td>\n",
       "      <td>1441.000000</td>\n",
       "      <td>1441.000000</td>\n",
       "      <td>1441.000000</td>\n",
       "      <td>1441.000000</td>\n",
       "      <td>1441.000000</td>\n",
       "    </tr>\n",
       "    <tr>\n",
       "      <th>mean</th>\n",
       "      <td>548.358049</td>\n",
       "      <td>550.954225</td>\n",
       "      <td>550.074022</td>\n",
       "      <td>550.365967</td>\n",
       "      <td>552.432089</td>\n",
       "      <td>557.536949</td>\n",
       "      <td>555.837424</td>\n",
       "      <td>557.987383</td>\n",
       "      <td>556.662270</td>\n",
       "      <td>555.818173</td>\n",
       "      <td>...</td>\n",
       "      <td>571.240766</td>\n",
       "      <td>569.286956</td>\n",
       "      <td>567.641457</td>\n",
       "      <td>568.716444</td>\n",
       "      <td>556.768440</td>\n",
       "      <td>550.436870</td>\n",
       "      <td>551.959917</td>\n",
       "      <td>560.219221</td>\n",
       "      <td>549.809656</td>\n",
       "      <td>569.123699</td>\n",
       "    </tr>\n",
       "    <tr>\n",
       "      <th>std</th>\n",
       "      <td>67.719940</td>\n",
       "      <td>69.205449</td>\n",
       "      <td>68.492787</td>\n",
       "      <td>68.159482</td>\n",
       "      <td>68.529970</td>\n",
       "      <td>74.729541</td>\n",
       "      <td>73.758842</td>\n",
       "      <td>74.296812</td>\n",
       "      <td>75.127105</td>\n",
       "      <td>73.627132</td>\n",
       "      <td>...</td>\n",
       "      <td>75.965584</td>\n",
       "      <td>74.528020</td>\n",
       "      <td>76.295129</td>\n",
       "      <td>76.344937</td>\n",
       "      <td>70.466838</td>\n",
       "      <td>65.214779</td>\n",
       "      <td>78.161108</td>\n",
       "      <td>69.591530</td>\n",
       "      <td>75.346759</td>\n",
       "      <td>70.122074</td>\n",
       "    </tr>\n",
       "    <tr>\n",
       "      <th>min</th>\n",
       "      <td>291.373750</td>\n",
       "      <td>298.765990</td>\n",
       "      <td>308.104870</td>\n",
       "      <td>315.644160</td>\n",
       "      <td>297.390230</td>\n",
       "      <td>304.790470</td>\n",
       "      <td>302.586380</td>\n",
       "      <td>289.264260</td>\n",
       "      <td>325.955050</td>\n",
       "      <td>298.902460</td>\n",
       "      <td>...</td>\n",
       "      <td>317.109650</td>\n",
       "      <td>305.971780</td>\n",
       "      <td>304.269270</td>\n",
       "      <td>322.353240</td>\n",
       "      <td>313.761826</td>\n",
       "      <td>324.385906</td>\n",
       "      <td>313.759200</td>\n",
       "      <td>338.047442</td>\n",
       "      <td>303.714330</td>\n",
       "      <td>311.737224</td>\n",
       "    </tr>\n",
       "    <tr>\n",
       "      <th>25%</th>\n",
       "      <td>504.808490</td>\n",
       "      <td>509.013060</td>\n",
       "      <td>504.575700</td>\n",
       "      <td>503.973010</td>\n",
       "      <td>508.224350</td>\n",
       "      <td>505.933520</td>\n",
       "      <td>506.797570</td>\n",
       "      <td>507.091450</td>\n",
       "      <td>505.648550</td>\n",
       "      <td>508.608690</td>\n",
       "      <td>...</td>\n",
       "      <td>521.279910</td>\n",
       "      <td>516.417610</td>\n",
       "      <td>514.552980</td>\n",
       "      <td>519.357050</td>\n",
       "      <td>508.879936</td>\n",
       "      <td>508.767946</td>\n",
       "      <td>498.297980</td>\n",
       "      <td>511.849938</td>\n",
       "      <td>498.904660</td>\n",
       "      <td>522.814984</td>\n",
       "    </tr>\n",
       "    <tr>\n",
       "      <th>50%</th>\n",
       "      <td>551.481640</td>\n",
       "      <td>551.443710</td>\n",
       "      <td>552.346820</td>\n",
       "      <td>552.728040</td>\n",
       "      <td>555.264900</td>\n",
       "      <td>558.956690</td>\n",
       "      <td>557.370590</td>\n",
       "      <td>561.468070</td>\n",
       "      <td>559.275320</td>\n",
       "      <td>558.167350</td>\n",
       "      <td>...</td>\n",
       "      <td>573.127950</td>\n",
       "      <td>571.266220</td>\n",
       "      <td>569.432590</td>\n",
       "      <td>570.022750</td>\n",
       "      <td>558.876548</td>\n",
       "      <td>552.740312</td>\n",
       "      <td>555.356706</td>\n",
       "      <td>561.495542</td>\n",
       "      <td>552.619573</td>\n",
       "      <td>570.581502</td>\n",
       "    </tr>\n",
       "    <tr>\n",
       "      <th>75%</th>\n",
       "      <td>594.925900</td>\n",
       "      <td>598.598080</td>\n",
       "      <td>597.153750</td>\n",
       "      <td>595.887340</td>\n",
       "      <td>599.083850</td>\n",
       "      <td>609.238450</td>\n",
       "      <td>606.928880</td>\n",
       "      <td>610.363440</td>\n",
       "      <td>610.659280</td>\n",
       "      <td>606.669020</td>\n",
       "      <td>...</td>\n",
       "      <td>623.442590</td>\n",
       "      <td>623.514820</td>\n",
       "      <td>621.249830</td>\n",
       "      <td>621.880870</td>\n",
       "      <td>607.751186</td>\n",
       "      <td>595.557154</td>\n",
       "      <td>608.078298</td>\n",
       "      <td>611.681538</td>\n",
       "      <td>601.435795</td>\n",
       "      <td>619.250100</td>\n",
       "    </tr>\n",
       "    <tr>\n",
       "      <th>max</th>\n",
       "      <td>751.619820</td>\n",
       "      <td>750.731260</td>\n",
       "      <td>764.581760</td>\n",
       "      <td>763.670550</td>\n",
       "      <td>768.400850</td>\n",
       "      <td>774.870490</td>\n",
       "      <td>792.583400</td>\n",
       "      <td>854.079880</td>\n",
       "      <td>781.217900</td>\n",
       "      <td>772.777110</td>\n",
       "      <td>...</td>\n",
       "      <td>789.719250</td>\n",
       "      <td>784.436000</td>\n",
       "      <td>811.250690</td>\n",
       "      <td>789.078170</td>\n",
       "      <td>742.874860</td>\n",
       "      <td>753.278594</td>\n",
       "      <td>777.098024</td>\n",
       "      <td>758.184318</td>\n",
       "      <td>768.962130</td>\n",
       "      <td>771.381018</td>\n",
       "    </tr>\n",
       "  </tbody>\n",
       "</table>\n",
       "<p>8 rows × 36 columns</p>\n",
       "</div>"
      ]
     },
     "execution_count": 22,
     "metadata": {},
     "output_type": "execute_result"
    }
   ],
   "execution_count": 22
  },
  {
   "metadata": {
    "ExecuteTime": {
     "end_time": "2025-03-23T20:07:23.511570Z",
     "start_time": "2025-03-23T20:07:23.492198Z"
    }
   },
   "cell_type": "code",
   "source": [
    "origin_grouped = few_disorderly.groupby(\"Parental_Origin\", observed=False)[\"Parental_Origin\"]\n",
    "origin_grouped.describe()"
   ],
   "id": "d8845f78366cd78",
   "outputs": [
    {
     "data": {
      "text/plain": [
       "                count unique           top freq\n",
       "Parental_Origin                                \n",
       "All Foreign       298      1   All Foreign  298\n",
       "All Native        923      1    All Native  923\n",
       "At least One      206      1  At least One  206\n",
       "NA                 14      1            NA   14"
      ],
      "text/html": [
       "<div>\n",
       "<style scoped>\n",
       "    .dataframe tbody tr th:only-of-type {\n",
       "        vertical-align: middle;\n",
       "    }\n",
       "\n",
       "    .dataframe tbody tr th {\n",
       "        vertical-align: top;\n",
       "    }\n",
       "\n",
       "    .dataframe thead th {\n",
       "        text-align: right;\n",
       "    }\n",
       "</style>\n",
       "<table border=\"1\" class=\"dataframe\">\n",
       "  <thead>\n",
       "    <tr style=\"text-align: right;\">\n",
       "      <th></th>\n",
       "      <th>count</th>\n",
       "      <th>unique</th>\n",
       "      <th>top</th>\n",
       "      <th>freq</th>\n",
       "    </tr>\n",
       "    <tr>\n",
       "      <th>Parental_Origin</th>\n",
       "      <th></th>\n",
       "      <th></th>\n",
       "      <th></th>\n",
       "      <th></th>\n",
       "    </tr>\n",
       "  </thead>\n",
       "  <tbody>\n",
       "    <tr>\n",
       "      <th>All Foreign</th>\n",
       "      <td>298</td>\n",
       "      <td>1</td>\n",
       "      <td>All Foreign</td>\n",
       "      <td>298</td>\n",
       "    </tr>\n",
       "    <tr>\n",
       "      <th>All Native</th>\n",
       "      <td>923</td>\n",
       "      <td>1</td>\n",
       "      <td>All Native</td>\n",
       "      <td>923</td>\n",
       "    </tr>\n",
       "    <tr>\n",
       "      <th>At least One</th>\n",
       "      <td>206</td>\n",
       "      <td>1</td>\n",
       "      <td>At least One</td>\n",
       "      <td>206</td>\n",
       "    </tr>\n",
       "    <tr>\n",
       "      <th>NA</th>\n",
       "      <td>14</td>\n",
       "      <td>1</td>\n",
       "      <td>NA</td>\n",
       "      <td>14</td>\n",
       "    </tr>\n",
       "  </tbody>\n",
       "</table>\n",
       "</div>"
      ]
     },
     "execution_count": 23,
     "metadata": {},
     "output_type": "execute_result"
    }
   ],
   "execution_count": 23
  },
  {
   "metadata": {
    "ExecuteTime": {
     "end_time": "2025-03-23T20:07:23.750841Z",
     "start_time": "2025-03-23T20:07:23.724076Z"
    }
   },
   "cell_type": "code",
   "source": [
    "edu_grouped = few_disorderly.groupby(\"highest\", observed=False)[\"highest\"]\n",
    "edu_grouped.describe()"
   ],
   "id": "1fbe87d7b86f2778",
   "outputs": [
    {
     "data": {
      "text/plain": [
       "                count unique              top freq\n",
       "highest                                           \n",
       "Not Available     413      1    Not Available  413\n",
       "Primary            44      1          Primary   44\n",
       "Upper Secondary   127      1  Upper Secondary  127\n",
       "Tertiary          291      1         Tertiary  291\n",
       "Undergraduate     167      1    Undergraduate  167\n",
       "Postgraduate      399      1     Postgraduate  399"
      ],
      "text/html": [
       "<div>\n",
       "<style scoped>\n",
       "    .dataframe tbody tr th:only-of-type {\n",
       "        vertical-align: middle;\n",
       "    }\n",
       "\n",
       "    .dataframe tbody tr th {\n",
       "        vertical-align: top;\n",
       "    }\n",
       "\n",
       "    .dataframe thead th {\n",
       "        text-align: right;\n",
       "    }\n",
       "</style>\n",
       "<table border=\"1\" class=\"dataframe\">\n",
       "  <thead>\n",
       "    <tr style=\"text-align: right;\">\n",
       "      <th></th>\n",
       "      <th>count</th>\n",
       "      <th>unique</th>\n",
       "      <th>top</th>\n",
       "      <th>freq</th>\n",
       "    </tr>\n",
       "    <tr>\n",
       "      <th>highest</th>\n",
       "      <th></th>\n",
       "      <th></th>\n",
       "      <th></th>\n",
       "      <th></th>\n",
       "    </tr>\n",
       "  </thead>\n",
       "  <tbody>\n",
       "    <tr>\n",
       "      <th>Not Available</th>\n",
       "      <td>413</td>\n",
       "      <td>1</td>\n",
       "      <td>Not Available</td>\n",
       "      <td>413</td>\n",
       "    </tr>\n",
       "    <tr>\n",
       "      <th>Primary</th>\n",
       "      <td>44</td>\n",
       "      <td>1</td>\n",
       "      <td>Primary</td>\n",
       "      <td>44</td>\n",
       "    </tr>\n",
       "    <tr>\n",
       "      <th>Upper Secondary</th>\n",
       "      <td>127</td>\n",
       "      <td>1</td>\n",
       "      <td>Upper Secondary</td>\n",
       "      <td>127</td>\n",
       "    </tr>\n",
       "    <tr>\n",
       "      <th>Tertiary</th>\n",
       "      <td>291</td>\n",
       "      <td>1</td>\n",
       "      <td>Tertiary</td>\n",
       "      <td>291</td>\n",
       "    </tr>\n",
       "    <tr>\n",
       "      <th>Undergraduate</th>\n",
       "      <td>167</td>\n",
       "      <td>1</td>\n",
       "      <td>Undergraduate</td>\n",
       "      <td>167</td>\n",
       "    </tr>\n",
       "    <tr>\n",
       "      <th>Postgraduate</th>\n",
       "      <td>399</td>\n",
       "      <td>1</td>\n",
       "      <td>Postgraduate</td>\n",
       "      <td>399</td>\n",
       "    </tr>\n",
       "  </tbody>\n",
       "</table>\n",
       "</div>"
      ]
     },
     "execution_count": 24,
     "metadata": {},
     "output_type": "execute_result"
    }
   ],
   "execution_count": 24
  },
  {
   "metadata": {},
   "cell_type": "markdown",
   "source": "##### 7.1.3.1.1 Percentage distribution of few disorderly behaviour among classes  - By Origin and Highest Education(In that order)",
   "id": "503c7a4837d51b52"
  },
  {
   "metadata": {
    "ExecuteTime": {
     "end_time": "2025-03-23T20:07:23.885992Z",
     "start_time": "2025-03-23T20:07:23.875208Z"
    }
   },
   "cell_type": "code",
   "source": [
    "origin_wise_percentage =  origin_grouped.count() / few_disorderly[\"Parental_Origin\"].count()\n",
    "origin_wise_percentage * 100"
   ],
   "id": "76ffa31abdc83c6e",
   "outputs": [
    {
     "data": {
      "text/plain": [
       "Parental_Origin\n",
       "All Foreign     20.680083\n",
       "All Native      64.052741\n",
       "At least One    14.295628\n",
       "NA               0.971548\n",
       "Name: Parental_Origin, dtype: float64"
      ]
     },
     "execution_count": 25,
     "metadata": {},
     "output_type": "execute_result"
    }
   ],
   "execution_count": 25
  },
  {
   "metadata": {
    "ExecuteTime": {
     "end_time": "2025-03-23T20:07:24.080305Z",
     "start_time": "2025-03-23T20:07:24.066404Z"
    }
   },
   "cell_type": "code",
   "source": [
    "edu_wise_percentage =  edu_grouped.count() /  few_disorderly[\"highest\"].count()\n",
    "edu_wise_percentage * 100"
   ],
   "id": "a8b739bcd30b693c",
   "outputs": [
    {
     "data": {
      "text/plain": [
       "highest\n",
       "Not Available      28.660652\n",
       "Primary             3.053435\n",
       "Upper Secondary     8.813324\n",
       "Tertiary           20.194310\n",
       "Undergraduate      11.589174\n",
       "Postgraduate       27.689105\n",
       "Name: highest, dtype: float64"
      ]
     },
     "execution_count": 26,
     "metadata": {},
     "output_type": "execute_result"
    }
   ],
   "execution_count": 26
  },
  {
   "metadata": {},
   "cell_type": "markdown",
   "source": "##### 7.1.3.1.2 Percentage distribution of frequent disorderly behaviour among classes  with respect to enitre dataset  - By Origin and Highest Education(In that order) -",
   "id": "90c9fab3bc70258d"
  },
  {
   "metadata": {
    "ExecuteTime": {
     "end_time": "2025-03-23T20:07:24.369656Z",
     "start_time": "2025-03-23T20:07:24.360513Z"
    }
   },
   "cell_type": "code",
   "source": [
    "origin_wise_percentage =  origin_grouped.count() / df[\"Parental_Origin\"].count()\n",
    "origin_wise_percentage * 100"
   ],
   "id": "197c6767f904ea12",
   "outputs": [
    {
     "data": {
      "text/plain": [
       "Parental_Origin\n",
       "All Foreign      7.690323\n",
       "All Native      23.819355\n",
       "At least One     5.316129\n",
       "NA               0.361290\n",
       "Name: Parental_Origin, dtype: float64"
      ]
     },
     "execution_count": 27,
     "metadata": {},
     "output_type": "execute_result"
    }
   ],
   "execution_count": 27
  },
  {
   "metadata": {
    "ExecuteTime": {
     "end_time": "2025-03-23T20:07:24.498222Z",
     "start_time": "2025-03-23T20:07:24.482541Z"
    }
   },
   "cell_type": "code",
   "source": [
    "edu_wise_percentage =  edu_grouped.count() /  df[\"highest\"].count()\n",
    "edu_wise_percentage * 100"
   ],
   "id": "8fa48bdd507d910a",
   "outputs": [
    {
     "data": {
      "text/plain": [
       "highest\n",
       "Not Available      10.658065\n",
       "Primary             1.135484\n",
       "Upper Secondary     3.277419\n",
       "Tertiary            7.509677\n",
       "Undergraduate       4.309677\n",
       "Postgraduate       10.296774\n",
       "Name: highest, dtype: float64"
      ]
     },
     "execution_count": 28,
     "metadata": {},
     "output_type": "execute_result"
    }
   ],
   "execution_count": 28
  },
  {
   "metadata": {},
   "cell_type": "markdown",
   "source": "## 7.2 Background and Confidence",
   "id": "83d66f923dafe2fe"
  },
  {
   "metadata": {
    "ExecuteTime": {
     "end_time": "2025-03-23T20:07:24.664141Z",
     "start_time": "2025-03-23T20:07:24.645616Z"
    }
   },
   "cell_type": "code",
   "source": [
    "subject_confidence_mask = df.columns.str.contains(\"Confident\")\n",
    "df[df.columns[subject_confidence_mask]].value_counts()"
   ],
   "id": "78c01a153f816282",
   "outputs": [
    {
     "data": {
      "text/plain": [
       "Students_Confident_in_Mathematics  Students_Confident_in_Science\n",
       "Not Confident                      Not Confident                    1030\n",
       "                                   Some what confident               712\n",
       "Some what confident                Some what confident               673\n",
       "                                   Not Confident                     502\n",
       "                                   Very confident                    248\n",
       "Very confident                     Very confident                    221\n",
       "                                   Some what confident               196\n",
       "Not Confident                      Very confident                    168\n",
       "Very confident                     Not Confident                     125\n",
       "Name: count, dtype: int64"
      ]
     },
     "execution_count": 29,
     "metadata": {},
     "output_type": "execute_result"
    }
   ],
   "execution_count": 29
  },
  {
   "metadata": {
    "ExecuteTime": {
     "end_time": "2025-03-23T20:07:24.864381Z",
     "start_time": "2025-03-23T20:07:24.845822Z"
    }
   },
   "cell_type": "code",
   "source": [
    "df[\"Students_Confident_in_Mathematics\"] = df[\"Students_Confident_in_Mathematics\"].apply(lambda x: \"Not Confident\" if \"Not\" in str(x) else x )\n",
    "df[\"Students_Confident_in_Mathematics\"] = df[\"Students_Confident_in_Mathematics\"].apply(lambda x: \"Some what confident\" if \"Somewhat\" in str(x) else x )\n",
    "df[\"Students_Confident_in_Mathematics\"] = df[\"Students_Confident_in_Mathematics\"].apply(lambda x: \"Very confident\" if \"Very\" in str(x) else x )\n",
    "df[\"Students_Confident_in_Mathematics\"].value_counts()\n",
    "\n"
   ],
   "id": "3458741bd4b862ca",
   "outputs": [
    {
     "data": {
      "text/plain": [
       "Students_Confident_in_Mathematics\n",
       "Not Confident          1910\n",
       "Some what confident    1423\n",
       "Very confident          542\n",
       "Name: count, dtype: int64"
      ]
     },
     "execution_count": 30,
     "metadata": {},
     "output_type": "execute_result"
    }
   ],
   "execution_count": 30
  },
  {
   "metadata": {
    "ExecuteTime": {
     "end_time": "2025-03-23T20:07:24.990760Z",
     "start_time": "2025-03-23T20:07:24.973924Z"
    }
   },
   "cell_type": "code",
   "source": [
    "df[\"Students_Confident_in_Science\"] = df[\"Students_Confident_in_Science\"].apply(lambda x: \"Not Confident\" if \"Not\" in str(x) else x )\n",
    "df[\"Students_Confident_in_Science\"] = df[\"Students_Confident_in_Science\"].apply(lambda x: \"Some what confident\" if \"Somewhat\" in str(x) else x )\n",
    "df[\"Students_Confident_in_Science\"] = df[\"Students_Confident_in_Science\"].apply(lambda x: \"Very confident\" if \"Very\" in str(x) else x )\n",
    "df[\"Students_Confident_in_Science\"].value_counts()\n",
    "\n"
   ],
   "id": "5d1dd56dc6752fb8",
   "outputs": [
    {
     "data": {
      "text/plain": [
       "Students_Confident_in_Science\n",
       "Not Confident          1657\n",
       "Some what confident    1581\n",
       "Very confident          637\n",
       "Name: count, dtype: int64"
      ]
     },
     "execution_count": 31,
     "metadata": {},
     "output_type": "execute_result"
    }
   ],
   "execution_count": 31
  },
  {
   "metadata": {},
   "cell_type": "markdown",
   "source": "### 7.2.1 Background and Confidence in Maths",
   "id": "a3ad2d37686bb4f4"
  },
  {
   "metadata": {},
   "cell_type": "markdown",
   "source": "#### 7.2.1.1 Background wise distribution of students are confident Mathematics",
   "id": "3ff58f7468617b5b"
  },
  {
   "metadata": {
    "ExecuteTime": {
     "end_time": "2025-03-23T20:07:25.210642Z",
     "start_time": "2025-03-23T20:07:25.171831Z"
    }
   },
   "cell_type": "code",
   "source": [
    "\n",
    "ver_much_like = df[\"Students_Confident_in_Mathematics\"].str.contains(\"Very\")\n",
    "some_what_like = df[\"Students_Confident_in_Mathematics\"].str.contains(\"Some\")\n",
    "confident_in_maths  = df[ver_much_like | some_what_like]\n",
    "origin_grouped = confident_in_maths.groupby(\"Parental_Origin\" , observed=False)[\"Parental_Origin\"]\n",
    "origin_grouped.describe()"
   ],
   "id": "e792dc86cb56506",
   "outputs": [
    {
     "data": {
      "text/plain": [
       "                count unique           top  freq\n",
       "Parental_Origin                                 \n",
       "All Foreign       437      1   All Foreign   437\n",
       "All Native       1221      1    All Native  1221\n",
       "At least One      291      1  At least One   291\n",
       "NA                 16      1            NA    16"
      ],
      "text/html": [
       "<div>\n",
       "<style scoped>\n",
       "    .dataframe tbody tr th:only-of-type {\n",
       "        vertical-align: middle;\n",
       "    }\n",
       "\n",
       "    .dataframe tbody tr th {\n",
       "        vertical-align: top;\n",
       "    }\n",
       "\n",
       "    .dataframe thead th {\n",
       "        text-align: right;\n",
       "    }\n",
       "</style>\n",
       "<table border=\"1\" class=\"dataframe\">\n",
       "  <thead>\n",
       "    <tr style=\"text-align: right;\">\n",
       "      <th></th>\n",
       "      <th>count</th>\n",
       "      <th>unique</th>\n",
       "      <th>top</th>\n",
       "      <th>freq</th>\n",
       "    </tr>\n",
       "    <tr>\n",
       "      <th>Parental_Origin</th>\n",
       "      <th></th>\n",
       "      <th></th>\n",
       "      <th></th>\n",
       "      <th></th>\n",
       "    </tr>\n",
       "  </thead>\n",
       "  <tbody>\n",
       "    <tr>\n",
       "      <th>All Foreign</th>\n",
       "      <td>437</td>\n",
       "      <td>1</td>\n",
       "      <td>All Foreign</td>\n",
       "      <td>437</td>\n",
       "    </tr>\n",
       "    <tr>\n",
       "      <th>All Native</th>\n",
       "      <td>1221</td>\n",
       "      <td>1</td>\n",
       "      <td>All Native</td>\n",
       "      <td>1221</td>\n",
       "    </tr>\n",
       "    <tr>\n",
       "      <th>At least One</th>\n",
       "      <td>291</td>\n",
       "      <td>1</td>\n",
       "      <td>At least One</td>\n",
       "      <td>291</td>\n",
       "    </tr>\n",
       "    <tr>\n",
       "      <th>NA</th>\n",
       "      <td>16</td>\n",
       "      <td>1</td>\n",
       "      <td>NA</td>\n",
       "      <td>16</td>\n",
       "    </tr>\n",
       "  </tbody>\n",
       "</table>\n",
       "</div>"
      ]
     },
     "execution_count": 32,
     "metadata": {},
     "output_type": "execute_result"
    }
   ],
   "execution_count": 32
  },
  {
   "metadata": {
    "ExecuteTime": {
     "end_time": "2025-03-23T20:07:25.375738Z",
     "start_time": "2025-03-23T20:07:25.330429Z"
    }
   },
   "cell_type": "code",
   "source": [
    "edu_grouped = confident_in_maths.groupby(\"highest\" , observed=False)[\"highest\"]\n",
    "edu_grouped.describe()"
   ],
   "id": "a1729c524fe65d7",
   "outputs": [
    {
     "data": {
      "text/plain": [
       "                count unique              top freq\n",
       "highest                                           \n",
       "Not Available     553      1    Not Available  553\n",
       "Primary            59      1          Primary   59\n",
       "Upper Secondary   166      1  Upper Secondary  166\n",
       "Tertiary          391      1         Tertiary  391\n",
       "Undergraduate     235      1    Undergraduate  235\n",
       "Postgraduate      561      1     Postgraduate  561"
      ],
      "text/html": [
       "<div>\n",
       "<style scoped>\n",
       "    .dataframe tbody tr th:only-of-type {\n",
       "        vertical-align: middle;\n",
       "    }\n",
       "\n",
       "    .dataframe tbody tr th {\n",
       "        vertical-align: top;\n",
       "    }\n",
       "\n",
       "    .dataframe thead th {\n",
       "        text-align: right;\n",
       "    }\n",
       "</style>\n",
       "<table border=\"1\" class=\"dataframe\">\n",
       "  <thead>\n",
       "    <tr style=\"text-align: right;\">\n",
       "      <th></th>\n",
       "      <th>count</th>\n",
       "      <th>unique</th>\n",
       "      <th>top</th>\n",
       "      <th>freq</th>\n",
       "    </tr>\n",
       "    <tr>\n",
       "      <th>highest</th>\n",
       "      <th></th>\n",
       "      <th></th>\n",
       "      <th></th>\n",
       "      <th></th>\n",
       "    </tr>\n",
       "  </thead>\n",
       "  <tbody>\n",
       "    <tr>\n",
       "      <th>Not Available</th>\n",
       "      <td>553</td>\n",
       "      <td>1</td>\n",
       "      <td>Not Available</td>\n",
       "      <td>553</td>\n",
       "    </tr>\n",
       "    <tr>\n",
       "      <th>Primary</th>\n",
       "      <td>59</td>\n",
       "      <td>1</td>\n",
       "      <td>Primary</td>\n",
       "      <td>59</td>\n",
       "    </tr>\n",
       "    <tr>\n",
       "      <th>Upper Secondary</th>\n",
       "      <td>166</td>\n",
       "      <td>1</td>\n",
       "      <td>Upper Secondary</td>\n",
       "      <td>166</td>\n",
       "    </tr>\n",
       "    <tr>\n",
       "      <th>Tertiary</th>\n",
       "      <td>391</td>\n",
       "      <td>1</td>\n",
       "      <td>Tertiary</td>\n",
       "      <td>391</td>\n",
       "    </tr>\n",
       "    <tr>\n",
       "      <th>Undergraduate</th>\n",
       "      <td>235</td>\n",
       "      <td>1</td>\n",
       "      <td>Undergraduate</td>\n",
       "      <td>235</td>\n",
       "    </tr>\n",
       "    <tr>\n",
       "      <th>Postgraduate</th>\n",
       "      <td>561</td>\n",
       "      <td>1</td>\n",
       "      <td>Postgraduate</td>\n",
       "      <td>561</td>\n",
       "    </tr>\n",
       "  </tbody>\n",
       "</table>\n",
       "</div>"
      ]
     },
     "execution_count": 33,
     "metadata": {},
     "output_type": "execute_result"
    }
   ],
   "execution_count": 33
  },
  {
   "metadata": {
    "ExecuteTime": {
     "end_time": "2025-03-23T20:07:25.986751Z",
     "start_time": "2025-03-23T20:07:25.637174Z"
    }
   },
   "cell_type": "code",
   "source": [
    "sns.countplot(data=confident_in_maths, x=\"Parental_Origin\", hue=\"highest\")\n",
    "plt.tight_layout()\n",
    "plt.show()"
   ],
   "id": "660ab6cd3c47f9ff",
   "outputs": [
    {
     "data": {
      "text/plain": [
       "<Figure size 640x480 with 1 Axes>"
      ],
      "image/png": "[encoded data removed]"
     },
     "metadata": {},
     "output_type": "display_data"
    }
   ],
   "execution_count": 34
  },
  {
   "metadata": {},
   "cell_type": "markdown",
   "source": "##### 7.2.1.1.1 Percentage Statistics - Among Confident students\n",
   "id": "3ef1f57f6323de0b"
  },
  {
   "metadata": {
    "ExecuteTime": {
     "end_time": "2025-03-23T20:07:26.082482Z",
     "start_time": "2025-03-23T20:07:26.072050Z"
    }
   },
   "cell_type": "code",
   "source": [
    "\n",
    "origin_wise_percentage =  origin_grouped.count() / confident_in_maths[\"Parental_Origin\"].count()\n",
    "print(origin_wise_percentage * 100)"
   ],
   "id": "76026995447f2468",
   "outputs": [
    {
     "name": "stdout",
     "output_type": "stream",
     "text": [
      "Parental_Origin\n",
      "All Foreign     22.239186\n",
      "All Native      62.137405\n",
      "At least One    14.809160\n",
      "NA               0.814249\n",
      "Name: Parental_Origin, dtype: float64\n"
     ]
    }
   ],
   "execution_count": 35
  },
  {
   "metadata": {
    "ExecuteTime": {
     "end_time": "2025-03-23T20:07:26.105420Z",
     "start_time": "2025-03-23T20:07:26.088816Z"
    }
   },
   "cell_type": "code",
   "source": [
    "\n",
    "##### 7.2.1.1.1 Percentage Statistics - Among Confident\n",
    "\n",
    "edu_wise_percentage = edu_grouped.count() / confident_in_maths[\"highest\"].count()\n",
    "print(edu_wise_percentage * 100)"
   ],
   "id": "c51ae7dc6a8ae640",
   "outputs": [
    {
     "name": "stdout",
     "output_type": "stream",
     "text": [
      "highest\n",
      "Not Available      28.142494\n",
      "Primary             3.002545\n",
      "Upper Secondary     8.447837\n",
      "Tertiary           19.898219\n",
      "Undergraduate      11.959288\n",
      "Postgraduate       28.549618\n",
      "Name: highest, dtype: float64\n"
     ]
    }
   ],
   "execution_count": 36
  },
  {
   "metadata": {},
   "cell_type": "markdown",
   "source": "##### 7.2.1.1.2 Percentage Statistics - Among all students\n",
   "id": "fa421859d7a48939"
  },
  {
   "metadata": {
    "ExecuteTime": {
     "end_time": "2025-03-23T20:07:26.215567Z",
     "start_time": "2025-03-23T20:07:26.203183Z"
    }
   },
   "cell_type": "code",
   "source": [
    "origin_wise_percentage =  origin_grouped.count() / df[\"Parental_Origin\"].count()\n",
    "print(origin_wise_percentage * 100)"
   ],
   "id": "5492d938af0053b0",
   "outputs": [
    {
     "name": "stdout",
     "output_type": "stream",
     "text": [
      "Parental_Origin\n",
      "All Foreign     11.277419\n",
      "All Native      31.509677\n",
      "At least One     7.509677\n",
      "NA               0.412903\n",
      "Name: Parental_Origin, dtype: float64\n"
     ]
    }
   ],
   "execution_count": 37
  },
  {
   "metadata": {
    "ExecuteTime": {
     "end_time": "2025-03-23T20:07:26.309557Z",
     "start_time": "2025-03-23T20:07:26.296192Z"
    }
   },
   "cell_type": "code",
   "source": [
    "edu_wise_percentage = edu_grouped.count() / df[\"highest\"].count()\n",
    "\n",
    "print(edu_wise_percentage * 100)"
   ],
   "id": "d4ea73464b99141c",
   "outputs": [
    {
     "name": "stdout",
     "output_type": "stream",
     "text": [
      "highest\n",
      "Not Available      14.270968\n",
      "Primary             1.522581\n",
      "Upper Secondary     4.283871\n",
      "Tertiary           10.090323\n",
      "Undergraduate       6.064516\n",
      "Postgraduate       14.477419\n",
      "Name: highest, dtype: float64\n"
     ]
    }
   ],
   "execution_count": 38
  },
  {
   "metadata": {},
   "cell_type": "markdown",
   "source": "#### 7.2.1.2 Background wise distribution of students are not confident in Mathematics",
   "id": "67dad7916e26dab"
  },
  {
   "metadata": {
    "ExecuteTime": {
     "end_time": "2025-03-23T20:07:26.410799Z",
     "start_time": "2025-03-23T20:07:26.384091Z"
    }
   },
   "cell_type": "code",
   "source": [
    "not_confident = df[\"Students_Confident_in_Mathematics\"].str.contains(\"Not\")\n",
    "not_confident_in_maths  = df[not_confident]\n",
    "origin_grouped = not_confident_in_maths.groupby(\"Parental_Origin\" , observed=False)[\"Parental_Origin\"]\n",
    "origin_grouped.describe()\n"
   ],
   "id": "96ebcd2eaa2ee462",
   "outputs": [
    {
     "data": {
      "text/plain": [
       "                count unique           top  freq\n",
       "Parental_Origin                                 \n",
       "All Foreign       334      1   All Foreign   334\n",
       "All Native       1280      1    All Native  1280\n",
       "At least One      279      1  At least One   279\n",
       "NA                 17      1            NA    17"
      ],
      "text/html": [
       "<div>\n",
       "<style scoped>\n",
       "    .dataframe tbody tr th:only-of-type {\n",
       "        vertical-align: middle;\n",
       "    }\n",
       "\n",
       "    .dataframe tbody tr th {\n",
       "        vertical-align: top;\n",
       "    }\n",
       "\n",
       "    .dataframe thead th {\n",
       "        text-align: right;\n",
       "    }\n",
       "</style>\n",
       "<table border=\"1\" class=\"dataframe\">\n",
       "  <thead>\n",
       "    <tr style=\"text-align: right;\">\n",
       "      <th></th>\n",
       "      <th>count</th>\n",
       "      <th>unique</th>\n",
       "      <th>top</th>\n",
       "      <th>freq</th>\n",
       "    </tr>\n",
       "    <tr>\n",
       "      <th>Parental_Origin</th>\n",
       "      <th></th>\n",
       "      <th></th>\n",
       "      <th></th>\n",
       "      <th></th>\n",
       "    </tr>\n",
       "  </thead>\n",
       "  <tbody>\n",
       "    <tr>\n",
       "      <th>All Foreign</th>\n",
       "      <td>334</td>\n",
       "      <td>1</td>\n",
       "      <td>All Foreign</td>\n",
       "      <td>334</td>\n",
       "    </tr>\n",
       "    <tr>\n",
       "      <th>All Native</th>\n",
       "      <td>1280</td>\n",
       "      <td>1</td>\n",
       "      <td>All Native</td>\n",
       "      <td>1280</td>\n",
       "    </tr>\n",
       "    <tr>\n",
       "      <th>At least One</th>\n",
       "      <td>279</td>\n",
       "      <td>1</td>\n",
       "      <td>At least One</td>\n",
       "      <td>279</td>\n",
       "    </tr>\n",
       "    <tr>\n",
       "      <th>NA</th>\n",
       "      <td>17</td>\n",
       "      <td>1</td>\n",
       "      <td>NA</td>\n",
       "      <td>17</td>\n",
       "    </tr>\n",
       "  </tbody>\n",
       "</table>\n",
       "</div>"
      ]
     },
     "execution_count": 39,
     "metadata": {},
     "output_type": "execute_result"
    }
   ],
   "execution_count": 39
  },
  {
   "metadata": {
    "ExecuteTime": {
     "end_time": "2025-03-23T20:07:26.558407Z",
     "start_time": "2025-03-23T20:07:26.532743Z"
    }
   },
   "cell_type": "code",
   "source": [
    "edu_grouped = not_confident_in_maths.groupby(\"highest\" , observed=False)[\"highest\"]\n",
    "edu_grouped.describe()"
   ],
   "id": "3953f299dcbc876",
   "outputs": [
    {
     "data": {
      "text/plain": [
       "                count unique              top freq\n",
       "highest                                           \n",
       "Not Available     628      1    Not Available  628\n",
       "Primary            89      1          Primary   89\n",
       "Upper Secondary   227      1  Upper Secondary  227\n",
       "Tertiary          384      1         Tertiary  384\n",
       "Undergraduate     183      1    Undergraduate  183\n",
       "Postgraduate      399      1     Postgraduate  399"
      ],
      "text/html": [
       "<div>\n",
       "<style scoped>\n",
       "    .dataframe tbody tr th:only-of-type {\n",
       "        vertical-align: middle;\n",
       "    }\n",
       "\n",
       "    .dataframe tbody tr th {\n",
       "        vertical-align: top;\n",
       "    }\n",
       "\n",
       "    .dataframe thead th {\n",
       "        text-align: right;\n",
       "    }\n",
       "</style>\n",
       "<table border=\"1\" class=\"dataframe\">\n",
       "  <thead>\n",
       "    <tr style=\"text-align: right;\">\n",
       "      <th></th>\n",
       "      <th>count</th>\n",
       "      <th>unique</th>\n",
       "      <th>top</th>\n",
       "      <th>freq</th>\n",
       "    </tr>\n",
       "    <tr>\n",
       "      <th>highest</th>\n",
       "      <th></th>\n",
       "      <th></th>\n",
       "      <th></th>\n",
       "      <th></th>\n",
       "    </tr>\n",
       "  </thead>\n",
       "  <tbody>\n",
       "    <tr>\n",
       "      <th>Not Available</th>\n",
       "      <td>628</td>\n",
       "      <td>1</td>\n",
       "      <td>Not Available</td>\n",
       "      <td>628</td>\n",
       "    </tr>\n",
       "    <tr>\n",
       "      <th>Primary</th>\n",
       "      <td>89</td>\n",
       "      <td>1</td>\n",
       "      <td>Primary</td>\n",
       "      <td>89</td>\n",
       "    </tr>\n",
       "    <tr>\n",
       "      <th>Upper Secondary</th>\n",
       "      <td>227</td>\n",
       "      <td>1</td>\n",
       "      <td>Upper Secondary</td>\n",
       "      <td>227</td>\n",
       "    </tr>\n",
       "    <tr>\n",
       "      <th>Tertiary</th>\n",
       "      <td>384</td>\n",
       "      <td>1</td>\n",
       "      <td>Tertiary</td>\n",
       "      <td>384</td>\n",
       "    </tr>\n",
       "    <tr>\n",
       "      <th>Undergraduate</th>\n",
       "      <td>183</td>\n",
       "      <td>1</td>\n",
       "      <td>Undergraduate</td>\n",
       "      <td>183</td>\n",
       "    </tr>\n",
       "    <tr>\n",
       "      <th>Postgraduate</th>\n",
       "      <td>399</td>\n",
       "      <td>1</td>\n",
       "      <td>Postgraduate</td>\n",
       "      <td>399</td>\n",
       "    </tr>\n",
       "  </tbody>\n",
       "</table>\n",
       "</div>"
      ]
     },
     "execution_count": 40,
     "metadata": {},
     "output_type": "execute_result"
    }
   ],
   "execution_count": 40
  },
  {
   "metadata": {
    "ExecuteTime": {
     "end_time": "2025-03-23T20:07:27.028405Z",
     "start_time": "2025-03-23T20:07:26.618153Z"
    }
   },
   "cell_type": "code",
   "source": [
    "sns.countplot(data=not_confident_in_maths, x=\"Parental_Origin\", hue=\"highest\")\n",
    "plt.tight_layout()\n",
    "plt.show()"
   ],
   "id": "aec39d80e6b724f0",
   "outputs": [
    {
     "data": {
      "text/plain": [
       "<Figure size 640x480 with 1 Axes>"
      ],
      "image/png": "[encoded data removed]"
     },
     "metadata": {},
     "output_type": "display_data"
    }
   ],
   "execution_count": 41
  },
  {
   "metadata": {},
   "cell_type": "markdown",
   "source": "##### 7.2.1.1.1 Percentage Statistics - Among Confident students\n",
   "id": "69ea64abc573bd1f"
  },
  {
   "metadata": {
    "ExecuteTime": {
     "end_time": "2025-03-23T20:07:28.675700Z",
     "start_time": "2025-03-23T20:07:28.665023Z"
    }
   },
   "cell_type": "code",
   "source": [
    "origin_wise_percentage =  origin_grouped.count() / not_confident_in_maths[\"Parental_Origin\"].count()\n",
    "print(origin_wise_percentage * 100)"
   ],
   "id": "29afe9cef7d4c4ad",
   "outputs": [
    {
     "name": "stdout",
     "output_type": "stream",
     "text": [
      "Parental_Origin\n",
      "All Foreign     17.486911\n",
      "All Native      67.015707\n",
      "At least One    14.607330\n",
      "NA               0.890052\n",
      "Name: Parental_Origin, dtype: float64\n"
     ]
    }
   ],
   "execution_count": 42
  },
  {
   "metadata": {
    "ExecuteTime": {
     "end_time": "2025-03-23T20:07:28.759192Z",
     "start_time": "2025-03-23T20:07:28.748044Z"
    }
   },
   "cell_type": "code",
   "source": [
    "\n",
    "##### 7.2.1.1.1 Percentage Statistics - Among Confident\n",
    "\n",
    "edu_wise_percentage = edu_grouped.count() / not_confident_in_maths[\"highest\"].count()\n",
    "print(edu_wise_percentage * 100)"
   ],
   "id": "8c2c4944968bfbe3",
   "outputs": [
    {
     "name": "stdout",
     "output_type": "stream",
     "text": [
      "highest\n",
      "Not Available      32.879581\n",
      "Primary             4.659686\n",
      "Upper Secondary    11.884817\n",
      "Tertiary           20.104712\n",
      "Undergraduate       9.581152\n",
      "Postgraduate       20.890052\n",
      "Name: highest, dtype: float64\n"
     ]
    }
   ],
   "execution_count": 43
  },
  {
   "metadata": {},
   "cell_type": "markdown",
   "source": "##### 7.2.1.1.2 Percentage Statistics - Among all students\n",
   "id": "b427c7e6f177fa82"
  },
  {
   "metadata": {
    "ExecuteTime": {
     "end_time": "2025-03-23T20:07:28.823365Z",
     "start_time": "2025-03-23T20:07:28.809599Z"
    }
   },
   "cell_type": "code",
   "source": [
    "origin_wise_percentage =  origin_grouped.count() / df[\"Parental_Origin\"].count()\n",
    "print(origin_wise_percentage * 100)"
   ],
   "id": "8f587504ebf2ae7e",
   "outputs": [
    {
     "name": "stdout",
     "output_type": "stream",
     "text": [
      "Parental_Origin\n",
      "All Foreign      8.619355\n",
      "All Native      33.032258\n",
      "At least One     7.200000\n",
      "NA               0.438710\n",
      "Name: Parental_Origin, dtype: float64\n"
     ]
    }
   ],
   "execution_count": 44
  },
  {
   "metadata": {
    "ExecuteTime": {
     "end_time": "2025-03-23T20:07:28.955381Z",
     "start_time": "2025-03-23T20:07:28.942085Z"
    }
   },
   "cell_type": "code",
   "source": [
    "edu_wise_percentage = edu_grouped.count() / df[\"highest\"].count()\n",
    "print(edu_wise_percentage * 100)"
   ],
   "id": "35c51e4c1ce1b1a7",
   "outputs": [
    {
     "name": "stdout",
     "output_type": "stream",
     "text": [
      "highest\n",
      "Not Available      16.206452\n",
      "Primary             2.296774\n",
      "Upper Secondary     5.858065\n",
      "Tertiary            9.909677\n",
      "Undergraduate       4.722581\n",
      "Postgraduate       10.296774\n",
      "Name: highest, dtype: float64\n"
     ]
    }
   ],
   "execution_count": 45
  },
  {
   "metadata": {},
   "cell_type": "markdown",
   "source": "### 7.2.2 Background and Confidence in Science",
   "id": "60d938feca485d70"
  },
  {
   "metadata": {},
   "cell_type": "markdown",
   "source": "#### 7.2.1.1 Background wise distribution of students are confident Mathematics",
   "id": "e6259eac49486ce7"
  },
  {
   "metadata": {
    "ExecuteTime": {
     "end_time": "2025-03-23T20:07:29.083136Z",
     "start_time": "2025-03-23T20:07:29.053980Z"
    }
   },
   "cell_type": "code",
   "source": [
    "\n",
    "ver_much_like = df[\"Students_Confident_in_Science\"].str.contains(\"Very\")\n",
    "some_what_like = df[\"Students_Confident_in_Science\"].str.contains(\"Some\")\n",
    "confident_in_sci  = df[ver_much_like | some_what_like]\n",
    "origin_grouped = confident_in_sci.groupby(\"Parental_Origin\" , observed=False)[\"Parental_Origin\"]\n",
    "origin_grouped.describe()"
   ],
   "id": "4a64632528571ef8",
   "outputs": [
    {
     "data": {
      "text/plain": [
       "                count unique           top  freq\n",
       "Parental_Origin                                 \n",
       "All Foreign       465      1   All Foreign   465\n",
       "All Native       1377      1    All Native  1377\n",
       "At least One      363      1  At least One   363\n",
       "NA                 13      1            NA    13"
      ],
      "text/html": [
       "<div>\n",
       "<style scoped>\n",
       "    .dataframe tbody tr th:only-of-type {\n",
       "        vertical-align: middle;\n",
       "    }\n",
       "\n",
       "    .dataframe tbody tr th {\n",
       "        vertical-align: top;\n",
       "    }\n",
       "\n",
       "    .dataframe thead th {\n",
       "        text-align: right;\n",
       "    }\n",
       "</style>\n",
       "<table border=\"1\" class=\"dataframe\">\n",
       "  <thead>\n",
       "    <tr style=\"text-align: right;\">\n",
       "      <th></th>\n",
       "      <th>count</th>\n",
       "      <th>unique</th>\n",
       "      <th>top</th>\n",
       "      <th>freq</th>\n",
       "    </tr>\n",
       "    <tr>\n",
       "      <th>Parental_Origin</th>\n",
       "      <th></th>\n",
       "      <th></th>\n",
       "      <th></th>\n",
       "      <th></th>\n",
       "    </tr>\n",
       "  </thead>\n",
       "  <tbody>\n",
       "    <tr>\n",
       "      <th>All Foreign</th>\n",
       "      <td>465</td>\n",
       "      <td>1</td>\n",
       "      <td>All Foreign</td>\n",
       "      <td>465</td>\n",
       "    </tr>\n",
       "    <tr>\n",
       "      <th>All Native</th>\n",
       "      <td>1377</td>\n",
       "      <td>1</td>\n",
       "      <td>All Native</td>\n",
       "      <td>1377</td>\n",
       "    </tr>\n",
       "    <tr>\n",
       "      <th>At least One</th>\n",
       "      <td>363</td>\n",
       "      <td>1</td>\n",
       "      <td>At least One</td>\n",
       "      <td>363</td>\n",
       "    </tr>\n",
       "    <tr>\n",
       "      <th>NA</th>\n",
       "      <td>13</td>\n",
       "      <td>1</td>\n",
       "      <td>NA</td>\n",
       "      <td>13</td>\n",
       "    </tr>\n",
       "  </tbody>\n",
       "</table>\n",
       "</div>"
      ]
     },
     "execution_count": 46,
     "metadata": {},
     "output_type": "execute_result"
    }
   ],
   "execution_count": 46
  },
  {
   "metadata": {
    "ExecuteTime": {
     "end_time": "2025-03-23T20:07:29.298449Z",
     "start_time": "2025-03-23T20:07:29.271271Z"
    }
   },
   "cell_type": "code",
   "source": [
    "edu_grouped = confident_in_sci.groupby(\"highest\" , observed=False)[\"highest\"]\n",
    "edu_grouped.describe()"
   ],
   "id": "be19c1c72c13ea52",
   "outputs": [
    {
     "data": {
      "text/plain": [
       "                count unique              top freq\n",
       "highest                                           \n",
       "Not Available     628      1    Not Available  628\n",
       "Primary            58      1          Primary   58\n",
       "Upper Secondary   167      1  Upper Secondary  167\n",
       "Tertiary          449      1         Tertiary  449\n",
       "Undergraduate     273      1    Undergraduate  273\n",
       "Postgraduate      643      1     Postgraduate  643"
      ],
      "text/html": [
       "<div>\n",
       "<style scoped>\n",
       "    .dataframe tbody tr th:only-of-type {\n",
       "        vertical-align: middle;\n",
       "    }\n",
       "\n",
       "    .dataframe tbody tr th {\n",
       "        vertical-align: top;\n",
       "    }\n",
       "\n",
       "    .dataframe thead th {\n",
       "        text-align: right;\n",
       "    }\n",
       "</style>\n",
       "<table border=\"1\" class=\"dataframe\">\n",
       "  <thead>\n",
       "    <tr style=\"text-align: right;\">\n",
       "      <th></th>\n",
       "      <th>count</th>\n",
       "      <th>unique</th>\n",
       "      <th>top</th>\n",
       "      <th>freq</th>\n",
       "    </tr>\n",
       "    <tr>\n",
       "      <th>highest</th>\n",
       "      <th></th>\n",
       "      <th></th>\n",
       "      <th></th>\n",
       "      <th></th>\n",
       "    </tr>\n",
       "  </thead>\n",
       "  <tbody>\n",
       "    <tr>\n",
       "      <th>Not Available</th>\n",
       "      <td>628</td>\n",
       "      <td>1</td>\n",
       "      <td>Not Available</td>\n",
       "      <td>628</td>\n",
       "    </tr>\n",
       "    <tr>\n",
       "      <th>Primary</th>\n",
       "      <td>58</td>\n",
       "      <td>1</td>\n",
       "      <td>Primary</td>\n",
       "      <td>58</td>\n",
       "    </tr>\n",
       "    <tr>\n",
       "      <th>Upper Secondary</th>\n",
       "      <td>167</td>\n",
       "      <td>1</td>\n",
       "      <td>Upper Secondary</td>\n",
       "      <td>167</td>\n",
       "    </tr>\n",
       "    <tr>\n",
       "      <th>Tertiary</th>\n",
       "      <td>449</td>\n",
       "      <td>1</td>\n",
       "      <td>Tertiary</td>\n",
       "      <td>449</td>\n",
       "    </tr>\n",
       "    <tr>\n",
       "      <th>Undergraduate</th>\n",
       "      <td>273</td>\n",
       "      <td>1</td>\n",
       "      <td>Undergraduate</td>\n",
       "      <td>273</td>\n",
       "    </tr>\n",
       "    <tr>\n",
       "      <th>Postgraduate</th>\n",
       "      <td>643</td>\n",
       "      <td>1</td>\n",
       "      <td>Postgraduate</td>\n",
       "      <td>643</td>\n",
       "    </tr>\n",
       "  </tbody>\n",
       "</table>\n",
       "</div>"
      ]
     },
     "execution_count": 47,
     "metadata": {},
     "output_type": "execute_result"
    }
   ],
   "execution_count": 47
  },
  {
   "metadata": {
    "ExecuteTime": {
     "end_time": "2025-03-23T20:07:29.734138Z",
     "start_time": "2025-03-23T20:07:29.368431Z"
    }
   },
   "cell_type": "code",
   "source": [
    "sns.countplot(data=confident_in_sci, x=\"Parental_Origin\", hue=\"highest\")\n",
    "plt.tight_layout()\n",
    "plt.show()"
   ],
   "id": "97b818c34baa2451",
   "outputs": [
    {
     "data": {
      "text/plain": [
       "<Figure size 640x480 with 1 Axes>"
      ],
      "image/png": "[encoded data removed]"
     },
     "metadata": {},
     "output_type": "display_data"
    }
   ],
   "execution_count": 48
  },
  {
   "metadata": {},
   "cell_type": "markdown",
   "source": "##### 7.2.1.1.1 Percentage Statistics - Among Confident students\n",
   "id": "1a297bd9971ce1ff"
  },
  {
   "metadata": {
    "ExecuteTime": {
     "end_time": "2025-03-23T20:07:29.896496Z",
     "start_time": "2025-03-23T20:07:29.887564Z"
    }
   },
   "cell_type": "code",
   "source": [
    "\n",
    "origin_wise_percentage =  origin_grouped.count() / confident_in_sci[\"Parental_Origin\"].count()\n",
    "print(origin_wise_percentage * 100)"
   ],
   "id": "54ca6136e7e0e24b",
   "outputs": [
    {
     "name": "stdout",
     "output_type": "stream",
     "text": [
      "Parental_Origin\n",
      "All Foreign     20.964833\n",
      "All Native      62.082958\n",
      "At least One    16.366096\n",
      "NA               0.586114\n",
      "Name: Parental_Origin, dtype: float64\n"
     ]
    }
   ],
   "execution_count": 49
  },
  {
   "metadata": {
    "ExecuteTime": {
     "end_time": "2025-03-23T20:07:29.955527Z",
     "start_time": "2025-03-23T20:07:29.946186Z"
    }
   },
   "cell_type": "code",
   "source": [
    "\n",
    "##### 7.2.1.1.1 Percentage Statistics - Among Confident\n",
    "\n",
    "edu_wise_percentage = edu_grouped.count() / confident_in_sci[\"highest\"].count()\n",
    "print(edu_wise_percentage * 100)"
   ],
   "id": "c7e4b00d4fe81faa",
   "outputs": [
    {
     "name": "stdout",
     "output_type": "stream",
     "text": [
      "highest\n",
      "Not Available      28.313796\n",
      "Primary             2.614968\n",
      "Upper Secondary     7.529306\n",
      "Tertiary           20.243463\n",
      "Undergraduate      12.308386\n",
      "Postgraduate       28.990081\n",
      "Name: highest, dtype: float64\n"
     ]
    }
   ],
   "execution_count": 50
  },
  {
   "metadata": {},
   "cell_type": "markdown",
   "source": "##### 7.2.1.1.2 Percentage Statistics - Among all students\n",
   "id": "e7b2ae07d9872762"
  },
  {
   "metadata": {
    "ExecuteTime": {
     "end_time": "2025-03-23T20:07:29.994122Z",
     "start_time": "2025-03-23T20:07:29.970537Z"
    }
   },
   "cell_type": "code",
   "source": [
    "origin_wise_percentage =  origin_grouped.count() / df[\"Parental_Origin\"].count()\n",
    "print(origin_wise_percentage * 100)"
   ],
   "id": "8904e9b61da5dd2f",
   "outputs": [
    {
     "name": "stdout",
     "output_type": "stream",
     "text": [
      "Parental_Origin\n",
      "All Foreign     12.000000\n",
      "All Native      35.535484\n",
      "At least One     9.367742\n",
      "NA               0.335484\n",
      "Name: Parental_Origin, dtype: float64\n"
     ]
    }
   ],
   "execution_count": 51
  },
  {
   "metadata": {
    "ExecuteTime": {
     "end_time": "2025-03-23T20:07:30.095664Z",
     "start_time": "2025-03-23T20:07:30.086707Z"
    }
   },
   "cell_type": "code",
   "source": [
    "edu_wise_percentage = edu_grouped.count() / df[\"highest\"].count()\n",
    "\n",
    "print(edu_wise_percentage * 100)"
   ],
   "id": "cfc068a87e10012b",
   "outputs": [
    {
     "name": "stdout",
     "output_type": "stream",
     "text": [
      "highest\n",
      "Not Available      16.206452\n",
      "Primary             1.496774\n",
      "Upper Secondary     4.309677\n",
      "Tertiary           11.587097\n",
      "Undergraduate       7.045161\n",
      "Postgraduate       16.593548\n",
      "Name: highest, dtype: float64\n"
     ]
    }
   ],
   "execution_count": 52
  },
  {
   "metadata": {},
   "cell_type": "markdown",
   "source": "#### 7.2.1.2 Background wise distribution of students are not confident in Mathematics",
   "id": "c1f0d25be3952d3"
  },
  {
   "metadata": {
    "ExecuteTime": {
     "end_time": "2025-03-23T20:07:30.345621Z",
     "start_time": "2025-03-23T20:07:30.312235Z"
    }
   },
   "cell_type": "code",
   "source": [
    "not_confident = df[\"Students_Confident_in_Science\"].str.contains(\"Not\")\n",
    "not_confident_in_sci  = df[not_confident]\n",
    "origin_grouped = not_confident_in_sci.groupby(\"Parental_Origin\" , observed=False)[\"Parental_Origin\"]\n",
    "origin_grouped.describe()\n"
   ],
   "id": "ac54a618dd5b9c9b",
   "outputs": [
    {
     "data": {
      "text/plain": [
       "                count unique           top  freq\n",
       "Parental_Origin                                 \n",
       "All Foreign       306      1   All Foreign   306\n",
       "All Native       1124      1    All Native  1124\n",
       "At least One      207      1  At least One   207\n",
       "NA                 20      1            NA    20"
      ],
      "text/html": [
       "<div>\n",
       "<style scoped>\n",
       "    .dataframe tbody tr th:only-of-type {\n",
       "        vertical-align: middle;\n",
       "    }\n",
       "\n",
       "    .dataframe tbody tr th {\n",
       "        vertical-align: top;\n",
       "    }\n",
       "\n",
       "    .dataframe thead th {\n",
       "        text-align: right;\n",
       "    }\n",
       "</style>\n",
       "<table border=\"1\" class=\"dataframe\">\n",
       "  <thead>\n",
       "    <tr style=\"text-align: right;\">\n",
       "      <th></th>\n",
       "      <th>count</th>\n",
       "      <th>unique</th>\n",
       "      <th>top</th>\n",
       "      <th>freq</th>\n",
       "    </tr>\n",
       "    <tr>\n",
       "      <th>Parental_Origin</th>\n",
       "      <th></th>\n",
       "      <th></th>\n",
       "      <th></th>\n",
       "      <th></th>\n",
       "    </tr>\n",
       "  </thead>\n",
       "  <tbody>\n",
       "    <tr>\n",
       "      <th>All Foreign</th>\n",
       "      <td>306</td>\n",
       "      <td>1</td>\n",
       "      <td>All Foreign</td>\n",
       "      <td>306</td>\n",
       "    </tr>\n",
       "    <tr>\n",
       "      <th>All Native</th>\n",
       "      <td>1124</td>\n",
       "      <td>1</td>\n",
       "      <td>All Native</td>\n",
       "      <td>1124</td>\n",
       "    </tr>\n",
       "    <tr>\n",
       "      <th>At least One</th>\n",
       "      <td>207</td>\n",
       "      <td>1</td>\n",
       "      <td>At least One</td>\n",
       "      <td>207</td>\n",
       "    </tr>\n",
       "    <tr>\n",
       "      <th>NA</th>\n",
       "      <td>20</td>\n",
       "      <td>1</td>\n",
       "      <td>NA</td>\n",
       "      <td>20</td>\n",
       "    </tr>\n",
       "  </tbody>\n",
       "</table>\n",
       "</div>"
      ]
     },
     "execution_count": 53,
     "metadata": {},
     "output_type": "execute_result"
    }
   ],
   "execution_count": 53
  },
  {
   "metadata": {
    "ExecuteTime": {
     "end_time": "2025-03-23T20:07:30.440136Z",
     "start_time": "2025-03-23T20:07:30.414808Z"
    }
   },
   "cell_type": "code",
   "source": [
    "edu_grouped = not_confident_in_sci.groupby(\"highest\" , observed=False)[\"highest\"]\n",
    "edu_grouped.describe()"
   ],
   "id": "c107d499d6dcf1fa",
   "outputs": [
    {
     "data": {
      "text/plain": [
       "                count unique              top freq\n",
       "highest                                           \n",
       "Not Available     553      1    Not Available  553\n",
       "Primary            90      1          Primary   90\n",
       "Upper Secondary   226      1  Upper Secondary  226\n",
       "Tertiary          326      1         Tertiary  326\n",
       "Undergraduate     145      1    Undergraduate  145\n",
       "Postgraduate      317      1     Postgraduate  317"
      ],
      "text/html": [
       "<div>\n",
       "<style scoped>\n",
       "    .dataframe tbody tr th:only-of-type {\n",
       "        vertical-align: middle;\n",
       "    }\n",
       "\n",
       "    .dataframe tbody tr th {\n",
       "        vertical-align: top;\n",
       "    }\n",
       "\n",
       "    .dataframe thead th {\n",
       "        text-align: right;\n",
       "    }\n",
       "</style>\n",
       "<table border=\"1\" class=\"dataframe\">\n",
       "  <thead>\n",
       "    <tr style=\"text-align: right;\">\n",
       "      <th></th>\n",
       "      <th>count</th>\n",
       "      <th>unique</th>\n",
       "      <th>top</th>\n",
       "      <th>freq</th>\n",
       "    </tr>\n",
       "    <tr>\n",
       "      <th>highest</th>\n",
       "      <th></th>\n",
       "      <th></th>\n",
       "      <th></th>\n",
       "      <th></th>\n",
       "    </tr>\n",
       "  </thead>\n",
       "  <tbody>\n",
       "    <tr>\n",
       "      <th>Not Available</th>\n",
       "      <td>553</td>\n",
       "      <td>1</td>\n",
       "      <td>Not Available</td>\n",
       "      <td>553</td>\n",
       "    </tr>\n",
       "    <tr>\n",
       "      <th>Primary</th>\n",
       "      <td>90</td>\n",
       "      <td>1</td>\n",
       "      <td>Primary</td>\n",
       "      <td>90</td>\n",
       "    </tr>\n",
       "    <tr>\n",
       "      <th>Upper Secondary</th>\n",
       "      <td>226</td>\n",
       "      <td>1</td>\n",
       "      <td>Upper Secondary</td>\n",
       "      <td>226</td>\n",
       "    </tr>\n",
       "    <tr>\n",
       "      <th>Tertiary</th>\n",
       "      <td>326</td>\n",
       "      <td>1</td>\n",
       "      <td>Tertiary</td>\n",
       "      <td>326</td>\n",
       "    </tr>\n",
       "    <tr>\n",
       "      <th>Undergraduate</th>\n",
       "      <td>145</td>\n",
       "      <td>1</td>\n",
       "      <td>Undergraduate</td>\n",
       "      <td>145</td>\n",
       "    </tr>\n",
       "    <tr>\n",
       "      <th>Postgraduate</th>\n",
       "      <td>317</td>\n",
       "      <td>1</td>\n",
       "      <td>Postgraduate</td>\n",
       "      <td>317</td>\n",
       "    </tr>\n",
       "  </tbody>\n",
       "</table>\n",
       "</div>"
      ]
     },
     "execution_count": 54,
     "metadata": {},
     "output_type": "execute_result"
    }
   ],
   "execution_count": 54
  },
  {
   "metadata": {
    "ExecuteTime": {
     "end_time": "2025-03-23T20:07:30.857790Z",
     "start_time": "2025-03-23T20:07:30.504679Z"
    }
   },
   "cell_type": "code",
   "source": [
    "sns.countplot(data=not_confident_in_sci, x=\"Parental_Origin\", hue=\"highest\")\n",
    "plt.tight_layout()\n",
    "plt.show()"
   ],
   "id": "6b73fbc3941f7246",
   "outputs": [
    {
     "data": {
      "text/plain": [
       "<Figure size 640x480 with 1 Axes>"
      ],
      "image/png": "[encoded data removed]"
     },
     "metadata": {},
     "output_type": "display_data"
    }
   ],
   "execution_count": 55
  },
  {
   "metadata": {},
   "cell_type": "markdown",
   "source": "##### 7.2.1.1.1 Percentage Statistics - Among Confident students\n",
   "id": "8f00ab342083648d"
  },
  {
   "metadata": {
    "ExecuteTime": {
     "end_time": "2025-03-23T20:07:30.915761Z",
     "start_time": "2025-03-23T20:07:30.904442Z"
    }
   },
   "cell_type": "code",
   "source": [
    "origin_wise_percentage =  origin_grouped.count() / not_confident_in_sci[\"Parental_Origin\"].count()\n",
    "print(origin_wise_percentage * 100)"
   ],
   "id": "24eb348ffd8f6ff7",
   "outputs": [
    {
     "name": "stdout",
     "output_type": "stream",
     "text": [
      "Parental_Origin\n",
      "All Foreign     18.467109\n",
      "All Native      67.833434\n",
      "At least One    12.492456\n",
      "NA               1.207001\n",
      "Name: Parental_Origin, dtype: float64\n"
     ]
    }
   ],
   "execution_count": 56
  },
  {
   "metadata": {
    "ExecuteTime": {
     "end_time": "2025-03-23T20:07:30.980435Z",
     "start_time": "2025-03-23T20:07:30.970124Z"
    }
   },
   "cell_type": "code",
   "source": [
    "\n",
    "##### 7.2.1.1.1 Percentage Statistics - Among Confident\n",
    "\n",
    "edu_wise_percentage = edu_grouped.count() / not_confident_in_sci[\"highest\"].count()\n",
    "print(edu_wise_percentage * 100)"
   ],
   "id": "d5928c4af358c3a9",
   "outputs": [
    {
     "name": "stdout",
     "output_type": "stream",
     "text": [
      "highest\n",
      "Not Available      33.373567\n",
      "Primary             5.431503\n",
      "Upper Secondary    13.639107\n",
      "Tertiary           19.674110\n",
      "Undergraduate       8.750754\n",
      "Postgraduate       19.130960\n",
      "Name: highest, dtype: float64\n"
     ]
    }
   ],
   "execution_count": 57
  },
  {
   "metadata": {},
   "cell_type": "markdown",
   "source": "##### 7.2.1.1.2 Percentage Statistics - Among all students\n",
   "id": "87651445e05cb6c3"
  },
  {
   "metadata": {
    "ExecuteTime": {
     "end_time": "2025-03-23T20:07:31.151505Z",
     "start_time": "2025-03-23T20:07:31.139980Z"
    }
   },
   "cell_type": "code",
   "source": [
    "origin_wise_percentage =  origin_grouped.count() / df[\"Parental_Origin\"].count()\n",
    "print(origin_wise_percentage * 100)"
   ],
   "id": "dd53f813daf2f55b",
   "outputs": [
    {
     "name": "stdout",
     "output_type": "stream",
     "text": [
      "Parental_Origin\n",
      "All Foreign      7.896774\n",
      "All Native      29.006452\n",
      "At least One     5.341935\n",
      "NA               0.516129\n",
      "Name: Parental_Origin, dtype: float64\n"
     ]
    }
   ],
   "execution_count": 58
  },
  {
   "metadata": {
    "ExecuteTime": {
     "end_time": "2025-03-23T20:07:31.172003Z",
     "start_time": "2025-03-23T20:07:31.159514Z"
    }
   },
   "cell_type": "code",
   "source": [
    "edu_wise_percentage = edu_grouped.count() / df[\"highest\"].count()\n",
    "print(edu_wise_percentage * 100)"
   ],
   "id": "3377ff7bfecdf5b3",
   "outputs": [
    {
     "name": "stdout",
     "output_type": "stream",
     "text": [
      "highest\n",
      "Not Available      14.270968\n",
      "Primary             2.322581\n",
      "Upper Secondary     5.832258\n",
      "Tertiary            8.412903\n",
      "Undergraduate       3.741935\n",
      "Postgraduate        8.180645\n",
      "Name: highest, dtype: float64\n"
     ]
    }
   ],
   "execution_count": 59
  },
  {
   "metadata": {},
   "cell_type": "markdown",
   "source": "### 7.3 Background and Bullying",
   "id": "981d09484ce806b2"
  },
  {
   "metadata": {
    "ExecuteTime": {
     "end_time": "2025-03-23T20:07:31.268206Z",
     "start_time": "2025-03-23T20:07:31.257988Z"
    }
   },
   "cell_type": "code",
   "source": "print(df[\"Student_Bullying\"].value_counts())",
   "id": "9b4c30f23dc3ee8a",
   "outputs": [
    {
     "name": "stdout",
     "output_type": "stream",
     "text": [
      "Student_Bullying\n",
      "Never or Almost Never    2623\n",
      "About Monthly             956\n",
      "About Weekly              296\n",
      "Name: count, dtype: int64\n"
     ]
    }
   ],
   "execution_count": 60
  },
  {
   "metadata": {},
   "cell_type": "markdown",
   "source": "#### 7.3.1 Distribution of bullying across different parental origins and Education Level",
   "id": "270cde3630437135"
  },
  {
   "metadata": {
    "ExecuteTime": {
     "end_time": "2025-03-23T20:07:31.880186Z",
     "start_time": "2025-03-23T20:07:31.523512Z"
    }
   },
   "cell_type": "code",
   "source": "sns.countplot(data=df, x=\"Student_Bullying\" , hue=\"highest\")\n",
   "id": "d503ba7a7f934d22",
   "outputs": [
    {
     "data": {
      "text/plain": [
       "<Axes: xlabel='Student_Bullying', ylabel='count'>"
      ]
     },
     "execution_count": 61,
     "metadata": {},
     "output_type": "execute_result"
    },
    {
     "data": {
      "text/plain": [
       "<Figure size 640x480 with 1 Axes>"
      ],
      "image/png": "[encoded data removed]"
     },
     "metadata": {},
     "output_type": "display_data"
    }
   ],
   "execution_count": 61
  },
  {
   "metadata": {
    "ExecuteTime": {
     "end_time": "2025-03-23T20:07:32.222603Z",
     "start_time": "2025-03-23T20:07:31.880186Z"
    }
   },
   "cell_type": "code",
   "source": [
    "sns.countplot(data=df, x=\"Student_Bullying\" , hue=\"Parental_Origin\")\n",
    "plt.title(\"Distribution of Student Bullying vs Parental_Origin\")"
   ],
   "id": "6f270847e7c31c4b",
   "outputs": [
    {
     "data": {
      "text/plain": [
       "Text(0.5, 1.0, 'Distribution of Student Bullying vs Parental_Origin')"
      ]
     },
     "execution_count": 62,
     "metadata": {},
     "output_type": "execute_result"
    },
    {
     "data": {
      "text/plain": [
       "<Figure size 640x480 with 1 Axes>"
      ],
      "image/png": "[encoded data removed]"
     },
     "metadata": {},
     "output_type": "display_data"
    }
   ],
   "execution_count": 62
  },
  {
   "metadata": {},
   "cell_type": "markdown",
   "source": "#### 7.3.2  Bullying across different parental origins and Education Level - Weekly",
   "id": "de4f740ed19e67b5"
  },
  {
   "metadata": {
    "ExecuteTime": {
     "end_time": "2025-03-23T20:07:32.321082Z",
     "start_time": "2025-03-23T20:07:32.306028Z"
    }
   },
   "cell_type": "code",
   "source": [
    "grouped_per, total_per =  utils.getPercentageOfBulliedStudents(df, \"Weekly\", \"Parental_Origin\" )\n",
    "grouped_per_edu, total_per_edu =  utils.getPercentageOfBulliedStudents(df, \"Weekly\", \"highest\" )\n"
   ],
   "id": "31c07bb888720146",
   "outputs": [],
   "execution_count": 63
  },
  {
   "metadata": {},
   "cell_type": "markdown",
   "source": "##### 7.3.2.1  Percentage from the bullied class and total count(In that order)",
   "id": "da0c2c059ca13d8a"
  },
  {
   "metadata": {
    "ExecuteTime": {
     "end_time": "2025-03-23T20:07:32.416059Z",
     "start_time": "2025-03-23T20:07:32.405207Z"
    }
   },
   "cell_type": "code",
   "source": "grouped_per * 100",
   "id": "5deabd641edda13d",
   "outputs": [
    {
     "data": {
      "text/plain": [
       "Parental_Origin\n",
       "All Foreign     21.959459\n",
       "All Native      60.810811\n",
       "At least One    14.527027\n",
       "NA               2.702703\n",
       "Name: Parental_Origin, dtype: float64"
      ]
     },
     "execution_count": 64,
     "metadata": {},
     "output_type": "execute_result"
    }
   ],
   "execution_count": 64
  },
  {
   "metadata": {
    "ExecuteTime": {
     "end_time": "2025-03-23T20:07:32.551144Z",
     "start_time": "2025-03-23T20:07:32.539858Z"
    }
   },
   "cell_type": "code",
   "source": "grouped_per_edu * 100",
   "id": "dd0955b2dfcc50e3",
   "outputs": [
    {
     "data": {
      "text/plain": [
       "highest\n",
       "Not Available      25.675676\n",
       "Primary             7.094595\n",
       "Upper Secondary    11.148649\n",
       "Tertiary           20.270270\n",
       "Undergraduate       9.797297\n",
       "Postgraduate       26.013514\n",
       "Name: highest, dtype: float64"
      ]
     },
     "execution_count": 65,
     "metadata": {},
     "output_type": "execute_result"
    }
   ],
   "execution_count": 65
  },
  {
   "metadata": {
    "ExecuteTime": {
     "end_time": "2025-03-23T20:07:32.650183Z",
     "start_time": "2025-03-23T20:07:32.633983Z"
    }
   },
   "cell_type": "code",
   "source": "total_per * 100",
   "id": "fba6bab2e6de49b9",
   "outputs": [
    {
     "data": {
      "text/plain": [
       "Parental_Origin\n",
       "All Foreign     1.677419\n",
       "All Native      4.645161\n",
       "At least One    1.109677\n",
       "NA              0.206452\n",
       "Name: Parental_Origin, dtype: float64"
      ]
     },
     "execution_count": 66,
     "metadata": {},
     "output_type": "execute_result"
    }
   ],
   "execution_count": 66
  },
  {
   "metadata": {
    "ExecuteTime": {
     "end_time": "2025-03-23T20:07:32.792446Z",
     "start_time": "2025-03-23T20:07:32.783158Z"
    }
   },
   "cell_type": "code",
   "source": "total_per_edu",
   "id": "83aa84969970ca24",
   "outputs": [
    {
     "data": {
      "text/plain": [
       "highest\n",
       "Not Available      0.019613\n",
       "Primary            0.005419\n",
       "Upper Secondary    0.008516\n",
       "Tertiary           0.015484\n",
       "Undergraduate      0.007484\n",
       "Postgraduate       0.019871\n",
       "Name: highest, dtype: float64"
      ]
     },
     "execution_count": 67,
     "metadata": {},
     "output_type": "execute_result"
    }
   ],
   "execution_count": 67
  },
  {
   "metadata": {},
   "cell_type": "markdown",
   "source": "#### 7.3.3  Bullying across different parental origins and Education Level - About Monthly",
   "id": "f8a8922e92e8e763"
  },
  {
   "metadata": {
    "ExecuteTime": {
     "end_time": "2025-03-23T20:07:32.898568Z",
     "start_time": "2025-03-23T20:07:32.884816Z"
    }
   },
   "cell_type": "code",
   "source": [
    "grouped_per, total_per =  utils.getPercentageOfBulliedStudents(df, \"Monthly\", \"Parental_Origin\" )\n",
    "grouped_per_edu, total_per_edu =  utils.getPercentageOfBulliedStudents(df, \"Monthly\", \"highest\" )\n",
    "\n"
   ],
   "id": "797a3b5b3ba6b4ff",
   "outputs": [],
   "execution_count": 68
  },
  {
   "metadata": {},
   "cell_type": "markdown",
   "source": "##### 7.3.2.1  Percentage from the bullied class and total count(In that order)",
   "id": "26174b0444be6fe8"
  },
  {
   "metadata": {
    "ExecuteTime": {
     "end_time": "2025-03-23T20:07:32.994098Z",
     "start_time": "2025-03-23T20:07:32.981082Z"
    }
   },
   "cell_type": "code",
   "source": "grouped_per * 100",
   "id": "ac89054cc5a2eb16",
   "outputs": [
    {
     "data": {
      "text/plain": [
       "Parental_Origin\n",
       "All Foreign     19.037657\n",
       "All Native      62.447699\n",
       "At least One    17.677824\n",
       "NA               0.836820\n",
       "Name: Parental_Origin, dtype: float64"
      ]
     },
     "execution_count": 69,
     "metadata": {},
     "output_type": "execute_result"
    }
   ],
   "execution_count": 69
  },
  {
   "metadata": {
    "ExecuteTime": {
     "end_time": "2025-03-23T20:07:33.071371Z",
     "start_time": "2025-03-23T20:07:33.056228Z"
    }
   },
   "cell_type": "code",
   "source": "grouped_per_edu * 100",
   "id": "9b48849fc2e16ec8",
   "outputs": [
    {
     "data": {
      "text/plain": [
       "highest\n",
       "Not Available      26.464435\n",
       "Primary             3.661088\n",
       "Upper Secondary    10.983264\n",
       "Tertiary           20.397490\n",
       "Undergraduate      11.506276\n",
       "Postgraduate       26.987448\n",
       "Name: highest, dtype: float64"
      ]
     },
     "execution_count": 70,
     "metadata": {},
     "output_type": "execute_result"
    }
   ],
   "execution_count": 70
  },
  {
   "metadata": {
    "ExecuteTime": {
     "end_time": "2025-03-23T20:07:33.247418Z",
     "start_time": "2025-03-23T20:07:33.238940Z"
    }
   },
   "cell_type": "code",
   "source": "total_per * 100",
   "id": "97fdef00b82c12e2",
   "outputs": [
    {
     "data": {
      "text/plain": [
       "Parental_Origin\n",
       "All Foreign      4.696774\n",
       "All Native      15.406452\n",
       "At least One     4.361290\n",
       "NA               0.206452\n",
       "Name: Parental_Origin, dtype: float64"
      ]
     },
     "execution_count": 71,
     "metadata": {},
     "output_type": "execute_result"
    }
   ],
   "execution_count": 71
  },
  {
   "metadata": {
    "ExecuteTime": {
     "end_time": "2025-03-23T20:07:33.344377Z",
     "start_time": "2025-03-23T20:07:33.333674Z"
    }
   },
   "cell_type": "code",
   "source": "total_per_edu * 100",
   "id": "74885fa9da94c14d",
   "outputs": [
    {
     "data": {
      "text/plain": [
       "highest\n",
       "Not Available      6.529032\n",
       "Primary            0.903226\n",
       "Upper Secondary    2.709677\n",
       "Tertiary           5.032258\n",
       "Undergraduate      2.838710\n",
       "Postgraduate       6.658065\n",
       "Name: highest, dtype: float64"
      ]
     },
     "execution_count": 72,
     "metadata": {},
     "output_type": "execute_result"
    }
   ],
   "execution_count": 72
  },
  {
   "metadata": {},
   "cell_type": "markdown",
   "source": "#### 7.3.2  Bullying across different parental origins and Education Level - Never",
   "id": "ff1e5b8868c9c619"
  },
  {
   "metadata": {
    "ExecuteTime": {
     "end_time": "2025-03-23T20:07:33.495391Z",
     "start_time": "2025-03-23T20:07:33.480664Z"
    }
   },
   "cell_type": "code",
   "source": [
    "grouped_per, total_per =  utils.getPercentageOfBulliedStudents(df, \"Never\", \"Parental_Origin\" )\n",
    "grouped_per_edu, total_per_edu =  utils.getPercentageOfBulliedStudents(df, \"Never\", \"highest\" )"
   ],
   "id": "58cc95de76ff7742",
   "outputs": [],
   "execution_count": 73
  },
  {
   "metadata": {},
   "cell_type": "markdown",
   "source": "##### 7.3.2.1  Percentage from the bullied class and total count(In that order)",
   "id": "ad631b03d9bdf66c"
  },
  {
   "metadata": {
    "ExecuteTime": {
     "end_time": "2025-03-23T20:07:33.755665Z",
     "start_time": "2025-03-23T20:07:33.744411Z"
    }
   },
   "cell_type": "code",
   "source": "grouped_per * 100",
   "id": "96e16d821fad664d",
   "outputs": [
    {
     "data": {
      "text/plain": [
       "Parental_Origin\n",
       "All Foreign     19.977125\n",
       "All Native      65.726268\n",
       "At least One    13.648494\n",
       "NA               0.648113\n",
       "Name: Parental_Origin, dtype: float64"
      ]
     },
     "execution_count": 74,
     "metadata": {},
     "output_type": "execute_result"
    }
   ],
   "execution_count": 74
  },
  {
   "metadata": {
    "ExecuteTime": {
     "end_time": "2025-03-23T20:07:33.832042Z",
     "start_time": "2025-03-23T20:07:33.818927Z"
    }
   },
   "cell_type": "code",
   "source": "grouped_per_edu * 100",
   "id": "a9543d6c61eb100",
   "outputs": [
    {
     "data": {
      "text/plain": [
       "highest\n",
       "Not Available      32.481891\n",
       "Primary             3.507434\n",
       "Upper Secondary     9.721693\n",
       "Tertiary           19.824628\n",
       "Undergraduate      10.636676\n",
       "Postgraduate       23.827678\n",
       "Name: highest, dtype: float64"
      ]
     },
     "execution_count": 75,
     "metadata": {},
     "output_type": "execute_result"
    }
   ],
   "execution_count": 75
  },
  {
   "metadata": {
    "ExecuteTime": {
     "end_time": "2025-03-23T20:07:33.902417Z",
     "start_time": "2025-03-23T20:07:33.887473Z"
    }
   },
   "cell_type": "code",
   "source": "total_per * 100",
   "id": "6916ebce5b3943ad",
   "outputs": [
    {
     "data": {
      "text/plain": [
       "Parental_Origin\n",
       "All Foreign     13.522581\n",
       "All Native      44.490323\n",
       "At least One     9.238710\n",
       "NA               0.438710\n",
       "Name: Parental_Origin, dtype: float64"
      ]
     },
     "execution_count": 76,
     "metadata": {},
     "output_type": "execute_result"
    }
   ],
   "execution_count": 76
  },
  {
   "metadata": {
    "ExecuteTime": {
     "end_time": "2025-03-23T20:07:34.027319Z",
     "start_time": "2025-03-23T20:07:34.017061Z"
    }
   },
   "cell_type": "code",
   "source": "total_per_edu * 100",
   "id": "5cf3d99e6a5ab3a9",
   "outputs": [
    {
     "data": {
      "text/plain": [
       "highest\n",
       "Not Available      21.987097\n",
       "Primary             2.374194\n",
       "Upper Secondary     6.580645\n",
       "Tertiary           13.419355\n",
       "Undergraduate       7.200000\n",
       "Postgraduate       16.129032\n",
       "Name: highest, dtype: float64"
      ]
     },
     "execution_count": 77,
     "metadata": {},
     "output_type": "execute_result"
    }
   ],
   "execution_count": 77
  },
  {
   "metadata": {},
   "cell_type": "markdown",
   "source": "### 7.4 Background and Sense of Belonging",
   "id": "61bce144c5cb50b4"
  },
  {
   "metadata": {
    "ExecuteTime": {
     "end_time": "2025-03-23T20:07:34.115806Z",
     "start_time": "2025-03-23T20:07:34.106682Z"
    }
   },
   "cell_type": "code",
   "source": "print(df[\"Sense_of_School_Belonging\"].value_counts())\n",
   "id": "53b2552fd787e6cc",
   "outputs": [
    {
     "name": "stdout",
     "output_type": "stream",
     "text": [
      "Sense_of_School_Belonging\n",
      "Some Sense of School Belonging      2068\n",
      "High Sense of School Belonging       923\n",
      "Little Sense of School Belonging     884\n",
      "Name: count, dtype: int64\n"
     ]
    }
   ],
   "execution_count": 78
  },
  {
   "metadata": {},
   "cell_type": "markdown",
   "source": "#### 7.3.1 Distribution of sense of belonging across different parental origins and Education Level",
   "id": "f8884f6607079085"
  },
  {
   "metadata": {
    "ExecuteTime": {
     "end_time": "2025-03-23T20:07:34.548826Z",
     "start_time": "2025-03-23T20:07:34.199762Z"
    }
   },
   "cell_type": "code",
   "source": [
    "fig = plt.figure(figsize=(16,8))\n",
    "sns.countplot(data=df, x=\"Sense_of_School_Belonging\" , hue=\"highest\")\n"
   ],
   "id": "47b276f5ef8c8cde",
   "outputs": [
    {
     "data": {
      "text/plain": [
       "<Axes: xlabel='Sense_of_School_Belonging', ylabel='count'>"
      ]
     },
     "execution_count": 79,
     "metadata": {},
     "output_type": "execute_result"
    },
    {
     "data": {
      "text/plain": [
       "<Figure size 1600x800 with 1 Axes>"
      ],
      "image/png": "[encoded data removed]"
     },
     "metadata": {},
     "output_type": "display_data"
    }
   ],
   "execution_count": 79
  },
  {
   "metadata": {
    "ExecuteTime": {
     "end_time": "2025-03-23T20:07:34.917752Z",
     "start_time": "2025-03-23T20:07:34.587699Z"
    }
   },
   "cell_type": "code",
   "source": [
    "fig = plt.figure(figsize=(16,8))\n",
    "sns.countplot(data=df, x=\"Sense_of_School_Belonging\" , hue=\"Parental_Origin\")\n"
   ],
   "id": "611a8cd365fb1e54",
   "outputs": [
    {
     "data": {
      "text/plain": [
       "<Axes: xlabel='Sense_of_School_Belonging', ylabel='count'>"
      ]
     },
     "execution_count": 80,
     "metadata": {},
     "output_type": "execute_result"
    },
    {
     "data": {
      "text/plain": [
       "<Figure size 1600x800 with 1 Axes>"
      ],
      "image/png": "[encoded data removed]"
     },
     "metadata": {},
     "output_type": "display_data"
    }
   ],
   "execution_count": 80
  },
  {
   "metadata": {},
   "cell_type": "markdown",
   "source": "#### 7.4.2  Sense of belongin across different parental origins and Education Level - High",
   "id": "2b82b21c431d3920"
  },
  {
   "metadata": {
    "ExecuteTime": {
     "end_time": "2025-03-23T20:07:34.940608Z",
     "start_time": "2025-03-23T20:07:34.920761Z"
    }
   },
   "cell_type": "code",
   "source": [
    "grouped_per, total_per =  utils.getPercentageOfSenseOfBelonging(df, \"High\", \"Parental_Origin\" )\n",
    "grouped_per_edu, total_per_edu =  utils.getPercentageOfSenseOfBelonging(df, \"High\", \"highest\" )"
   ],
   "id": "507c3f40b195cfde",
   "outputs": [],
   "execution_count": 81
  },
  {
   "metadata": {},
   "cell_type": "markdown",
   "source": "#### 7.4.2.1  Percentage statistics",
   "id": "2899b376e74eb663"
  },
  {
   "metadata": {
    "ExecuteTime": {
     "end_time": "2025-03-23T20:07:35.051061Z",
     "start_time": "2025-03-23T20:07:35.040231Z"
    }
   },
   "cell_type": "code",
   "source": "grouped_per * 100",
   "id": "5eea1b9a601c72dd",
   "outputs": [
    {
     "data": {
      "text/plain": [
       "Parental_Origin\n",
       "All Foreign     16.251354\n",
       "All Native      68.472373\n",
       "At least One    14.734561\n",
       "NA               0.541712\n",
       "Name: Parental_Origin, dtype: float64"
      ]
     },
     "execution_count": 82,
     "metadata": {},
     "output_type": "execute_result"
    }
   ],
   "execution_count": 82
  },
  {
   "metadata": {
    "ExecuteTime": {
     "end_time": "2025-03-23T20:07:35.194413Z",
     "start_time": "2025-03-23T20:07:35.185634Z"
    }
   },
   "cell_type": "code",
   "source": "grouped_per_edu * 100",
   "id": "3646f541bd27e4af",
   "outputs": [
    {
     "data": {
      "text/plain": [
       "highest\n",
       "Not Available      26.760563\n",
       "Primary             2.708559\n",
       "Upper Secondary     9.209101\n",
       "Tertiary           19.609967\n",
       "Undergraduate      10.725894\n",
       "Postgraduate       30.985915\n",
       "Name: highest, dtype: float64"
      ]
     },
     "execution_count": 83,
     "metadata": {},
     "output_type": "execute_result"
    }
   ],
   "execution_count": 83
  },
  {
   "metadata": {
    "ExecuteTime": {
     "end_time": "2025-03-23T20:07:35.254712Z",
     "start_time": "2025-03-23T20:07:35.246060Z"
    }
   },
   "cell_type": "code",
   "source": "print(total_per * 100)",
   "id": "9cab810ce98e706d",
   "outputs": [
    {
     "name": "stdout",
     "output_type": "stream",
     "text": [
      "Parental_Origin\n",
      "All Foreign      3.870968\n",
      "All Native      16.309677\n",
      "At least One     3.509677\n",
      "NA               0.129032\n",
      "Name: Parental_Origin, dtype: float64\n"
     ]
    }
   ],
   "execution_count": 84
  },
  {
   "metadata": {
    "ExecuteTime": {
     "end_time": "2025-03-23T20:07:35.353848Z",
     "start_time": "2025-03-23T20:07:35.343796Z"
    }
   },
   "cell_type": "code",
   "source": "print(total_per_edu * 100)",
   "id": "b9a1b4167d1d1ce4",
   "outputs": [
    {
     "name": "stdout",
     "output_type": "stream",
     "text": [
      "highest\n",
      "Not Available      6.374194\n",
      "Primary            0.645161\n",
      "Upper Secondary    2.193548\n",
      "Tertiary           4.670968\n",
      "Undergraduate      2.554839\n",
      "Postgraduate       7.380645\n",
      "Name: highest, dtype: float64\n"
     ]
    }
   ],
   "execution_count": 85
  },
  {
   "metadata": {},
   "cell_type": "markdown",
   "source": "#### 7.4.3  Sense of belongin across different parental origins and Education Level - Some",
   "id": "ec10dfaf1a20dd2d"
  },
  {
   "metadata": {
    "ExecuteTime": {
     "end_time": "2025-03-23T20:07:35.430750Z",
     "start_time": "2025-03-23T20:07:35.412304Z"
    }
   },
   "cell_type": "code",
   "source": [
    "grouped_per, total_per =  utils.getPercentageOfSenseOfBelonging(df, \"Some\", \"Parental_Origin\" )\n",
    "grouped_per, total_per =  utils.getPercentageOfSenseOfBelonging(df, \"Some\", \"highest\" )"
   ],
   "id": "c7f15f9caaf5339e",
   "outputs": [],
   "execution_count": 86
  },
  {
   "metadata": {},
   "cell_type": "markdown",
   "source": "#### 7.4.2.1  Percentage statistics",
   "id": "db842dedc2a27b2c"
  },
  {
   "metadata": {
    "ExecuteTime": {
     "end_time": "2025-03-23T20:07:35.471327Z",
     "start_time": "2025-03-23T20:07:35.451391Z"
    }
   },
   "cell_type": "code",
   "source": "grouped_per * 100",
   "id": "609bc4396520b388",
   "outputs": [
    {
     "data": {
      "text/plain": [
       "highest\n",
       "Not Available      31.624758\n",
       "Primary             3.529981\n",
       "Upper Secondary     9.912959\n",
       "Tertiary           21.179884\n",
       "Undergraduate      11.170213\n",
       "Postgraduate       22.582205\n",
       "Name: highest, dtype: float64"
      ]
     },
     "execution_count": 87,
     "metadata": {},
     "output_type": "execute_result"
    }
   ],
   "execution_count": 87
  },
  {
   "metadata": {
    "ExecuteTime": {
     "end_time": "2025-03-23T20:07:35.634404Z",
     "start_time": "2025-03-23T20:07:35.623794Z"
    }
   },
   "cell_type": "code",
   "source": "grouped_per_edu * 100",
   "id": "439a907a81e3013c",
   "outputs": [
    {
     "data": {
      "text/plain": [
       "highest\n",
       "Not Available      26.760563\n",
       "Primary             2.708559\n",
       "Upper Secondary     9.209101\n",
       "Tertiary           19.609967\n",
       "Undergraduate      10.725894\n",
       "Postgraduate       30.985915\n",
       "Name: highest, dtype: float64"
      ]
     },
     "execution_count": 88,
     "metadata": {},
     "output_type": "execute_result"
    }
   ],
   "execution_count": 88
  },
  {
   "metadata": {
    "ExecuteTime": {
     "end_time": "2025-03-23T20:07:35.704112Z",
     "start_time": "2025-03-23T20:07:35.693568Z"
    }
   },
   "cell_type": "code",
   "source": "total_per * 100",
   "id": "2a6969fa92dc9c86",
   "outputs": [
    {
     "data": {
      "text/plain": [
       "highest\n",
       "Not Available      16.877419\n",
       "Primary             1.883871\n",
       "Upper Secondary     5.290323\n",
       "Tertiary           11.303226\n",
       "Undergraduate       5.961290\n",
       "Postgraduate       12.051613\n",
       "Name: highest, dtype: float64"
      ]
     },
     "execution_count": 89,
     "metadata": {},
     "output_type": "execute_result"
    }
   ],
   "execution_count": 89
  },
  {
   "metadata": {
    "ExecuteTime": {
     "end_time": "2025-03-23T20:07:35.839544Z",
     "start_time": "2025-03-23T20:07:35.827471Z"
    }
   },
   "cell_type": "code",
   "source": "total_per_edu * 100",
   "id": "c0e5163f52124b90",
   "outputs": [
    {
     "data": {
      "text/plain": [
       "highest\n",
       "Not Available      6.374194\n",
       "Primary            0.645161\n",
       "Upper Secondary    2.193548\n",
       "Tertiary           4.670968\n",
       "Undergraduate      2.554839\n",
       "Postgraduate       7.380645\n",
       "Name: highest, dtype: float64"
      ]
     },
     "execution_count": 90,
     "metadata": {},
     "output_type": "execute_result"
    }
   ],
   "execution_count": 90
  },
  {
   "metadata": {
    "ExecuteTime": {
     "end_time": "2025-03-23T20:07:35.950636Z",
     "start_time": "2025-03-23T20:07:35.943742Z"
    }
   },
   "cell_type": "code",
   "source": "",
   "id": "ac5427e6198a6b97",
   "outputs": [],
   "execution_count": null
  },
  {
   "metadata": {},
   "cell_type": "markdown",
   "source": "#### 7.4.3  Sense of belongin across different parental origins and Education Level - Little",
   "id": "df1e10fb66ac27c7"
  },
  {
   "metadata": {
    "ExecuteTime": {
     "end_time": "2025-03-23T20:07:36.087159Z",
     "start_time": "2025-03-23T20:07:36.067177Z"
    }
   },
   "cell_type": "code",
   "source": [
    "grouped_per, total_per =  utils.getPercentageOfSenseOfBelonging(df, \"Little\", \"Parental_Origin\" )\n",
    "grouped_per_edu, total_per_edu =  utils.getPercentageOfSenseOfBelonging(df, \"Little\", \"highest\" )"
   ],
   "id": "60849df08a2802bc",
   "outputs": [],
   "execution_count": 91
  },
  {
   "metadata": {},
   "cell_type": "markdown",
   "source": "#### 7.4.2.1  Percentage statistics",
   "id": "4d6b1cb72ea49629"
  },
  {
   "metadata": {
    "ExecuteTime": {
     "end_time": "2025-03-23T20:07:36.169423Z",
     "start_time": "2025-03-23T20:07:36.157294Z"
    }
   },
   "cell_type": "code",
   "source": "grouped_per * 100",
   "id": "9dfeddcb48c042cf",
   "outputs": [
    {
     "data": {
      "text/plain": [
       "Parental_Origin\n",
       "All Foreign     24.773756\n",
       "All Native      59.276018\n",
       "At least One    14.819005\n",
       "NA               1.131222\n",
       "Name: Parental_Origin, dtype: float64"
      ]
     },
     "execution_count": 92,
     "metadata": {},
     "output_type": "execute_result"
    }
   ],
   "execution_count": 92
  },
  {
   "metadata": {
    "ExecuteTime": {
     "end_time": "2025-03-23T20:07:36.283585Z",
     "start_time": "2025-03-23T20:07:36.270721Z"
    }
   },
   "cell_type": "code",
   "source": "grouped_per_edu * 100",
   "id": "c248dd4cabc5dc45",
   "outputs": [
    {
     "data": {
      "text/plain": [
       "highest\n",
       "Not Available      31.674208\n",
       "Primary             5.656109\n",
       "Upper Secondary    11.651584\n",
       "Tertiary           17.647059\n",
       "Undergraduate       9.954751\n",
       "Postgraduate       23.416290\n",
       "Name: highest, dtype: float64"
      ]
     },
     "execution_count": 93,
     "metadata": {},
     "output_type": "execute_result"
    }
   ],
   "execution_count": 93
  },
  {
   "metadata": {
    "ExecuteTime": {
     "end_time": "2025-03-23T20:07:36.350406Z",
     "start_time": "2025-03-23T20:07:36.338794Z"
    }
   },
   "cell_type": "code",
   "source": "print(total_per * 100)",
   "id": "82c4020c468aedfc",
   "outputs": [
    {
     "name": "stdout",
     "output_type": "stream",
     "text": [
      "Parental_Origin\n",
      "All Foreign      5.651613\n",
      "All Native      13.522581\n",
      "At least One     3.380645\n",
      "NA               0.258065\n",
      "Name: Parental_Origin, dtype: float64\n"
     ]
    }
   ],
   "execution_count": 94
  },
  {
   "metadata": {
    "ExecuteTime": {
     "end_time": "2025-03-23T20:07:36.459332Z",
     "start_time": "2025-03-23T20:07:36.449312Z"
    }
   },
   "cell_type": "code",
   "source": [
    "\n",
    "print(total_per_edu * 100)"
   ],
   "id": "4ca4f7ab55d7938f",
   "outputs": [
    {
     "name": "stdout",
     "output_type": "stream",
     "text": [
      "highest\n",
      "Not Available      7.225806\n",
      "Primary            1.290323\n",
      "Upper Secondary    2.658065\n",
      "Tertiary           4.025806\n",
      "Undergraduate      2.270968\n",
      "Postgraduate       5.341935\n",
      "Name: highest, dtype: float64\n"
     ]
    }
   ],
   "execution_count": 95
  },
  {
   "metadata": {},
   "cell_type": "markdown",
   "source": "# Findings",
   "id": "f9610c6880c14838"
  },
  {
   "metadata": {},
   "cell_type": "markdown",
   "source": [
    "The findings paint a clear picture of how parental background and education shape students' experiences in school, from bullying and behavior to confidence and sense of belonging. Students with all native origins are more likely to face frequent bullying and struggle with a low sense of belonging, suggesting they may need additional support to navigate these challenges. On the other hand, students with foreign parental origins or at least one foreign parent tend to experience less bullying and show higher confidence in subjects like maths and science. However, the story isn’t straightforward—students with postgraduate-educated parents, while often more confident academically, are also overrepresented in bullying and low sense of belonging groups.\n",
    "\n",
    "At the same time, students with primary-educated parents stand out for their resilience. They are less likely to be involved in disorderly behavior, bullying, or feelings of low belonging, which could point to stronger community ties or simpler, yet effective, support systems at home. Meanwhile, girls show higher confidence in maths and science compared to boys and others, highlighting the importance of fostering gender-sensitive approaches to education. These patterns remind us that every student’s journey is shaped by a unique mix of family, culture, and personal circumstances."
   ],
   "id": "6030f6febe133206"
  },
  {
   "metadata": {
    "ExecuteTime": {
     "end_time": "2025-03-23T20:07:36.530143Z",
     "start_time": "2025-03-23T20:07:36.524634Z"
    }
   },
   "cell_type": "code",
   "source": "",
   "id": "a700be18b28ae50b",
   "outputs": [],
   "execution_count": null
  }
 ],
 "metadata": {
  "kernelspec": {
   "display_name": "Python 3",
   "language": "python",
   "name": "python3"
  },
  "language_info": {
   "codemirror_mode": {
    "name": "ipython",
    "version": 2
   },
   "file_extension": ".py",
   "mimetype": "text/x-python",
   "name": "python",
   "nbconvert_exporter": "python",
   "pygments_lexer": "ipython2",
   "version": "2.7.6"
  }
 },
 "nbformat": 4,
 "nbformat_minor": 5
}

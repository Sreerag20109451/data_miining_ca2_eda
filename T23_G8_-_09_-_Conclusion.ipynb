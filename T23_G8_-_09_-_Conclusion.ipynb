{
 "cells": [
  {
   "metadata": {},
   "cell_type": "markdown",
   "source": "# Conclusion",
   "id": "e71c59bc3bcd61df"
  },
  {
   "metadata": {},
   "cell_type": "markdown",
   "source": [
    "This EDA has attempted to find answeres for the Research Questions, that have been defined in the introduction. The first RQ was to address the origins of parents and thier educational qualifcations. A data investigation into the RQ reveals that almost 64% of the students have native parents, which followed by all foreign parents and atleast one foreign parent. Although for students, the qualifications for their parents were unavailable. But, those data was used, but not incuded in findings. An investigation into their qualifications reveals that, from the available data, most of the students have at least one parent with a post graduation, followed by tertiary education and a bachelopr.\n",
    "\n",
    "The second RQ focused on the relationship between gender and student scores. That investigation revealed that, boys do well compared to girls in almost all the subjects, except in Chemistry. Except in Chemistry, in all subjects, boys have a greater mean score.  A study into the top performers in each subjects, reveals that, except in Chemistry, its boys who have the most best performances, across all subjects. The mean score of the boys who are in the 90th percentile or above is always greater than that of girls(except in Chemistry). The count of students have been used to study the trends in the last percentile - which reveals that except in Chemistry, the last 11 % are mostly girls in all subjects. This trend also fits for performaces across\n",
    "\n",
    "The third RQ focuses on the Gender and behaviour(including confidence, likeness, clarity, value, disorderly behaviour etc). When it comes to frequent disorderly behaviour boys have more frequent or some disorederly behaviour per each subject, when it comes to overall percentage it is slightly less than that of girls, although 41 % pf girls are not disorderly, mking boys the most disorderly. When it comes to subject likeness, boys, by count and by proportion like maths and science, and girls dislike subjects more than boys. A similiar trend can be seen in confidence, subject likeness, subject clarity also. But when it comes value science, and environmental preservation, girls value both, and boys do not value them as much as girls.\n",
    "\n",
    "The investigation into the fourth RQ reveals that students who have all foreign parents, or at least one foreign parent consistently outperforms students wth native parents across subjects.  Students with all foreign parental origins or at least one foreign parent consistently outperform their peers across all subjects, even among the lowest achievers. For example, in the top 11%, students with all foreign origins scored highest in science (669.001), while in the last 11%, they still led (415.344). Overall, students with at least one foreign parent achieved the highest mean scores (e.g., 560.511 in science, 547.028 in math). Across all performance levels, students with undergraduate-educated parents consistently achieved the highest scores, followed by those with postgraduate-educated parents. For instance, in the top 11%, undergraduate-educated parents' children scored highest in math (666.539), while in the last 11%, they still led (427.255). Overall, students with primary-educated parents consistently scored the lowest, highlighting the strong correlation between higher parental education and better academic performance. This trend underscores the importance of parental education in fostering academic success, regardless of whether students are high or low achievers.\n",
    "\n",
    "RQ5 addresses the student behavior and the backgrounds. A deep dive into bullying reveals that, it is students with native parents more likely to get bullied and have low sense of belonging to school, compared to the students having foregin parents. Although the highest of weekly bullying on below 5 %, monthly  bullying  percentage is as high as 15 % for students with native parents. Although are no other significant trends in bullying, or sense of belonging with parents education. Although native students are more disoredely in classes, there is no significant trend to be found with bakground and student confidence. Students with native leads in confidence and in low confidence. A similar trend can also be seen in disorderly behaviour as well\n",
    "\n",
    "RQ6 addesses background and facilities, and the analysis highlights significant associations between parents' highest education and key variables. Parents' education level strongly influences whether students share a computer, have their own room, and the number of books at home, with p-values indicating highly significant relationships. However, no significant association was found with owning a computer or a smartphone, suggesting these resources are more universally accessible.\n",
    "\n",
    "Breaking down the percentage of best living conditions, 38% of students with all native parents enjoy the best living conditions, compared to 10% with all foreign parents and 9% with at least one foreign parent. Among parents' education levels, postgraduate-educated parents (16.6%) and those with tertiary education (12.3%) contribute the most to students with the best living conditions, while primary-educated parents (1.6%) have the smallest share.\n",
    "\n",
    "Although this EDA attempts a deep dive into few of questions related to the student experience in Ireland. Its not enough, there are many unknown and unavailable data that have hindered the process of an efficient EDA, also, there are many unambigous variables as well. Although, this EDA provided valuable insights into the factors influencing student performance and behavior, but it also highlighted several limitations. One major challenge was the presence of missing data, particularly in parental education and background information. Dropping these rows reduced the dataset size and may have introduced bias, limiting the depth of the analysis. Additionally, some variables, such as \"Disorderly Behavior\" and \"Sense of Belonging,\" were subjective and lacked clear definitions, making it difficult to draw concrete conclusions. The dataset also had limited representation of non-binary or \"Other\" gender categories, leaving gaps in understanding the experiences of all students. Furthermore, while correlations were identified—such as the link between higher parental education and better academic performance—the analysis could not establish causation. These limitations underscore the need for more comprehensive and detailed data to fully understand the complexities of student experiences.\n",
    "\n",
    "To move forward, there are several ways we can build on this work. Instead of dropping missing data, we could fill in the gaps using statistical techniques to keep the dataset robust and representative. Gathering more detailed information—like family income, school resources, or even after-school activities—would help paint a fuller picture of what students are going through. We could also dig deeper into behaviors like bullying or sense of belonging by using surveys or interviews to get clearer, more personal insights. Tracking students over time would let us see how factors like parental background or access to resources play out in the long run. And by using more advanced methods, we could move beyond just spotting patterns to figuring out what actually drives success or struggle. By tackling these challenges, we can work toward a school system where every student, no matter their background, has the support they need to thrive.\n",
    "\n",
    "\n",
    "\n"
   ],
   "id": "bffc9bc687918f65"
  },
  {
   "metadata": {},
   "cell_type": "code",
   "outputs": [],
   "execution_count": null,
   "source": "",
   "id": "ca7b52ff757d548f"
  }
 ],
 "metadata": {
  "kernelspec": {
   "display_name": "Python 3",
   "language": "python",
   "name": "python3"
  },
  "language_info": {
   "codemirror_mode": {
    "name": "ipython",
    "version": 2
   },
   "file_extension": ".py",
   "mimetype": "text/x-python",
   "name": "python",
   "nbconvert_exporter": "python",
   "pygments_lexer": "ipython2",
   "version": "2.7.6"
  }
 },
 "nbformat": 4,
 "nbformat_minor": 5
}

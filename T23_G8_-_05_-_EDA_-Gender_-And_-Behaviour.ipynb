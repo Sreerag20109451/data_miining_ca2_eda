{
 "cells": [
  {
   "metadata": {},
   "cell_type": "markdown",
   "source": "# 5. Gender and Behaviour",
   "id": "2a4a1ffc433fa4ce"
  },
  {
   "metadata": {
    "ExecuteTime": {
     "end_time": "2025-03-22T10:58:07.303252Z",
     "start_time": "2025-03-22T10:58:07.119391Z"
    }
   },
   "cell_type": "code",
   "source": [
    "from sys import dont_write_bytecode\n",
    "\n",
    "import pandas as pd\n",
    "import numpy as np\n",
    "import  seaborn as sns\n",
    "import matplotlib.pyplot as plt\n",
    "import utilityFunctions.genderStats as utils"
   ],
   "id": "f2fbb5daea9d14",
   "outputs": [],
   "execution_count": 1
  },
  {
   "metadata": {
    "ExecuteTime": {
     "end_time": "2025-03-22T10:58:07.420954Z",
     "start_time": "2025-03-22T10:58:07.340554Z"
    }
   },
   "cell_type": "code",
   "source": [
    "df = pd.read_feather(\"./data/changed_books_home.feather\")\n",
    "df.info()"
   ],
   "id": "cc38ef568eb47712",
   "outputs": [
    {
     "name": "stdout",
     "output_type": "stream",
     "text": [
      "<class 'pandas.core.frame.DataFrame'>\n",
      "Index: 3875 entries, 0 to 5089\n",
      "Data columns (total 58 columns):\n",
      " #   Column                                        Non-Null Count  Dtype   \n",
      "---  ------                                        --------------  -----   \n",
      " 0   Gender_Student                                3875 non-null   category\n",
      " 1   Lang_Spoken_Home                              3875 non-null   category\n",
      " 2   Books_Home                                    3875 non-null   category\n",
      " 3   Own_Computer                                  3875 non-null   category\n",
      " 4   Shared_Computer                               3875 non-null   category\n",
      " 5   Smartphone                                    3875 non-null   category\n",
      " 6   Internet_Access                               3875 non-null   category\n",
      " 7   Study_Desk                                    3875 non-null   category\n",
      " 8   Own_Room                                      3875 non-null   category\n",
      " 9   ParentA_Edu_Level                             3875 non-null   category\n",
      " 10  ParentB_Edu_Level                             3875 non-null   category\n",
      " 11  Education_Expectation                         3875 non-null   category\n",
      " 12  ParentA_Born_Country                          3875 non-null   category\n",
      " 13  ParentB_Born_Country                          3875 non-null   category\n",
      " 14  1ST_PV_MATHEMATICS                            3875 non-null   float64 \n",
      " 15  2ND_PV_MATHEMATICS                            3875 non-null   float64 \n",
      " 16  3RD_PV_MATHEMATICS                            3875 non-null   float64 \n",
      " 17  4TH_PV_MATHEMATICS                            3875 non-null   float64 \n",
      " 18  5TH_PV_MATHEMATICS                            3875 non-null   float64 \n",
      " 19  1ST_PV_SCIENCE                                3875 non-null   float64 \n",
      " 20  2ND_PV_SCIENCE                                3875 non-null   float64 \n",
      " 21  3RD_PV_SCIENCE                                3875 non-null   float64 \n",
      " 22  4TH_PV_SCIENCE                                3875 non-null   float64 \n",
      " 23  5TH_PV_SCIENCE                                3875 non-null   float64 \n",
      " 24  1ST_PV_BIOLOGY                                3875 non-null   float64 \n",
      " 25  2ND_PV_BIOLOGY                                3875 non-null   float64 \n",
      " 26  3RD_PV_BIOLOGY                                3875 non-null   float64 \n",
      " 27  4TH_PV_BIOLOGY                                3875 non-null   float64 \n",
      " 28  5TH_PV_BIOLOGY                                3875 non-null   float64 \n",
      " 29  1ST_PV_CHEMISTRY                              3875 non-null   float64 \n",
      " 30  2ND_PV_CHEMISTRY                              3875 non-null   float64 \n",
      " 31  3RD_PV_CHEMISTRY                              3875 non-null   float64 \n",
      " 32  4TH_PV_CHEMISTRY                              3875 non-null   float64 \n",
      " 33  5TH_PV_CHEMISTRY                              3875 non-null   float64 \n",
      " 34  1ST_PV_PHYSICS                                3875 non-null   float64 \n",
      " 35  2ND_PV PHYSICS                                3875 non-null   float64 \n",
      " 36  3RD_PV_PHYSICS                                3875 non-null   float64 \n",
      " 37  4TH_PV_PHYSICS                                3875 non-null   float64 \n",
      " 38  5TH_PV_PHYSICS                                3875 non-null   float64 \n",
      " 39  1ST_PV_EARTH_SCIENCE                          3875 non-null   float64 \n",
      " 40  2ND_PV_EARTH_SCIENCE                          3875 non-null   float64 \n",
      " 41  3RD_PV_EARTH_SCIENCE                          3875 non-null   float64 \n",
      " 42  4TH_PV_EARTH_SCIENCE                          3875 non-null   float64 \n",
      " 43  5TH_PV_EARTH_SCIENCE                          3875 non-null   float64 \n",
      " 44  Sense_of_School_Belonging                     3875 non-null   category\n",
      " 45  Student_Bullying                              3875 non-null   category\n",
      " 46  Students_Like_Learning_Mathematics            3875 non-null   category\n",
      " 47  Instructional_Clarity_in_Mathematics_Lessons  3875 non-null   category\n",
      " 48  Disorderly_Behavior_during_Math_Lessons       3875 non-null   category\n",
      " 49  Students_Confident_in_Mathematics             3875 non-null   category\n",
      " 50  Students_Value_Mathematics                    3875 non-null   category\n",
      " 51  Students_Like_Learning_Science                3875 non-null   category\n",
      " 52  Instructional_Clarity_in_Science_Lessons      3875 non-null   category\n",
      " 53  Students_Confident_in_Science                 3875 non-null   category\n",
      " 54  Students_Value_Science                        3875 non-null   category\n",
      " 55  Digital_Self_Efficacy                         3875 non-null   category\n",
      " 56  Disorderly_Behavior_during_Science_Lessons    3875 non-null   category\n",
      " 57  Students_Value_Environmental_Preservation     3875 non-null   category\n",
      "dtypes: category(28), float64(30)\n",
      "memory usage: 1.0 MB\n"
     ]
    }
   ],
   "execution_count": 2
  },
  {
   "metadata": {},
   "cell_type": "markdown",
   "source": "# 5.1 Disorderly Behaviour and Gender",
   "id": "9ebbd468ee4160d9"
  },
  {
   "metadata": {
    "ExecuteTime": {
     "end_time": "2025-03-22T10:58:07.786984Z",
     "start_time": "2025-03-22T10:58:07.756978Z"
    }
   },
   "cell_type": "code",
   "source": [
    "disorderly_mask = df.columns.str.contains(\"Disorderly\")\n",
    "df[df.columns[disorderly_mask]].value_counts()"
   ],
   "id": "21d940a58679dfb5",
   "outputs": [
    {
     "data": {
      "text/plain": [
       "Disorderly_Behavior_during_Math_Lessons  Disorderly_Behavior_during_Science_Lessons\n",
       "Some Lessons                             Some Lessons                                  1248\n",
       "Few or No Lessons                        Few or No Lessons                              809\n",
       "Some Lessons                             Few or No Lessons                              649\n",
       "Few or No Lessons                        Some Lessons                                   571\n",
       "Most Lessons                             Some Lessons                                   185\n",
       "Some Lessons                             Most Lessons                                   162\n",
       "Most Lessons                             Most Lessons                                   106\n",
       "                                         Few or No Lessons                               84\n",
       "Few or No Lessons                        Most Lessons                                    61\n",
       "Name: count, dtype: int64"
      ]
     },
     "execution_count": 3,
     "metadata": {},
     "output_type": "execute_result"
    }
   ],
   "execution_count": 3
  },
  {
   "metadata": {
    "ExecuteTime": {
     "end_time": "2025-03-22T10:58:07.911433Z",
     "start_time": "2025-03-22T10:58:07.889557Z"
    }
   },
   "cell_type": "code",
   "source": [
    "df[\"Disorderly_Behavior_during_Math_Lessons\"] = df[\"Disorderly_Behavior_during_Math_Lessons\"].apply(lambda x: \"Few Lessons\" if \"Few\" in str(x) else x )\n",
    "df[\"Disorderly_Behavior_during_Math_Lessons\"] = df[\"Disorderly_Behavior_during_Math_Lessons\"].apply(lambda x: \"Most Lessons\" if \"Most\" in str(x) else x )\n",
    "df[\"Disorderly_Behavior_during_Math_Lessons\"] = df[\"Disorderly_Behavior_during_Math_Lessons\"].apply(lambda x: \"Some Lessons\" if \"Some\" in str(x) else x )\n",
    "df[\"Disorderly_Behavior_during_Math_Lessons\"].value_counts()"
   ],
   "id": "be7e404c62dfd9b2",
   "outputs": [
    {
     "data": {
      "text/plain": [
       "Disorderly_Behavior_during_Math_Lessons\n",
       "Some Lessons    2059\n",
       "Few Lessons     1441\n",
       "Most Lessons     375\n",
       "Name: count, dtype: int64"
      ]
     },
     "execution_count": 4,
     "metadata": {},
     "output_type": "execute_result"
    }
   ],
   "execution_count": 4
  },
  {
   "metadata": {
    "ExecuteTime": {
     "end_time": "2025-03-22T10:58:08.023547Z",
     "start_time": "2025-03-22T10:58:08.016061Z"
    }
   },
   "cell_type": "code",
   "source": [
    "df[\"Disorderly_Behavior_during_Math_Lessons\"]  = pd.Categorical(df[\"Disorderly_Behavior_during_Math_Lessons\"] ,ordered=True, categories=[\"Few Lessons\", \"Some Lessons\", \"Most Lessons\"])\n",
    "\n"
   ],
   "id": "2c49dc13f380f81",
   "outputs": [],
   "execution_count": 5
  },
  {
   "metadata": {
    "ExecuteTime": {
     "end_time": "2025-03-22T10:58:08.316180Z",
     "start_time": "2025-03-22T10:58:08.295418Z"
    }
   },
   "cell_type": "code",
   "source": [
    "df[\"Disorderly_Behavior_during_Science_Lessons\"] = df[\"Disorderly_Behavior_during_Science_Lessons\"].apply(lambda x: \"Few Lessons\" if \"Few\" in str(x) else x )\n",
    "df[\"Disorderly_Behavior_during_Science_Lessons\"] = df[\"Disorderly_Behavior_during_Science_Lessons\"].apply(lambda x: \"Most Lessons\" if \"Most\" in str(x) else x )\n",
    "df[\"Disorderly_Behavior_during_Science_Lessons\"] = df[\"Disorderly_Behavior_during_Science_Lessons\"].apply(lambda x: \"Some Lessons\" if \"Some\" in str(x) else x )\n",
    "df[\"Disorderly_Behavior_during_Science_Lessons\"].value_counts()"
   ],
   "id": "525c838b280d2579",
   "outputs": [
    {
     "data": {
      "text/plain": [
       "Disorderly_Behavior_during_Science_Lessons\n",
       "Some Lessons    2004\n",
       "Few Lessons     1542\n",
       "Most Lessons     329\n",
       "Name: count, dtype: int64"
      ]
     },
     "execution_count": 6,
     "metadata": {},
     "output_type": "execute_result"
    }
   ],
   "execution_count": 6
  },
  {
   "metadata": {
    "ExecuteTime": {
     "end_time": "2025-03-22T10:58:08.465230Z",
     "start_time": "2025-03-22T10:58:08.459277Z"
    }
   },
   "cell_type": "code",
   "source": [
    "df[\"Disorderly_Behavior_during_Science_Lessons\"]  = pd.Categorical(df[\"Disorderly_Behavior_during_Math_Lessons\"] ,ordered=True, categories=[\"Few Lessons\", \"Some Lessons\", \"Most Lessons\"])\n",
    "\n"
   ],
   "id": "e93c6756d41f1aa",
   "outputs": [],
   "execution_count": 7
  },
  {
   "metadata": {},
   "cell_type": "markdown",
   "source": "### 5.1.1 Gender and Disorderly Behaviour in Math Classes",
   "id": "e687ee50b2e35fe3"
  },
  {
   "metadata": {},
   "cell_type": "markdown",
   "source": "#### 5.1.1.1 Gender wise distribution of Pupils having frequent disorderly behaviour",
   "id": "bf0c40f4f1e3d632"
  },
  {
   "metadata": {
    "ExecuteTime": {
     "end_time": "2025-03-22T10:58:09.027212Z",
     "start_time": "2025-03-22T10:58:08.695075Z"
    }
   },
   "cell_type": "code",
   "source": [
    "maths_filterd, math_grouped = utils.getDisorderlyBehaviourPerGender(df, \"Math\", \"Most\")\n",
    "math_grouped.describe()"
   ],
   "id": "cb4a886286511c0c",
   "outputs": [
    {
     "data": {
      "text/plain": [
       "<Figure size 1000x600 with 2 Axes>"
      ],
      "image/png": "[encoded data removed]"
     },
     "metadata": {},
     "output_type": "display_data"
    },
    {
     "data": {
      "text/plain": [
       "               count unique     top freq\n",
       "Gender_Student                          \n",
       "Others            18      1  Others   18\n",
       "Boy              181      1     Boy  181\n",
       "Girl             176      1    Girl  176"
      ],
      "text/html": [
       "<div>\n",
       "<style scoped>\n",
       "    .dataframe tbody tr th:only-of-type {\n",
       "        vertical-align: middle;\n",
       "    }\n",
       "\n",
       "    .dataframe tbody tr th {\n",
       "        vertical-align: top;\n",
       "    }\n",
       "\n",
       "    .dataframe thead th {\n",
       "        text-align: right;\n",
       "    }\n",
       "</style>\n",
       "<table border=\"1\" class=\"dataframe\">\n",
       "  <thead>\n",
       "    <tr style=\"text-align: right;\">\n",
       "      <th></th>\n",
       "      <th>count</th>\n",
       "      <th>unique</th>\n",
       "      <th>top</th>\n",
       "      <th>freq</th>\n",
       "    </tr>\n",
       "    <tr>\n",
       "      <th>Gender_Student</th>\n",
       "      <th></th>\n",
       "      <th></th>\n",
       "      <th></th>\n",
       "      <th></th>\n",
       "    </tr>\n",
       "  </thead>\n",
       "  <tbody>\n",
       "    <tr>\n",
       "      <th>Others</th>\n",
       "      <td>18</td>\n",
       "      <td>1</td>\n",
       "      <td>Others</td>\n",
       "      <td>18</td>\n",
       "    </tr>\n",
       "    <tr>\n",
       "      <th>Boy</th>\n",
       "      <td>181</td>\n",
       "      <td>1</td>\n",
       "      <td>Boy</td>\n",
       "      <td>181</td>\n",
       "    </tr>\n",
       "    <tr>\n",
       "      <th>Girl</th>\n",
       "      <td>176</td>\n",
       "      <td>1</td>\n",
       "      <td>Girl</td>\n",
       "      <td>176</td>\n",
       "    </tr>\n",
       "  </tbody>\n",
       "</table>\n",
       "</div>"
      ]
     },
     "execution_count": 8,
     "metadata": {},
     "output_type": "execute_result"
    }
   ],
   "execution_count": 8
  },
  {
   "metadata": {},
   "cell_type": "markdown",
   "source": "#### 5.1.1.2 Gender wise distribution of Pupils having some disorderly behaviour",
   "id": "a9e5d766e4b2e034"
  },
  {
   "metadata": {
    "ExecuteTime": {
     "end_time": "2025-03-22T10:58:11.413475Z",
     "start_time": "2025-03-22T10:58:11.090737Z"
    }
   },
   "cell_type": "code",
   "source": [
    "maths_filterd, math_grouped = utils.getDisorderlyBehaviourPerGender(df, \"Math\", \"Some\")\n",
    "math_grouped.describe()"
   ],
   "id": "59a1ba0b8099c27b",
   "outputs": [
    {
     "data": {
      "text/plain": [
       "<Figure size 1000x600 with 2 Axes>"
      ],
      "image/png": "[encoded data removed]"
     },
     "metadata": {},
     "output_type": "display_data"
    },
    {
     "data": {
      "text/plain": [
       "               count unique     top  freq\n",
       "Gender_Student                           \n",
       "Others            67      1  Others    67\n",
       "Boy             1085      1     Boy  1085\n",
       "Girl             907      1    Girl   907"
      ],
      "text/html": [
       "<div>\n",
       "<style scoped>\n",
       "    .dataframe tbody tr th:only-of-type {\n",
       "        vertical-align: middle;\n",
       "    }\n",
       "\n",
       "    .dataframe tbody tr th {\n",
       "        vertical-align: top;\n",
       "    }\n",
       "\n",
       "    .dataframe thead th {\n",
       "        text-align: right;\n",
       "    }\n",
       "</style>\n",
       "<table border=\"1\" class=\"dataframe\">\n",
       "  <thead>\n",
       "    <tr style=\"text-align: right;\">\n",
       "      <th></th>\n",
       "      <th>count</th>\n",
       "      <th>unique</th>\n",
       "      <th>top</th>\n",
       "      <th>freq</th>\n",
       "    </tr>\n",
       "    <tr>\n",
       "      <th>Gender_Student</th>\n",
       "      <th></th>\n",
       "      <th></th>\n",
       "      <th></th>\n",
       "      <th></th>\n",
       "    </tr>\n",
       "  </thead>\n",
       "  <tbody>\n",
       "    <tr>\n",
       "      <th>Others</th>\n",
       "      <td>67</td>\n",
       "      <td>1</td>\n",
       "      <td>Others</td>\n",
       "      <td>67</td>\n",
       "    </tr>\n",
       "    <tr>\n",
       "      <th>Boy</th>\n",
       "      <td>1085</td>\n",
       "      <td>1</td>\n",
       "      <td>Boy</td>\n",
       "      <td>1085</td>\n",
       "    </tr>\n",
       "    <tr>\n",
       "      <th>Girl</th>\n",
       "      <td>907</td>\n",
       "      <td>1</td>\n",
       "      <td>Girl</td>\n",
       "      <td>907</td>\n",
       "    </tr>\n",
       "  </tbody>\n",
       "</table>\n",
       "</div>"
      ]
     },
     "execution_count": 9,
     "metadata": {},
     "output_type": "execute_result"
    }
   ],
   "execution_count": 9
  },
  {
   "metadata": {},
   "cell_type": "markdown",
   "source": "#### 5.1.1.3 Gender wise distribution of Pupils having few disorderly behaviour",
   "id": "7f264e00c76caaf6"
  },
  {
   "metadata": {
    "ExecuteTime": {
     "end_time": "2025-03-22T10:58:12.378872Z",
     "start_time": "2025-03-22T10:58:11.766066Z"
    }
   },
   "cell_type": "code",
   "source": [
    "maths_filterd, math_grouped = utils.getDisorderlyBehaviourPerGender(df, \"Math\", \"Few\")\n",
    "math_grouped.describe()"
   ],
   "id": "f9b47a00ab34460e",
   "outputs": [
    {
     "data": {
      "text/plain": [
       "<Figure size 1000x600 with 2 Axes>"
      ],
      "image/png": "[encoded data removed]"
     },
     "metadata": {},
     "output_type": "display_data"
    },
    {
     "data": {
      "text/plain": [
       "               count unique     top freq\n",
       "Gender_Student                          \n",
       "Others            29      1  Others   29\n",
       "Boy              656      1     Boy  656\n",
       "Girl             756      1    Girl  756"
      ],
      "text/html": [
       "<div>\n",
       "<style scoped>\n",
       "    .dataframe tbody tr th:only-of-type {\n",
       "        vertical-align: middle;\n",
       "    }\n",
       "\n",
       "    .dataframe tbody tr th {\n",
       "        vertical-align: top;\n",
       "    }\n",
       "\n",
       "    .dataframe thead th {\n",
       "        text-align: right;\n",
       "    }\n",
       "</style>\n",
       "<table border=\"1\" class=\"dataframe\">\n",
       "  <thead>\n",
       "    <tr style=\"text-align: right;\">\n",
       "      <th></th>\n",
       "      <th>count</th>\n",
       "      <th>unique</th>\n",
       "      <th>top</th>\n",
       "      <th>freq</th>\n",
       "    </tr>\n",
       "    <tr>\n",
       "      <th>Gender_Student</th>\n",
       "      <th></th>\n",
       "      <th></th>\n",
       "      <th></th>\n",
       "      <th></th>\n",
       "    </tr>\n",
       "  </thead>\n",
       "  <tbody>\n",
       "    <tr>\n",
       "      <th>Others</th>\n",
       "      <td>29</td>\n",
       "      <td>1</td>\n",
       "      <td>Others</td>\n",
       "      <td>29</td>\n",
       "    </tr>\n",
       "    <tr>\n",
       "      <th>Boy</th>\n",
       "      <td>656</td>\n",
       "      <td>1</td>\n",
       "      <td>Boy</td>\n",
       "      <td>656</td>\n",
       "    </tr>\n",
       "    <tr>\n",
       "      <th>Girl</th>\n",
       "      <td>756</td>\n",
       "      <td>1</td>\n",
       "      <td>Girl</td>\n",
       "      <td>756</td>\n",
       "    </tr>\n",
       "  </tbody>\n",
       "</table>\n",
       "</div>"
      ]
     },
     "execution_count": 10,
     "metadata": {},
     "output_type": "execute_result"
    }
   ],
   "execution_count": 10
  },
  {
   "metadata": {},
   "cell_type": "markdown",
   "source": "### 5.1.2 Gender and Disorderly Behaviour in Science Classes",
   "id": "ccd73124f079bec"
  },
  {
   "metadata": {},
   "cell_type": "markdown",
   "source": "#### 5.1.2.1 Gender wise distribution of Pupils having frequent disorderly behaviour",
   "id": "e748b4623133f267"
  },
  {
   "metadata": {
    "ExecuteTime": {
     "end_time": "2025-03-22T10:58:13.078313Z",
     "start_time": "2025-03-22T10:58:12.584271Z"
    }
   },
   "cell_type": "code",
   "source": [
    "maths_filterd, math_grouped = utils.getDisorderlyBehaviourPerGender(df, \"Math\", \"Most\")\n",
    "math_grouped.describe()"
   ],
   "id": "57b8e40f18e3ac94",
   "outputs": [
    {
     "data": {
      "text/plain": [
       "<Figure size 1000x600 with 2 Axes>"
      ],
      "image/png": "[encoded data removed]"
     },
     "metadata": {},
     "output_type": "display_data"
    },
    {
     "data": {
      "text/plain": [
       "               count unique     top freq\n",
       "Gender_Student                          \n",
       "Others            18      1  Others   18\n",
       "Boy              181      1     Boy  181\n",
       "Girl             176      1    Girl  176"
      ],
      "text/html": [
       "<div>\n",
       "<style scoped>\n",
       "    .dataframe tbody tr th:only-of-type {\n",
       "        vertical-align: middle;\n",
       "    }\n",
       "\n",
       "    .dataframe tbody tr th {\n",
       "        vertical-align: top;\n",
       "    }\n",
       "\n",
       "    .dataframe thead th {\n",
       "        text-align: right;\n",
       "    }\n",
       "</style>\n",
       "<table border=\"1\" class=\"dataframe\">\n",
       "  <thead>\n",
       "    <tr style=\"text-align: right;\">\n",
       "      <th></th>\n",
       "      <th>count</th>\n",
       "      <th>unique</th>\n",
       "      <th>top</th>\n",
       "      <th>freq</th>\n",
       "    </tr>\n",
       "    <tr>\n",
       "      <th>Gender_Student</th>\n",
       "      <th></th>\n",
       "      <th></th>\n",
       "      <th></th>\n",
       "      <th></th>\n",
       "    </tr>\n",
       "  </thead>\n",
       "  <tbody>\n",
       "    <tr>\n",
       "      <th>Others</th>\n",
       "      <td>18</td>\n",
       "      <td>1</td>\n",
       "      <td>Others</td>\n",
       "      <td>18</td>\n",
       "    </tr>\n",
       "    <tr>\n",
       "      <th>Boy</th>\n",
       "      <td>181</td>\n",
       "      <td>1</td>\n",
       "      <td>Boy</td>\n",
       "      <td>181</td>\n",
       "    </tr>\n",
       "    <tr>\n",
       "      <th>Girl</th>\n",
       "      <td>176</td>\n",
       "      <td>1</td>\n",
       "      <td>Girl</td>\n",
       "      <td>176</td>\n",
       "    </tr>\n",
       "  </tbody>\n",
       "</table>\n",
       "</div>"
      ]
     },
     "execution_count": 11,
     "metadata": {},
     "output_type": "execute_result"
    }
   ],
   "execution_count": 11
  },
  {
   "metadata": {},
   "cell_type": "markdown",
   "source": "#### 5.1.2.2 Gender wise distribution of Pupils having some disorderly behaviour",
   "id": "a85b7b85174080fc"
  },
  {
   "metadata": {
    "ExecuteTime": {
     "end_time": "2025-03-22T10:58:13.782225Z",
     "start_time": "2025-03-22T10:58:13.343504Z"
    }
   },
   "cell_type": "code",
   "source": [
    "maths_filterd, math_grouped = utils.getDisorderlyBehaviourPerGender(df, \"Math\", \"Some\")\n",
    "math_grouped.describe()\n"
   ],
   "id": "a5768b359c76c310",
   "outputs": [
    {
     "data": {
      "text/plain": [
       "<Figure size 1000x600 with 2 Axes>"
      ],
      "image/png": "[encoded data removed]"
     },
     "metadata": {},
     "output_type": "display_data"
    },
    {
     "data": {
      "text/plain": [
       "               count unique     top  freq\n",
       "Gender_Student                           \n",
       "Others            67      1  Others    67\n",
       "Boy             1085      1     Boy  1085\n",
       "Girl             907      1    Girl   907"
      ],
      "text/html": [
       "<div>\n",
       "<style scoped>\n",
       "    .dataframe tbody tr th:only-of-type {\n",
       "        vertical-align: middle;\n",
       "    }\n",
       "\n",
       "    .dataframe tbody tr th {\n",
       "        vertical-align: top;\n",
       "    }\n",
       "\n",
       "    .dataframe thead th {\n",
       "        text-align: right;\n",
       "    }\n",
       "</style>\n",
       "<table border=\"1\" class=\"dataframe\">\n",
       "  <thead>\n",
       "    <tr style=\"text-align: right;\">\n",
       "      <th></th>\n",
       "      <th>count</th>\n",
       "      <th>unique</th>\n",
       "      <th>top</th>\n",
       "      <th>freq</th>\n",
       "    </tr>\n",
       "    <tr>\n",
       "      <th>Gender_Student</th>\n",
       "      <th></th>\n",
       "      <th></th>\n",
       "      <th></th>\n",
       "      <th></th>\n",
       "    </tr>\n",
       "  </thead>\n",
       "  <tbody>\n",
       "    <tr>\n",
       "      <th>Others</th>\n",
       "      <td>67</td>\n",
       "      <td>1</td>\n",
       "      <td>Others</td>\n",
       "      <td>67</td>\n",
       "    </tr>\n",
       "    <tr>\n",
       "      <th>Boy</th>\n",
       "      <td>1085</td>\n",
       "      <td>1</td>\n",
       "      <td>Boy</td>\n",
       "      <td>1085</td>\n",
       "    </tr>\n",
       "    <tr>\n",
       "      <th>Girl</th>\n",
       "      <td>907</td>\n",
       "      <td>1</td>\n",
       "      <td>Girl</td>\n",
       "      <td>907</td>\n",
       "    </tr>\n",
       "  </tbody>\n",
       "</table>\n",
       "</div>"
      ]
     },
     "execution_count": 12,
     "metadata": {},
     "output_type": "execute_result"
    }
   ],
   "execution_count": 12
  },
  {
   "metadata": {},
   "cell_type": "markdown",
   "source": "#### 5.1.2.3 Gender wise distribution of Pupils having few disorderly behaviour",
   "id": "52e354c9ba2e53b1"
  },
  {
   "metadata": {
    "ExecuteTime": {
     "end_time": "2025-03-22T10:58:14.577225Z",
     "start_time": "2025-03-22T10:58:14.111438Z"
    }
   },
   "cell_type": "code",
   "source": [
    "maths_filterd, math_grouped = utils.getDisorderlyBehaviourPerGender(df, \"Math\", \"Few\")\n",
    "math_grouped.describe()"
   ],
   "id": "f7533859e92ee8b",
   "outputs": [
    {
     "data": {
      "text/plain": [
       "<Figure size 1000x600 with 2 Axes>"
      ],
      "image/png": "[encoded data removed]"
     },
     "metadata": {},
     "output_type": "display_data"
    },
    {
     "data": {
      "text/plain": [
       "               count unique     top freq\n",
       "Gender_Student                          \n",
       "Others            29      1  Others   29\n",
       "Boy              656      1     Boy  656\n",
       "Girl             756      1    Girl  756"
      ],
      "text/html": [
       "<div>\n",
       "<style scoped>\n",
       "    .dataframe tbody tr th:only-of-type {\n",
       "        vertical-align: middle;\n",
       "    }\n",
       "\n",
       "    .dataframe tbody tr th {\n",
       "        vertical-align: top;\n",
       "    }\n",
       "\n",
       "    .dataframe thead th {\n",
       "        text-align: right;\n",
       "    }\n",
       "</style>\n",
       "<table border=\"1\" class=\"dataframe\">\n",
       "  <thead>\n",
       "    <tr style=\"text-align: right;\">\n",
       "      <th></th>\n",
       "      <th>count</th>\n",
       "      <th>unique</th>\n",
       "      <th>top</th>\n",
       "      <th>freq</th>\n",
       "    </tr>\n",
       "    <tr>\n",
       "      <th>Gender_Student</th>\n",
       "      <th></th>\n",
       "      <th></th>\n",
       "      <th></th>\n",
       "      <th></th>\n",
       "    </tr>\n",
       "  </thead>\n",
       "  <tbody>\n",
       "    <tr>\n",
       "      <th>Others</th>\n",
       "      <td>29</td>\n",
       "      <td>1</td>\n",
       "      <td>Others</td>\n",
       "      <td>29</td>\n",
       "    </tr>\n",
       "    <tr>\n",
       "      <th>Boy</th>\n",
       "      <td>656</td>\n",
       "      <td>1</td>\n",
       "      <td>Boy</td>\n",
       "      <td>656</td>\n",
       "    </tr>\n",
       "    <tr>\n",
       "      <th>Girl</th>\n",
       "      <td>756</td>\n",
       "      <td>1</td>\n",
       "      <td>Girl</td>\n",
       "      <td>756</td>\n",
       "    </tr>\n",
       "  </tbody>\n",
       "</table>\n",
       "</div>"
      ]
     },
     "execution_count": 13,
     "metadata": {},
     "output_type": "execute_result"
    }
   ],
   "execution_count": 13
  },
  {
   "metadata": {},
   "cell_type": "markdown",
   "source": "### 5.1.3 Gender and  Overall Disorderly Behaviour",
   "id": "3913877d43022d85"
  },
  {
   "metadata": {
    "ExecuteTime": {
     "end_time": "2025-03-22T10:58:14.717377Z",
     "start_time": "2025-03-22T10:58:14.704801Z"
    }
   },
   "cell_type": "code",
   "source": [
    "science_most = df[\"Disorderly_Behavior_during_Science_Lessons\"].str.contains(\"Most\")\n",
    "maths_most = df[\"Disorderly_Behavior_during_Math_Lessons\"].str.contains(\"Most\")\n",
    "science_few = df[\"Disorderly_Behavior_during_Science_Lessons\"].str.contains(\"Few\")\n",
    "maths_few = df[\"Disorderly_Behavior_during_Math_Lessons\"].str.contains(\"Few\")\n",
    "\n"
   ],
   "id": "d37c72f1ca921a6e",
   "outputs": [],
   "execution_count": 14
  },
  {
   "metadata": {},
   "cell_type": "markdown",
   "source": "#### 5.1.3.1 Gender wise distribution of students having frequent disorderly behavior across subjects",
   "id": "6516a876c1852146"
  },
  {
   "metadata": {
    "ExecuteTime": {
     "end_time": "2025-03-22T10:58:15.122846Z",
     "start_time": "2025-03-22T10:58:14.967992Z"
    }
   },
   "cell_type": "code",
   "source": [
    "most_disorderly = df[science_most & maths_most]\n",
    "most_disorderly.describe()\n"
   ],
   "id": "2482714bc2199d7b",
   "outputs": [
    {
     "data": {
      "text/plain": [
       "       1ST_PV_MATHEMATICS  2ND_PV_MATHEMATICS  3RD_PV_MATHEMATICS  \\\n",
       "count          375.000000          375.000000          375.000000   \n",
       "mean           504.957021          507.967439          507.430038   \n",
       "std             72.076804           75.277862           73.323459   \n",
       "min            321.690010          301.721470          323.701920   \n",
       "25%            455.359065          460.015970          452.324495   \n",
       "50%            510.570510          513.028050          512.592640   \n",
       "75%            552.367395          560.164180          559.478110   \n",
       "max            709.089030          740.147210          697.746350   \n",
       "\n",
       "       4TH_PV_MATHEMATICS  5TH_PV_MATHEMATICS  1ST_PV_SCIENCE  2ND_PV_SCIENCE  \\\n",
       "count          375.000000          375.000000      375.000000      375.000000   \n",
       "mean           506.996353          507.643269      517.395550      519.363338   \n",
       "std             73.151227           75.047655       78.341466       82.896807   \n",
       "min            283.797580          285.025620      304.615810      262.684720   \n",
       "25%            458.439780          460.272860      460.427845      460.316145   \n",
       "50%            514.228300          509.982280      521.247920      522.164860   \n",
       "75%            556.733855          554.698950      567.452510      574.304715   \n",
       "max            704.066950          736.804680      741.083230      737.233290   \n",
       "\n",
       "       3RD_PV_SCIENCE  4TH_PV_SCIENCE  5TH_PV_SCIENCE  ...  1ST_PV_PHYSICS  \\\n",
       "count      375.000000      375.000000      375.000000  ...      375.000000   \n",
       "mean       519.677339      521.794787      520.595490  ...      509.783830   \n",
       "std         78.756068       82.635062       81.783305  ...       86.988086   \n",
       "min        317.678650      298.899250      255.672900  ...      248.957430   \n",
       "25%        467.059685      466.915120      474.173365  ...      451.273755   \n",
       "50%        517.497900      523.824920      521.985970  ...      514.241870   \n",
       "75%        576.266705      578.417630      580.651740  ...      568.920210   \n",
       "max        756.094360      732.127710      724.134910  ...      722.006310   \n",
       "\n",
       "       2ND_PV PHYSICS  3RD_PV_PHYSICS  4TH_PV_PHYSICS  5TH_PV_PHYSICS  \\\n",
       "count      375.000000      375.000000      375.000000      375.000000   \n",
       "mean       511.420242      509.598050      515.782013      510.664237   \n",
       "std         85.411559       87.512954       86.914388       85.647555   \n",
       "min        185.838310      265.004520      281.718370      253.137430   \n",
       "25%        450.970075      449.585810      463.156350      451.601355   \n",
       "50%        513.696650      514.089960      517.356810      509.844030   \n",
       "75%        567.967250      565.800475      574.542560      565.450710   \n",
       "max        737.804360      763.923540      727.353860      734.459520   \n",
       "\n",
       "       1ST_PV_EARTH_SCIENCE  2ND_PV_EARTH_SCIENCE  3RD_PV_EARTH_SCIENCE  \\\n",
       "count            375.000000            375.000000            375.000000   \n",
       "mean             529.806046            522.570258            527.288851   \n",
       "std               83.377610             82.414376             82.044059   \n",
       "min              273.892210            235.014930            290.635780   \n",
       "25%              475.857390            468.228840            475.336215   \n",
       "50%              529.096270            528.833000            528.348630   \n",
       "75%              586.140725            579.652880            580.879850   \n",
       "max              738.404110            717.989830            742.065030   \n",
       "\n",
       "       4TH_PV_EARTH_SCIENCE  5TH_PV_EARTH_SCIENCE  \n",
       "count            375.000000            375.000000  \n",
       "mean             524.217921            523.628670  \n",
       "std               82.434559             82.963126  \n",
       "min              210.880330            270.262330  \n",
       "25%              473.000775            469.248200  \n",
       "50%              526.261000            526.473480  \n",
       "75%              579.092665            572.122050  \n",
       "max              718.222080            737.258580  \n",
       "\n",
       "[8 rows x 30 columns]"
      ],
      "text/html": [
       "<div>\n",
       "<style scoped>\n",
       "    .dataframe tbody tr th:only-of-type {\n",
       "        vertical-align: middle;\n",
       "    }\n",
       "\n",
       "    .dataframe tbody tr th {\n",
       "        vertical-align: top;\n",
       "    }\n",
       "\n",
       "    .dataframe thead th {\n",
       "        text-align: right;\n",
       "    }\n",
       "</style>\n",
       "<table border=\"1\" class=\"dataframe\">\n",
       "  <thead>\n",
       "    <tr style=\"text-align: right;\">\n",
       "      <th></th>\n",
       "      <th>1ST_PV_MATHEMATICS</th>\n",
       "      <th>2ND_PV_MATHEMATICS</th>\n",
       "      <th>3RD_PV_MATHEMATICS</th>\n",
       "      <th>4TH_PV_MATHEMATICS</th>\n",
       "      <th>5TH_PV_MATHEMATICS</th>\n",
       "      <th>1ST_PV_SCIENCE</th>\n",
       "      <th>2ND_PV_SCIENCE</th>\n",
       "      <th>3RD_PV_SCIENCE</th>\n",
       "      <th>4TH_PV_SCIENCE</th>\n",
       "      <th>5TH_PV_SCIENCE</th>\n",
       "      <th>...</th>\n",
       "      <th>1ST_PV_PHYSICS</th>\n",
       "      <th>2ND_PV PHYSICS</th>\n",
       "      <th>3RD_PV_PHYSICS</th>\n",
       "      <th>4TH_PV_PHYSICS</th>\n",
       "      <th>5TH_PV_PHYSICS</th>\n",
       "      <th>1ST_PV_EARTH_SCIENCE</th>\n",
       "      <th>2ND_PV_EARTH_SCIENCE</th>\n",
       "      <th>3RD_PV_EARTH_SCIENCE</th>\n",
       "      <th>4TH_PV_EARTH_SCIENCE</th>\n",
       "      <th>5TH_PV_EARTH_SCIENCE</th>\n",
       "    </tr>\n",
       "  </thead>\n",
       "  <tbody>\n",
       "    <tr>\n",
       "      <th>count</th>\n",
       "      <td>375.000000</td>\n",
       "      <td>375.000000</td>\n",
       "      <td>375.000000</td>\n",
       "      <td>375.000000</td>\n",
       "      <td>375.000000</td>\n",
       "      <td>375.000000</td>\n",
       "      <td>375.000000</td>\n",
       "      <td>375.000000</td>\n",
       "      <td>375.000000</td>\n",
       "      <td>375.000000</td>\n",
       "      <td>...</td>\n",
       "      <td>375.000000</td>\n",
       "      <td>375.000000</td>\n",
       "      <td>375.000000</td>\n",
       "      <td>375.000000</td>\n",
       "      <td>375.000000</td>\n",
       "      <td>375.000000</td>\n",
       "      <td>375.000000</td>\n",
       "      <td>375.000000</td>\n",
       "      <td>375.000000</td>\n",
       "      <td>375.000000</td>\n",
       "    </tr>\n",
       "    <tr>\n",
       "      <th>mean</th>\n",
       "      <td>504.957021</td>\n",
       "      <td>507.967439</td>\n",
       "      <td>507.430038</td>\n",
       "      <td>506.996353</td>\n",
       "      <td>507.643269</td>\n",
       "      <td>517.395550</td>\n",
       "      <td>519.363338</td>\n",
       "      <td>519.677339</td>\n",
       "      <td>521.794787</td>\n",
       "      <td>520.595490</td>\n",
       "      <td>...</td>\n",
       "      <td>509.783830</td>\n",
       "      <td>511.420242</td>\n",
       "      <td>509.598050</td>\n",
       "      <td>515.782013</td>\n",
       "      <td>510.664237</td>\n",
       "      <td>529.806046</td>\n",
       "      <td>522.570258</td>\n",
       "      <td>527.288851</td>\n",
       "      <td>524.217921</td>\n",
       "      <td>523.628670</td>\n",
       "    </tr>\n",
       "    <tr>\n",
       "      <th>std</th>\n",
       "      <td>72.076804</td>\n",
       "      <td>75.277862</td>\n",
       "      <td>73.323459</td>\n",
       "      <td>73.151227</td>\n",
       "      <td>75.047655</td>\n",
       "      <td>78.341466</td>\n",
       "      <td>82.896807</td>\n",
       "      <td>78.756068</td>\n",
       "      <td>82.635062</td>\n",
       "      <td>81.783305</td>\n",
       "      <td>...</td>\n",
       "      <td>86.988086</td>\n",
       "      <td>85.411559</td>\n",
       "      <td>87.512954</td>\n",
       "      <td>86.914388</td>\n",
       "      <td>85.647555</td>\n",
       "      <td>83.377610</td>\n",
       "      <td>82.414376</td>\n",
       "      <td>82.044059</td>\n",
       "      <td>82.434559</td>\n",
       "      <td>82.963126</td>\n",
       "    </tr>\n",
       "    <tr>\n",
       "      <th>min</th>\n",
       "      <td>321.690010</td>\n",
       "      <td>301.721470</td>\n",
       "      <td>323.701920</td>\n",
       "      <td>283.797580</td>\n",
       "      <td>285.025620</td>\n",
       "      <td>304.615810</td>\n",
       "      <td>262.684720</td>\n",
       "      <td>317.678650</td>\n",
       "      <td>298.899250</td>\n",
       "      <td>255.672900</td>\n",
       "      <td>...</td>\n",
       "      <td>248.957430</td>\n",
       "      <td>185.838310</td>\n",
       "      <td>265.004520</td>\n",
       "      <td>281.718370</td>\n",
       "      <td>253.137430</td>\n",
       "      <td>273.892210</td>\n",
       "      <td>235.014930</td>\n",
       "      <td>290.635780</td>\n",
       "      <td>210.880330</td>\n",
       "      <td>270.262330</td>\n",
       "    </tr>\n",
       "    <tr>\n",
       "      <th>25%</th>\n",
       "      <td>455.359065</td>\n",
       "      <td>460.015970</td>\n",
       "      <td>452.324495</td>\n",
       "      <td>458.439780</td>\n",
       "      <td>460.272860</td>\n",
       "      <td>460.427845</td>\n",
       "      <td>460.316145</td>\n",
       "      <td>467.059685</td>\n",
       "      <td>466.915120</td>\n",
       "      <td>474.173365</td>\n",
       "      <td>...</td>\n",
       "      <td>451.273755</td>\n",
       "      <td>450.970075</td>\n",
       "      <td>449.585810</td>\n",
       "      <td>463.156350</td>\n",
       "      <td>451.601355</td>\n",
       "      <td>475.857390</td>\n",
       "      <td>468.228840</td>\n",
       "      <td>475.336215</td>\n",
       "      <td>473.000775</td>\n",
       "      <td>469.248200</td>\n",
       "    </tr>\n",
       "    <tr>\n",
       "      <th>50%</th>\n",
       "      <td>510.570510</td>\n",
       "      <td>513.028050</td>\n",
       "      <td>512.592640</td>\n",
       "      <td>514.228300</td>\n",
       "      <td>509.982280</td>\n",
       "      <td>521.247920</td>\n",
       "      <td>522.164860</td>\n",
       "      <td>517.497900</td>\n",
       "      <td>523.824920</td>\n",
       "      <td>521.985970</td>\n",
       "      <td>...</td>\n",
       "      <td>514.241870</td>\n",
       "      <td>513.696650</td>\n",
       "      <td>514.089960</td>\n",
       "      <td>517.356810</td>\n",
       "      <td>509.844030</td>\n",
       "      <td>529.096270</td>\n",
       "      <td>528.833000</td>\n",
       "      <td>528.348630</td>\n",
       "      <td>526.261000</td>\n",
       "      <td>526.473480</td>\n",
       "    </tr>\n",
       "    <tr>\n",
       "      <th>75%</th>\n",
       "      <td>552.367395</td>\n",
       "      <td>560.164180</td>\n",
       "      <td>559.478110</td>\n",
       "      <td>556.733855</td>\n",
       "      <td>554.698950</td>\n",
       "      <td>567.452510</td>\n",
       "      <td>574.304715</td>\n",
       "      <td>576.266705</td>\n",
       "      <td>578.417630</td>\n",
       "      <td>580.651740</td>\n",
       "      <td>...</td>\n",
       "      <td>568.920210</td>\n",
       "      <td>567.967250</td>\n",
       "      <td>565.800475</td>\n",
       "      <td>574.542560</td>\n",
       "      <td>565.450710</td>\n",
       "      <td>586.140725</td>\n",
       "      <td>579.652880</td>\n",
       "      <td>580.879850</td>\n",
       "      <td>579.092665</td>\n",
       "      <td>572.122050</td>\n",
       "    </tr>\n",
       "    <tr>\n",
       "      <th>max</th>\n",
       "      <td>709.089030</td>\n",
       "      <td>740.147210</td>\n",
       "      <td>697.746350</td>\n",
       "      <td>704.066950</td>\n",
       "      <td>736.804680</td>\n",
       "      <td>741.083230</td>\n",
       "      <td>737.233290</td>\n",
       "      <td>756.094360</td>\n",
       "      <td>732.127710</td>\n",
       "      <td>724.134910</td>\n",
       "      <td>...</td>\n",
       "      <td>722.006310</td>\n",
       "      <td>737.804360</td>\n",
       "      <td>763.923540</td>\n",
       "      <td>727.353860</td>\n",
       "      <td>734.459520</td>\n",
       "      <td>738.404110</td>\n",
       "      <td>717.989830</td>\n",
       "      <td>742.065030</td>\n",
       "      <td>718.222080</td>\n",
       "      <td>737.258580</td>\n",
       "    </tr>\n",
       "  </tbody>\n",
       "</table>\n",
       "<p>8 rows × 30 columns</p>\n",
       "</div>"
      ]
     },
     "execution_count": 15,
     "metadata": {},
     "output_type": "execute_result"
    }
   ],
   "execution_count": 15
  },
  {
   "metadata": {
    "ExecuteTime": {
     "end_time": "2025-03-22T10:58:15.303977Z",
     "start_time": "2025-03-22T10:58:15.271058Z"
    }
   },
   "cell_type": "code",
   "source": "most_disorderly.groupby(\"Gender_Student\", observed=False)[\"Gender_Student\"].describe()",
   "id": "9f558a1ab62ef90",
   "outputs": [
    {
     "data": {
      "text/plain": [
       "               count unique     top freq\n",
       "Gender_Student                          \n",
       "Others            18      1  Others   18\n",
       "Boy              181      1     Boy  181\n",
       "Girl             176      1    Girl  176"
      ],
      "text/html": [
       "<div>\n",
       "<style scoped>\n",
       "    .dataframe tbody tr th:only-of-type {\n",
       "        vertical-align: middle;\n",
       "    }\n",
       "\n",
       "    .dataframe tbody tr th {\n",
       "        vertical-align: top;\n",
       "    }\n",
       "\n",
       "    .dataframe thead th {\n",
       "        text-align: right;\n",
       "    }\n",
       "</style>\n",
       "<table border=\"1\" class=\"dataframe\">\n",
       "  <thead>\n",
       "    <tr style=\"text-align: right;\">\n",
       "      <th></th>\n",
       "      <th>count</th>\n",
       "      <th>unique</th>\n",
       "      <th>top</th>\n",
       "      <th>freq</th>\n",
       "    </tr>\n",
       "    <tr>\n",
       "      <th>Gender_Student</th>\n",
       "      <th></th>\n",
       "      <th></th>\n",
       "      <th></th>\n",
       "      <th></th>\n",
       "    </tr>\n",
       "  </thead>\n",
       "  <tbody>\n",
       "    <tr>\n",
       "      <th>Others</th>\n",
       "      <td>18</td>\n",
       "      <td>1</td>\n",
       "      <td>Others</td>\n",
       "      <td>18</td>\n",
       "    </tr>\n",
       "    <tr>\n",
       "      <th>Boy</th>\n",
       "      <td>181</td>\n",
       "      <td>1</td>\n",
       "      <td>Boy</td>\n",
       "      <td>181</td>\n",
       "    </tr>\n",
       "    <tr>\n",
       "      <th>Girl</th>\n",
       "      <td>176</td>\n",
       "      <td>1</td>\n",
       "      <td>Girl</td>\n",
       "      <td>176</td>\n",
       "    </tr>\n",
       "  </tbody>\n",
       "</table>\n",
       "</div>"
      ]
     },
     "execution_count": 16,
     "metadata": {},
     "output_type": "execute_result"
    }
   ],
   "execution_count": 16
  },
  {
   "metadata": {},
   "cell_type": "markdown",
   "source": "##### 5.1.3.1.1 Percentage of boys exhibiting frequent disorderly behaviour",
   "id": "385ffc817c912f4b"
  },
  {
   "metadata": {
    "ExecuteTime": {
     "end_time": "2025-03-22T10:58:15.642009Z",
     "start_time": "2025-03-22T10:58:15.626344Z"
    }
   },
   "cell_type": "code",
   "source": [
    "perc_boys = most_disorderly[most_disorderly[\"Gender_Student\"].str.contains(\"Boy\")][\"Gender_Student\"].count() / df[df[\"Gender_Student\"].str.contains(\"Boy\")][\"Gender_Student\"].count()\n",
    "perc_boys * 100"
   ],
   "id": "aaaedb1615b240b9",
   "outputs": [
    {
     "data": {
      "text/plain": [
       "np.float64(9.417273673257023)"
      ]
     },
     "execution_count": 17,
     "metadata": {},
     "output_type": "execute_result"
    }
   ],
   "execution_count": 17
  },
  {
   "metadata": {},
   "cell_type": "markdown",
   "source": "##### 5.1.3.1.2 Percentage of girls exhibiting frequent disorderly behaviour",
   "id": "b8425461b0464331"
  },
  {
   "metadata": {
    "ExecuteTime": {
     "end_time": "2025-03-22T10:58:16.080570Z",
     "start_time": "2025-03-22T10:58:16.063466Z"
    }
   },
   "cell_type": "code",
   "source": [
    "perc_boys = most_disorderly[most_disorderly[\"Gender_Student\"].str.contains(\"Girl\")][\"Gender_Student\"].count() / df[df[\"Gender_Student\"].str.contains(\"Girl\")][\"Gender_Student\"].count()\n",
    "perc_boys * 100"
   ],
   "id": "4085810e3286b6fb",
   "outputs": [
    {
     "data": {
      "text/plain": [
       "np.float64(9.57041870581838)"
      ]
     },
     "execution_count": 18,
     "metadata": {},
     "output_type": "execute_result"
    }
   ],
   "execution_count": 18
  },
  {
   "metadata": {},
   "cell_type": "markdown",
   "source": "#### 5.1.3.2 Gender wise distribution of students having very few disorderly behavior across subjects",
   "id": "a7f7bc72808dedf9"
  },
  {
   "metadata": {
    "ExecuteTime": {
     "end_time": "2025-03-22T10:58:16.178296Z",
     "start_time": "2025-03-22T10:58:16.168208Z"
    }
   },
   "cell_type": "code",
   "source": "few_disorderly = df[science_few & maths_few]",
   "id": "5ac92a56954091ef",
   "outputs": [],
   "execution_count": 19
  },
  {
   "metadata": {
    "ExecuteTime": {
     "end_time": "2025-03-22T10:58:16.482263Z",
     "start_time": "2025-03-22T10:58:16.444115Z"
    }
   },
   "cell_type": "code",
   "source": "few_disorderly.groupby(\"Gender_Student\")[\"Gender_Student\"].describe()",
   "id": "2335cfa857e7f0d3",
   "outputs": [
    {
     "name": "stderr",
     "output_type": "stream",
     "text": [
      "/tmp/ipykernel_6279/1123985767.py:1: FutureWarning: The default of observed=False is deprecated and will be changed to True in a future version of pandas. Pass observed=False to retain current behavior or observed=True to adopt the future default and silence this warning.\n",
      "  few_disorderly.groupby(\"Gender_Student\")[\"Gender_Student\"].describe()\n"
     ]
    },
    {
     "data": {
      "text/plain": [
       "               count unique     top freq\n",
       "Gender_Student                          \n",
       "Others            29      1  Others   29\n",
       "Boy              656      1     Boy  656\n",
       "Girl             756      1    Girl  756"
      ],
      "text/html": [
       "<div>\n",
       "<style scoped>\n",
       "    .dataframe tbody tr th:only-of-type {\n",
       "        vertical-align: middle;\n",
       "    }\n",
       "\n",
       "    .dataframe tbody tr th {\n",
       "        vertical-align: top;\n",
       "    }\n",
       "\n",
       "    .dataframe thead th {\n",
       "        text-align: right;\n",
       "    }\n",
       "</style>\n",
       "<table border=\"1\" class=\"dataframe\">\n",
       "  <thead>\n",
       "    <tr style=\"text-align: right;\">\n",
       "      <th></th>\n",
       "      <th>count</th>\n",
       "      <th>unique</th>\n",
       "      <th>top</th>\n",
       "      <th>freq</th>\n",
       "    </tr>\n",
       "    <tr>\n",
       "      <th>Gender_Student</th>\n",
       "      <th></th>\n",
       "      <th></th>\n",
       "      <th></th>\n",
       "      <th></th>\n",
       "    </tr>\n",
       "  </thead>\n",
       "  <tbody>\n",
       "    <tr>\n",
       "      <th>Others</th>\n",
       "      <td>29</td>\n",
       "      <td>1</td>\n",
       "      <td>Others</td>\n",
       "      <td>29</td>\n",
       "    </tr>\n",
       "    <tr>\n",
       "      <th>Boy</th>\n",
       "      <td>656</td>\n",
       "      <td>1</td>\n",
       "      <td>Boy</td>\n",
       "      <td>656</td>\n",
       "    </tr>\n",
       "    <tr>\n",
       "      <th>Girl</th>\n",
       "      <td>756</td>\n",
       "      <td>1</td>\n",
       "      <td>Girl</td>\n",
       "      <td>756</td>\n",
       "    </tr>\n",
       "  </tbody>\n",
       "</table>\n",
       "</div>"
      ]
     },
     "execution_count": 20,
     "metadata": {},
     "output_type": "execute_result"
    }
   ],
   "execution_count": 20
  },
  {
   "metadata": {},
   "cell_type": "markdown",
   "source": [
    "\n",
    "##### 5.1.3.2.1 Percentage of boys exhibiting fewer disorderly behaviour"
   ],
   "id": "b7d16ad434723a2d"
  },
  {
   "metadata": {
    "ExecuteTime": {
     "end_time": "2025-03-22T10:58:16.574235Z",
     "start_time": "2025-03-22T10:58:16.563655Z"
    }
   },
   "cell_type": "code",
   "source": [
    "perc_boys = few_disorderly[few_disorderly[\"Gender_Student\"].str.contains(\"Boy\")][\"Gender_Student\"].count() / df[df[\"Gender_Student\"].str.contains(\"Boy\")][\"Gender_Student\"].count()\n",
    "perc_boys * 100"
   ],
   "id": "3b8e97ec9b731fa8",
   "outputs": [
    {
     "data": {
      "text/plain": [
       "np.float64(34.13111342351717)"
      ]
     },
     "execution_count": 21,
     "metadata": {},
     "output_type": "execute_result"
    }
   ],
   "execution_count": 21
  },
  {
   "metadata": {},
   "cell_type": "markdown",
   "source": [
    "\n",
    "##### 5.1.3.2.2 Percentage of girls exhibiting fewer disorderly behaviour"
   ],
   "id": "e60167709bf69b84"
  },
  {
   "metadata": {
    "ExecuteTime": {
     "end_time": "2025-03-22T10:58:16.628806Z",
     "start_time": "2025-03-22T10:58:16.610856Z"
    }
   },
   "cell_type": "code",
   "source": [
    "perc_boys = most_disorderly[most_disorderly[\"Gender_Student\"].str.contains(\"Girl\")][\"Gender_Student\"].count() / df[df[\"Gender_Student\"].str.contains(\"Girl\")][\"Gender_Student\"].count()\n",
    "perc_boys * 100"
   ],
   "id": "5a6a0c2a077ac5d0",
   "outputs": [
    {
     "data": {
      "text/plain": [
       "np.float64(9.57041870581838)"
      ]
     },
     "execution_count": 22,
     "metadata": {},
     "output_type": "execute_result"
    }
   ],
   "execution_count": 22
  },
  {
   "metadata": {},
   "cell_type": "markdown",
   "source": "## 5.2 Subject Likeness and Gender",
   "id": "5bace7d9d22a1b4a"
  },
  {
   "metadata": {
    "ExecuteTime": {
     "end_time": "2025-03-22T10:58:16.778596Z",
     "start_time": "2025-03-22T10:58:16.758335Z"
    }
   },
   "cell_type": "code",
   "source": [
    "subject_likeness_mask = df.columns.str.contains(\"Like_Learning\")\n",
    "df[df.columns[subject_likeness_mask]].value_counts()"
   ],
   "id": "5ee553d022bc18e0",
   "outputs": [
    {
     "data": {
      "text/plain": [
       "Students_Like_Learning_Mathematics   Students_Like_Learning_Science \n",
       "Do Not Like Learning Mathematics     Do Not Like Learning Science       945\n",
       "                                     Somewhat Like Learning Science     806\n",
       "Somewhat Like Learning Mathematics   Somewhat Like Learning Science     520\n",
       "Do Not Like Learning Mathematics     Very Much Like Learning Science    468\n",
       "Somewhat Like Learning Mathematics   Very Much Like Learning Science    384\n",
       "                                     Do Not Like Learning Science       334\n",
       "Very Much Like Learning Mathematics  Very Much Like Learning Science    195\n",
       "                                     Somewhat Like Learning Science     147\n",
       "                                     Do Not Like Learning Science        76\n",
       "Name: count, dtype: int64"
      ]
     },
     "execution_count": 23,
     "metadata": {},
     "output_type": "execute_result"
    }
   ],
   "execution_count": 23
  },
  {
   "metadata": {
    "ExecuteTime": {
     "end_time": "2025-03-22T10:58:16.964517Z",
     "start_time": "2025-03-22T10:58:16.939182Z"
    }
   },
   "cell_type": "code",
   "source": [
    "df[\"Students_Like_Learning_Mathematics\"] = df[\"Students_Like_Learning_Mathematics\"].apply(lambda x: \"Do not like\" if \"Do Not\" in str(x) else x )\n",
    "df[\"Students_Like_Learning_Mathematics\"] = df[\"Students_Like_Learning_Mathematics\"].apply(lambda x: \"Some what like\" if \"Somewhat\" in str(x) else x )\n",
    "df[\"Students_Like_Learning_Mathematics\"] = df[\"Students_Like_Learning_Mathematics\"].apply(lambda x: \"Very much like\" if \"Very Much\" in str(x) else x )\n",
    "df[\"Students_Like_Learning_Mathematics\"].value_counts()\n",
    "\n"
   ],
   "id": "2a13d617bad189d9",
   "outputs": [
    {
     "data": {
      "text/plain": [
       "Students_Like_Learning_Mathematics\n",
       "Do not like       2219\n",
       "Some what like    1238\n",
       "Very much like     418\n",
       "Name: count, dtype: int64"
      ]
     },
     "execution_count": 24,
     "metadata": {},
     "output_type": "execute_result"
    }
   ],
   "execution_count": 24
  },
  {
   "metadata": {
    "ExecuteTime": {
     "end_time": "2025-03-22T10:58:17.034006Z",
     "start_time": "2025-03-22T10:58:17.007144Z"
    }
   },
   "cell_type": "code",
   "source": [
    "df[\"Students_Like_Learning_Science\"] = df[\"Students_Like_Learning_Science\"].apply(lambda x: \"Do not like\" if \"Do Not\" in str(x) else x )\n",
    "df[\"Students_Like_Learning_Science\"] = df[\"Students_Like_Learning_Science\"].apply(lambda x: \"Some what like\" if \"Somewhat\" in str(x) else x )\n",
    "df[\"Students_Like_Learning_Science\"] = df[\"Students_Like_Learning_Science\"].apply(lambda x: \"Very much like\" if \"Very Much\" in str(x) else x )\n",
    "df[\"Students_Like_Learning_Science\"].value_counts()\n",
    "\n"
   ],
   "id": "d43ec39585bdd7ee",
   "outputs": [
    {
     "data": {
      "text/plain": [
       "Students_Like_Learning_Science\n",
       "Some what like    1473\n",
       "Do not like       1355\n",
       "Very much like    1047\n",
       "Name: count, dtype: int64"
      ]
     },
     "execution_count": 25,
     "metadata": {},
     "output_type": "execute_result"
    }
   ],
   "execution_count": 25
  },
  {
   "metadata": {},
   "cell_type": "markdown",
   "source": "### 5.2.1 Gender and Likeness for Mathematics",
   "id": "ecf827a72e1ff8ad"
  },
  {
   "metadata": {},
   "cell_type": "markdown",
   "source": "#### 5.2.1.1 Gender wise distribution of students who like Mathematics",
   "id": "7f9ff4ca552d7123"
  },
  {
   "metadata": {
    "ExecuteTime": {
     "end_time": "2025-03-22T10:58:17.188952Z",
     "start_time": "2025-03-22T10:58:17.141871Z"
    }
   },
   "cell_type": "code",
   "source": [
    "ver_much_like = df[\"Students_Like_Learning_Mathematics\"].str.contains(\"Very\")\n",
    "some_what_like = df[\"Students_Like_Learning_Mathematics\"].str.contains(\"Some\")\n",
    "like_maths  = df[ver_much_like | some_what_like]\n",
    "like_maths.groupby(\"Gender_Student\" , observed=False)[\"Gender_Student\"].describe()\n"
   ],
   "id": "480f871f7a9e8082",
   "outputs": [
    {
     "data": {
      "text/plain": [
       "               count unique     top freq\n",
       "Gender_Student                          \n",
       "Others            46      1  Others   46\n",
       "Boy              887      1     Boy  887\n",
       "Girl             723      1    Girl  723"
      ],
      "text/html": [
       "<div>\n",
       "<style scoped>\n",
       "    .dataframe tbody tr th:only-of-type {\n",
       "        vertical-align: middle;\n",
       "    }\n",
       "\n",
       "    .dataframe tbody tr th {\n",
       "        vertical-align: top;\n",
       "    }\n",
       "\n",
       "    .dataframe thead th {\n",
       "        text-align: right;\n",
       "    }\n",
       "</style>\n",
       "<table border=\"1\" class=\"dataframe\">\n",
       "  <thead>\n",
       "    <tr style=\"text-align: right;\">\n",
       "      <th></th>\n",
       "      <th>count</th>\n",
       "      <th>unique</th>\n",
       "      <th>top</th>\n",
       "      <th>freq</th>\n",
       "    </tr>\n",
       "    <tr>\n",
       "      <th>Gender_Student</th>\n",
       "      <th></th>\n",
       "      <th></th>\n",
       "      <th></th>\n",
       "      <th></th>\n",
       "    </tr>\n",
       "  </thead>\n",
       "  <tbody>\n",
       "    <tr>\n",
       "      <th>Others</th>\n",
       "      <td>46</td>\n",
       "      <td>1</td>\n",
       "      <td>Others</td>\n",
       "      <td>46</td>\n",
       "    </tr>\n",
       "    <tr>\n",
       "      <th>Boy</th>\n",
       "      <td>887</td>\n",
       "      <td>1</td>\n",
       "      <td>Boy</td>\n",
       "      <td>887</td>\n",
       "    </tr>\n",
       "    <tr>\n",
       "      <th>Girl</th>\n",
       "      <td>723</td>\n",
       "      <td>1</td>\n",
       "      <td>Girl</td>\n",
       "      <td>723</td>\n",
       "    </tr>\n",
       "  </tbody>\n",
       "</table>\n",
       "</div>"
      ]
     },
     "execution_count": 26,
     "metadata": {},
     "output_type": "execute_result"
    }
   ],
   "execution_count": 26
  },
  {
   "metadata": {
    "ExecuteTime": {
     "end_time": "2025-03-22T10:58:17.790847Z",
     "start_time": "2025-03-22T10:58:17.466649Z"
    }
   },
   "cell_type": "code",
   "source": [
    "fig = plt.figure(figsize=(10,5))\n",
    "sns.countplot(data=like_maths, x=\"Gender_Student\", color=\"b\")\n",
    "plt.tight_layout()\n",
    "plt.show()"
   ],
   "id": "4812f956f2aef77d",
   "outputs": [
    {
     "data": {
      "text/plain": [
       "<Figure size 1000x500 with 1 Axes>"
      ],
      "image/png": "[encoded data removed]"
     },
     "metadata": {},
     "output_type": "display_data"
    }
   ],
   "execution_count": 27
  },
  {
   "metadata": {},
   "cell_type": "markdown",
   "source": "##### 5.2.1.1.1 Percentage of boys, who like mathematics",
   "id": "8a4e6c8fd16bd097"
  },
  {
   "metadata": {
    "ExecuteTime": {
     "end_time": "2025-03-22T10:58:18.056462Z",
     "start_time": "2025-03-22T10:58:18.041746Z"
    }
   },
   "cell_type": "code",
   "source": "utils.getPercentageByGender(like_maths,df,\"Boy\")",
   "id": "6abd2e15e85247d7",
   "outputs": [
    {
     "name": "stdout",
     "output_type": "stream",
     "text": [
      "0.4614984391259105\n"
     ]
    }
   ],
   "execution_count": 28
  },
  {
   "metadata": {},
   "cell_type": "markdown",
   "source": "##### 5.2.1.1.2 Percentage of girls, who like mathematics",
   "id": "33a20b49ede6e13e"
  },
  {
   "metadata": {
    "ExecuteTime": {
     "end_time": "2025-03-22T10:58:18.086278Z",
     "start_time": "2025-03-22T10:58:18.074709Z"
    }
   },
   "cell_type": "code",
   "source": "utils.getPercentageByGender(like_maths,df,\"Girl\")",
   "id": "93929d8c6927c387",
   "outputs": [
    {
     "name": "stdout",
     "output_type": "stream",
     "text": [
      "0.3931484502446982\n"
     ]
    }
   ],
   "execution_count": 29
  },
  {
   "metadata": {},
   "cell_type": "markdown",
   "source": "#### 5.2.1.2 Gender wise distribution of students who do not like Mathematics",
   "id": "79bbb2a51844959d"
  },
  {
   "metadata": {
    "ExecuteTime": {
     "end_time": "2025-03-22T10:58:18.446561Z",
     "start_time": "2025-03-22T10:58:18.173737Z"
    }
   },
   "cell_type": "code",
   "source": [
    "dont_like_maths, gender_groped = utils.subjectLikeness(df,\"Mathematics\", \"Do not\")\n",
    "dont_like_maths"
   ],
   "id": "535cd6d0dfad530a",
   "outputs": [
    {
     "data": {
      "text/plain": [
       "<Figure size 1000x600 with 2 Axes>"
      ],
      "image/png": "[encoded data removed]"
     },
     "metadata": {},
     "output_type": "display_data"
    },
    {
     "data": {
      "text/plain": [
       "     Gender_Student Lang_Spoken_Home               Books_Home Own_Computer  \\\n",
       "0              Girl        Sometimes            One Book Case          Yes   \n",
       "1              Girl        Sometimes            One Book Case          Yes   \n",
       "2              Girl    Almost always            One Book Case          Yes   \n",
       "4            Others    Almost always            One Book Case          Yes   \n",
       "5              Girl           Always            One Book Case          Yes   \n",
       "...             ...              ...                      ...          ...   \n",
       "5076            Boy    Almost always  More than two bookcases          Yes   \n",
       "5078           Girl           Always           Two Book Cases          Yes   \n",
       "5080           Girl    Almost always           Two Book Cases          Yes   \n",
       "5083            Boy        Sometimes           Two Book Cases          Yes   \n",
       "5089            Boy           Always            One Book Case          Yes   \n",
       "\n",
       "     Shared_Computer Smartphone Internet_Access Study_Desk Own_Room  \\\n",
       "0                Yes        Yes             Yes        Yes      Yes   \n",
       "1                Yes        Yes             Yes        Yes      Yes   \n",
       "2                 No        Yes             Yes        Yes      Yes   \n",
       "4                Yes        Yes             Yes        Yes      Yes   \n",
       "5                Yes        Yes             Yes        Yes      Yes   \n",
       "...              ...        ...             ...        ...      ...   \n",
       "5076             Yes        Yes             Yes        Yes      Yes   \n",
       "5078              No        Yes             Yes        Yes      Yes   \n",
       "5080             Yes        Yes             Yes         No      Yes   \n",
       "5083             Yes        Yes             Yes        Yes      Yes   \n",
       "5089              No        Yes             Yes        Yes      Yes   \n",
       "\n",
       "                                   ParentA_Edu_Level  ...  \\\n",
       "0                                       I don’t know  ...   \n",
       "1                                       I don’t know  ...   \n",
       "2                                       I don’t know  ...   \n",
       "4          <Upper secondary education—ISCED Level 3>  ...   \n",
       "5          <Upper secondary education—ISCED Level 3>  ...   \n",
       "...                                              ...  ...   \n",
       "5076                                    I don’t know  ...   \n",
       "5078                                    I don’t know  ...   \n",
       "5080                                    I don’t know  ...   \n",
       "5083                                    I don’t know  ...   \n",
       "5089  <Short-cycle tertiary education—ISCED Level 5>  ...   \n",
       "\n",
       "     Disorderly_Behavior_during_Math_Lessons  \\\n",
       "0                               Some Lessons   \n",
       "1                               Some Lessons   \n",
       "2                               Some Lessons   \n",
       "4                               Some Lessons   \n",
       "5                               Some Lessons   \n",
       "...                                      ...   \n",
       "5076                            Some Lessons   \n",
       "5078                            Some Lessons   \n",
       "5080                             Few Lessons   \n",
       "5083                            Some Lessons   \n",
       "5089                            Some Lessons   \n",
       "\n",
       "      Students_Confident_in_Mathematics  Students_Value_Mathematics  \\\n",
       "0          Not Confident in Mathematics  Somewhat Value Mathematics   \n",
       "1     Somewhat Confident in Mathematics    Do Not Value Mathematics   \n",
       "2          Not Confident in Mathematics  Somewhat Value Mathematics   \n",
       "4          Not Confident in Mathematics  Somewhat Value Mathematics   \n",
       "5          Not Confident in Mathematics    Do Not Value Mathematics   \n",
       "...                                 ...                         ...   \n",
       "5076       Not Confident in Mathematics    Do Not Value Mathematics   \n",
       "5078       Not Confident in Mathematics  Somewhat Value Mathematics   \n",
       "5080       Not Confident in Mathematics    Do Not Value Mathematics   \n",
       "5083  Somewhat Confident in Mathematics  Somewhat Value Mathematics   \n",
       "5089       Not Confident in Mathematics    Do Not Value Mathematics   \n",
       "\n",
       "     Students_Like_Learning_Science  Instructional_Clarity_in_Science_Lessons  \\\n",
       "0                    Very much like               High Clarity of Instruction   \n",
       "1                    Very much like               High Clarity of Instruction   \n",
       "2                    Very much like               High Clarity of Instruction   \n",
       "4                    Very much like               High Clarity of Instruction   \n",
       "5                    Some what like                Low Clarity of Instruction   \n",
       "...                             ...                                       ...   \n",
       "5076                 Some what like               High Clarity of Instruction   \n",
       "5078                    Do not like                Low Clarity of Instruction   \n",
       "5080                    Do not like                Low Clarity of Instruction   \n",
       "5083                    Do not like           Moderate Clarity of Instruction   \n",
       "5089                 Some what like           Moderate Clarity of Instruction   \n",
       "\n",
       "      Students_Confident_in_Science  Students_Value_Science  \\\n",
       "0     Somewhat Confident in Science  Strongly Value Science   \n",
       "1         Very Confident in Science  Somewhat Value Science   \n",
       "2     Somewhat Confident in Science  Strongly Value Science   \n",
       "4         Very Confident in Science  Strongly Value Science   \n",
       "5     Somewhat Confident in Science    Do Not Value Science   \n",
       "...                             ...                     ...   \n",
       "5076  Somewhat Confident in Science    Do Not Value Science   \n",
       "5078  Somewhat Confident in Science  Somewhat Value Science   \n",
       "5080       Not Confident in Science  Somewhat Value Science   \n",
       "5083       Not Confident in Science    Do Not Value Science   \n",
       "5089  Somewhat Confident in Science  Somewhat Value Science   \n",
       "\n",
       "             Digital_Self_Efficacy  \\\n",
       "0       High Digital Self-Efficacy   \n",
       "1       High Digital Self-Efficacy   \n",
       "2       High Digital Self-Efficacy   \n",
       "4       High Digital Self-Efficacy   \n",
       "5       High Digital Self-Efficacy   \n",
       "...                            ...   \n",
       "5076  Medium Digital Self-Efficacy   \n",
       "5078    High Digital Self-Efficacy   \n",
       "5080  Medium Digital Self-Efficacy   \n",
       "5083    High Digital Self-Efficacy   \n",
       "5089    High Digital Self-Efficacy   \n",
       "\n",
       "      Disorderly_Behavior_during_Science_Lessons  \\\n",
       "0                                   Some Lessons   \n",
       "1                                   Some Lessons   \n",
       "2                                   Some Lessons   \n",
       "4                                   Some Lessons   \n",
       "5                                   Some Lessons   \n",
       "...                                          ...   \n",
       "5076                                Some Lessons   \n",
       "5078                                Some Lessons   \n",
       "5080                                 Few Lessons   \n",
       "5083                                Some Lessons   \n",
       "5089                                Some Lessons   \n",
       "\n",
       "      Students_Value_Environmental_Preservation  \n",
       "0                                Strongly Value  \n",
       "1                                Strongly Value  \n",
       "2                           Very Strongly Value  \n",
       "4                           Very Strongly Value  \n",
       "5                           Very Strongly Value  \n",
       "...                                         ...  \n",
       "5076                             Strongly Value  \n",
       "5078                             Strongly Value  \n",
       "5080                        Very Strongly Value  \n",
       "5083                        Very Strongly Value  \n",
       "5089                             Somewhat Value  \n",
       "\n",
       "[2219 rows x 58 columns]"
      ],
      "text/html": [
       "<div>\n",
       "<style scoped>\n",
       "    .dataframe tbody tr th:only-of-type {\n",
       "        vertical-align: middle;\n",
       "    }\n",
       "\n",
       "    .dataframe tbody tr th {\n",
       "        vertical-align: top;\n",
       "    }\n",
       "\n",
       "    .dataframe thead th {\n",
       "        text-align: right;\n",
       "    }\n",
       "</style>\n",
       "<table border=\"1\" class=\"dataframe\">\n",
       "  <thead>\n",
       "    <tr style=\"text-align: right;\">\n",
       "      <th></th>\n",
       "      <th>Gender_Student</th>\n",
       "      <th>Lang_Spoken_Home</th>\n",
       "      <th>Books_Home</th>\n",
       "      <th>Own_Computer</th>\n",
       "      <th>Shared_Computer</th>\n",
       "      <th>Smartphone</th>\n",
       "      <th>Internet_Access</th>\n",
       "      <th>Study_Desk</th>\n",
       "      <th>Own_Room</th>\n",
       "      <th>ParentA_Edu_Level</th>\n",
       "      <th>...</th>\n",
       "      <th>Disorderly_Behavior_during_Math_Lessons</th>\n",
       "      <th>Students_Confident_in_Mathematics</th>\n",
       "      <th>Students_Value_Mathematics</th>\n",
       "      <th>Students_Like_Learning_Science</th>\n",
       "      <th>Instructional_Clarity_in_Science_Lessons</th>\n",
       "      <th>Students_Confident_in_Science</th>\n",
       "      <th>Students_Value_Science</th>\n",
       "      <th>Digital_Self_Efficacy</th>\n",
       "      <th>Disorderly_Behavior_during_Science_Lessons</th>\n",
       "      <th>Students_Value_Environmental_Preservation</th>\n",
       "    </tr>\n",
       "  </thead>\n",
       "  <tbody>\n",
       "    <tr>\n",
       "      <th>0</th>\n",
       "      <td>Girl</td>\n",
       "      <td>Sometimes</td>\n",
       "      <td>One Book Case</td>\n",
       "      <td>Yes</td>\n",
       "      <td>Yes</td>\n",
       "      <td>Yes</td>\n",
       "      <td>Yes</td>\n",
       "      <td>Yes</td>\n",
       "      <td>Yes</td>\n",
       "      <td>I don’t know</td>\n",
       "      <td>...</td>\n",
       "      <td>Some Lessons</td>\n",
       "      <td>Not Confident in Mathematics</td>\n",
       "      <td>Somewhat Value Mathematics</td>\n",
       "      <td>Very much like</td>\n",
       "      <td>High Clarity of Instruction</td>\n",
       "      <td>Somewhat Confident in Science</td>\n",
       "      <td>Strongly Value Science</td>\n",
       "      <td>High Digital Self-Efficacy</td>\n",
       "      <td>Some Lessons</td>\n",
       "      <td>Strongly Value</td>\n",
       "    </tr>\n",
       "    <tr>\n",
       "      <th>1</th>\n",
       "      <td>Girl</td>\n",
       "      <td>Sometimes</td>\n",
       "      <td>One Book Case</td>\n",
       "      <td>Yes</td>\n",
       "      <td>Yes</td>\n",
       "      <td>Yes</td>\n",
       "      <td>Yes</td>\n",
       "      <td>Yes</td>\n",
       "      <td>Yes</td>\n",
       "      <td>I don’t know</td>\n",
       "      <td>...</td>\n",
       "      <td>Some Lessons</td>\n",
       "      <td>Somewhat Confident in Mathematics</td>\n",
       "      <td>Do Not Value Mathematics</td>\n",
       "      <td>Very much like</td>\n",
       "      <td>High Clarity of Instruction</td>\n",
       "      <td>Very Confident in Science</td>\n",
       "      <td>Somewhat Value Science</td>\n",
       "      <td>High Digital Self-Efficacy</td>\n",
       "      <td>Some Lessons</td>\n",
       "      <td>Strongly Value</td>\n",
       "    </tr>\n",
       "    <tr>\n",
       "      <th>2</th>\n",
       "      <td>Girl</td>\n",
       "      <td>Almost always</td>\n",
       "      <td>One Book Case</td>\n",
       "      <td>Yes</td>\n",
       "      <td>No</td>\n",
       "      <td>Yes</td>\n",
       "      <td>Yes</td>\n",
       "      <td>Yes</td>\n",
       "      <td>Yes</td>\n",
       "      <td>I don’t know</td>\n",
       "      <td>...</td>\n",
       "      <td>Some Lessons</td>\n",
       "      <td>Not Confident in Mathematics</td>\n",
       "      <td>Somewhat Value Mathematics</td>\n",
       "      <td>Very much like</td>\n",
       "      <td>High Clarity of Instruction</td>\n",
       "      <td>Somewhat Confident in Science</td>\n",
       "      <td>Strongly Value Science</td>\n",
       "      <td>High Digital Self-Efficacy</td>\n",
       "      <td>Some Lessons</td>\n",
       "      <td>Very Strongly Value</td>\n",
       "    </tr>\n",
       "    <tr>\n",
       "      <th>4</th>\n",
       "      <td>Others</td>\n",
       "      <td>Almost always</td>\n",
       "      <td>One Book Case</td>\n",
       "      <td>Yes</td>\n",
       "      <td>Yes</td>\n",
       "      <td>Yes</td>\n",
       "      <td>Yes</td>\n",
       "      <td>Yes</td>\n",
       "      <td>Yes</td>\n",
       "      <td>&lt;Upper secondary education—ISCED Level 3&gt;</td>\n",
       "      <td>...</td>\n",
       "      <td>Some Lessons</td>\n",
       "      <td>Not Confident in Mathematics</td>\n",
       "      <td>Somewhat Value Mathematics</td>\n",
       "      <td>Very much like</td>\n",
       "      <td>High Clarity of Instruction</td>\n",
       "      <td>Very Confident in Science</td>\n",
       "      <td>Strongly Value Science</td>\n",
       "      <td>High Digital Self-Efficacy</td>\n",
       "      <td>Some Lessons</td>\n",
       "      <td>Very Strongly Value</td>\n",
       "    </tr>\n",
       "    <tr>\n",
       "      <th>5</th>\n",
       "      <td>Girl</td>\n",
       "      <td>Always</td>\n",
       "      <td>One Book Case</td>\n",
       "      <td>Yes</td>\n",
       "      <td>Yes</td>\n",
       "      <td>Yes</td>\n",
       "      <td>Yes</td>\n",
       "      <td>Yes</td>\n",
       "      <td>Yes</td>\n",
       "      <td>&lt;Upper secondary education—ISCED Level 3&gt;</td>\n",
       "      <td>...</td>\n",
       "      <td>Some Lessons</td>\n",
       "      <td>Not Confident in Mathematics</td>\n",
       "      <td>Do Not Value Mathematics</td>\n",
       "      <td>Some what like</td>\n",
       "      <td>Low Clarity of Instruction</td>\n",
       "      <td>Somewhat Confident in Science</td>\n",
       "      <td>Do Not Value Science</td>\n",
       "      <td>High Digital Self-Efficacy</td>\n",
       "      <td>Some Lessons</td>\n",
       "      <td>Very Strongly Value</td>\n",
       "    </tr>\n",
       "    <tr>\n",
       "      <th>...</th>\n",
       "      <td>...</td>\n",
       "      <td>...</td>\n",
       "      <td>...</td>\n",
       "      <td>...</td>\n",
       "      <td>...</td>\n",
       "      <td>...</td>\n",
       "      <td>...</td>\n",
       "      <td>...</td>\n",
       "      <td>...</td>\n",
       "      <td>...</td>\n",
       "      <td>...</td>\n",
       "      <td>...</td>\n",
       "      <td>...</td>\n",
       "      <td>...</td>\n",
       "      <td>...</td>\n",
       "      <td>...</td>\n",
       "      <td>...</td>\n",
       "      <td>...</td>\n",
       "      <td>...</td>\n",
       "      <td>...</td>\n",
       "      <td>...</td>\n",
       "    </tr>\n",
       "    <tr>\n",
       "      <th>5076</th>\n",
       "      <td>Boy</td>\n",
       "      <td>Almost always</td>\n",
       "      <td>More than two bookcases</td>\n",
       "      <td>Yes</td>\n",
       "      <td>Yes</td>\n",
       "      <td>Yes</td>\n",
       "      <td>Yes</td>\n",
       "      <td>Yes</td>\n",
       "      <td>Yes</td>\n",
       "      <td>I don’t know</td>\n",
       "      <td>...</td>\n",
       "      <td>Some Lessons</td>\n",
       "      <td>Not Confident in Mathematics</td>\n",
       "      <td>Do Not Value Mathematics</td>\n",
       "      <td>Some what like</td>\n",
       "      <td>High Clarity of Instruction</td>\n",
       "      <td>Somewhat Confident in Science</td>\n",
       "      <td>Do Not Value Science</td>\n",
       "      <td>Medium Digital Self-Efficacy</td>\n",
       "      <td>Some Lessons</td>\n",
       "      <td>Strongly Value</td>\n",
       "    </tr>\n",
       "    <tr>\n",
       "      <th>5078</th>\n",
       "      <td>Girl</td>\n",
       "      <td>Always</td>\n",
       "      <td>Two Book Cases</td>\n",
       "      <td>Yes</td>\n",
       "      <td>No</td>\n",
       "      <td>Yes</td>\n",
       "      <td>Yes</td>\n",
       "      <td>Yes</td>\n",
       "      <td>Yes</td>\n",
       "      <td>I don’t know</td>\n",
       "      <td>...</td>\n",
       "      <td>Some Lessons</td>\n",
       "      <td>Not Confident in Mathematics</td>\n",
       "      <td>Somewhat Value Mathematics</td>\n",
       "      <td>Do not like</td>\n",
       "      <td>Low Clarity of Instruction</td>\n",
       "      <td>Somewhat Confident in Science</td>\n",
       "      <td>Somewhat Value Science</td>\n",
       "      <td>High Digital Self-Efficacy</td>\n",
       "      <td>Some Lessons</td>\n",
       "      <td>Strongly Value</td>\n",
       "    </tr>\n",
       "    <tr>\n",
       "      <th>5080</th>\n",
       "      <td>Girl</td>\n",
       "      <td>Almost always</td>\n",
       "      <td>Two Book Cases</td>\n",
       "      <td>Yes</td>\n",
       "      <td>Yes</td>\n",
       "      <td>Yes</td>\n",
       "      <td>Yes</td>\n",
       "      <td>No</td>\n",
       "      <td>Yes</td>\n",
       "      <td>I don’t know</td>\n",
       "      <td>...</td>\n",
       "      <td>Few Lessons</td>\n",
       "      <td>Not Confident in Mathematics</td>\n",
       "      <td>Do Not Value Mathematics</td>\n",
       "      <td>Do not like</td>\n",
       "      <td>Low Clarity of Instruction</td>\n",
       "      <td>Not Confident in Science</td>\n",
       "      <td>Somewhat Value Science</td>\n",
       "      <td>Medium Digital Self-Efficacy</td>\n",
       "      <td>Few Lessons</td>\n",
       "      <td>Very Strongly Value</td>\n",
       "    </tr>\n",
       "    <tr>\n",
       "      <th>5083</th>\n",
       "      <td>Boy</td>\n",
       "      <td>Sometimes</td>\n",
       "      <td>Two Book Cases</td>\n",
       "      <td>Yes</td>\n",
       "      <td>Yes</td>\n",
       "      <td>Yes</td>\n",
       "      <td>Yes</td>\n",
       "      <td>Yes</td>\n",
       "      <td>Yes</td>\n",
       "      <td>I don’t know</td>\n",
       "      <td>...</td>\n",
       "      <td>Some Lessons</td>\n",
       "      <td>Somewhat Confident in Mathematics</td>\n",
       "      <td>Somewhat Value Mathematics</td>\n",
       "      <td>Do not like</td>\n",
       "      <td>Moderate Clarity of Instruction</td>\n",
       "      <td>Not Confident in Science</td>\n",
       "      <td>Do Not Value Science</td>\n",
       "      <td>High Digital Self-Efficacy</td>\n",
       "      <td>Some Lessons</td>\n",
       "      <td>Very Strongly Value</td>\n",
       "    </tr>\n",
       "    <tr>\n",
       "      <th>5089</th>\n",
       "      <td>Boy</td>\n",
       "      <td>Always</td>\n",
       "      <td>One Book Case</td>\n",
       "      <td>Yes</td>\n",
       "      <td>No</td>\n",
       "      <td>Yes</td>\n",
       "      <td>Yes</td>\n",
       "      <td>Yes</td>\n",
       "      <td>Yes</td>\n",
       "      <td>&lt;Short-cycle tertiary education—ISCED Level 5&gt;</td>\n",
       "      <td>...</td>\n",
       "      <td>Some Lessons</td>\n",
       "      <td>Not Confident in Mathematics</td>\n",
       "      <td>Do Not Value Mathematics</td>\n",
       "      <td>Some what like</td>\n",
       "      <td>Moderate Clarity of Instruction</td>\n",
       "      <td>Somewhat Confident in Science</td>\n",
       "      <td>Somewhat Value Science</td>\n",
       "      <td>High Digital Self-Efficacy</td>\n",
       "      <td>Some Lessons</td>\n",
       "      <td>Somewhat Value</td>\n",
       "    </tr>\n",
       "  </tbody>\n",
       "</table>\n",
       "<p>2219 rows × 58 columns</p>\n",
       "</div>"
      ]
     },
     "execution_count": 30,
     "metadata": {},
     "output_type": "execute_result"
    }
   ],
   "execution_count": 30
  },
  {
   "metadata": {},
   "cell_type": "markdown",
   "source": "##### 5.2.1.2.1 Percentage of boys, do not like mathematics",
   "id": "2691417f66bb988c"
  },
  {
   "metadata": {
    "ExecuteTime": {
     "end_time": "2025-03-22T10:58:18.603642Z",
     "start_time": "2025-03-22T10:58:18.587471Z"
    }
   },
   "cell_type": "code",
   "source": "utils.getPercentageByGender(dont_like_maths,df,\"Boy\")",
   "id": "b2079acf9c198de6",
   "outputs": [
    {
     "name": "stdout",
     "output_type": "stream",
     "text": [
      "0.5385015608740895\n"
     ]
    }
   ],
   "execution_count": 31
  },
  {
   "metadata": {},
   "cell_type": "markdown",
   "source": "##### 5.2.1.2.2 Percentage of girls, do not like mathematics",
   "id": "ca6091bbd6c59965"
  },
  {
   "metadata": {
    "ExecuteTime": {
     "end_time": "2025-03-22T10:58:18.691151Z",
     "start_time": "2025-03-22T10:58:18.680071Z"
    }
   },
   "cell_type": "code",
   "source": "utils.getPercentageByGender(dont_like_maths,df,\"Girl\")",
   "id": "8e18ce68af308fd9",
   "outputs": [
    {
     "name": "stdout",
     "output_type": "stream",
     "text": [
      "0.6068515497553018\n"
     ]
    }
   ],
   "execution_count": 32
  },
  {
   "metadata": {},
   "cell_type": "markdown",
   "source": "### 5.2.2 Gender and Likeness for Science",
   "id": "208ea7feb7074452"
  },
  {
   "metadata": {},
   "cell_type": "markdown",
   "source": "#### 5.2.2.1 Gender wise distriibution of students who like Science",
   "id": "e51698bc89e1ca2f"
  },
  {
   "metadata": {
    "ExecuteTime": {
     "end_time": "2025-03-22T10:58:18.903983Z",
     "start_time": "2025-03-22T10:58:18.881742Z"
    }
   },
   "cell_type": "code",
   "source": [
    "ver_much_like = df[\"Students_Like_Learning_Science\"].str.contains(\"Very\")\n",
    "some_what_like = df[\"Students_Like_Learning_Science\"].str.contains(\"Some\")\n",
    "like_science  = df[ver_much_like | some_what_like]\n",
    "like_science.groupby(\"Gender_Student\" , observed=False)[\"Gender_Student\"].describe()\n"
   ],
   "id": "1ddff5148a89fc0a",
   "outputs": [
    {
     "data": {
      "text/plain": [
       "               count unique     top  freq\n",
       "Gender_Student                           \n",
       "Others            77      1  Others    77\n",
       "Boy             1305      1     Boy  1305\n",
       "Girl            1138      1    Girl  1138"
      ],
      "text/html": [
       "<div>\n",
       "<style scoped>\n",
       "    .dataframe tbody tr th:only-of-type {\n",
       "        vertical-align: middle;\n",
       "    }\n",
       "\n",
       "    .dataframe tbody tr th {\n",
       "        vertical-align: top;\n",
       "    }\n",
       "\n",
       "    .dataframe thead th {\n",
       "        text-align: right;\n",
       "    }\n",
       "</style>\n",
       "<table border=\"1\" class=\"dataframe\">\n",
       "  <thead>\n",
       "    <tr style=\"text-align: right;\">\n",
       "      <th></th>\n",
       "      <th>count</th>\n",
       "      <th>unique</th>\n",
       "      <th>top</th>\n",
       "      <th>freq</th>\n",
       "    </tr>\n",
       "    <tr>\n",
       "      <th>Gender_Student</th>\n",
       "      <th></th>\n",
       "      <th></th>\n",
       "      <th></th>\n",
       "      <th></th>\n",
       "    </tr>\n",
       "  </thead>\n",
       "  <tbody>\n",
       "    <tr>\n",
       "      <th>Others</th>\n",
       "      <td>77</td>\n",
       "      <td>1</td>\n",
       "      <td>Others</td>\n",
       "      <td>77</td>\n",
       "    </tr>\n",
       "    <tr>\n",
       "      <th>Boy</th>\n",
       "      <td>1305</td>\n",
       "      <td>1</td>\n",
       "      <td>Boy</td>\n",
       "      <td>1305</td>\n",
       "    </tr>\n",
       "    <tr>\n",
       "      <th>Girl</th>\n",
       "      <td>1138</td>\n",
       "      <td>1</td>\n",
       "      <td>Girl</td>\n",
       "      <td>1138</td>\n",
       "    </tr>\n",
       "  </tbody>\n",
       "</table>\n",
       "</div>"
      ]
     },
     "execution_count": 33,
     "metadata": {},
     "output_type": "execute_result"
    }
   ],
   "execution_count": 33
  },
  {
   "metadata": {
    "ExecuteTime": {
     "end_time": "2025-03-22T10:58:19.201298Z",
     "start_time": "2025-03-22T10:58:18.982587Z"
    }
   },
   "cell_type": "code",
   "source": [
    "fig = plt.figure(figsize=(10,5))\n",
    "sns.countplot(data=like_science, x=\"Gender_Student\", color=\"b\")\n",
    "plt.tight_layout()\n",
    "plt.show()"
   ],
   "id": "7d7d40e18adb0dd4",
   "outputs": [
    {
     "data": {
      "text/plain": [
       "<Figure size 1000x500 with 1 Axes>"
      ],
      "image/png": "[encoded data removed]"
     },
     "metadata": {},
     "output_type": "display_data"
    }
   ],
   "execution_count": 34
  },
  {
   "metadata": {},
   "cell_type": "markdown",
   "source": [
    "\n",
    "##### 5.2.2.1.1 Percentage of boys who like learning science"
   ],
   "id": "aa879294997e89df"
  },
  {
   "metadata": {
    "ExecuteTime": {
     "end_time": "2025-03-22T10:58:19.280137Z",
     "start_time": "2025-03-22T10:58:19.269156Z"
    }
   },
   "cell_type": "code",
   "source": "utils.getPercentageByGender(like_science,df,\"Boy\")",
   "id": "873b06bde8c94146",
   "outputs": [
    {
     "name": "stdout",
     "output_type": "stream",
     "text": [
      "0.6789802289281998\n"
     ]
    }
   ],
   "execution_count": 35
  },
  {
   "metadata": {},
   "cell_type": "markdown",
   "source": "##### 5.2.2.1.2 Percentage of girls who like learning science",
   "id": "bfd542a501a2f999"
  },
  {
   "metadata": {
    "ExecuteTime": {
     "end_time": "2025-03-22T10:58:19.332665Z",
     "start_time": "2025-03-22T10:58:19.319306Z"
    }
   },
   "cell_type": "code",
   "source": "utils.getPercentageByGender(like_science,df,\"Girl\")",
   "id": "e166c096cb1e48d7",
   "outputs": [
    {
     "name": "stdout",
     "output_type": "stream",
     "text": [
      "0.6188145731375748\n"
     ]
    }
   ],
   "execution_count": 36
  },
  {
   "metadata": {},
   "cell_type": "markdown",
   "source": "#### 5.2.2.2 Gender wise distriibution of students, who do not like Science",
   "id": "8d98ea61c9b8bfbf"
  },
  {
   "metadata": {
    "ExecuteTime": {
     "end_time": "2025-03-22T10:58:19.820411Z",
     "start_time": "2025-03-22T10:58:19.470621Z"
    }
   },
   "cell_type": "code",
   "source": [
    "dont_like_science, math_grouped = utils.subjectLikeness(df,\"Science\", \"Do not\")\n",
    "gender_groped.describe()"
   ],
   "id": "d44d7b6a1e09c183",
   "outputs": [
    {
     "data": {
      "text/plain": [
       "<Figure size 1000x600 with 2 Axes>"
      ],
      "image/png": "[encoded data removed]"
     },
     "metadata": {},
     "output_type": "display_data"
    },
    {
     "data": {
      "text/plain": [
       "               count unique     top  freq\n",
       "Gender_Student                           \n",
       "Others            68      1  Others    68\n",
       "Boy             1035      1     Boy  1035\n",
       "Girl            1116      1    Girl  1116"
      ],
      "text/html": [
       "<div>\n",
       "<style scoped>\n",
       "    .dataframe tbody tr th:only-of-type {\n",
       "        vertical-align: middle;\n",
       "    }\n",
       "\n",
       "    .dataframe tbody tr th {\n",
       "        vertical-align: top;\n",
       "    }\n",
       "\n",
       "    .dataframe thead th {\n",
       "        text-align: right;\n",
       "    }\n",
       "</style>\n",
       "<table border=\"1\" class=\"dataframe\">\n",
       "  <thead>\n",
       "    <tr style=\"text-align: right;\">\n",
       "      <th></th>\n",
       "      <th>count</th>\n",
       "      <th>unique</th>\n",
       "      <th>top</th>\n",
       "      <th>freq</th>\n",
       "    </tr>\n",
       "    <tr>\n",
       "      <th>Gender_Student</th>\n",
       "      <th></th>\n",
       "      <th></th>\n",
       "      <th></th>\n",
       "      <th></th>\n",
       "    </tr>\n",
       "  </thead>\n",
       "  <tbody>\n",
       "    <tr>\n",
       "      <th>Others</th>\n",
       "      <td>68</td>\n",
       "      <td>1</td>\n",
       "      <td>Others</td>\n",
       "      <td>68</td>\n",
       "    </tr>\n",
       "    <tr>\n",
       "      <th>Boy</th>\n",
       "      <td>1035</td>\n",
       "      <td>1</td>\n",
       "      <td>Boy</td>\n",
       "      <td>1035</td>\n",
       "    </tr>\n",
       "    <tr>\n",
       "      <th>Girl</th>\n",
       "      <td>1116</td>\n",
       "      <td>1</td>\n",
       "      <td>Girl</td>\n",
       "      <td>1116</td>\n",
       "    </tr>\n",
       "  </tbody>\n",
       "</table>\n",
       "</div>"
      ]
     },
     "execution_count": 37,
     "metadata": {},
     "output_type": "execute_result"
    }
   ],
   "execution_count": 37
  },
  {
   "metadata": {},
   "cell_type": "markdown",
   "source": [
    "\n",
    "##### 5.2.2.2.1 Percentage of boys don't like learning science"
   ],
   "id": "7f0f3afa39d1c965"
  },
  {
   "metadata": {
    "ExecuteTime": {
     "end_time": "2025-03-22T10:58:20.077186Z",
     "start_time": "2025-03-22T10:58:20.064377Z"
    }
   },
   "cell_type": "code",
   "source": "utils.getPercentageByGender(dont_like_maths,df,\"Boy\")",
   "id": "6246cc079450a88e",
   "outputs": [
    {
     "name": "stdout",
     "output_type": "stream",
     "text": [
      "0.5385015608740895\n"
     ]
    }
   ],
   "execution_count": 38
  },
  {
   "metadata": {},
   "cell_type": "markdown",
   "source": [
    "\n",
    "##### 5.2.2.2.2 Percentage of girls don't like learning science"
   ],
   "id": "6aa5bf8dfc91a26d"
  },
  {
   "metadata": {
    "ExecuteTime": {
     "end_time": "2025-03-22T10:58:20.179494Z",
     "start_time": "2025-03-22T10:58:20.165371Z"
    }
   },
   "cell_type": "code",
   "source": "utils.getPercentageByGender(dont_like_maths,df,\"Girl\")",
   "id": "b9f2fcb8216667b1",
   "outputs": [
    {
     "name": "stdout",
     "output_type": "stream",
     "text": [
      "0.6068515497553018\n"
     ]
    }
   ],
   "execution_count": 39
  },
  {
   "metadata": {
    "ExecuteTime": {
     "end_time": "2025-03-22T10:58:20.220437Z",
     "start_time": "2025-03-22T10:58:20.216518Z"
    }
   },
   "cell_type": "code",
   "source": "",
   "id": "d852e3f7138c6d42",
   "outputs": [],
   "execution_count": null
  },
  {
   "metadata": {},
   "cell_type": "markdown",
   "source": "## 5.3 Confidence and Gender",
   "id": "83d66f923dafe2fe"
  },
  {
   "metadata": {
    "ExecuteTime": {
     "end_time": "2025-03-22T10:58:20.301597Z",
     "start_time": "2025-03-22T10:58:20.278497Z"
    }
   },
   "cell_type": "code",
   "source": [
    "subject_confidence_mask = df.columns.str.contains(\"Confident\")\n",
    "df[df.columns[subject_confidence_mask]].value_counts()"
   ],
   "id": "78c01a153f816282",
   "outputs": [
    {
     "data": {
      "text/plain": [
       "Students_Confident_in_Mathematics  Students_Confident_in_Science\n",
       "Not Confident in Mathematics       Not Confident in Science         1030\n",
       "                                   Somewhat Confident in Science     712\n",
       "Somewhat Confident in Mathematics  Somewhat Confident in Science     673\n",
       "                                   Not Confident in Science          502\n",
       "                                   Very Confident in Science         248\n",
       "Very Confident in Mathematics      Very Confident in Science         221\n",
       "                                   Somewhat Confident in Science     196\n",
       "Not Confident in Mathematics       Very Confident in Science         168\n",
       "Very Confident in Mathematics      Not Confident in Science          125\n",
       "Name: count, dtype: int64"
      ]
     },
     "execution_count": 40,
     "metadata": {},
     "output_type": "execute_result"
    }
   ],
   "execution_count": 40
  },
  {
   "metadata": {
    "ExecuteTime": {
     "end_time": "2025-03-22T10:58:20.509266Z",
     "start_time": "2025-03-22T10:58:20.491592Z"
    }
   },
   "cell_type": "code",
   "source": [
    "df[\"Students_Confident_in_Mathematics\"] = df[\"Students_Confident_in_Mathematics\"].apply(lambda x: \"Not Confident\" if \"Not\" in str(x) else x )\n",
    "df[\"Students_Confident_in_Mathematics\"] = df[\"Students_Confident_in_Mathematics\"].apply(lambda x: \"Some what confident\" if \"Somewhat\" in str(x) else x )\n",
    "df[\"Students_Confident_in_Mathematics\"] = df[\"Students_Confident_in_Mathematics\"].apply(lambda x: \"Very confident\" if \"Very\" in str(x) else x )\n",
    "df[\"Students_Confident_in_Mathematics\"].value_counts()\n",
    "\n"
   ],
   "id": "3458741bd4b862ca",
   "outputs": [
    {
     "data": {
      "text/plain": [
       "Students_Confident_in_Mathematics\n",
       "Not Confident          1910\n",
       "Some what confident    1423\n",
       "Very confident          542\n",
       "Name: count, dtype: int64"
      ]
     },
     "execution_count": 41,
     "metadata": {},
     "output_type": "execute_result"
    }
   ],
   "execution_count": 41
  },
  {
   "metadata": {
    "ExecuteTime": {
     "end_time": "2025-03-22T10:58:20.611238Z",
     "start_time": "2025-03-22T10:58:20.595859Z"
    }
   },
   "cell_type": "code",
   "source": [
    "df[\"Students_Confident_in_Science\"] = df[\"Students_Confident_in_Science\"].apply(lambda x: \"Not Confident\" if \"Not\" in str(x) else x )\n",
    "df[\"Students_Confident_in_Science\"] = df[\"Students_Confident_in_Science\"].apply(lambda x: \"Some what confident\" if \"Somewhat\" in str(x) else x )\n",
    "df[\"Students_Confident_in_Science\"] = df[\"Students_Confident_in_Science\"].apply(lambda x: \"Very confident\" if \"Very\" in str(x) else x )\n",
    "df[\"Students_Confident_in_Science\"].value_counts()\n",
    "\n"
   ],
   "id": "5d1dd56dc6752fb8",
   "outputs": [
    {
     "data": {
      "text/plain": [
       "Students_Confident_in_Science\n",
       "Not Confident          1657\n",
       "Some what confident    1581\n",
       "Very confident          637\n",
       "Name: count, dtype: int64"
      ]
     },
     "execution_count": 42,
     "metadata": {},
     "output_type": "execute_result"
    }
   ],
   "execution_count": 42
  },
  {
   "metadata": {},
   "cell_type": "markdown",
   "source": "### 5.3.1 Gender and Confidence in Mathematics",
   "id": "a3ad2d37686bb4f4"
  },
  {
   "metadata": {},
   "cell_type": "markdown",
   "source": "#### 5.3.1.1 Gender wise distribution of students are confident Mathematics",
   "id": "3ff58f7468617b5b"
  },
  {
   "metadata": {
    "ExecuteTime": {
     "end_time": "2025-03-22T10:58:20.847515Z",
     "start_time": "2025-03-22T10:58:20.815083Z"
    }
   },
   "cell_type": "code",
   "source": [
    "ver_much_like = df[\"Students_Confident_in_Mathematics\"].str.contains(\"Very\")\n",
    "some_what_like = df[\"Students_Confident_in_Mathematics\"].str.contains(\"Some\")\n",
    "confident_in_maths  = df[ver_much_like | some_what_like]\n",
    "confident_in_maths.groupby(\"Gender_Student\" , observed=False)[\"Gender_Student\"].describe()\n"
   ],
   "id": "e792dc86cb56506",
   "outputs": [
    {
     "data": {
      "text/plain": [
       "               count unique     top  freq\n",
       "Gender_Student                           \n",
       "Others            56      1  Others    56\n",
       "Boy             1068      1     Boy  1068\n",
       "Girl             841      1    Girl   841"
      ],
      "text/html": [
       "<div>\n",
       "<style scoped>\n",
       "    .dataframe tbody tr th:only-of-type {\n",
       "        vertical-align: middle;\n",
       "    }\n",
       "\n",
       "    .dataframe tbody tr th {\n",
       "        vertical-align: top;\n",
       "    }\n",
       "\n",
       "    .dataframe thead th {\n",
       "        text-align: right;\n",
       "    }\n",
       "</style>\n",
       "<table border=\"1\" class=\"dataframe\">\n",
       "  <thead>\n",
       "    <tr style=\"text-align: right;\">\n",
       "      <th></th>\n",
       "      <th>count</th>\n",
       "      <th>unique</th>\n",
       "      <th>top</th>\n",
       "      <th>freq</th>\n",
       "    </tr>\n",
       "    <tr>\n",
       "      <th>Gender_Student</th>\n",
       "      <th></th>\n",
       "      <th></th>\n",
       "      <th></th>\n",
       "      <th></th>\n",
       "    </tr>\n",
       "  </thead>\n",
       "  <tbody>\n",
       "    <tr>\n",
       "      <th>Others</th>\n",
       "      <td>56</td>\n",
       "      <td>1</td>\n",
       "      <td>Others</td>\n",
       "      <td>56</td>\n",
       "    </tr>\n",
       "    <tr>\n",
       "      <th>Boy</th>\n",
       "      <td>1068</td>\n",
       "      <td>1</td>\n",
       "      <td>Boy</td>\n",
       "      <td>1068</td>\n",
       "    </tr>\n",
       "    <tr>\n",
       "      <th>Girl</th>\n",
       "      <td>841</td>\n",
       "      <td>1</td>\n",
       "      <td>Girl</td>\n",
       "      <td>841</td>\n",
       "    </tr>\n",
       "  </tbody>\n",
       "</table>\n",
       "</div>"
      ]
     },
     "execution_count": 43,
     "metadata": {},
     "output_type": "execute_result"
    }
   ],
   "execution_count": 43
  },
  {
   "metadata": {
    "ExecuteTime": {
     "end_time": "2025-03-22T10:58:21.220425Z",
     "start_time": "2025-03-22T10:58:20.986742Z"
    }
   },
   "cell_type": "code",
   "source": [
    "fig = plt.figure(figsize=(10,5))\n",
    "sns.countplot(data=confident_in_maths, x=\"Gender_Student\", color=\"b\")\n",
    "plt.tight_layout()\n",
    "plt.show()"
   ],
   "id": "660ab6cd3c47f9ff",
   "outputs": [
    {
     "data": {
      "text/plain": [
       "<Figure size 1000x500 with 1 Axes>"
      ],
      "image/png": "[encoded data removed]"
     },
     "metadata": {},
     "output_type": "display_data"
    }
   ],
   "execution_count": 44
  },
  {
   "metadata": {},
   "cell_type": "markdown",
   "source": "##### 5.3.1.1.1 Percentage of boys, who are confident in mathematics",
   "id": "3ef1f57f6323de0b"
  },
  {
   "metadata": {
    "ExecuteTime": {
     "end_time": "2025-03-22T10:58:21.316711Z",
     "start_time": "2025-03-22T10:58:21.300217Z"
    }
   },
   "cell_type": "code",
   "source": "utils.getPercentageByGender(confident_in_maths,df,\"Boy\")",
   "id": "34102112241ddfd7",
   "outputs": [
    {
     "name": "stdout",
     "output_type": "stream",
     "text": [
      "0.5556711758584808\n"
     ]
    }
   ],
   "execution_count": 45
  },
  {
   "metadata": {},
   "cell_type": "markdown",
   "source": "##### 5.3.1.1.2 Percentage of girls, who are confident in mathematics",
   "id": "7fd78eea61d42e7d"
  },
  {
   "metadata": {
    "ExecuteTime": {
     "end_time": "2025-03-22T10:58:21.359899Z",
     "start_time": "2025-03-22T10:58:21.346368Z"
    }
   },
   "cell_type": "code",
   "source": "utils.getPercentageByGender(confident_in_maths,df,\"Girl\")",
   "id": "76026995447f2468",
   "outputs": [
    {
     "name": "stdout",
     "output_type": "stream",
     "text": [
      "0.4573137574768896\n"
     ]
    }
   ],
   "execution_count": 46
  },
  {
   "metadata": {},
   "cell_type": "markdown",
   "source": "#### 5.3.1.2 Gender wise distribution of students who are not confident in Mathematics",
   "id": "fa421859d7a48939"
  },
  {
   "metadata": {
    "ExecuteTime": {
     "end_time": "2025-03-22T10:58:21.467184Z",
     "start_time": "2025-03-22T10:58:21.441236Z"
    }
   },
   "cell_type": "code",
   "source": [
    "not_confident = df[\"Students_Confident_in_Mathematics\"].str.contains(\"Not\")\n",
    "not_confident_in_maths  = df[not_confident]\n",
    "not_confident_in_maths.groupby(\"Gender_Student\" , observed=False)[\"Gender_Student\"].describe()\n"
   ],
   "id": "5b513ca68072f9cc",
   "outputs": [
    {
     "data": {
      "text/plain": [
       "               count unique     top freq\n",
       "Gender_Student                          \n",
       "Others            58      1  Others   58\n",
       "Boy              854      1     Boy  854\n",
       "Girl             998      1    Girl  998"
      ],
      "text/html": [
       "<div>\n",
       "<style scoped>\n",
       "    .dataframe tbody tr th:only-of-type {\n",
       "        vertical-align: middle;\n",
       "    }\n",
       "\n",
       "    .dataframe tbody tr th {\n",
       "        vertical-align: top;\n",
       "    }\n",
       "\n",
       "    .dataframe thead th {\n",
       "        text-align: right;\n",
       "    }\n",
       "</style>\n",
       "<table border=\"1\" class=\"dataframe\">\n",
       "  <thead>\n",
       "    <tr style=\"text-align: right;\">\n",
       "      <th></th>\n",
       "      <th>count</th>\n",
       "      <th>unique</th>\n",
       "      <th>top</th>\n",
       "      <th>freq</th>\n",
       "    </tr>\n",
       "    <tr>\n",
       "      <th>Gender_Student</th>\n",
       "      <th></th>\n",
       "      <th></th>\n",
       "      <th></th>\n",
       "      <th></th>\n",
       "    </tr>\n",
       "  </thead>\n",
       "  <tbody>\n",
       "    <tr>\n",
       "      <th>Others</th>\n",
       "      <td>58</td>\n",
       "      <td>1</td>\n",
       "      <td>Others</td>\n",
       "      <td>58</td>\n",
       "    </tr>\n",
       "    <tr>\n",
       "      <th>Boy</th>\n",
       "      <td>854</td>\n",
       "      <td>1</td>\n",
       "      <td>Boy</td>\n",
       "      <td>854</td>\n",
       "    </tr>\n",
       "    <tr>\n",
       "      <th>Girl</th>\n",
       "      <td>998</td>\n",
       "      <td>1</td>\n",
       "      <td>Girl</td>\n",
       "      <td>998</td>\n",
       "    </tr>\n",
       "  </tbody>\n",
       "</table>\n",
       "</div>"
      ]
     },
     "execution_count": 47,
     "metadata": {},
     "output_type": "execute_result"
    }
   ],
   "execution_count": 47
  },
  {
   "metadata": {},
   "cell_type": "markdown",
   "source": "##### 5.3.1.2.1 Percentage of boys, who are not confident mathematics",
   "id": "b456b5a58082e78a"
  },
  {
   "metadata": {
    "ExecuteTime": {
     "end_time": "2025-03-22T10:58:21.594608Z",
     "start_time": "2025-03-22T10:58:21.581790Z"
    }
   },
   "cell_type": "code",
   "source": "utils.getPercentageByGender(not_confident_in_maths,df,\"Boy\")",
   "id": "3fc79755de37ad0f",
   "outputs": [
    {
     "name": "stdout",
     "output_type": "stream",
     "text": [
      "0.44432882414151925\n"
     ]
    }
   ],
   "execution_count": 48
  },
  {
   "metadata": {},
   "cell_type": "markdown",
   "source": "##### 5.3.1.2.2 Percentage of girls, who are not confident in mathematics",
   "id": "df0ed8eb02140e8f"
  },
  {
   "metadata": {
    "ExecuteTime": {
     "end_time": "2025-03-22T10:58:21.857190Z",
     "start_time": "2025-03-22T10:58:21.837630Z"
    }
   },
   "cell_type": "code",
   "source": "utils.getPercentageByGender(not_confident_in_maths,df,\"Girl\")",
   "id": "90780533f69d682f",
   "outputs": [
    {
     "name": "stdout",
     "output_type": "stream",
     "text": [
      "0.5426862425231104\n"
     ]
    }
   ],
   "execution_count": 49
  },
  {
   "metadata": {},
   "cell_type": "markdown",
   "source": "### 5.3.2 Gender and Confidence in Science",
   "id": "9e7116b76390f0ae"
  },
  {
   "metadata": {},
   "cell_type": "markdown",
   "source": "#### 5.3.2.1 Gender wise distriibution of students who like Science",
   "id": "6521657bb58783fe"
  },
  {
   "metadata": {
    "ExecuteTime": {
     "end_time": "2025-03-22T10:58:22.107620Z",
     "start_time": "2025-03-22T10:58:22.071785Z"
    }
   },
   "cell_type": "code",
   "source": [
    "ver_much_like = df[\"Students_Confident_in_Science\"].str.contains(\"Very\")\n",
    "some_what_like = df[\"Students_Confident_in_Science\"].str.contains(\"Some\")\n",
    "confident_in_science  = df[ver_much_like | some_what_like]\n",
    "confident_in_science.groupby(\"Gender_Student\" , observed=False)[\"Gender_Student\"].describe()\n"
   ],
   "id": "4c7b06e41e6c5cf0",
   "outputs": [
    {
     "data": {
      "text/plain": [
       "               count unique     top  freq\n",
       "Gender_Student                           \n",
       "Others            69      1  Others    69\n",
       "Boy             1187      1     Boy  1187\n",
       "Girl             962      1    Girl   962"
      ],
      "text/html": [
       "<div>\n",
       "<style scoped>\n",
       "    .dataframe tbody tr th:only-of-type {\n",
       "        vertical-align: middle;\n",
       "    }\n",
       "\n",
       "    .dataframe tbody tr th {\n",
       "        vertical-align: top;\n",
       "    }\n",
       "\n",
       "    .dataframe thead th {\n",
       "        text-align: right;\n",
       "    }\n",
       "</style>\n",
       "<table border=\"1\" class=\"dataframe\">\n",
       "  <thead>\n",
       "    <tr style=\"text-align: right;\">\n",
       "      <th></th>\n",
       "      <th>count</th>\n",
       "      <th>unique</th>\n",
       "      <th>top</th>\n",
       "      <th>freq</th>\n",
       "    </tr>\n",
       "    <tr>\n",
       "      <th>Gender_Student</th>\n",
       "      <th></th>\n",
       "      <th></th>\n",
       "      <th></th>\n",
       "      <th></th>\n",
       "    </tr>\n",
       "  </thead>\n",
       "  <tbody>\n",
       "    <tr>\n",
       "      <th>Others</th>\n",
       "      <td>69</td>\n",
       "      <td>1</td>\n",
       "      <td>Others</td>\n",
       "      <td>69</td>\n",
       "    </tr>\n",
       "    <tr>\n",
       "      <th>Boy</th>\n",
       "      <td>1187</td>\n",
       "      <td>1</td>\n",
       "      <td>Boy</td>\n",
       "      <td>1187</td>\n",
       "    </tr>\n",
       "    <tr>\n",
       "      <th>Girl</th>\n",
       "      <td>962</td>\n",
       "      <td>1</td>\n",
       "      <td>Girl</td>\n",
       "      <td>962</td>\n",
       "    </tr>\n",
       "  </tbody>\n",
       "</table>\n",
       "</div>"
      ]
     },
     "execution_count": 50,
     "metadata": {},
     "output_type": "execute_result"
    }
   ],
   "execution_count": 50
  },
  {
   "metadata": {
    "ExecuteTime": {
     "end_time": "2025-03-22T10:58:22.531192Z",
     "start_time": "2025-03-22T10:58:22.225713Z"
    }
   },
   "cell_type": "code",
   "source": [
    "fig = plt.figure(figsize=(10,5))\n",
    "sns.countplot(data=confident_in_science, x=\"Gender_Student\", color=\"b\")\n",
    "plt.tight_layout()\n",
    "plt.show()"
   ],
   "id": "bd22ca338fbc76a9",
   "outputs": [
    {
     "data": {
      "text/plain": [
       "<Figure size 1000x500 with 1 Axes>"
      ],
      "image/png": "[encoded data removed]"
     },
     "metadata": {},
     "output_type": "display_data"
    }
   ],
   "execution_count": 51
  },
  {
   "metadata": {},
   "cell_type": "markdown",
   "source": [
    "\n",
    "##### 5.3.2.1.1 Percentage of boys who like learning science"
   ],
   "id": "4f473af0d7b916cc"
  },
  {
   "metadata": {
    "ExecuteTime": {
     "end_time": "2025-03-22T10:58:22.593911Z",
     "start_time": "2025-03-22T10:58:22.583936Z"
    }
   },
   "cell_type": "code",
   "source": "utils.getPercentageByGender(confident_in_science,df,\"Boy\")",
   "id": "295380da2dc6c654",
   "outputs": [
    {
     "name": "stdout",
     "output_type": "stream",
     "text": [
      "0.617585848074922\n"
     ]
    }
   ],
   "execution_count": 52
  },
  {
   "metadata": {},
   "cell_type": "markdown",
   "source": "##### 5.3.2.1.2 Percentage of girls who like learning science",
   "id": "e16d46ac84d5de8e"
  },
  {
   "metadata": {
    "ExecuteTime": {
     "end_time": "2025-03-22T10:58:22.831235Z",
     "start_time": "2025-03-22T10:58:22.807630Z"
    }
   },
   "cell_type": "code",
   "source": "utils.getPercentageByGender(confident_in_science,df,\"Girl\")",
   "id": "2bcbd0c1380f4011",
   "outputs": [
    {
     "name": "stdout",
     "output_type": "stream",
     "text": [
      "0.523110386079391\n"
     ]
    }
   ],
   "execution_count": 53
  },
  {
   "metadata": {},
   "cell_type": "markdown",
   "source": "#### 5.3.2.2 Gender wise distriibution of students, who are not confident in Science",
   "id": "f9a16ca54b804d09"
  },
  {
   "metadata": {
    "ExecuteTime": {
     "end_time": "2025-03-22T10:58:22.897610Z",
     "start_time": "2025-03-22T10:58:22.859696Z"
    }
   },
   "cell_type": "code",
   "source": [
    "not_confident = df[\"Students_Confident_in_Science\"].str.contains(\"Not\")\n",
    "not_confident_in_science  = df[not_confident]\n",
    "not_confident_in_science.groupby(\"Gender_Student\" , observed=False)[\"Gender_Student\"].describe()\n"
   ],
   "id": "995acf3fdc0e22fb",
   "outputs": [
    {
     "data": {
      "text/plain": [
       "               count unique     top freq\n",
       "Gender_Student                          \n",
       "Others            45      1  Others   45\n",
       "Boy              735      1     Boy  735\n",
       "Girl             877      1    Girl  877"
      ],
      "text/html": [
       "<div>\n",
       "<style scoped>\n",
       "    .dataframe tbody tr th:only-of-type {\n",
       "        vertical-align: middle;\n",
       "    }\n",
       "\n",
       "    .dataframe tbody tr th {\n",
       "        vertical-align: top;\n",
       "    }\n",
       "\n",
       "    .dataframe thead th {\n",
       "        text-align: right;\n",
       "    }\n",
       "</style>\n",
       "<table border=\"1\" class=\"dataframe\">\n",
       "  <thead>\n",
       "    <tr style=\"text-align: right;\">\n",
       "      <th></th>\n",
       "      <th>count</th>\n",
       "      <th>unique</th>\n",
       "      <th>top</th>\n",
       "      <th>freq</th>\n",
       "    </tr>\n",
       "    <tr>\n",
       "      <th>Gender_Student</th>\n",
       "      <th></th>\n",
       "      <th></th>\n",
       "      <th></th>\n",
       "      <th></th>\n",
       "    </tr>\n",
       "  </thead>\n",
       "  <tbody>\n",
       "    <tr>\n",
       "      <th>Others</th>\n",
       "      <td>45</td>\n",
       "      <td>1</td>\n",
       "      <td>Others</td>\n",
       "      <td>45</td>\n",
       "    </tr>\n",
       "    <tr>\n",
       "      <th>Boy</th>\n",
       "      <td>735</td>\n",
       "      <td>1</td>\n",
       "      <td>Boy</td>\n",
       "      <td>735</td>\n",
       "    </tr>\n",
       "    <tr>\n",
       "      <th>Girl</th>\n",
       "      <td>877</td>\n",
       "      <td>1</td>\n",
       "      <td>Girl</td>\n",
       "      <td>877</td>\n",
       "    </tr>\n",
       "  </tbody>\n",
       "</table>\n",
       "</div>"
      ]
     },
     "execution_count": 54,
     "metadata": {},
     "output_type": "execute_result"
    }
   ],
   "execution_count": 54
  },
  {
   "metadata": {
    "ExecuteTime": {
     "start_time": "2025-03-22T10:58:23.200416Z"
    }
   },
   "cell_type": "code",
   "source": [
    "fig = plt.figure(figsize=(10,5))\n",
    "sns.countplot(data=not_confident_in_science, x=\"Gender_Student\", color=\"b\")\n",
    "plt.tight_layout()\n",
    "plt.show()"
   ],
   "id": "c588a6f79065ac4a",
   "outputs": [],
   "execution_count": null
  },
  {
   "metadata": {},
   "cell_type": "markdown",
   "source": [
    "\n",
    "##### 5.3.2.2.1 Percentage of boys not confident in science"
   ],
   "id": "a026e789e1464374"
  },
  {
   "metadata": {
    "ExecuteTime": {
     "end_time": "2025-03-20T14:55:20.256279Z",
     "start_time": "2025-03-20T14:55:20.246293Z"
    }
   },
   "cell_type": "code",
   "source": "utils.getPercentageByGender(not_confident_in_science,df,\"Boy\")",
   "id": "cfbb865a52542e37",
   "outputs": [
    {
     "name": "stdout",
     "output_type": "stream",
     "text": [
      "0.38241415192507805\n"
     ]
    }
   ],
   "execution_count": 489
  },
  {
   "metadata": {},
   "cell_type": "markdown",
   "source": [
    "\n",
    "##### 5.2.2.2.2 Percentage of girls don't like learning science"
   ],
   "id": "20efa1c77cf62d0d"
  },
  {
   "metadata": {
    "ExecuteTime": {
     "end_time": "2025-03-20T14:55:20.347192Z",
     "start_time": "2025-03-20T14:55:20.330885Z"
    }
   },
   "cell_type": "code",
   "source": "utils.getPercentageByGender(not_confident_in_science,df,\"Girl\")",
   "id": "8a63fa3d76eed9ed",
   "outputs": [
    {
     "name": "stdout",
     "output_type": "stream",
     "text": [
      "0.476889613920609\n"
     ]
    }
   ],
   "execution_count": 490
  },
  {
   "metadata": {},
   "cell_type": "markdown",
   "source": "## 5.4 Subject Clarity  and Gender",
   "id": "58e96a96d0723ae9"
  },
  {
   "metadata": {
    "ExecuteTime": {
     "end_time": "2025-03-20T14:55:20.432720Z",
     "start_time": "2025-03-20T14:55:20.416096Z"
    }
   },
   "cell_type": "code",
   "source": [
    "clarity_mask = df.columns.str.contains(\"Clarity\")\n",
    "df[df.columns[clarity_mask]].value_counts()"
   ],
   "id": "f90c561476ae26bc",
   "outputs": [
    {
     "data": {
      "text/plain": [
       "Instructional_Clarity_in_Mathematics_Lessons  Instructional_Clarity_in_Science_Lessons\n",
       "High Clarity of Instruction                   High Clarity of Instruction                 920\n",
       "Moderate Clarity of Instruction               Moderate Clarity of Instruction             641\n",
       "                                              High Clarity of Instruction                 502\n",
       "High Clarity of Instruction                   Moderate Clarity of Instruction             480\n",
       "Low Clarity of Instruction                    High Clarity of Instruction                 311\n",
       "                                              Moderate Clarity of Instruction             285\n",
       "Moderate Clarity of Instruction               Low Clarity of Instruction                  257\n",
       "High Clarity of Instruction                   Low Clarity of Instruction                  252\n",
       "Low Clarity of Instruction                    Low Clarity of Instruction                  227\n",
       "Name: count, dtype: int64"
      ]
     },
     "execution_count": 491,
     "metadata": {},
     "output_type": "execute_result"
    }
   ],
   "execution_count": 491
  },
  {
   "metadata": {
    "ExecuteTime": {
     "end_time": "2025-03-20T14:55:20.520989Z",
     "start_time": "2025-03-20T14:55:20.497834Z"
    }
   },
   "cell_type": "code",
   "source": [
    "df[\"Instructional_Clarity_in_Mathematics_Lessons\"] = df[\"Instructional_Clarity_in_Mathematics_Lessons\"].apply(lambda x: \"High\" if \"High\" in str(x) else x )\n",
    "df[\"Instructional_Clarity_in_Mathematics_Lessons\"] = df[\"Instructional_Clarity_in_Mathematics_Lessons\"].apply(lambda x: \"Moderate\" if \"Moderate\" in str(x) else x )\n",
    "df[\"Instructional_Clarity_in_Mathematics_Lessons\"] = df[\"Instructional_Clarity_in_Mathematics_Lessons\"].apply(lambda x: \"Low\" if \"Low\" in str(x) else x )\n",
    "df[\"Instructional_Clarity_in_Mathematics_Lessons\"].value_counts()\n",
    "\n"
   ],
   "id": "277a95e0b47a87cd",
   "outputs": [
    {
     "data": {
      "text/plain": [
       "Instructional_Clarity_in_Mathematics_Lessons\n",
       "High        1652\n",
       "Moderate    1400\n",
       "Low          823\n",
       "Name: count, dtype: int64"
      ]
     },
     "execution_count": 492,
     "metadata": {},
     "output_type": "execute_result"
    }
   ],
   "execution_count": 492
  },
  {
   "metadata": {
    "ExecuteTime": {
     "end_time": "2025-03-20T14:55:20.573706Z",
     "start_time": "2025-03-20T14:55:20.554881Z"
    }
   },
   "cell_type": "code",
   "source": [
    "df[\"Instructional_Clarity_in_Science_Lessons\"] = df[\"Instructional_Clarity_in_Science_Lessons\"].apply(lambda x: \"High\" if \"High\" in str(x) else x )\n",
    "df[\"Instructional_Clarity_in_Science_Lessons\"] = df[\"Instructional_Clarity_in_Science_Lessons\"].apply(lambda x: \"Moderate\" if \"Moderate\" in str(x) else x )\n",
    "df[\"Instructional_Clarity_in_Science_Lessons\"] = df[\"Instructional_Clarity_in_Science_Lessons\"].apply(lambda x: \"Low\" if \"Low\" in str(x) else x )\n",
    "df[\"Instructional_Clarity_in_Science_Lessons\"].value_counts()\n",
    "\n"
   ],
   "id": "c7cb0fe7f3d0e29f",
   "outputs": [
    {
     "data": {
      "text/plain": [
       "Instructional_Clarity_in_Science_Lessons\n",
       "High        1733\n",
       "Moderate    1406\n",
       "Low          736\n",
       "Name: count, dtype: int64"
      ]
     },
     "execution_count": 493,
     "metadata": {},
     "output_type": "execute_result"
    }
   ],
   "execution_count": 493
  },
  {
   "metadata": {},
   "cell_type": "markdown",
   "source": "### 5.4.1 Gender and Clarity in Mathematics",
   "id": "cbc64f4ac50e6154"
  },
  {
   "metadata": {},
   "cell_type": "markdown",
   "source": "#### 5.4.1.1 Gender wise distribution of students with clarity in Mathmatics Lessons\n",
   "id": "9f31ea1ce17f1d1b"
  },
  {
   "metadata": {
    "ExecuteTime": {
     "end_time": "2025-03-20T14:55:20.656997Z",
     "start_time": "2025-03-20T14:55:20.621092Z"
    }
   },
   "cell_type": "code",
   "source": [
    "high_clarity = df[\"Instructional_Clarity_in_Mathematics_Lessons\"].str.contains(\"High\")\n",
    "moderate_clarity = df[\"Instructional_Clarity_in_Mathematics_Lessons\"].str.contains(\"Moderate\")\n",
    "clarity_in_maths  = df[high_clarity | moderate_clarity]\n",
    "clarity_in_maths.groupby(\"Gender_Student\" , observed=False)[\"Gender_Student\"].describe()\n"
   ],
   "id": "2c7d197b5de68203",
   "outputs": [
    {
     "data": {
      "text/plain": [
       "               count unique     top  freq\n",
       "Gender_Student                           \n",
       "Others            82      1  Others    82\n",
       "Boy             1577      1     Boy  1577\n",
       "Girl            1393      1    Girl  1393"
      ],
      "text/html": [
       "<div>\n",
       "<style scoped>\n",
       "    .dataframe tbody tr th:only-of-type {\n",
       "        vertical-align: middle;\n",
       "    }\n",
       "\n",
       "    .dataframe tbody tr th {\n",
       "        vertical-align: top;\n",
       "    }\n",
       "\n",
       "    .dataframe thead th {\n",
       "        text-align: right;\n",
       "    }\n",
       "</style>\n",
       "<table border=\"1\" class=\"dataframe\">\n",
       "  <thead>\n",
       "    <tr style=\"text-align: right;\">\n",
       "      <th></th>\n",
       "      <th>count</th>\n",
       "      <th>unique</th>\n",
       "      <th>top</th>\n",
       "      <th>freq</th>\n",
       "    </tr>\n",
       "    <tr>\n",
       "      <th>Gender_Student</th>\n",
       "      <th></th>\n",
       "      <th></th>\n",
       "      <th></th>\n",
       "      <th></th>\n",
       "    </tr>\n",
       "  </thead>\n",
       "  <tbody>\n",
       "    <tr>\n",
       "      <th>Others</th>\n",
       "      <td>82</td>\n",
       "      <td>1</td>\n",
       "      <td>Others</td>\n",
       "      <td>82</td>\n",
       "    </tr>\n",
       "    <tr>\n",
       "      <th>Boy</th>\n",
       "      <td>1577</td>\n",
       "      <td>1</td>\n",
       "      <td>Boy</td>\n",
       "      <td>1577</td>\n",
       "    </tr>\n",
       "    <tr>\n",
       "      <th>Girl</th>\n",
       "      <td>1393</td>\n",
       "      <td>1</td>\n",
       "      <td>Girl</td>\n",
       "      <td>1393</td>\n",
       "    </tr>\n",
       "  </tbody>\n",
       "</table>\n",
       "</div>"
      ]
     },
     "execution_count": 494,
     "metadata": {},
     "output_type": "execute_result"
    }
   ],
   "execution_count": 494
  },
  {
   "metadata": {
    "ExecuteTime": {
     "end_time": "2025-03-20T14:55:20.826093Z",
     "start_time": "2025-03-20T14:55:20.680309Z"
    }
   },
   "cell_type": "code",
   "source": [
    "fig = plt.figure(figsize=(10,5))\n",
    "sns.countplot(data=clarity_in_maths, x=\"Gender_Student\", color=\"b\")\n",
    "plt.tight_layout()\n",
    "plt.show()"
   ],
   "id": "2228637c0d8b85ad",
   "outputs": [
    {
     "data": {
      "text/plain": [
       "<Figure size 1000x500 with 1 Axes>"
      ],
      "image/png": "[encoded data removed]"
     },
     "metadata": {},
     "output_type": "display_data"
    }
   ],
   "execution_count": 495
  },
  {
   "metadata": {},
   "cell_type": "markdown",
   "source": "##### 5.4.1.1.1 Percentage of boys, who are confident in mathematics",
   "id": "20abfb55f1f9eac3"
  },
  {
   "metadata": {
    "ExecuteTime": {
     "end_time": "2025-03-20T14:55:20.945376Z",
     "start_time": "2025-03-20T14:55:20.930365Z"
    }
   },
   "cell_type": "code",
   "source": "utils.getPercentageByGender(clarity_in_maths,df,\"Boy\")",
   "id": "fb97b2c9ae2b8f6f",
   "outputs": [
    {
     "name": "stdout",
     "output_type": "stream",
     "text": [
      "0.8204994797086368\n"
     ]
    }
   ],
   "execution_count": 496
  },
  {
   "metadata": {},
   "cell_type": "markdown",
   "source": "##### 5.3.1.1.2 Percentage of girls, who are confident in mathematics",
   "id": "45e5045b9ac4019f"
  },
  {
   "metadata": {
    "ExecuteTime": {
     "end_time": "2025-03-20T14:55:21.008680Z",
     "start_time": "2025-03-20T14:55:20.994439Z"
    }
   },
   "cell_type": "code",
   "source": "utils.getPercentageByGender(clarity_in_maths,df,\"Girl\")",
   "id": "2887a08208159193",
   "outputs": [
    {
     "name": "stdout",
     "output_type": "stream",
     "text": [
      "0.7574768896139206\n"
     ]
    }
   ],
   "execution_count": 497
  },
  {
   "metadata": {},
   "cell_type": "markdown",
   "source": "#### 5.4.1.2 Gender wise distribution of students who do not have clarity in Mathematics",
   "id": "c3c209d4a91c6184"
  },
  {
   "metadata": {
    "ExecuteTime": {
     "end_time": "2025-03-20T14:55:21.104628Z",
     "start_time": "2025-03-20T14:55:21.083330Z"
    }
   },
   "cell_type": "code",
   "source": [
    "no_clarity = df[\"Instructional_Clarity_in_Mathematics_Lessons\"].str.contains(\"Low\")\n",
    "not_clear_in_maths  = df[no_clarity]\n",
    "not_clear_in_maths.groupby(\"Gender_Student\" , observed=False)[\"Gender_Student\"].describe()\n"
   ],
   "id": "85eb417f071f585f",
   "outputs": [
    {
     "data": {
      "text/plain": [
       "               count unique     top freq\n",
       "Gender_Student                          \n",
       "Others            32      1  Others   32\n",
       "Boy              345      1     Boy  345\n",
       "Girl             446      1    Girl  446"
      ],
      "text/html": [
       "<div>\n",
       "<style scoped>\n",
       "    .dataframe tbody tr th:only-of-type {\n",
       "        vertical-align: middle;\n",
       "    }\n",
       "\n",
       "    .dataframe tbody tr th {\n",
       "        vertical-align: top;\n",
       "    }\n",
       "\n",
       "    .dataframe thead th {\n",
       "        text-align: right;\n",
       "    }\n",
       "</style>\n",
       "<table border=\"1\" class=\"dataframe\">\n",
       "  <thead>\n",
       "    <tr style=\"text-align: right;\">\n",
       "      <th></th>\n",
       "      <th>count</th>\n",
       "      <th>unique</th>\n",
       "      <th>top</th>\n",
       "      <th>freq</th>\n",
       "    </tr>\n",
       "    <tr>\n",
       "      <th>Gender_Student</th>\n",
       "      <th></th>\n",
       "      <th></th>\n",
       "      <th></th>\n",
       "      <th></th>\n",
       "    </tr>\n",
       "  </thead>\n",
       "  <tbody>\n",
       "    <tr>\n",
       "      <th>Others</th>\n",
       "      <td>32</td>\n",
       "      <td>1</td>\n",
       "      <td>Others</td>\n",
       "      <td>32</td>\n",
       "    </tr>\n",
       "    <tr>\n",
       "      <th>Boy</th>\n",
       "      <td>345</td>\n",
       "      <td>1</td>\n",
       "      <td>Boy</td>\n",
       "      <td>345</td>\n",
       "    </tr>\n",
       "    <tr>\n",
       "      <th>Girl</th>\n",
       "      <td>446</td>\n",
       "      <td>1</td>\n",
       "      <td>Girl</td>\n",
       "      <td>446</td>\n",
       "    </tr>\n",
       "  </tbody>\n",
       "</table>\n",
       "</div>"
      ]
     },
     "execution_count": 498,
     "metadata": {},
     "output_type": "execute_result"
    }
   ],
   "execution_count": 498
  },
  {
   "metadata": {},
   "cell_type": "markdown",
   "source": "##### 5.4.1.2.1 Percentage of boys, who are not confident mathematics",
   "id": "d1954a7cc0ad4724"
  },
  {
   "metadata": {
    "ExecuteTime": {
     "end_time": "2025-03-20T14:55:21.177807Z",
     "start_time": "2025-03-20T14:55:21.163672Z"
    }
   },
   "cell_type": "code",
   "source": "utils.getPercentageByGender(not_clear_in_maths,df,\"Boy\")",
   "id": "b15ea5b8830c069b",
   "outputs": [
    {
     "name": "stdout",
     "output_type": "stream",
     "text": [
      "0.17950052029136315\n"
     ]
    }
   ],
   "execution_count": 499
  },
  {
   "metadata": {},
   "cell_type": "markdown",
   "source": "##### 5.4.1.2.2 Percentage of girls, who are not confident in mathematics",
   "id": "dec78a1d39d05f34"
  },
  {
   "metadata": {
    "ExecuteTime": {
     "end_time": "2025-03-20T14:55:21.376515Z",
     "start_time": "2025-03-20T14:55:21.362800Z"
    }
   },
   "cell_type": "code",
   "source": "utils.getPercentageByGender(not_clear_in_maths,df,\"Girl\")",
   "id": "20b29e40d0d03612",
   "outputs": [
    {
     "name": "stdout",
     "output_type": "stream",
     "text": [
      "0.2425231103860794\n"
     ]
    }
   ],
   "execution_count": 500
  },
  {
   "metadata": {},
   "cell_type": "markdown",
   "source": "### 5.4.2 Gender and Likeness for Science",
   "id": "ea0db2d197156511"
  },
  {
   "metadata": {},
   "cell_type": "markdown",
   "source": "#### 5.4.2.1 Gender wise distriibution of students who like Science",
   "id": "2f6a75cd4199ea7f"
  },
  {
   "metadata": {
    "ExecuteTime": {
     "end_time": "2025-03-20T14:55:21.472996Z",
     "start_time": "2025-03-20T14:55:21.450679Z"
    }
   },
   "cell_type": "code",
   "source": [
    "ver_much_clear = df[\"Instructional_Clarity_in_Science_Lessons\"].str.contains(\"High\")\n",
    "some_what_clear = df[\"Instructional_Clarity_in_Science_Lessons\"].str.contains(\"Moderate\")\n",
    "clear_in_science  = df[ver_much_clear | some_what_clear]\n",
    "clear_in_science.groupby(\"Gender_Student\" , observed=False)[\"Gender_Student\"].describe()\n"
   ],
   "id": "a938c16fff31897",
   "outputs": [
    {
     "data": {
      "text/plain": [
       "               count unique     top  freq\n",
       "Gender_Student                           \n",
       "Others            87      1  Others    87\n",
       "Boy             1610      1     Boy  1610\n",
       "Girl            1442      1    Girl  1442"
      ],
      "text/html": [
       "<div>\n",
       "<style scoped>\n",
       "    .dataframe tbody tr th:only-of-type {\n",
       "        vertical-align: middle;\n",
       "    }\n",
       "\n",
       "    .dataframe tbody tr th {\n",
       "        vertical-align: top;\n",
       "    }\n",
       "\n",
       "    .dataframe thead th {\n",
       "        text-align: right;\n",
       "    }\n",
       "</style>\n",
       "<table border=\"1\" class=\"dataframe\">\n",
       "  <thead>\n",
       "    <tr style=\"text-align: right;\">\n",
       "      <th></th>\n",
       "      <th>count</th>\n",
       "      <th>unique</th>\n",
       "      <th>top</th>\n",
       "      <th>freq</th>\n",
       "    </tr>\n",
       "    <tr>\n",
       "      <th>Gender_Student</th>\n",
       "      <th></th>\n",
       "      <th></th>\n",
       "      <th></th>\n",
       "      <th></th>\n",
       "    </tr>\n",
       "  </thead>\n",
       "  <tbody>\n",
       "    <tr>\n",
       "      <th>Others</th>\n",
       "      <td>87</td>\n",
       "      <td>1</td>\n",
       "      <td>Others</td>\n",
       "      <td>87</td>\n",
       "    </tr>\n",
       "    <tr>\n",
       "      <th>Boy</th>\n",
       "      <td>1610</td>\n",
       "      <td>1</td>\n",
       "      <td>Boy</td>\n",
       "      <td>1610</td>\n",
       "    </tr>\n",
       "    <tr>\n",
       "      <th>Girl</th>\n",
       "      <td>1442</td>\n",
       "      <td>1</td>\n",
       "      <td>Girl</td>\n",
       "      <td>1442</td>\n",
       "    </tr>\n",
       "  </tbody>\n",
       "</table>\n",
       "</div>"
      ]
     },
     "execution_count": 501,
     "metadata": {},
     "output_type": "execute_result"
    }
   ],
   "execution_count": 501
  },
  {
   "metadata": {
    "ExecuteTime": {
     "end_time": "2025-03-20T14:55:21.684013Z",
     "start_time": "2025-03-20T14:55:21.514263Z"
    }
   },
   "cell_type": "code",
   "source": [
    "fig = plt.figure(figsize=(10,5))\n",
    "sns.countplot(data=clear_in_science, x=\"Gender_Student\", color=\"b\")\n",
    "plt.tight_layout()\n",
    "plt.show()"
   ],
   "id": "3e3e05675af1f08b",
   "outputs": [
    {
     "data": {
      "text/plain": [
       "<Figure size 1000x500 with 1 Axes>"
      ],
      "image/png": "[encoded data removed]"
     },
     "metadata": {},
     "output_type": "display_data"
    }
   ],
   "execution_count": 502
  },
  {
   "metadata": {},
   "cell_type": "markdown",
   "source": [
    "\n",
    "##### 5.4.2.1.1 Percentage of boys who like learning science"
   ],
   "id": "59b4dab25686ba96"
  },
  {
   "metadata": {
    "ExecuteTime": {
     "end_time": "2025-03-20T14:55:21.770299Z",
     "start_time": "2025-03-20T14:55:21.758128Z"
    }
   },
   "cell_type": "code",
   "source": "utils.getPercentageByGender(clear_in_science,df,\"Boy\")",
   "id": "3f467f87398f4a87",
   "outputs": [
    {
     "name": "stdout",
     "output_type": "stream",
     "text": [
      "0.8376690946930281\n"
     ]
    }
   ],
   "execution_count": 503
  },
  {
   "metadata": {},
   "cell_type": "markdown",
   "source": "##### 5.4.2.1.2 Percentage of girls who like learning science",
   "id": "f97c45adcbbe98d1"
  },
  {
   "metadata": {
    "ExecuteTime": {
     "end_time": "2025-03-20T14:55:21.856162Z",
     "start_time": "2025-03-20T14:55:21.844428Z"
    }
   },
   "cell_type": "code",
   "source": "utils.getPercentageByGender(clear_in_science,df,\"Girl\")",
   "id": "fd27fa94b6b34a3d",
   "outputs": [
    {
     "name": "stdout",
     "output_type": "stream",
     "text": [
      "0.7841218053289831\n"
     ]
    }
   ],
   "execution_count": 504
  },
  {
   "metadata": {},
   "cell_type": "markdown",
   "source": "#### 5.4.2.2 Gender wise distriibution of students, who are not confident in Science",
   "id": "494906da92884024"
  },
  {
   "metadata": {
    "ExecuteTime": {
     "end_time": "2025-03-20T14:55:21.966905Z",
     "start_time": "2025-03-20T14:55:21.940671Z"
    }
   },
   "cell_type": "code",
   "source": [
    "not_clear_in_science_mask = df[\"Students_Confident_in_Science\"].str.contains(\"Not\")\n",
    "not_clear_in_science  = df[not_clear_in_science_mask]\n",
    "not_clear_in_science.groupby(\"Gender_Student\" , observed=False)[\"Gender_Student\"].describe()\n"
   ],
   "id": "f3dac505aa1592cc",
   "outputs": [
    {
     "data": {
      "text/plain": [
       "               count unique     top freq\n",
       "Gender_Student                          \n",
       "Others            45      1  Others   45\n",
       "Boy              735      1     Boy  735\n",
       "Girl             877      1    Girl  877"
      ],
      "text/html": [
       "<div>\n",
       "<style scoped>\n",
       "    .dataframe tbody tr th:only-of-type {\n",
       "        vertical-align: middle;\n",
       "    }\n",
       "\n",
       "    .dataframe tbody tr th {\n",
       "        vertical-align: top;\n",
       "    }\n",
       "\n",
       "    .dataframe thead th {\n",
       "        text-align: right;\n",
       "    }\n",
       "</style>\n",
       "<table border=\"1\" class=\"dataframe\">\n",
       "  <thead>\n",
       "    <tr style=\"text-align: right;\">\n",
       "      <th></th>\n",
       "      <th>count</th>\n",
       "      <th>unique</th>\n",
       "      <th>top</th>\n",
       "      <th>freq</th>\n",
       "    </tr>\n",
       "    <tr>\n",
       "      <th>Gender_Student</th>\n",
       "      <th></th>\n",
       "      <th></th>\n",
       "      <th></th>\n",
       "      <th></th>\n",
       "    </tr>\n",
       "  </thead>\n",
       "  <tbody>\n",
       "    <tr>\n",
       "      <th>Others</th>\n",
       "      <td>45</td>\n",
       "      <td>1</td>\n",
       "      <td>Others</td>\n",
       "      <td>45</td>\n",
       "    </tr>\n",
       "    <tr>\n",
       "      <th>Boy</th>\n",
       "      <td>735</td>\n",
       "      <td>1</td>\n",
       "      <td>Boy</td>\n",
       "      <td>735</td>\n",
       "    </tr>\n",
       "    <tr>\n",
       "      <th>Girl</th>\n",
       "      <td>877</td>\n",
       "      <td>1</td>\n",
       "      <td>Girl</td>\n",
       "      <td>877</td>\n",
       "    </tr>\n",
       "  </tbody>\n",
       "</table>\n",
       "</div>"
      ]
     },
     "execution_count": 505,
     "metadata": {},
     "output_type": "execute_result"
    }
   ],
   "execution_count": 505
  },
  {
   "metadata": {
    "ExecuteTime": {
     "end_time": "2025-03-20T14:55:22.163880Z",
     "start_time": "2025-03-20T14:55:22.014471Z"
    }
   },
   "cell_type": "code",
   "source": [
    "fig = plt.figure(figsize=(10,5))\n",
    "sns.countplot(data=not_clear_in_science, x=\"Gender_Student\", color=\"b\")\n",
    "plt.tight_layout()\n",
    "plt.show()"
   ],
   "id": "67eb64bb3ceee768",
   "outputs": [
    {
     "data": {
      "text/plain": [
       "<Figure size 1000x500 with 1 Axes>"
      ],
      "image/png": "[encoded data removed]"
     },
     "metadata": {},
     "output_type": "display_data"
    }
   ],
   "execution_count": 506
  },
  {
   "metadata": {},
   "cell_type": "markdown",
   "source": [
    "\n",
    "##### 5.4.2.2.1 Percentage of boys not confident in science"
   ],
   "id": "ff2a582b24cc750c"
  },
  {
   "metadata": {
    "ExecuteTime": {
     "end_time": "2025-03-20T14:55:22.334021Z",
     "start_time": "2025-03-20T14:55:22.322744Z"
    }
   },
   "cell_type": "code",
   "source": "utils.getPercentageByGender(not_clear_in_science,df,\"Boy\")",
   "id": "df1846f7712a7d7",
   "outputs": [
    {
     "name": "stdout",
     "output_type": "stream",
     "text": [
      "0.38241415192507805\n"
     ]
    }
   ],
   "execution_count": 507
  },
  {
   "metadata": {},
   "cell_type": "markdown",
   "source": [
    "\n",
    "##### 5.3.2.2.2 Percentage of girls don't like learning science"
   ],
   "id": "33f20a873b9ae557"
  },
  {
   "metadata": {
    "ExecuteTime": {
     "end_time": "2025-03-20T14:55:22.443663Z",
     "start_time": "2025-03-20T14:55:22.428787Z"
    }
   },
   "cell_type": "code",
   "source": "utils.getPercentageByGender(not_clear_in_science,df,\"Girl\")",
   "id": "6792a94ab38a3cab",
   "outputs": [
    {
     "name": "stdout",
     "output_type": "stream",
     "text": [
      "0.476889613920609\n"
     ]
    }
   ],
   "execution_count": 508
  },
  {
   "metadata": {},
   "cell_type": "markdown",
   "source": "## 5.5 Value for Subject, and Environmental Preservation and Gender",
   "id": "1ae0ff9c7cb99cc3"
  },
  {
   "metadata": {
    "ExecuteTime": {
     "end_time": "2025-03-20T14:55:22.541637Z",
     "start_time": "2025-03-20T14:55:22.529176Z"
    }
   },
   "cell_type": "code",
   "source": [
    "value_mask = df.columns.str.contains(\"Value\")\n",
    "print(df[df.columns[value_mask]].value_counts())"
   ],
   "id": "177ad7b9f06d5078",
   "outputs": [
    {
     "name": "stdout",
     "output_type": "stream",
     "text": [
      "Students_Value_Mathematics  Students_Value_Science  Students_Value_Environmental_Preservation\n",
      "Somewhat Value Mathematics  Somewhat Value Science  Strongly Value                               405\n",
      "                                                    Very Strongly Value                          403\n",
      "Do Not Value Mathematics    Do Not Value Science    Strongly Value                               316\n",
      "Somewhat Value Mathematics  Do Not Value Science    Strongly Value                               305\n",
      "Strongly Value Mathematics  Strongly Value Science  Very Strongly Value                          296\n",
      "Do Not Value Mathematics    Do Not Value Science    Very Strongly Value                          258\n",
      "Somewhat Value Mathematics  Strongly Value Science  Very Strongly Value                          203\n",
      "                            Do Not Value Science    Very Strongly Value                          188\n",
      "Strongly Value Mathematics  Somewhat Value Science  Very Strongly Value                          182\n",
      "                            Strongly Value Science  Strongly Value                               162\n",
      "Do Not Value Mathematics    Do Not Value Science    Somewhat Value                               150\n",
      "Strongly Value Mathematics  Somewhat Value Science  Strongly Value                               145\n",
      "Do Not Value Mathematics    Somewhat Value Science  Very Strongly Value                          121\n",
      "Somewhat Value Mathematics  Strongly Value Science  Strongly Value                               113\n",
      "Do Not Value Mathematics    Somewhat Value Science  Strongly Value                               113\n",
      "Somewhat Value Mathematics  Do Not Value Science    Somewhat Value                                93\n",
      "Strongly Value Mathematics  Do Not Value Science    Strongly Value                                91\n",
      "                                                    Very Strongly Value                           78\n",
      "Somewhat Value Mathematics  Somewhat Value Science  Somewhat Value                                61\n",
      "Do Not Value Mathematics    Somewhat Value Science  Somewhat Value                                36\n",
      "                            Strongly Value Science  Very Strongly Value                           30\n",
      "                                                    Strongly Value                                29\n",
      "Strongly Value Mathematics  Strongly Value Science  Somewhat Value                                28\n",
      "                            Somewhat Value Science  Somewhat Value                                24\n",
      "Somewhat Value Mathematics  Strongly Value Science  Somewhat Value                                21\n",
      "Strongly Value Mathematics  Do Not Value Science    Somewhat Value                                14\n",
      "Do Not Value Mathematics    Strongly Value Science  Somewhat Value                                10\n",
      "Name: count, dtype: int64\n"
     ]
    }
   ],
   "execution_count": 509
  },
  {
   "metadata": {
    "ExecuteTime": {
     "end_time": "2025-03-20T14:55:22.627378Z",
     "start_time": "2025-03-20T14:55:22.618418Z"
    }
   },
   "cell_type": "code",
   "source": [
    "df[\"Students_Value_Science\"] = df[\"Students_Value_Science\"].apply(lambda x: \"Strongly value\" if \"Strongly\" in str(x) else x )\n",
    "df[\"Students_Value_Science\"] = df[\"Students_Value_Science\"].apply(lambda x: \"Do not value\" if \"Do not\" in str(x) else x )\n",
    "df[\"Students_Value_Science\"] = df[\"Students_Value_Science\"].apply(lambda x: \"Somewhat value\" if \"Somewhat\" in str(x) else x )\n",
    "print(df[\"Students_Value_Science\"].value_counts())\n",
    "\n"
   ],
   "id": "95051edffa61d470",
   "outputs": [
    {
     "name": "stdout",
     "output_type": "stream",
     "text": [
      "Students_Value_Science\n",
      "Do Not Value Science    1493\n",
      "Somewhat value          1490\n",
      "Strongly value           892\n",
      "Name: count, dtype: int64\n"
     ]
    }
   ],
   "execution_count": 510
  },
  {
   "metadata": {
    "ExecuteTime": {
     "end_time": "2025-03-20T14:55:22.701530Z",
     "start_time": "2025-03-20T14:55:22.689673Z"
    }
   },
   "cell_type": "code",
   "source": [
    "df[\"Students_Value_Mathematics\"] = df[\"Students_Value_Mathematics\"].apply(lambda x: \"Strongly value\" if \"Strongly\" in str(x) else x )\n",
    "df[\"Students_Value_Mathematics\"] = df[\"Students_Value_Mathematics\"].apply(lambda x: \"Do not value\" if \"Do not\" in str(x) else x )\n",
    "df[\"Students_Value_Mathematics\"] = df[\"Students_Value_Mathematics\"].apply(lambda x: \"Somewhat value\" if \"Somewhat\" in str(x) else x )\n",
    "print(df[\"Students_Value_Mathematics\"].value_counts())\n",
    "\n"
   ],
   "id": "1149e3a002646409",
   "outputs": [
    {
     "name": "stdout",
     "output_type": "stream",
     "text": [
      "Students_Value_Mathematics\n",
      "Somewhat value              1792\n",
      "Do Not Value Mathematics    1063\n",
      "Strongly value              1020\n",
      "Name: count, dtype: int64\n"
     ]
    }
   ],
   "execution_count": 511
  },
  {
   "metadata": {
    "ExecuteTime": {
     "end_time": "2025-03-20T14:55:22.764933Z",
     "start_time": "2025-03-20T14:55:22.751063Z"
    }
   },
   "cell_type": "code",
   "source": [
    "df[\"Students_Value_Environmental_Preservation\"] = df[\"Students_Value_Environmental_Preservation\"].apply(lambda x: \"Strongly value\" if \"Strongly\" in str(x) else x )\n",
    "df[\"Students_Value_Environmental_Preservation\"] = df[\"Students_Value_Environmental_Preservation\"].apply(lambda x: \"Do not value\" if \"Do not\" in str(x) else x )\n",
    "df[\"Students_Value_Environmental_Preservation\"] = df[\"Students_Value_Environmental_Preservation\"].apply(lambda x: \"Somewhat value\" if \"Somewhat\" in str(x) else x )\n",
    "print(df[\"Students_Value_Environmental_Preservation\"].value_counts())\n",
    "\n"
   ],
   "id": "cee55c020122ec3d",
   "outputs": [
    {
     "name": "stdout",
     "output_type": "stream",
     "text": [
      "Students_Value_Environmental_Preservation\n",
      "Strongly value    3438\n",
      "Somewhat value     437\n",
      "Name: count, dtype: int64\n"
     ]
    }
   ],
   "execution_count": 512
  },
  {
   "metadata": {},
   "cell_type": "markdown",
   "source": "### 5.5.1 Gender and Value for Mathematics",
   "id": "4f0601e09f80451b"
  },
  {
   "metadata": {},
   "cell_type": "markdown",
   "source": "#### 5.5.1.1 Gender wise distribution of students, who value Mathematics",
   "id": "82fa6ee1f09fdfc3"
  },
  {
   "metadata": {
    "ExecuteTime": {
     "end_time": "2025-03-20T14:55:22.925246Z",
     "start_time": "2025-03-20T14:55:22.904966Z"
    }
   },
   "cell_type": "code",
   "source": [
    "strong_value = df[\"Students_Value_Mathematics\"].str.contains(\"Strongly\")\n",
    "some_what_value = df[\"Students_Value_Mathematics\"].str.contains(\"Somewhat\")\n",
    "value_for_maths  = df[strong_value | some_what_value]\n",
    "value_for_maths.groupby(\"Gender_Student\" , observed=False)[\"Gender_Student\"].describe()\n"
   ],
   "id": "f54a77ba597705bf",
   "outputs": [
    {
     "data": {
      "text/plain": [
       "               count unique     top  freq\n",
       "Gender_Student                           \n",
       "Others            77      1  Others    77\n",
       "Boy             1412      1     Boy  1412\n",
       "Girl            1323      1    Girl  1323"
      ],
      "text/html": [
       "<div>\n",
       "<style scoped>\n",
       "    .dataframe tbody tr th:only-of-type {\n",
       "        vertical-align: middle;\n",
       "    }\n",
       "\n",
       "    .dataframe tbody tr th {\n",
       "        vertical-align: top;\n",
       "    }\n",
       "\n",
       "    .dataframe thead th {\n",
       "        text-align: right;\n",
       "    }\n",
       "</style>\n",
       "<table border=\"1\" class=\"dataframe\">\n",
       "  <thead>\n",
       "    <tr style=\"text-align: right;\">\n",
       "      <th></th>\n",
       "      <th>count</th>\n",
       "      <th>unique</th>\n",
       "      <th>top</th>\n",
       "      <th>freq</th>\n",
       "    </tr>\n",
       "    <tr>\n",
       "      <th>Gender_Student</th>\n",
       "      <th></th>\n",
       "      <th></th>\n",
       "      <th></th>\n",
       "      <th></th>\n",
       "    </tr>\n",
       "  </thead>\n",
       "  <tbody>\n",
       "    <tr>\n",
       "      <th>Others</th>\n",
       "      <td>77</td>\n",
       "      <td>1</td>\n",
       "      <td>Others</td>\n",
       "      <td>77</td>\n",
       "    </tr>\n",
       "    <tr>\n",
       "      <th>Boy</th>\n",
       "      <td>1412</td>\n",
       "      <td>1</td>\n",
       "      <td>Boy</td>\n",
       "      <td>1412</td>\n",
       "    </tr>\n",
       "    <tr>\n",
       "      <th>Girl</th>\n",
       "      <td>1323</td>\n",
       "      <td>1</td>\n",
       "      <td>Girl</td>\n",
       "      <td>1323</td>\n",
       "    </tr>\n",
       "  </tbody>\n",
       "</table>\n",
       "</div>"
      ]
     },
     "execution_count": 513,
     "metadata": {},
     "output_type": "execute_result"
    }
   ],
   "execution_count": 513
  },
  {
   "metadata": {
    "ExecuteTime": {
     "end_time": "2025-03-20T14:55:23.156859Z",
     "start_time": "2025-03-20T14:55:22.978967Z"
    }
   },
   "cell_type": "code",
   "source": [
    "fig = plt.figure(figsize=(10,5))\n",
    "sns.countplot(data=value_for_maths, x=\"Gender_Student\", color=\"b\")\n",
    "plt.tight_layout()\n",
    "plt.show()"
   ],
   "id": "5f8ab04d2dff8923",
   "outputs": [
    {
     "data": {
      "text/plain": [
       "<Figure size 1000x500 with 1 Axes>"
      ],
      "image/png": "[encoded data removed]"
     },
     "metadata": {},
     "output_type": "display_data"
    }
   ],
   "execution_count": 514
  },
  {
   "metadata": {},
   "cell_type": "markdown",
   "source": "##### 5.5.1.1.1 Percentage of boys, who are confident in mathematics",
   "id": "8d4b5f9918a99993"
  },
  {
   "metadata": {
    "ExecuteTime": {
     "end_time": "2025-03-20T14:55:23.238694Z",
     "start_time": "2025-03-20T14:55:23.226769Z"
    }
   },
   "cell_type": "code",
   "source": "utils.getPercentageByGender(value_for_maths,df,\"Boy\")",
   "id": "bbbd0c704dbd2df",
   "outputs": [
    {
     "name": "stdout",
     "output_type": "stream",
     "text": [
      "0.7346514047866806\n"
     ]
    }
   ],
   "execution_count": 515
  },
  {
   "metadata": {},
   "cell_type": "markdown",
   "source": "##### 5.5.1.1.2 Percentage of girls, who are confident in mathematics",
   "id": "dcb289710cc2fd89"
  },
  {
   "metadata": {
    "ExecuteTime": {
     "end_time": "2025-03-20T14:55:23.332811Z",
     "start_time": "2025-03-20T14:55:23.321885Z"
    }
   },
   "cell_type": "code",
   "source": "utils.getPercentageByGender(value_for_maths,df,\"Girl\")",
   "id": "8779cc36d2779762",
   "outputs": [
    {
     "name": "stdout",
     "output_type": "stream",
     "text": [
      "0.7194127243066885\n"
     ]
    }
   ],
   "execution_count": 516
  },
  {
   "metadata": {},
   "cell_type": "markdown",
   "source": "#### 5.5.1.2 Gender wise distribution of students who do not have clarity in Mathematics",
   "id": "d857bf548f06babb"
  },
  {
   "metadata": {
    "ExecuteTime": {
     "end_time": "2025-03-20T14:55:23.432266Z",
     "start_time": "2025-03-20T14:55:23.398035Z"
    }
   },
   "cell_type": "code",
   "source": [
    "no_value_maths = df[\"Students_Value_Mathematics\"].str.contains(\"Do Not\")\n",
    "do_not_value_maths  = df[no_value_maths]\n",
    "do_not_value_maths.groupby(\"Gender_Student\" , observed=False)[\"Gender_Student\"].describe()\n"
   ],
   "id": "339a360d1df991ff",
   "outputs": [
    {
     "data": {
      "text/plain": [
       "               count unique     top freq\n",
       "Gender_Student                          \n",
       "Others            37      1  Others   37\n",
       "Boy              510      1     Boy  510\n",
       "Girl             516      1    Girl  516"
      ],
      "text/html": [
       "<div>\n",
       "<style scoped>\n",
       "    .dataframe tbody tr th:only-of-type {\n",
       "        vertical-align: middle;\n",
       "    }\n",
       "\n",
       "    .dataframe tbody tr th {\n",
       "        vertical-align: top;\n",
       "    }\n",
       "\n",
       "    .dataframe thead th {\n",
       "        text-align: right;\n",
       "    }\n",
       "</style>\n",
       "<table border=\"1\" class=\"dataframe\">\n",
       "  <thead>\n",
       "    <tr style=\"text-align: right;\">\n",
       "      <th></th>\n",
       "      <th>count</th>\n",
       "      <th>unique</th>\n",
       "      <th>top</th>\n",
       "      <th>freq</th>\n",
       "    </tr>\n",
       "    <tr>\n",
       "      <th>Gender_Student</th>\n",
       "      <th></th>\n",
       "      <th></th>\n",
       "      <th></th>\n",
       "      <th></th>\n",
       "    </tr>\n",
       "  </thead>\n",
       "  <tbody>\n",
       "    <tr>\n",
       "      <th>Others</th>\n",
       "      <td>37</td>\n",
       "      <td>1</td>\n",
       "      <td>Others</td>\n",
       "      <td>37</td>\n",
       "    </tr>\n",
       "    <tr>\n",
       "      <th>Boy</th>\n",
       "      <td>510</td>\n",
       "      <td>1</td>\n",
       "      <td>Boy</td>\n",
       "      <td>510</td>\n",
       "    </tr>\n",
       "    <tr>\n",
       "      <th>Girl</th>\n",
       "      <td>516</td>\n",
       "      <td>1</td>\n",
       "      <td>Girl</td>\n",
       "      <td>516</td>\n",
       "    </tr>\n",
       "  </tbody>\n",
       "</table>\n",
       "</div>"
      ]
     },
     "execution_count": 517,
     "metadata": {},
     "output_type": "execute_result"
    }
   ],
   "execution_count": 517
  },
  {
   "metadata": {},
   "cell_type": "markdown",
   "source": "##### 5.5.1.2.1 Percentage of boys, who are not confident mathematics",
   "id": "9cdc2dfd63f0c376"
  },
  {
   "metadata": {
    "ExecuteTime": {
     "end_time": "2025-03-20T14:55:23.477782Z",
     "start_time": "2025-03-20T14:55:23.463144Z"
    }
   },
   "cell_type": "code",
   "source": "utils.getPercentageByGender(do_not_value_maths,df,\"Boy\")",
   "id": "990db1b534b61196",
   "outputs": [
    {
     "name": "stdout",
     "output_type": "stream",
     "text": [
      "0.26534859521331944\n"
     ]
    }
   ],
   "execution_count": 518
  },
  {
   "metadata": {},
   "cell_type": "markdown",
   "source": "##### 5.5.1.2.2 Percentage of girls, who are not confident in mathematics",
   "id": "2be64a489c65936"
  },
  {
   "metadata": {
    "ExecuteTime": {
     "end_time": "2025-03-20T14:55:23.657101Z",
     "start_time": "2025-03-20T14:55:23.642520Z"
    }
   },
   "cell_type": "code",
   "source": "utils.getPercentageByGender(do_not_value_maths,df,\"Girl\")",
   "id": "713f209732ef7dd4",
   "outputs": [
    {
     "name": "stdout",
     "output_type": "stream",
     "text": [
      "0.2805872756933116\n"
     ]
    }
   ],
   "execution_count": 519
  },
  {
   "metadata": {},
   "cell_type": "markdown",
   "source": "### 5.5.2 Gender and Value for Science",
   "id": "45c247bdf83858a0"
  },
  {
   "metadata": {},
   "cell_type": "markdown",
   "source": "#### 5.5.2.1 Gender wise distriibution of students who value Science",
   "id": "702cf1478e49fdb1"
  },
  {
   "metadata": {
    "ExecuteTime": {
     "end_time": "2025-03-20T14:55:23.788706Z",
     "start_time": "2025-03-20T14:55:23.751963Z"
    }
   },
   "cell_type": "code",
   "source": [
    "strong_value = df[\"Students_Value_Science\"].str.contains(\"Strongly\")\n",
    "moderate_value = df[\"Students_Value_Science\"].str.contains(\"Moderate\")\n",
    "value_for_science  = df[strong_value | moderate_value]\n",
    "value_for_science.groupby(\"Gender_Student\" , observed=False)[\"Gender_Student\"].describe()\n"
   ],
   "id": "893fbc9b70bd44ae",
   "outputs": [
    {
     "data": {
      "text/plain": [
       "               count unique     top freq\n",
       "Gender_Student                          \n",
       "Others            31      1  Others   31\n",
       "Boy              395      1     Boy  395\n",
       "Girl             466      1    Girl  466"
      ],
      "text/html": [
       "<div>\n",
       "<style scoped>\n",
       "    .dataframe tbody tr th:only-of-type {\n",
       "        vertical-align: middle;\n",
       "    }\n",
       "\n",
       "    .dataframe tbody tr th {\n",
       "        vertical-align: top;\n",
       "    }\n",
       "\n",
       "    .dataframe thead th {\n",
       "        text-align: right;\n",
       "    }\n",
       "</style>\n",
       "<table border=\"1\" class=\"dataframe\">\n",
       "  <thead>\n",
       "    <tr style=\"text-align: right;\">\n",
       "      <th></th>\n",
       "      <th>count</th>\n",
       "      <th>unique</th>\n",
       "      <th>top</th>\n",
       "      <th>freq</th>\n",
       "    </tr>\n",
       "    <tr>\n",
       "      <th>Gender_Student</th>\n",
       "      <th></th>\n",
       "      <th></th>\n",
       "      <th></th>\n",
       "      <th></th>\n",
       "    </tr>\n",
       "  </thead>\n",
       "  <tbody>\n",
       "    <tr>\n",
       "      <th>Others</th>\n",
       "      <td>31</td>\n",
       "      <td>1</td>\n",
       "      <td>Others</td>\n",
       "      <td>31</td>\n",
       "    </tr>\n",
       "    <tr>\n",
       "      <th>Boy</th>\n",
       "      <td>395</td>\n",
       "      <td>1</td>\n",
       "      <td>Boy</td>\n",
       "      <td>395</td>\n",
       "    </tr>\n",
       "    <tr>\n",
       "      <th>Girl</th>\n",
       "      <td>466</td>\n",
       "      <td>1</td>\n",
       "      <td>Girl</td>\n",
       "      <td>466</td>\n",
       "    </tr>\n",
       "  </tbody>\n",
       "</table>\n",
       "</div>"
      ]
     },
     "execution_count": 520,
     "metadata": {},
     "output_type": "execute_result"
    }
   ],
   "execution_count": 520
  },
  {
   "metadata": {
    "ExecuteTime": {
     "end_time": "2025-03-20T14:55:23.974166Z",
     "start_time": "2025-03-20T14:55:23.832880Z"
    }
   },
   "cell_type": "code",
   "source": [
    "fig = plt.figure(figsize=(10,5))\n",
    "sns.countplot(data=value_for_science, x=\"Gender_Student\", color=\"b\")\n",
    "plt.tight_layout()\n",
    "plt.show()"
   ],
   "id": "cad6a54e286867eb",
   "outputs": [
    {
     "data": {
      "text/plain": [
       "<Figure size 1000x500 with 1 Axes>"
      ],
      "image/png": "[encoded data removed]"
     },
     "metadata": {},
     "output_type": "display_data"
    }
   ],
   "execution_count": 521
  },
  {
   "metadata": {},
   "cell_type": "markdown",
   "source": [
    "\n",
    "##### 5.5.2.1.1 Percentage of boys who value science"
   ],
   "id": "43ab18fa8b462bb4"
  },
  {
   "metadata": {
    "ExecuteTime": {
     "end_time": "2025-03-20T14:55:24.110323Z",
     "start_time": "2025-03-20T14:55:24.099996Z"
    }
   },
   "cell_type": "code",
   "source": "utils.getPercentageByGender(value_for_science,df,\"Boy\")",
   "id": "df4cce6b064a53c4",
   "outputs": [
    {
     "name": "stdout",
     "output_type": "stream",
     "text": [
      "0.20551508844953173\n"
     ]
    }
   ],
   "execution_count": 522
  },
  {
   "metadata": {},
   "cell_type": "markdown",
   "source": "##### 5.5.2.1.2 Percentage of girls who value  science",
   "id": "5618e017b723d69d"
  },
  {
   "metadata": {
    "ExecuteTime": {
     "end_time": "2025-03-20T14:55:24.166168Z",
     "start_time": "2025-03-20T14:55:24.153535Z"
    }
   },
   "cell_type": "code",
   "source": [
    "\n",
    "utils.getPercentageByGender(value_for_science,df,\"Girl\")"
   ],
   "id": "8dc20f359fd7c432",
   "outputs": [
    {
     "name": "stdout",
     "output_type": "stream",
     "text": [
      "0.25339858618814576\n"
     ]
    }
   ],
   "execution_count": 523
  },
  {
   "metadata": {},
   "cell_type": "markdown",
   "source": "#### 5.5.2.2 Gender wise distriibution of students, who do not value Science",
   "id": "95a811f171771e3c"
  },
  {
   "metadata": {
    "ExecuteTime": {
     "end_time": "2025-03-20T14:55:24.248259Z",
     "start_time": "2025-03-20T14:55:24.216210Z"
    }
   },
   "cell_type": "code",
   "source": [
    "dont_value_science_mask = df[\"Students_Value_Science\"].str.contains(\"Do Not\")\n",
    "dont_value_science  = df[dont_value_science_mask]\n",
    "dont_value_science.groupby(\"Gender_Student\" , observed=False)[\"Gender_Student\"].describe()\n"
   ],
   "id": "6edc10fbdfe3c62b",
   "outputs": [
    {
     "data": {
      "text/plain": [
       "               count unique     top freq\n",
       "Gender_Student                          \n",
       "Others            40      1  Others   40\n",
       "Boy              781      1     Boy  781\n",
       "Girl             672      1    Girl  672"
      ],
      "text/html": [
       "<div>\n",
       "<style scoped>\n",
       "    .dataframe tbody tr th:only-of-type {\n",
       "        vertical-align: middle;\n",
       "    }\n",
       "\n",
       "    .dataframe tbody tr th {\n",
       "        vertical-align: top;\n",
       "    }\n",
       "\n",
       "    .dataframe thead th {\n",
       "        text-align: right;\n",
       "    }\n",
       "</style>\n",
       "<table border=\"1\" class=\"dataframe\">\n",
       "  <thead>\n",
       "    <tr style=\"text-align: right;\">\n",
       "      <th></th>\n",
       "      <th>count</th>\n",
       "      <th>unique</th>\n",
       "      <th>top</th>\n",
       "      <th>freq</th>\n",
       "    </tr>\n",
       "    <tr>\n",
       "      <th>Gender_Student</th>\n",
       "      <th></th>\n",
       "      <th></th>\n",
       "      <th></th>\n",
       "      <th></th>\n",
       "    </tr>\n",
       "  </thead>\n",
       "  <tbody>\n",
       "    <tr>\n",
       "      <th>Others</th>\n",
       "      <td>40</td>\n",
       "      <td>1</td>\n",
       "      <td>Others</td>\n",
       "      <td>40</td>\n",
       "    </tr>\n",
       "    <tr>\n",
       "      <th>Boy</th>\n",
       "      <td>781</td>\n",
       "      <td>1</td>\n",
       "      <td>Boy</td>\n",
       "      <td>781</td>\n",
       "    </tr>\n",
       "    <tr>\n",
       "      <th>Girl</th>\n",
       "      <td>672</td>\n",
       "      <td>1</td>\n",
       "      <td>Girl</td>\n",
       "      <td>672</td>\n",
       "    </tr>\n",
       "  </tbody>\n",
       "</table>\n",
       "</div>"
      ]
     },
     "execution_count": 524,
     "metadata": {},
     "output_type": "execute_result"
    }
   ],
   "execution_count": 524
  },
  {
   "metadata": {
    "ExecuteTime": {
     "end_time": "2025-03-20T14:55:24.452823Z",
     "start_time": "2025-03-20T14:55:24.290203Z"
    }
   },
   "cell_type": "code",
   "source": [
    "\n",
    "fig = plt.figure(figsize=(10,5))\n",
    "sns.countplot(data=not_clear_in_science, x=\"Gender_Student\", color=\"b\")\n",
    "plt.tight_layout()\n",
    "plt.show()"
   ],
   "id": "a52266cb67b6f730",
   "outputs": [
    {
     "data": {
      "text/plain": [
       "<Figure size 1000x500 with 1 Axes>"
      ],
      "image/png": "[encoded data removed]"
     },
     "metadata": {},
     "output_type": "display_data"
    }
   ],
   "execution_count": 525
  },
  {
   "metadata": {},
   "cell_type": "markdown",
   "source": [
    "\n",
    "##### 5.4.2.2.1 Percentage of boys not confident in science"
   ],
   "id": "327cbc8ef91162f0"
  },
  {
   "metadata": {
    "ExecuteTime": {
     "end_time": "2025-03-20T14:55:24.512359Z",
     "start_time": "2025-03-20T14:55:24.500667Z"
    }
   },
   "cell_type": "code",
   "source": "utils.getPercentageByGender(dont_value_science,df,\"Boy\")",
   "id": "d1e9752ba81ed695",
   "outputs": [
    {
     "name": "stdout",
     "output_type": "stream",
     "text": [
      "0.40634755463059313\n"
     ]
    }
   ],
   "execution_count": 526
  },
  {
   "metadata": {},
   "cell_type": "markdown",
   "source": [
    "\n",
    "##### 5.3.2.2.2 Percentage of girls don't like learning science"
   ],
   "id": "490cd8509617f274"
  },
  {
   "metadata": {
    "ExecuteTime": {
     "end_time": "2025-03-20T14:55:24.613808Z",
     "start_time": "2025-03-20T14:55:24.603220Z"
    }
   },
   "cell_type": "code",
   "source": "utils.getPercentageByGender(dont_value_science,df,\"Girl\")",
   "id": "65a432b7ecaf036e",
   "outputs": [
    {
     "name": "stdout",
     "output_type": "stream",
     "text": [
      "0.36541598694942906\n"
     ]
    }
   ],
   "execution_count": 527
  },
  {
   "metadata": {},
   "cell_type": "markdown",
   "source": "### 5.5.3 Gender and Value for Environmental Preservation",
   "id": "43b7e8b2a3e163dd"
  },
  {
   "metadata": {},
   "cell_type": "markdown",
   "source": "#### 5.5.2.1 Gender wise distriibution of students who value Environmental Preservation",
   "id": "d86e775cb5664531"
  },
  {
   "metadata": {
    "ExecuteTime": {
     "end_time": "2025-03-20T14:55:24.730132Z",
     "start_time": "2025-03-20T14:55:24.688462Z"
    }
   },
   "cell_type": "code",
   "source": [
    "strong_value = df[\"Students_Value_Environmental_Preservation\"].str.contains(\"Strongly\")\n",
    "moderate_value = df[\"Students_Value_Environmental_Preservation\"].str.contains(\"Moderate\")\n",
    "value_for_ep  = df[strong_value | moderate_value]\n",
    "value_for_ep.groupby(\"Gender_Student\" , observed=False)[\"Gender_Student\"].describe()\n"
   ],
   "id": "1b1a6de08ef05c15",
   "outputs": [
    {
     "data": {
      "text/plain": [
       "               count unique     top  freq\n",
       "Gender_Student                           \n",
       "Others            91      1  Others    91\n",
       "Boy             1623      1     Boy  1623\n",
       "Girl            1724      1    Girl  1724"
      ],
      "text/html": [
       "<div>\n",
       "<style scoped>\n",
       "    .dataframe tbody tr th:only-of-type {\n",
       "        vertical-align: middle;\n",
       "    }\n",
       "\n",
       "    .dataframe tbody tr th {\n",
       "        vertical-align: top;\n",
       "    }\n",
       "\n",
       "    .dataframe thead th {\n",
       "        text-align: right;\n",
       "    }\n",
       "</style>\n",
       "<table border=\"1\" class=\"dataframe\">\n",
       "  <thead>\n",
       "    <tr style=\"text-align: right;\">\n",
       "      <th></th>\n",
       "      <th>count</th>\n",
       "      <th>unique</th>\n",
       "      <th>top</th>\n",
       "      <th>freq</th>\n",
       "    </tr>\n",
       "    <tr>\n",
       "      <th>Gender_Student</th>\n",
       "      <th></th>\n",
       "      <th></th>\n",
       "      <th></th>\n",
       "      <th></th>\n",
       "    </tr>\n",
       "  </thead>\n",
       "  <tbody>\n",
       "    <tr>\n",
       "      <th>Others</th>\n",
       "      <td>91</td>\n",
       "      <td>1</td>\n",
       "      <td>Others</td>\n",
       "      <td>91</td>\n",
       "    </tr>\n",
       "    <tr>\n",
       "      <th>Boy</th>\n",
       "      <td>1623</td>\n",
       "      <td>1</td>\n",
       "      <td>Boy</td>\n",
       "      <td>1623</td>\n",
       "    </tr>\n",
       "    <tr>\n",
       "      <th>Girl</th>\n",
       "      <td>1724</td>\n",
       "      <td>1</td>\n",
       "      <td>Girl</td>\n",
       "      <td>1724</td>\n",
       "    </tr>\n",
       "  </tbody>\n",
       "</table>\n",
       "</div>"
      ]
     },
     "execution_count": 528,
     "metadata": {},
     "output_type": "execute_result"
    }
   ],
   "execution_count": 528
  },
  {
   "metadata": {
    "ExecuteTime": {
     "end_time": "2025-03-20T14:55:24.956312Z",
     "start_time": "2025-03-20T14:55:24.785985Z"
    }
   },
   "cell_type": "code",
   "source": [
    "fig = plt.figure(figsize=(10,5))\n",
    "sns.countplot(data=value_for_ep, x=\"Gender_Student\", color=\"b\")\n",
    "plt.tight_layout()\n",
    "plt.show()"
   ],
   "id": "e7b94de3468d7b36",
   "outputs": [
    {
     "data": {
      "text/plain": [
       "<Figure size 1000x500 with 1 Axes>"
      ],
      "image/png": "[encoded data removed]"
     },
     "metadata": {},
     "output_type": "display_data"
    }
   ],
   "execution_count": 529
  },
  {
   "metadata": {},
   "cell_type": "markdown",
   "source": [
    "\n",
    "##### 5.5.3.1.1 Percentage of boys who value Environment Preservation"
   ],
   "id": "19ede7564e40d15"
  },
  {
   "metadata": {
    "ExecuteTime": {
     "end_time": "2025-03-20T14:55:25.039560Z",
     "start_time": "2025-03-20T14:55:25.024019Z"
    }
   },
   "cell_type": "code",
   "source": "utils.getPercentageByGender(value_for_ep,df,\"Boy\")",
   "id": "7e68af2e6f2cfee9",
   "outputs": [
    {
     "name": "stdout",
     "output_type": "stream",
     "text": [
      "0.8444328824141519\n"
     ]
    }
   ],
   "execution_count": 530
  },
  {
   "metadata": {},
   "cell_type": "markdown",
   "source": "##### 5.5.2.1.2 Percentage of girls who value Environmental Preservation",
   "id": "c3b676760dcdcaab"
  },
  {
   "metadata": {
    "ExecuteTime": {
     "end_time": "2025-03-20T14:55:25.091592Z",
     "start_time": "2025-03-20T14:55:25.078919Z"
    }
   },
   "cell_type": "code",
   "source": "utils.getPercentageByGender(value_for_ep,df,\"Girl\")",
   "id": "797696adf8131b6e",
   "outputs": [
    {
     "name": "stdout",
     "output_type": "stream",
     "text": [
      "0.9374660141381186\n"
     ]
    }
   ],
   "execution_count": 531
  },
  {
   "metadata": {},
   "cell_type": "markdown",
   "source": "#### 5.5.3.2 Gender wise distriibution of students, who do not value SEnvironemntal Preservation",
   "id": "3aec10b381fc24ee"
  },
  {
   "metadata": {
    "ExecuteTime": {
     "end_time": "2025-03-20T14:55:25.183788Z",
     "start_time": "2025-03-20T14:55:25.161566Z"
    }
   },
   "cell_type": "code",
   "source": [
    "dont_value_ep_stu = df[\"Students_Value_Science\"].str.contains(\"Do Not\")\n",
    "dont_value_ep  = df[dont_value_ep_stu]\n",
    "dont_value_ep.groupby(\"Gender_Student\" , observed=False)[\"Gender_Student\"].describe()\n"
   ],
   "id": "4b0b9cdedc4c55eb",
   "outputs": [
    {
     "data": {
      "text/plain": [
       "               count unique     top freq\n",
       "Gender_Student                          \n",
       "Others            40      1  Others   40\n",
       "Boy              781      1     Boy  781\n",
       "Girl             672      1    Girl  672"
      ],
      "text/html": [
       "<div>\n",
       "<style scoped>\n",
       "    .dataframe tbody tr th:only-of-type {\n",
       "        vertical-align: middle;\n",
       "    }\n",
       "\n",
       "    .dataframe tbody tr th {\n",
       "        vertical-align: top;\n",
       "    }\n",
       "\n",
       "    .dataframe thead th {\n",
       "        text-align: right;\n",
       "    }\n",
       "</style>\n",
       "<table border=\"1\" class=\"dataframe\">\n",
       "  <thead>\n",
       "    <tr style=\"text-align: right;\">\n",
       "      <th></th>\n",
       "      <th>count</th>\n",
       "      <th>unique</th>\n",
       "      <th>top</th>\n",
       "      <th>freq</th>\n",
       "    </tr>\n",
       "    <tr>\n",
       "      <th>Gender_Student</th>\n",
       "      <th></th>\n",
       "      <th></th>\n",
       "      <th></th>\n",
       "      <th></th>\n",
       "    </tr>\n",
       "  </thead>\n",
       "  <tbody>\n",
       "    <tr>\n",
       "      <th>Others</th>\n",
       "      <td>40</td>\n",
       "      <td>1</td>\n",
       "      <td>Others</td>\n",
       "      <td>40</td>\n",
       "    </tr>\n",
       "    <tr>\n",
       "      <th>Boy</th>\n",
       "      <td>781</td>\n",
       "      <td>1</td>\n",
       "      <td>Boy</td>\n",
       "      <td>781</td>\n",
       "    </tr>\n",
       "    <tr>\n",
       "      <th>Girl</th>\n",
       "      <td>672</td>\n",
       "      <td>1</td>\n",
       "      <td>Girl</td>\n",
       "      <td>672</td>\n",
       "    </tr>\n",
       "  </tbody>\n",
       "</table>\n",
       "</div>"
      ]
     },
     "execution_count": 532,
     "metadata": {},
     "output_type": "execute_result"
    }
   ],
   "execution_count": 532
  },
  {
   "metadata": {
    "ExecuteTime": {
     "end_time": "2025-03-20T14:55:25.406832Z",
     "start_time": "2025-03-20T14:55:25.228699Z"
    }
   },
   "cell_type": "code",
   "source": [
    "fig = plt.figure(figsize=(10,5))\n",
    "sns.countplot(data=dont_value_ep, x=\"Gender_Student\", color=\"b\")\n",
    "plt.tight_layout()\n",
    "plt.show()"
   ],
   "id": "f39de89fa29d2725",
   "outputs": [
    {
     "data": {
      "text/plain": [
       "<Figure size 1000x500 with 1 Axes>"
      ],
      "image/png": "[encoded data removed]"
     },
     "metadata": {},
     "output_type": "display_data"
    }
   ],
   "execution_count": 533
  },
  {
   "metadata": {},
   "cell_type": "markdown",
   "source": [
    "\n",
    "##### 5.4.2.2.1 Percentage of boys, who dont value Environmental Preservation"
   ],
   "id": "52a531d740a28a83"
  },
  {
   "metadata": {
    "ExecuteTime": {
     "end_time": "2025-03-20T14:55:25.433360Z",
     "start_time": "2025-03-20T14:55:25.423712Z"
    }
   },
   "cell_type": "code",
   "source": "utils.getPercentageByGender(dont_value_ep,df,\"Boy\")",
   "id": "ef57d94f55feb922",
   "outputs": [
    {
     "name": "stdout",
     "output_type": "stream",
     "text": [
      "0.40634755463059313\n"
     ]
    }
   ],
   "execution_count": 534
  },
  {
   "metadata": {},
   "cell_type": "markdown",
   "source": [
    "\n",
    "##### 5.3.2.2.2 Percentage of girls don't like learning science"
   ],
   "id": "befc9eff360a538c"
  },
  {
   "metadata": {
    "ExecuteTime": {
     "end_time": "2025-03-20T14:55:25.621977Z",
     "start_time": "2025-03-20T14:55:25.610127Z"
    }
   },
   "cell_type": "code",
   "source": "utils.getPercentageByGender(dont_value_ep,df,\"Girl\")",
   "id": "764a824a2e633f3e",
   "outputs": [
    {
     "name": "stdout",
     "output_type": "stream",
     "text": [
      "0.36541598694942906\n"
     ]
    }
   ],
   "execution_count": 535
  },
  {
   "metadata": {},
   "cell_type": "markdown",
   "source": "## 5.6 Gender and Bullying",
   "id": "9287502dc746df5d"
  },
  {
   "metadata": {
    "ExecuteTime": {
     "end_time": "2025-03-20T14:55:37.965171Z",
     "start_time": "2025-03-20T14:55:37.932597Z"
    }
   },
   "cell_type": "code",
   "source": [
    "df.info()\n",
    "\n",
    "df.to_feather(\"./data/score_averaged_feather.feather\")"
   ],
   "id": "f7e4533c56e15553",
   "outputs": [
    {
     "name": "stdout",
     "output_type": "stream",
     "text": [
      "<class 'pandas.core.frame.DataFrame'>\n",
      "Index: 3875 entries, 0 to 5089\n",
      "Data columns (total 58 columns):\n",
      " #   Column                                        Non-Null Count  Dtype   \n",
      "---  ------                                        --------------  -----   \n",
      " 0   Gender_Student                                3875 non-null   category\n",
      " 1   Lang_Spoken_Home                              3875 non-null   category\n",
      " 2   Books_Home                                    3875 non-null   category\n",
      " 3   Own_Computer                                  3875 non-null   category\n",
      " 4   Shared_Computer                               3875 non-null   category\n",
      " 5   Smartphone                                    3875 non-null   category\n",
      " 6   Internet_Access                               3875 non-null   category\n",
      " 7   Study_Desk                                    3875 non-null   category\n",
      " 8   Own_Room                                      3875 non-null   category\n",
      " 9   ParentA_Edu_Level                             3875 non-null   category\n",
      " 10  ParentB_Edu_Level                             3875 non-null   category\n",
      " 11  Education_Expectation                         3875 non-null   category\n",
      " 12  ParentA_Born_Country                          3875 non-null   category\n",
      " 13  ParentB_Born_Country                          3875 non-null   category\n",
      " 14  1ST_PV_MATHEMATICS                            3875 non-null   float64 \n",
      " 15  2ND_PV_MATHEMATICS                            3875 non-null   float64 \n",
      " 16  3RD_PV_MATHEMATICS                            3875 non-null   float64 \n",
      " 17  4TH_PV_MATHEMATICS                            3875 non-null   float64 \n",
      " 18  5TH_PV_MATHEMATICS                            3875 non-null   float64 \n",
      " 19  1ST_PV_SCIENCE                                3875 non-null   float64 \n",
      " 20  2ND_PV_SCIENCE                                3875 non-null   float64 \n",
      " 21  3RD_PV_SCIENCE                                3875 non-null   float64 \n",
      " 22  4TH_PV_SCIENCE                                3875 non-null   float64 \n",
      " 23  5TH_PV_SCIENCE                                3875 non-null   float64 \n",
      " 24  1ST_PV_BIOLOGY                                3875 non-null   float64 \n",
      " 25  2ND_PV_BIOLOGY                                3875 non-null   float64 \n",
      " 26  3RD_PV_BIOLOGY                                3875 non-null   float64 \n",
      " 27  4TH_PV_BIOLOGY                                3875 non-null   float64 \n",
      " 28  5TH_PV_BIOLOGY                                3875 non-null   float64 \n",
      " 29  1ST_PV_CHEMISTRY                              3875 non-null   float64 \n",
      " 30  2ND_PV_CHEMISTRY                              3875 non-null   float64 \n",
      " 31  3RD_PV_CHEMISTRY                              3875 non-null   float64 \n",
      " 32  4TH_PV_CHEMISTRY                              3875 non-null   float64 \n",
      " 33  5TH_PV_CHEMISTRY                              3875 non-null   float64 \n",
      " 34  1ST_PV_PHYSICS                                3875 non-null   float64 \n",
      " 35  2ND_PV PHYSICS                                3875 non-null   float64 \n",
      " 36  3RD_PV_PHYSICS                                3875 non-null   float64 \n",
      " 37  4TH_PV_PHYSICS                                3875 non-null   float64 \n",
      " 38  5TH_PV_PHYSICS                                3875 non-null   float64 \n",
      " 39  1ST_PV_EARTH_SCIENCE                          3875 non-null   float64 \n",
      " 40  2ND_PV_EARTH_SCIENCE                          3875 non-null   float64 \n",
      " 41  3RD_PV_EARTH_SCIENCE                          3875 non-null   float64 \n",
      " 42  4TH_PV_EARTH_SCIENCE                          3875 non-null   float64 \n",
      " 43  5TH_PV_EARTH_SCIENCE                          3875 non-null   float64 \n",
      " 44  Sense_of_School_Belonging                     3875 non-null   category\n",
      " 45  Student_Bullying                              3875 non-null   category\n",
      " 46  Students_Like_Learning_Mathematics            3875 non-null   category\n",
      " 47  Instructional_Clarity_in_Mathematics_Lessons  3875 non-null   category\n",
      " 48  Disorderly_Behavior_during_Math_Lessons       3875 non-null   category\n",
      " 49  Students_Confident_in_Mathematics             3875 non-null   category\n",
      " 50  Students_Value_Mathematics                    3875 non-null   category\n",
      " 51  Students_Like_Learning_Science                3875 non-null   category\n",
      " 52  Instructional_Clarity_in_Science_Lessons      3875 non-null   category\n",
      " 53  Students_Confident_in_Science                 3875 non-null   category\n",
      " 54  Students_Value_Science                        3875 non-null   category\n",
      " 55  Digital_Self_Efficacy                         3875 non-null   category\n",
      " 56  Disorderly_Behavior_during_Science_Lessons    3875 non-null   category\n",
      " 57  Students_Value_Environmental_Preservation     3875 non-null   object  \n",
      "dtypes: category(27), float64(30), object(1)\n",
      "memory usage: 1.1+ MB\n"
     ]
    }
   ],
   "execution_count": 537
  },
  {
   "metadata": {
    "ExecuteTime": {
     "end_time": "2025-03-20T14:55:25.829442Z",
     "start_time": "2025-03-20T14:55:25.827107Z"
    }
   },
   "cell_type": "code",
   "source": "",
   "id": "53b6992676036c55",
   "outputs": [],
   "execution_count": null
  }
 ],
 "metadata": {
  "kernelspec": {
   "display_name": "Python 3",
   "language": "python",
   "name": "python3"
  },
  "language_info": {
   "codemirror_mode": {
    "name": "ipython",
    "version": 2
   },
   "file_extension": ".py",
   "mimetype": "text/x-python",
   "name": "python",
   "nbconvert_exporter": "python",
   "pygments_lexer": "ipython2",
   "version": "2.7.6"
  }
 },
 "nbformat": 4,
 "nbformat_minor": 5
}

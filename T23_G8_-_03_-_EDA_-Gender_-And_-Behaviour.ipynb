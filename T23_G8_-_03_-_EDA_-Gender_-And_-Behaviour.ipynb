{
 "cells": [
  {
   "metadata": {},
   "cell_type": "markdown",
   "source": "# 3. Gender and Behaviour",
   "id": "2a4a1ffc433fa4ce"
  },
  {
   "metadata": {
    "ExecuteTime": {
     "end_time": "2025-03-19T20:39:26.998445Z",
     "start_time": "2025-03-19T20:39:26.876166Z"
    }
   },
   "cell_type": "code",
   "source": [
    "from sys import dont_write_bytecode\n",
    "\n",
    "import pandas as pd\n",
    "import numpy as np\n",
    "import  seaborn as sns\n",
    "import matplotlib.pyplot as plt\n",
    "import utils as utils"
   ],
   "id": "f2fbb5daea9d14",
   "outputs": [],
   "execution_count": 1
  },
  {
   "metadata": {
    "ExecuteTime": {
     "end_time": "2025-03-19T20:39:27.101466Z",
     "start_time": "2025-03-19T20:39:27.001451Z"
    }
   },
   "cell_type": "code",
   "source": [
    "df = pd.read_feather(\"./data/changed_books_home.feather\")\n",
    "df.info()"
   ],
   "id": "cc38ef568eb47712",
   "outputs": [
    {
     "name": "stdout",
     "output_type": "stream",
     "text": [
      "<class 'pandas.core.frame.DataFrame'>\n",
      "Index: 3875 entries, 0 to 5089\n",
      "Data columns (total 58 columns):\n",
      " #   Column                                        Non-Null Count  Dtype   \n",
      "---  ------                                        --------------  -----   \n",
      " 0   Gender_Student                                3875 non-null   category\n",
      " 1   Lang_Spoken_Home                              3875 non-null   category\n",
      " 2   Books_Home                                    3875 non-null   category\n",
      " 3   Own_Computer                                  3875 non-null   category\n",
      " 4   Shared_Computer                               3875 non-null   category\n",
      " 5   Smartphone                                    3875 non-null   category\n",
      " 6   Internet_Access                               3875 non-null   category\n",
      " 7   Study_Desk                                    3875 non-null   category\n",
      " 8   Own_Room                                      3875 non-null   category\n",
      " 9   ParentA_Edu_Level                             3875 non-null   category\n",
      " 10  ParentB_Edu_Level                             3875 non-null   category\n",
      " 11  Education_Expectation                         3875 non-null   category\n",
      " 12  ParentA_Born_Country                          3875 non-null   category\n",
      " 13  ParentB_Born_Country                          3875 non-null   category\n",
      " 14  1ST_PV_MATHEMATICS                            3875 non-null   float64 \n",
      " 15  2ND_PV_MATHEMATICS                            3875 non-null   float64 \n",
      " 16  3RD_PV_MATHEMATICS                            3875 non-null   float64 \n",
      " 17  4TH_PV_MATHEMATICS                            3875 non-null   float64 \n",
      " 18  5TH_PV_MATHEMATICS                            3875 non-null   float64 \n",
      " 19  1ST_PV_SCIENCE                                3875 non-null   float64 \n",
      " 20  2ND_PV_SCIENCE                                3875 non-null   float64 \n",
      " 21  3RD_PV_SCIENCE                                3875 non-null   float64 \n",
      " 22  4TH_PV_SCIENCE                                3875 non-null   float64 \n",
      " 23  5TH_PV_SCIENCE                                3875 non-null   float64 \n",
      " 24  1ST_PV_BIOLOGY                                3875 non-null   float64 \n",
      " 25  2ND_PV_BIOLOGY                                3875 non-null   float64 \n",
      " 26  3RD_PV_BIOLOGY                                3875 non-null   float64 \n",
      " 27  4TH_PV_BIOLOGY                                3875 non-null   float64 \n",
      " 28  5TH_PV_BIOLOGY                                3875 non-null   float64 \n",
      " 29  1ST_PV_CHEMISTRY                              3875 non-null   float64 \n",
      " 30  2ND_PV_CHEMISTRY                              3875 non-null   float64 \n",
      " 31  3RD_PV_CHEMISTRY                              3875 non-null   float64 \n",
      " 32  4TH_PV_CHEMISTRY                              3875 non-null   float64 \n",
      " 33  5TH_PV_CHEMISTRY                              3875 non-null   float64 \n",
      " 34  1ST_PV_PHYSICS                                3875 non-null   float64 \n",
      " 35  2ND_PV PHYSICS                                3875 non-null   float64 \n",
      " 36  3RD_PV_PHYSICS                                3875 non-null   float64 \n",
      " 37  4TH_PV_PHYSICS                                3875 non-null   float64 \n",
      " 38  5TH_PV_PHYSICS                                3875 non-null   float64 \n",
      " 39  1ST_PV_EARTH_SCIENCE                          3875 non-null   float64 \n",
      " 40  2ND_PV_EARTH_SCIENCE                          3875 non-null   float64 \n",
      " 41  3RD_PV_EARTH_SCIENCE                          3875 non-null   float64 \n",
      " 42  4TH_PV_EARTH_SCIENCE                          3875 non-null   float64 \n",
      " 43  5TH_PV_EARTH_SCIENCE                          3875 non-null   float64 \n",
      " 44  Sense_of_School_Belonging                     3875 non-null   category\n",
      " 45  Student_Bullying                              3875 non-null   category\n",
      " 46  Students_Like_Learning_Mathematics            3875 non-null   category\n",
      " 47  Instructional_Clarity_in_Mathematics_Lessons  3875 non-null   category\n",
      " 48  Disorderly_Behavior_during_Math_Lessons       3875 non-null   category\n",
      " 49  Students_Confident_in_Mathematics             3875 non-null   category\n",
      " 50  Students_Value_Mathematics                    3875 non-null   category\n",
      " 51  Students_Like_Learning_Science                3875 non-null   category\n",
      " 52  Instructional_Clarity_in_Science_Lessons      3875 non-null   category\n",
      " 53  Students_Confident_in_Science                 3875 non-null   category\n",
      " 54  Students_Value_Science                        3875 non-null   category\n",
      " 55  Digital_Self_Efficacy                         3875 non-null   category\n",
      " 56  Disorderly_Behavior_during_Science_Lessons    3875 non-null   category\n",
      " 57  Students_Value_Environmental_Preservation     3875 non-null   category\n",
      "dtypes: category(28), float64(30)\n",
      "memory usage: 1.0 MB\n"
     ]
    }
   ],
   "execution_count": 2
  },
  {
   "metadata": {},
   "cell_type": "markdown",
   "source": "# 3.1 Disorderly Behaviour and Gender",
   "id": "9ebbd468ee4160d9"
  },
  {
   "metadata": {
    "ExecuteTime": {
     "end_time": "2025-03-19T20:39:27.387106Z",
     "start_time": "2025-03-19T20:39:27.371134Z"
    }
   },
   "cell_type": "code",
   "source": [
    "disorderly_mask = df.columns.str.contains(\"Disorderly\")\n",
    "df[df.columns[disorderly_mask]].value_counts()"
   ],
   "id": "21d940a58679dfb5",
   "outputs": [
    {
     "data": {
      "text/plain": [
       "Disorderly_Behavior_during_Math_Lessons  Disorderly_Behavior_during_Science_Lessons\n",
       "Some Lessons                             Some Lessons                                  1248\n",
       "Few or No Lessons                        Few or No Lessons                              809\n",
       "Some Lessons                             Few or No Lessons                              649\n",
       "Few or No Lessons                        Some Lessons                                   571\n",
       "Most Lessons                             Some Lessons                                   185\n",
       "Some Lessons                             Most Lessons                                   162\n",
       "Most Lessons                             Most Lessons                                   106\n",
       "                                         Few or No Lessons                               84\n",
       "Few or No Lessons                        Most Lessons                                    61\n",
       "Name: count, dtype: int64"
      ]
     },
     "execution_count": 3,
     "metadata": {},
     "output_type": "execute_result"
    }
   ],
   "execution_count": 3
  },
  {
   "metadata": {
    "ExecuteTime": {
     "end_time": "2025-03-19T20:39:27.465297Z",
     "start_time": "2025-03-19T20:39:27.449012Z"
    }
   },
   "cell_type": "code",
   "source": [
    "df[\"Disorderly_Behavior_during_Math_Lessons\"] = df[\"Disorderly_Behavior_during_Math_Lessons\"].apply(lambda x: \"Few Lessons\" if \"Few\" in str(x) else x )\n",
    "df[\"Disorderly_Behavior_during_Math_Lessons\"] = df[\"Disorderly_Behavior_during_Math_Lessons\"].apply(lambda x: \"Most Lessons\" if \"Most\" in str(x) else x )\n",
    "df[\"Disorderly_Behavior_during_Math_Lessons\"] = df[\"Disorderly_Behavior_during_Math_Lessons\"].apply(lambda x: \"Some Lessons\" if \"Some\" in str(x) else x )\n",
    "df[\"Disorderly_Behavior_during_Math_Lessons\"].value_counts()"
   ],
   "id": "be7e404c62dfd9b2",
   "outputs": [
    {
     "data": {
      "text/plain": [
       "Disorderly_Behavior_during_Math_Lessons\n",
       "Some Lessons    2059\n",
       "Few Lessons     1441\n",
       "Most Lessons     375\n",
       "Name: count, dtype: int64"
      ]
     },
     "execution_count": 4,
     "metadata": {},
     "output_type": "execute_result"
    }
   ],
   "execution_count": 4
  },
  {
   "metadata": {
    "ExecuteTime": {
     "end_time": "2025-03-19T20:39:27.570577Z",
     "start_time": "2025-03-19T20:39:27.563929Z"
    }
   },
   "cell_type": "code",
   "source": [
    "df[\"Disorderly_Behavior_during_Math_Lessons\"]  = pd.Categorical(df[\"Disorderly_Behavior_during_Math_Lessons\"] ,ordered=True, categories=[\"Few Lessons\", \"Some Lessons\", \"Most Lessons\"])\n",
    "\n"
   ],
   "id": "2c49dc13f380f81",
   "outputs": [],
   "execution_count": 5
  },
  {
   "metadata": {
    "ExecuteTime": {
     "end_time": "2025-03-19T20:39:27.699554Z",
     "start_time": "2025-03-19T20:39:27.682412Z"
    }
   },
   "cell_type": "code",
   "source": [
    "df[\"Disorderly_Behavior_during_Science_Lessons\"] = df[\"Disorderly_Behavior_during_Science_Lessons\"].apply(lambda x: \"Few Lessons\" if \"Few\" in str(x) else x )\n",
    "df[\"Disorderly_Behavior_during_Science_Lessons\"] = df[\"Disorderly_Behavior_during_Science_Lessons\"].apply(lambda x: \"Most Lessons\" if \"Most\" in str(x) else x )\n",
    "df[\"Disorderly_Behavior_during_Science_Lessons\"] = df[\"Disorderly_Behavior_during_Science_Lessons\"].apply(lambda x: \"Some Lessons\" if \"Some\" in str(x) else x )\n",
    "df[\"Disorderly_Behavior_during_Science_Lessons\"].value_counts()"
   ],
   "id": "525c838b280d2579",
   "outputs": [
    {
     "data": {
      "text/plain": [
       "Disorderly_Behavior_during_Science_Lessons\n",
       "Some Lessons    2004\n",
       "Few Lessons     1542\n",
       "Most Lessons     329\n",
       "Name: count, dtype: int64"
      ]
     },
     "execution_count": 6,
     "metadata": {},
     "output_type": "execute_result"
    }
   ],
   "execution_count": 6
  },
  {
   "metadata": {
    "ExecuteTime": {
     "end_time": "2025-03-19T20:39:27.818964Z",
     "start_time": "2025-03-19T20:39:27.805218Z"
    }
   },
   "cell_type": "code",
   "source": [
    "df[\"Disorderly_Behavior_during_Science_Lessons\"]  = pd.Categorical(df[\"Disorderly_Behavior_during_Math_Lessons\"] ,ordered=True, categories=[\"Few Lessons\", \"Some Lessons\", \"Most Lessons\"])\n",
    "\n"
   ],
   "id": "e93c6756d41f1aa",
   "outputs": [],
   "execution_count": 7
  },
  {
   "metadata": {},
   "cell_type": "markdown",
   "source": "### 3.1.1 Gender and Disorderly Behaviour in Math Classes",
   "id": "e687ee50b2e35fe3"
  },
  {
   "metadata": {},
   "cell_type": "markdown",
   "source": "#### 3.1.1.1 Gender wise distribution of Pupils having frequent disorderly behaviour",
   "id": "bf0c40f4f1e3d632"
  },
  {
   "metadata": {
    "ExecuteTime": {
     "end_time": "2025-03-19T20:39:28.207381Z",
     "start_time": "2025-03-19T20:39:27.936890Z"
    }
   },
   "cell_type": "code",
   "source": [
    "maths_filterd, math_grouped = utils.getDisorderlyBehaviourPerGender(df, \"Math\", \"Most\")\n",
    "math_grouped.describe()"
   ],
   "id": "cb4a886286511c0c",
   "outputs": [
    {
     "data": {
      "text/plain": [
       "<Figure size 1000x600 with 2 Axes>"
      ],
      "image/png": "[encoded data removed]"
     },
     "metadata": {},
     "output_type": "display_data"
    },
    {
     "data": {
      "text/plain": [
       "               count unique     top freq\n",
       "Gender_Student                          \n",
       "Others            18      1  Others   18\n",
       "Boy              181      1     Boy  181\n",
       "Girl             176      1    Girl  176"
      ],
      "text/html": [
       "<div>\n",
       "<style scoped>\n",
       "    .dataframe tbody tr th:only-of-type {\n",
       "        vertical-align: middle;\n",
       "    }\n",
       "\n",
       "    .dataframe tbody tr th {\n",
       "        vertical-align: top;\n",
       "    }\n",
       "\n",
       "    .dataframe thead th {\n",
       "        text-align: right;\n",
       "    }\n",
       "</style>\n",
       "<table border=\"1\" class=\"dataframe\">\n",
       "  <thead>\n",
       "    <tr style=\"text-align: right;\">\n",
       "      <th></th>\n",
       "      <th>count</th>\n",
       "      <th>unique</th>\n",
       "      <th>top</th>\n",
       "      <th>freq</th>\n",
       "    </tr>\n",
       "    <tr>\n",
       "      <th>Gender_Student</th>\n",
       "      <th></th>\n",
       "      <th></th>\n",
       "      <th></th>\n",
       "      <th></th>\n",
       "    </tr>\n",
       "  </thead>\n",
       "  <tbody>\n",
       "    <tr>\n",
       "      <th>Others</th>\n",
       "      <td>18</td>\n",
       "      <td>1</td>\n",
       "      <td>Others</td>\n",
       "      <td>18</td>\n",
       "    </tr>\n",
       "    <tr>\n",
       "      <th>Boy</th>\n",
       "      <td>181</td>\n",
       "      <td>1</td>\n",
       "      <td>Boy</td>\n",
       "      <td>181</td>\n",
       "    </tr>\n",
       "    <tr>\n",
       "      <th>Girl</th>\n",
       "      <td>176</td>\n",
       "      <td>1</td>\n",
       "      <td>Girl</td>\n",
       "      <td>176</td>\n",
       "    </tr>\n",
       "  </tbody>\n",
       "</table>\n",
       "</div>"
      ]
     },
     "execution_count": 8,
     "metadata": {},
     "output_type": "execute_result"
    }
   ],
   "execution_count": 8
  },
  {
   "metadata": {},
   "cell_type": "markdown",
   "source": "#### 3.1.1.2 Gender wise distribution of Pupils having some disorderly behaviour",
   "id": "a9e5d766e4b2e034"
  },
  {
   "metadata": {
    "ExecuteTime": {
     "end_time": "2025-03-19T20:39:28.494293Z",
     "start_time": "2025-03-19T20:39:28.253057Z"
    }
   },
   "cell_type": "code",
   "source": [
    "maths_filterd, math_grouped = utils.getDisorderlyBehaviourPerGender(df, \"Math\", \"Some\")\n",
    "math_grouped.describe()"
   ],
   "id": "59a1ba0b8099c27b",
   "outputs": [
    {
     "data": {
      "text/plain": [
       "<Figure size 1000x600 with 2 Axes>"
      ],
      "image/png": "[encoded data removed]"
     },
     "metadata": {},
     "output_type": "display_data"
    },
    {
     "data": {
      "text/plain": [
       "               count unique     top  freq\n",
       "Gender_Student                           \n",
       "Others            67      1  Others    67\n",
       "Boy             1085      1     Boy  1085\n",
       "Girl             907      1    Girl   907"
      ],
      "text/html": [
       "<div>\n",
       "<style scoped>\n",
       "    .dataframe tbody tr th:only-of-type {\n",
       "        vertical-align: middle;\n",
       "    }\n",
       "\n",
       "    .dataframe tbody tr th {\n",
       "        vertical-align: top;\n",
       "    }\n",
       "\n",
       "    .dataframe thead th {\n",
       "        text-align: right;\n",
       "    }\n",
       "</style>\n",
       "<table border=\"1\" class=\"dataframe\">\n",
       "  <thead>\n",
       "    <tr style=\"text-align: right;\">\n",
       "      <th></th>\n",
       "      <th>count</th>\n",
       "      <th>unique</th>\n",
       "      <th>top</th>\n",
       "      <th>freq</th>\n",
       "    </tr>\n",
       "    <tr>\n",
       "      <th>Gender_Student</th>\n",
       "      <th></th>\n",
       "      <th></th>\n",
       "      <th></th>\n",
       "      <th></th>\n",
       "    </tr>\n",
       "  </thead>\n",
       "  <tbody>\n",
       "    <tr>\n",
       "      <th>Others</th>\n",
       "      <td>67</td>\n",
       "      <td>1</td>\n",
       "      <td>Others</td>\n",
       "      <td>67</td>\n",
       "    </tr>\n",
       "    <tr>\n",
       "      <th>Boy</th>\n",
       "      <td>1085</td>\n",
       "      <td>1</td>\n",
       "      <td>Boy</td>\n",
       "      <td>1085</td>\n",
       "    </tr>\n",
       "    <tr>\n",
       "      <th>Girl</th>\n",
       "      <td>907</td>\n",
       "      <td>1</td>\n",
       "      <td>Girl</td>\n",
       "      <td>907</td>\n",
       "    </tr>\n",
       "  </tbody>\n",
       "</table>\n",
       "</div>"
      ]
     },
     "execution_count": 9,
     "metadata": {},
     "output_type": "execute_result"
    }
   ],
   "execution_count": 9
  },
  {
   "metadata": {},
   "cell_type": "markdown",
   "source": "#### 3.1.1.3 Gender wise distribution of Pupils having few disorderly behaviour",
   "id": "7f264e00c76caaf6"
  },
  {
   "metadata": {
    "ExecuteTime": {
     "end_time": "2025-03-19T20:39:28.854783Z",
     "start_time": "2025-03-19T20:39:28.597269Z"
    }
   },
   "cell_type": "code",
   "source": [
    "maths_filterd, math_grouped = utils.getDisorderlyBehaviourPerGender(df, \"Math\", \"Few\")\n",
    "math_grouped.describe()"
   ],
   "id": "f9b47a00ab34460e",
   "outputs": [
    {
     "data": {
      "text/plain": [
       "<Figure size 1000x600 with 2 Axes>"
      ],
      "image/png": "[encoded data removed]"
     },
     "metadata": {},
     "output_type": "display_data"
    },
    {
     "data": {
      "text/plain": [
       "               count unique     top freq\n",
       "Gender_Student                          \n",
       "Others            29      1  Others   29\n",
       "Boy              656      1     Boy  656\n",
       "Girl             756      1    Girl  756"
      ],
      "text/html": [
       "<div>\n",
       "<style scoped>\n",
       "    .dataframe tbody tr th:only-of-type {\n",
       "        vertical-align: middle;\n",
       "    }\n",
       "\n",
       "    .dataframe tbody tr th {\n",
       "        vertical-align: top;\n",
       "    }\n",
       "\n",
       "    .dataframe thead th {\n",
       "        text-align: right;\n",
       "    }\n",
       "</style>\n",
       "<table border=\"1\" class=\"dataframe\">\n",
       "  <thead>\n",
       "    <tr style=\"text-align: right;\">\n",
       "      <th></th>\n",
       "      <th>count</th>\n",
       "      <th>unique</th>\n",
       "      <th>top</th>\n",
       "      <th>freq</th>\n",
       "    </tr>\n",
       "    <tr>\n",
       "      <th>Gender_Student</th>\n",
       "      <th></th>\n",
       "      <th></th>\n",
       "      <th></th>\n",
       "      <th></th>\n",
       "    </tr>\n",
       "  </thead>\n",
       "  <tbody>\n",
       "    <tr>\n",
       "      <th>Others</th>\n",
       "      <td>29</td>\n",
       "      <td>1</td>\n",
       "      <td>Others</td>\n",
       "      <td>29</td>\n",
       "    </tr>\n",
       "    <tr>\n",
       "      <th>Boy</th>\n",
       "      <td>656</td>\n",
       "      <td>1</td>\n",
       "      <td>Boy</td>\n",
       "      <td>656</td>\n",
       "    </tr>\n",
       "    <tr>\n",
       "      <th>Girl</th>\n",
       "      <td>756</td>\n",
       "      <td>1</td>\n",
       "      <td>Girl</td>\n",
       "      <td>756</td>\n",
       "    </tr>\n",
       "  </tbody>\n",
       "</table>\n",
       "</div>"
      ]
     },
     "execution_count": 10,
     "metadata": {},
     "output_type": "execute_result"
    }
   ],
   "execution_count": 10
  },
  {
   "metadata": {},
   "cell_type": "markdown",
   "source": "### 3.1.2 Gender and Disorderly Behaviour in Science Classes",
   "id": "ccd73124f079bec"
  },
  {
   "metadata": {},
   "cell_type": "markdown",
   "source": "#### 3.1.2.1 Gender wise distribution of Pupils having frequent disorderly behaviour",
   "id": "e748b4623133f267"
  },
  {
   "metadata": {
    "ExecuteTime": {
     "end_time": "2025-03-19T20:39:29.151396Z",
     "start_time": "2025-03-19T20:39:28.916181Z"
    }
   },
   "cell_type": "code",
   "source": [
    "maths_filterd, math_grouped = utils.getDisorderlyBehaviourPerGender(df, \"Math\", \"Most\")\n",
    "math_grouped.describe()"
   ],
   "id": "57b8e40f18e3ac94",
   "outputs": [
    {
     "data": {
      "text/plain": [
       "<Figure size 1000x600 with 2 Axes>"
      ],
      "image/png": "[encoded data removed]"
     },
     "metadata": {},
     "output_type": "display_data"
    },
    {
     "data": {
      "text/plain": [
       "               count unique     top freq\n",
       "Gender_Student                          \n",
       "Others            18      1  Others   18\n",
       "Boy              181      1     Boy  181\n",
       "Girl             176      1    Girl  176"
      ],
      "text/html": [
       "<div>\n",
       "<style scoped>\n",
       "    .dataframe tbody tr th:only-of-type {\n",
       "        vertical-align: middle;\n",
       "    }\n",
       "\n",
       "    .dataframe tbody tr th {\n",
       "        vertical-align: top;\n",
       "    }\n",
       "\n",
       "    .dataframe thead th {\n",
       "        text-align: right;\n",
       "    }\n",
       "</style>\n",
       "<table border=\"1\" class=\"dataframe\">\n",
       "  <thead>\n",
       "    <tr style=\"text-align: right;\">\n",
       "      <th></th>\n",
       "      <th>count</th>\n",
       "      <th>unique</th>\n",
       "      <th>top</th>\n",
       "      <th>freq</th>\n",
       "    </tr>\n",
       "    <tr>\n",
       "      <th>Gender_Student</th>\n",
       "      <th></th>\n",
       "      <th></th>\n",
       "      <th></th>\n",
       "      <th></th>\n",
       "    </tr>\n",
       "  </thead>\n",
       "  <tbody>\n",
       "    <tr>\n",
       "      <th>Others</th>\n",
       "      <td>18</td>\n",
       "      <td>1</td>\n",
       "      <td>Others</td>\n",
       "      <td>18</td>\n",
       "    </tr>\n",
       "    <tr>\n",
       "      <th>Boy</th>\n",
       "      <td>181</td>\n",
       "      <td>1</td>\n",
       "      <td>Boy</td>\n",
       "      <td>181</td>\n",
       "    </tr>\n",
       "    <tr>\n",
       "      <th>Girl</th>\n",
       "      <td>176</td>\n",
       "      <td>1</td>\n",
       "      <td>Girl</td>\n",
       "      <td>176</td>\n",
       "    </tr>\n",
       "  </tbody>\n",
       "</table>\n",
       "</div>"
      ]
     },
     "execution_count": 11,
     "metadata": {},
     "output_type": "execute_result"
    }
   ],
   "execution_count": 11
  },
  {
   "metadata": {},
   "cell_type": "markdown",
   "source": "#### 3.1.2.2 Gender wise distribution of Pupils having some disorderly behaviour",
   "id": "a85b7b85174080fc"
  },
  {
   "metadata": {
    "ExecuteTime": {
     "end_time": "2025-03-19T20:39:29.598797Z",
     "start_time": "2025-03-19T20:39:29.364025Z"
    }
   },
   "cell_type": "code",
   "source": [
    "maths_filterd, math_grouped = utils.getDisorderlyBehaviourPerGender(df, \"Math\", \"Some\")\n",
    "math_grouped.describe()\n"
   ],
   "id": "a5768b359c76c310",
   "outputs": [
    {
     "data": {
      "text/plain": [
       "<Figure size 1000x600 with 2 Axes>"
      ],
      "image/png": "[encoded data removed]"
     },
     "metadata": {},
     "output_type": "display_data"
    },
    {
     "data": {
      "text/plain": [
       "               count unique     top  freq\n",
       "Gender_Student                           \n",
       "Others            67      1  Others    67\n",
       "Boy             1085      1     Boy  1085\n",
       "Girl             907      1    Girl   907"
      ],
      "text/html": [
       "<div>\n",
       "<style scoped>\n",
       "    .dataframe tbody tr th:only-of-type {\n",
       "        vertical-align: middle;\n",
       "    }\n",
       "\n",
       "    .dataframe tbody tr th {\n",
       "        vertical-align: top;\n",
       "    }\n",
       "\n",
       "    .dataframe thead th {\n",
       "        text-align: right;\n",
       "    }\n",
       "</style>\n",
       "<table border=\"1\" class=\"dataframe\">\n",
       "  <thead>\n",
       "    <tr style=\"text-align: right;\">\n",
       "      <th></th>\n",
       "      <th>count</th>\n",
       "      <th>unique</th>\n",
       "      <th>top</th>\n",
       "      <th>freq</th>\n",
       "    </tr>\n",
       "    <tr>\n",
       "      <th>Gender_Student</th>\n",
       "      <th></th>\n",
       "      <th></th>\n",
       "      <th></th>\n",
       "      <th></th>\n",
       "    </tr>\n",
       "  </thead>\n",
       "  <tbody>\n",
       "    <tr>\n",
       "      <th>Others</th>\n",
       "      <td>67</td>\n",
       "      <td>1</td>\n",
       "      <td>Others</td>\n",
       "      <td>67</td>\n",
       "    </tr>\n",
       "    <tr>\n",
       "      <th>Boy</th>\n",
       "      <td>1085</td>\n",
       "      <td>1</td>\n",
       "      <td>Boy</td>\n",
       "      <td>1085</td>\n",
       "    </tr>\n",
       "    <tr>\n",
       "      <th>Girl</th>\n",
       "      <td>907</td>\n",
       "      <td>1</td>\n",
       "      <td>Girl</td>\n",
       "      <td>907</td>\n",
       "    </tr>\n",
       "  </tbody>\n",
       "</table>\n",
       "</div>"
      ]
     },
     "execution_count": 12,
     "metadata": {},
     "output_type": "execute_result"
    }
   ],
   "execution_count": 12
  },
  {
   "metadata": {},
   "cell_type": "markdown",
   "source": "#### 3.1.2.3 Gender wise distribution of Pupils having few disorderly behaviour",
   "id": "52e354c9ba2e53b1"
  },
  {
   "metadata": {
    "ExecuteTime": {
     "end_time": "2025-03-19T20:39:29.924148Z",
     "start_time": "2025-03-19T20:39:29.680743Z"
    }
   },
   "cell_type": "code",
   "source": [
    "maths_filterd, math_grouped = utils.getDisorderlyBehaviourPerGender(df, \"Math\", \"Few\")\n",
    "math_grouped.describe()"
   ],
   "id": "f7533859e92ee8b",
   "outputs": [
    {
     "data": {
      "text/plain": [
       "<Figure size 1000x600 with 2 Axes>"
      ],
      "image/png": "[encoded data removed]"
     },
     "metadata": {},
     "output_type": "display_data"
    },
    {
     "data": {
      "text/plain": [
       "               count unique     top freq\n",
       "Gender_Student                          \n",
       "Others            29      1  Others   29\n",
       "Boy              656      1     Boy  656\n",
       "Girl             756      1    Girl  756"
      ],
      "text/html": [
       "<div>\n",
       "<style scoped>\n",
       "    .dataframe tbody tr th:only-of-type {\n",
       "        vertical-align: middle;\n",
       "    }\n",
       "\n",
       "    .dataframe tbody tr th {\n",
       "        vertical-align: top;\n",
       "    }\n",
       "\n",
       "    .dataframe thead th {\n",
       "        text-align: right;\n",
       "    }\n",
       "</style>\n",
       "<table border=\"1\" class=\"dataframe\">\n",
       "  <thead>\n",
       "    <tr style=\"text-align: right;\">\n",
       "      <th></th>\n",
       "      <th>count</th>\n",
       "      <th>unique</th>\n",
       "      <th>top</th>\n",
       "      <th>freq</th>\n",
       "    </tr>\n",
       "    <tr>\n",
       "      <th>Gender_Student</th>\n",
       "      <th></th>\n",
       "      <th></th>\n",
       "      <th></th>\n",
       "      <th></th>\n",
       "    </tr>\n",
       "  </thead>\n",
       "  <tbody>\n",
       "    <tr>\n",
       "      <th>Others</th>\n",
       "      <td>29</td>\n",
       "      <td>1</td>\n",
       "      <td>Others</td>\n",
       "      <td>29</td>\n",
       "    </tr>\n",
       "    <tr>\n",
       "      <th>Boy</th>\n",
       "      <td>656</td>\n",
       "      <td>1</td>\n",
       "      <td>Boy</td>\n",
       "      <td>656</td>\n",
       "    </tr>\n",
       "    <tr>\n",
       "      <th>Girl</th>\n",
       "      <td>756</td>\n",
       "      <td>1</td>\n",
       "      <td>Girl</td>\n",
       "      <td>756</td>\n",
       "    </tr>\n",
       "  </tbody>\n",
       "</table>\n",
       "</div>"
      ]
     },
     "execution_count": 13,
     "metadata": {},
     "output_type": "execute_result"
    }
   ],
   "execution_count": 13
  },
  {
   "metadata": {},
   "cell_type": "markdown",
   "source": "### 3.1.3 Gender and  Overall Disorderly Behaviour",
   "id": "3913877d43022d85"
  },
  {
   "metadata": {
    "ExecuteTime": {
     "end_time": "2025-03-19T20:39:30.081578Z",
     "start_time": "2025-03-19T20:39:30.071654Z"
    }
   },
   "cell_type": "code",
   "source": [
    "science_most = df[\"Disorderly_Behavior_during_Science_Lessons\"].str.contains(\"Most\")\n",
    "maths_most = df[\"Disorderly_Behavior_during_Math_Lessons\"].str.contains(\"Most\")\n",
    "science_few = df[\"Disorderly_Behavior_during_Science_Lessons\"].str.contains(\"Few\")\n",
    "maths_few = df[\"Disorderly_Behavior_during_Math_Lessons\"].str.contains(\"Few\")\n",
    "\n"
   ],
   "id": "d37c72f1ca921a6e",
   "outputs": [],
   "execution_count": 14
  },
  {
   "metadata": {},
   "cell_type": "markdown",
   "source": "#### 3.1.3.1 Gender wise distribution of students having frequent disorderly behavior across subjects",
   "id": "6516a876c1852146"
  },
  {
   "metadata": {
    "ExecuteTime": {
     "end_time": "2025-03-19T20:39:30.372232Z",
     "start_time": "2025-03-19T20:39:30.290312Z"
    }
   },
   "cell_type": "code",
   "source": [
    "most_disorderly = df[science_most & maths_most]\n",
    "most_disorderly.describe()\n"
   ],
   "id": "2482714bc2199d7b",
   "outputs": [
    {
     "data": {
      "text/plain": [
       "       1ST_PV_MATHEMATICS  2ND_PV_MATHEMATICS  3RD_PV_MATHEMATICS  \\\n",
       "count          375.000000          375.000000          375.000000   \n",
       "mean           504.957021          507.967439          507.430038   \n",
       "std             72.076804           75.277862           73.323459   \n",
       "min            321.690010          301.721470          323.701920   \n",
       "25%            455.359065          460.015970          452.324495   \n",
       "50%            510.570510          513.028050          512.592640   \n",
       "75%            552.367395          560.164180          559.478110   \n",
       "max            709.089030          740.147210          697.746350   \n",
       "\n",
       "       4TH_PV_MATHEMATICS  5TH_PV_MATHEMATICS  1ST_PV_SCIENCE  2ND_PV_SCIENCE  \\\n",
       "count          375.000000          375.000000      375.000000      375.000000   \n",
       "mean           506.996353          507.643269      517.395550      519.363338   \n",
       "std             73.151227           75.047655       78.341466       82.896807   \n",
       "min            283.797580          285.025620      304.615810      262.684720   \n",
       "25%            458.439780          460.272860      460.427845      460.316145   \n",
       "50%            514.228300          509.982280      521.247920      522.164860   \n",
       "75%            556.733855          554.698950      567.452510      574.304715   \n",
       "max            704.066950          736.804680      741.083230      737.233290   \n",
       "\n",
       "       3RD_PV_SCIENCE  4TH_PV_SCIENCE  5TH_PV_SCIENCE  ...  1ST_PV_PHYSICS  \\\n",
       "count      375.000000      375.000000      375.000000  ...      375.000000   \n",
       "mean       519.677339      521.794787      520.595490  ...      509.783830   \n",
       "std         78.756068       82.635062       81.783305  ...       86.988086   \n",
       "min        317.678650      298.899250      255.672900  ...      248.957430   \n",
       "25%        467.059685      466.915120      474.173365  ...      451.273755   \n",
       "50%        517.497900      523.824920      521.985970  ...      514.241870   \n",
       "75%        576.266705      578.417630      580.651740  ...      568.920210   \n",
       "max        756.094360      732.127710      724.134910  ...      722.006310   \n",
       "\n",
       "       2ND_PV PHYSICS  3RD_PV_PHYSICS  4TH_PV_PHYSICS  5TH_PV_PHYSICS  \\\n",
       "count      375.000000      375.000000      375.000000      375.000000   \n",
       "mean       511.420242      509.598050      515.782013      510.664237   \n",
       "std         85.411559       87.512954       86.914388       85.647555   \n",
       "min        185.838310      265.004520      281.718370      253.137430   \n",
       "25%        450.970075      449.585810      463.156350      451.601355   \n",
       "50%        513.696650      514.089960      517.356810      509.844030   \n",
       "75%        567.967250      565.800475      574.542560      565.450710   \n",
       "max        737.804360      763.923540      727.353860      734.459520   \n",
       "\n",
       "       1ST_PV_EARTH_SCIENCE  2ND_PV_EARTH_SCIENCE  3RD_PV_EARTH_SCIENCE  \\\n",
       "count            375.000000            375.000000            375.000000   \n",
       "mean             529.806046            522.570258            527.288851   \n",
       "std               83.377610             82.414376             82.044059   \n",
       "min              273.892210            235.014930            290.635780   \n",
       "25%              475.857390            468.228840            475.336215   \n",
       "50%              529.096270            528.833000            528.348630   \n",
       "75%              586.140725            579.652880            580.879850   \n",
       "max              738.404110            717.989830            742.065030   \n",
       "\n",
       "       4TH_PV_EARTH_SCIENCE  5TH_PV_EARTH_SCIENCE  \n",
       "count            375.000000            375.000000  \n",
       "mean             524.217921            523.628670  \n",
       "std               82.434559             82.963126  \n",
       "min              210.880330            270.262330  \n",
       "25%              473.000775            469.248200  \n",
       "50%              526.261000            526.473480  \n",
       "75%              579.092665            572.122050  \n",
       "max              718.222080            737.258580  \n",
       "\n",
       "[8 rows x 30 columns]"
      ],
      "text/html": [
       "<div>\n",
       "<style scoped>\n",
       "    .dataframe tbody tr th:only-of-type {\n",
       "        vertical-align: middle;\n",
       "    }\n",
       "\n",
       "    .dataframe tbody tr th {\n",
       "        vertical-align: top;\n",
       "    }\n",
       "\n",
       "    .dataframe thead th {\n",
       "        text-align: right;\n",
       "    }\n",
       "</style>\n",
       "<table border=\"1\" class=\"dataframe\">\n",
       "  <thead>\n",
       "    <tr style=\"text-align: right;\">\n",
       "      <th></th>\n",
       "      <th>1ST_PV_MATHEMATICS</th>\n",
       "      <th>2ND_PV_MATHEMATICS</th>\n",
       "      <th>3RD_PV_MATHEMATICS</th>\n",
       "      <th>4TH_PV_MATHEMATICS</th>\n",
       "      <th>5TH_PV_MATHEMATICS</th>\n",
       "      <th>1ST_PV_SCIENCE</th>\n",
       "      <th>2ND_PV_SCIENCE</th>\n",
       "      <th>3RD_PV_SCIENCE</th>\n",
       "      <th>4TH_PV_SCIENCE</th>\n",
       "      <th>5TH_PV_SCIENCE</th>\n",
       "      <th>...</th>\n",
       "      <th>1ST_PV_PHYSICS</th>\n",
       "      <th>2ND_PV PHYSICS</th>\n",
       "      <th>3RD_PV_PHYSICS</th>\n",
       "      <th>4TH_PV_PHYSICS</th>\n",
       "      <th>5TH_PV_PHYSICS</th>\n",
       "      <th>1ST_PV_EARTH_SCIENCE</th>\n",
       "      <th>2ND_PV_EARTH_SCIENCE</th>\n",
       "      <th>3RD_PV_EARTH_SCIENCE</th>\n",
       "      <th>4TH_PV_EARTH_SCIENCE</th>\n",
       "      <th>5TH_PV_EARTH_SCIENCE</th>\n",
       "    </tr>\n",
       "  </thead>\n",
       "  <tbody>\n",
       "    <tr>\n",
       "      <th>count</th>\n",
       "      <td>375.000000</td>\n",
       "      <td>375.000000</td>\n",
       "      <td>375.000000</td>\n",
       "      <td>375.000000</td>\n",
       "      <td>375.000000</td>\n",
       "      <td>375.000000</td>\n",
       "      <td>375.000000</td>\n",
       "      <td>375.000000</td>\n",
       "      <td>375.000000</td>\n",
       "      <td>375.000000</td>\n",
       "      <td>...</td>\n",
       "      <td>375.000000</td>\n",
       "      <td>375.000000</td>\n",
       "      <td>375.000000</td>\n",
       "      <td>375.000000</td>\n",
       "      <td>375.000000</td>\n",
       "      <td>375.000000</td>\n",
       "      <td>375.000000</td>\n",
       "      <td>375.000000</td>\n",
       "      <td>375.000000</td>\n",
       "      <td>375.000000</td>\n",
       "    </tr>\n",
       "    <tr>\n",
       "      <th>mean</th>\n",
       "      <td>504.957021</td>\n",
       "      <td>507.967439</td>\n",
       "      <td>507.430038</td>\n",
       "      <td>506.996353</td>\n",
       "      <td>507.643269</td>\n",
       "      <td>517.395550</td>\n",
       "      <td>519.363338</td>\n",
       "      <td>519.677339</td>\n",
       "      <td>521.794787</td>\n",
       "      <td>520.595490</td>\n",
       "      <td>...</td>\n",
       "      <td>509.783830</td>\n",
       "      <td>511.420242</td>\n",
       "      <td>509.598050</td>\n",
       "      <td>515.782013</td>\n",
       "      <td>510.664237</td>\n",
       "      <td>529.806046</td>\n",
       "      <td>522.570258</td>\n",
       "      <td>527.288851</td>\n",
       "      <td>524.217921</td>\n",
       "      <td>523.628670</td>\n",
       "    </tr>\n",
       "    <tr>\n",
       "      <th>std</th>\n",
       "      <td>72.076804</td>\n",
       "      <td>75.277862</td>\n",
       "      <td>73.323459</td>\n",
       "      <td>73.151227</td>\n",
       "      <td>75.047655</td>\n",
       "      <td>78.341466</td>\n",
       "      <td>82.896807</td>\n",
       "      <td>78.756068</td>\n",
       "      <td>82.635062</td>\n",
       "      <td>81.783305</td>\n",
       "      <td>...</td>\n",
       "      <td>86.988086</td>\n",
       "      <td>85.411559</td>\n",
       "      <td>87.512954</td>\n",
       "      <td>86.914388</td>\n",
       "      <td>85.647555</td>\n",
       "      <td>83.377610</td>\n",
       "      <td>82.414376</td>\n",
       "      <td>82.044059</td>\n",
       "      <td>82.434559</td>\n",
       "      <td>82.963126</td>\n",
       "    </tr>\n",
       "    <tr>\n",
       "      <th>min</th>\n",
       "      <td>321.690010</td>\n",
       "      <td>301.721470</td>\n",
       "      <td>323.701920</td>\n",
       "      <td>283.797580</td>\n",
       "      <td>285.025620</td>\n",
       "      <td>304.615810</td>\n",
       "      <td>262.684720</td>\n",
       "      <td>317.678650</td>\n",
       "      <td>298.899250</td>\n",
       "      <td>255.672900</td>\n",
       "      <td>...</td>\n",
       "      <td>248.957430</td>\n",
       "      <td>185.838310</td>\n",
       "      <td>265.004520</td>\n",
       "      <td>281.718370</td>\n",
       "      <td>253.137430</td>\n",
       "      <td>273.892210</td>\n",
       "      <td>235.014930</td>\n",
       "      <td>290.635780</td>\n",
       "      <td>210.880330</td>\n",
       "      <td>270.262330</td>\n",
       "    </tr>\n",
       "    <tr>\n",
       "      <th>25%</th>\n",
       "      <td>455.359065</td>\n",
       "      <td>460.015970</td>\n",
       "      <td>452.324495</td>\n",
       "      <td>458.439780</td>\n",
       "      <td>460.272860</td>\n",
       "      <td>460.427845</td>\n",
       "      <td>460.316145</td>\n",
       "      <td>467.059685</td>\n",
       "      <td>466.915120</td>\n",
       "      <td>474.173365</td>\n",
       "      <td>...</td>\n",
       "      <td>451.273755</td>\n",
       "      <td>450.970075</td>\n",
       "      <td>449.585810</td>\n",
       "      <td>463.156350</td>\n",
       "      <td>451.601355</td>\n",
       "      <td>475.857390</td>\n",
       "      <td>468.228840</td>\n",
       "      <td>475.336215</td>\n",
       "      <td>473.000775</td>\n",
       "      <td>469.248200</td>\n",
       "    </tr>\n",
       "    <tr>\n",
       "      <th>50%</th>\n",
       "      <td>510.570510</td>\n",
       "      <td>513.028050</td>\n",
       "      <td>512.592640</td>\n",
       "      <td>514.228300</td>\n",
       "      <td>509.982280</td>\n",
       "      <td>521.247920</td>\n",
       "      <td>522.164860</td>\n",
       "      <td>517.497900</td>\n",
       "      <td>523.824920</td>\n",
       "      <td>521.985970</td>\n",
       "      <td>...</td>\n",
       "      <td>514.241870</td>\n",
       "      <td>513.696650</td>\n",
       "      <td>514.089960</td>\n",
       "      <td>517.356810</td>\n",
       "      <td>509.844030</td>\n",
       "      <td>529.096270</td>\n",
       "      <td>528.833000</td>\n",
       "      <td>528.348630</td>\n",
       "      <td>526.261000</td>\n",
       "      <td>526.473480</td>\n",
       "    </tr>\n",
       "    <tr>\n",
       "      <th>75%</th>\n",
       "      <td>552.367395</td>\n",
       "      <td>560.164180</td>\n",
       "      <td>559.478110</td>\n",
       "      <td>556.733855</td>\n",
       "      <td>554.698950</td>\n",
       "      <td>567.452510</td>\n",
       "      <td>574.304715</td>\n",
       "      <td>576.266705</td>\n",
       "      <td>578.417630</td>\n",
       "      <td>580.651740</td>\n",
       "      <td>...</td>\n",
       "      <td>568.920210</td>\n",
       "      <td>567.967250</td>\n",
       "      <td>565.800475</td>\n",
       "      <td>574.542560</td>\n",
       "      <td>565.450710</td>\n",
       "      <td>586.140725</td>\n",
       "      <td>579.652880</td>\n",
       "      <td>580.879850</td>\n",
       "      <td>579.092665</td>\n",
       "      <td>572.122050</td>\n",
       "    </tr>\n",
       "    <tr>\n",
       "      <th>max</th>\n",
       "      <td>709.089030</td>\n",
       "      <td>740.147210</td>\n",
       "      <td>697.746350</td>\n",
       "      <td>704.066950</td>\n",
       "      <td>736.804680</td>\n",
       "      <td>741.083230</td>\n",
       "      <td>737.233290</td>\n",
       "      <td>756.094360</td>\n",
       "      <td>732.127710</td>\n",
       "      <td>724.134910</td>\n",
       "      <td>...</td>\n",
       "      <td>722.006310</td>\n",
       "      <td>737.804360</td>\n",
       "      <td>763.923540</td>\n",
       "      <td>727.353860</td>\n",
       "      <td>734.459520</td>\n",
       "      <td>738.404110</td>\n",
       "      <td>717.989830</td>\n",
       "      <td>742.065030</td>\n",
       "      <td>718.222080</td>\n",
       "      <td>737.258580</td>\n",
       "    </tr>\n",
       "  </tbody>\n",
       "</table>\n",
       "<p>8 rows × 30 columns</p>\n",
       "</div>"
      ]
     },
     "execution_count": 15,
     "metadata": {},
     "output_type": "execute_result"
    }
   ],
   "execution_count": 15
  },
  {
   "metadata": {
    "ExecuteTime": {
     "end_time": "2025-03-19T20:39:30.622475Z",
     "start_time": "2025-03-19T20:39:30.604718Z"
    }
   },
   "cell_type": "code",
   "source": "most_disorderly.groupby(\"Gender_Student\", observed=False)[\"Gender_Student\"].describe()",
   "id": "9f558a1ab62ef90",
   "outputs": [
    {
     "data": {
      "text/plain": [
       "               count unique     top freq\n",
       "Gender_Student                          \n",
       "Others            18      1  Others   18\n",
       "Boy              181      1     Boy  181\n",
       "Girl             176      1    Girl  176"
      ],
      "text/html": [
       "<div>\n",
       "<style scoped>\n",
       "    .dataframe tbody tr th:only-of-type {\n",
       "        vertical-align: middle;\n",
       "    }\n",
       "\n",
       "    .dataframe tbody tr th {\n",
       "        vertical-align: top;\n",
       "    }\n",
       "\n",
       "    .dataframe thead th {\n",
       "        text-align: right;\n",
       "    }\n",
       "</style>\n",
       "<table border=\"1\" class=\"dataframe\">\n",
       "  <thead>\n",
       "    <tr style=\"text-align: right;\">\n",
       "      <th></th>\n",
       "      <th>count</th>\n",
       "      <th>unique</th>\n",
       "      <th>top</th>\n",
       "      <th>freq</th>\n",
       "    </tr>\n",
       "    <tr>\n",
       "      <th>Gender_Student</th>\n",
       "      <th></th>\n",
       "      <th></th>\n",
       "      <th></th>\n",
       "      <th></th>\n",
       "    </tr>\n",
       "  </thead>\n",
       "  <tbody>\n",
       "    <tr>\n",
       "      <th>Others</th>\n",
       "      <td>18</td>\n",
       "      <td>1</td>\n",
       "      <td>Others</td>\n",
       "      <td>18</td>\n",
       "    </tr>\n",
       "    <tr>\n",
       "      <th>Boy</th>\n",
       "      <td>181</td>\n",
       "      <td>1</td>\n",
       "      <td>Boy</td>\n",
       "      <td>181</td>\n",
       "    </tr>\n",
       "    <tr>\n",
       "      <th>Girl</th>\n",
       "      <td>176</td>\n",
       "      <td>1</td>\n",
       "      <td>Girl</td>\n",
       "      <td>176</td>\n",
       "    </tr>\n",
       "  </tbody>\n",
       "</table>\n",
       "</div>"
      ]
     },
     "execution_count": 16,
     "metadata": {},
     "output_type": "execute_result"
    }
   ],
   "execution_count": 16
  },
  {
   "metadata": {},
   "cell_type": "markdown",
   "source": "##### 3.1.3.1.1 Percentage of boys exhibiting frequent disorderly behaviour",
   "id": "385ffc817c912f4b"
  },
  {
   "metadata": {
    "ExecuteTime": {
     "end_time": "2025-03-19T20:39:30.817965Z",
     "start_time": "2025-03-19T20:39:30.803130Z"
    }
   },
   "cell_type": "code",
   "source": [
    "perc_boys = most_disorderly[most_disorderly[\"Gender_Student\"].str.contains(\"Boy\")][\"Gender_Student\"].count() / df[df[\"Gender_Student\"].str.contains(\"Boy\")][\"Gender_Student\"].count()\n",
    "perc_boys * 100"
   ],
   "id": "aaaedb1615b240b9",
   "outputs": [
    {
     "data": {
      "text/plain": [
       "np.float64(9.417273673257023)"
      ]
     },
     "execution_count": 17,
     "metadata": {},
     "output_type": "execute_result"
    }
   ],
   "execution_count": 17
  },
  {
   "metadata": {},
   "cell_type": "markdown",
   "source": "##### 3.1.3.1.2 Percentage of girls exhibiting frequent disorderly behaviour",
   "id": "b8425461b0464331"
  },
  {
   "metadata": {
    "ExecuteTime": {
     "end_time": "2025-03-19T20:39:31.073939Z",
     "start_time": "2025-03-19T20:39:31.060876Z"
    }
   },
   "cell_type": "code",
   "source": [
    "perc_boys = most_disorderly[most_disorderly[\"Gender_Student\"].str.contains(\"Girl\")][\"Gender_Student\"].count() / df[df[\"Gender_Student\"].str.contains(\"Girl\")][\"Gender_Student\"].count()\n",
    "perc_boys * 100"
   ],
   "id": "4085810e3286b6fb",
   "outputs": [
    {
     "data": {
      "text/plain": [
       "np.float64(9.57041870581838)"
      ]
     },
     "execution_count": 18,
     "metadata": {},
     "output_type": "execute_result"
    }
   ],
   "execution_count": 18
  },
  {
   "metadata": {},
   "cell_type": "markdown",
   "source": "#### 3.1.3.2 Gender wise distribution of students having very few disorderly behavior across subjects",
   "id": "a7f7bc72808dedf9"
  },
  {
   "metadata": {
    "ExecuteTime": {
     "end_time": "2025-03-19T20:39:31.229262Z",
     "start_time": "2025-03-19T20:39:31.219263Z"
    }
   },
   "cell_type": "code",
   "source": "few_disorderly = df[science_few & maths_few]",
   "id": "5ac92a56954091ef",
   "outputs": [],
   "execution_count": 19
  },
  {
   "metadata": {
    "ExecuteTime": {
     "end_time": "2025-03-19T20:39:31.380162Z",
     "start_time": "2025-03-19T20:39:31.358697Z"
    }
   },
   "cell_type": "code",
   "source": "few_disorderly.groupby(\"Gender_Student\")[\"Gender_Student\"].describe()",
   "id": "2335cfa857e7f0d3",
   "outputs": [
    {
     "name": "stderr",
     "output_type": "stream",
     "text": [
      "C:\\Users\\ssree\\AppData\\Local\\Temp\\ipykernel_14732\\1123985767.py:1: FutureWarning: The default of observed=False is deprecated and will be changed to True in a future version of pandas. Pass observed=False to retain current behavior or observed=True to adopt the future default and silence this warning.\n",
      "  few_disorderly.groupby(\"Gender_Student\")[\"Gender_Student\"].describe()\n"
     ]
    },
    {
     "data": {
      "text/plain": [
       "               count unique     top freq\n",
       "Gender_Student                          \n",
       "Others            29      1  Others   29\n",
       "Boy              656      1     Boy  656\n",
       "Girl             756      1    Girl  756"
      ],
      "text/html": [
       "<div>\n",
       "<style scoped>\n",
       "    .dataframe tbody tr th:only-of-type {\n",
       "        vertical-align: middle;\n",
       "    }\n",
       "\n",
       "    .dataframe tbody tr th {\n",
       "        vertical-align: top;\n",
       "    }\n",
       "\n",
       "    .dataframe thead th {\n",
       "        text-align: right;\n",
       "    }\n",
       "</style>\n",
       "<table border=\"1\" class=\"dataframe\">\n",
       "  <thead>\n",
       "    <tr style=\"text-align: right;\">\n",
       "      <th></th>\n",
       "      <th>count</th>\n",
       "      <th>unique</th>\n",
       "      <th>top</th>\n",
       "      <th>freq</th>\n",
       "    </tr>\n",
       "    <tr>\n",
       "      <th>Gender_Student</th>\n",
       "      <th></th>\n",
       "      <th></th>\n",
       "      <th></th>\n",
       "      <th></th>\n",
       "    </tr>\n",
       "  </thead>\n",
       "  <tbody>\n",
       "    <tr>\n",
       "      <th>Others</th>\n",
       "      <td>29</td>\n",
       "      <td>1</td>\n",
       "      <td>Others</td>\n",
       "      <td>29</td>\n",
       "    </tr>\n",
       "    <tr>\n",
       "      <th>Boy</th>\n",
       "      <td>656</td>\n",
       "      <td>1</td>\n",
       "      <td>Boy</td>\n",
       "      <td>656</td>\n",
       "    </tr>\n",
       "    <tr>\n",
       "      <th>Girl</th>\n",
       "      <td>756</td>\n",
       "      <td>1</td>\n",
       "      <td>Girl</td>\n",
       "      <td>756</td>\n",
       "    </tr>\n",
       "  </tbody>\n",
       "</table>\n",
       "</div>"
      ]
     },
     "execution_count": 20,
     "metadata": {},
     "output_type": "execute_result"
    }
   ],
   "execution_count": 20
  },
  {
   "metadata": {},
   "cell_type": "markdown",
   "source": [
    "\n",
    "##### 3.1.3.2.1 Percentage of boys exhibiting fewer disorderly behaviour"
   ],
   "id": "b7d16ad434723a2d"
  },
  {
   "metadata": {
    "ExecuteTime": {
     "end_time": "2025-03-19T20:39:31.447515Z",
     "start_time": "2025-03-19T20:39:31.434403Z"
    }
   },
   "cell_type": "code",
   "source": [
    "perc_boys = few_disorderly[few_disorderly[\"Gender_Student\"].str.contains(\"Boy\")][\"Gender_Student\"].count() / df[df[\"Gender_Student\"].str.contains(\"Boy\")][\"Gender_Student\"].count()\n",
    "perc_boys * 100"
   ],
   "id": "3b8e97ec9b731fa8",
   "outputs": [
    {
     "data": {
      "text/plain": [
       "np.float64(34.13111342351717)"
      ]
     },
     "execution_count": 21,
     "metadata": {},
     "output_type": "execute_result"
    }
   ],
   "execution_count": 21
  },
  {
   "metadata": {},
   "cell_type": "markdown",
   "source": [
    "\n",
    "\n",
    "##### 3.1.3.2.2 Percentage of girls exhibiting fewer disorderly behaviour"
   ],
   "id": "e60167709bf69b84"
  },
  {
   "metadata": {
    "ExecuteTime": {
     "end_time": "2025-03-19T20:39:31.575443Z",
     "start_time": "2025-03-19T20:39:31.549741Z"
    }
   },
   "cell_type": "code",
   "source": [
    "perc_boys = most_disorderly[most_disorderly[\"Gender_Student\"].str.contains(\"Girl\")][\"Gender_Student\"].count() / df[df[\"Gender_Student\"].str.contains(\"Girl\")][\"Gender_Student\"].count()\n",
    "perc_boys * 100"
   ],
   "id": "5a6a0c2a077ac5d0",
   "outputs": [
    {
     "data": {
      "text/plain": [
       "np.float64(9.57041870581838)"
      ]
     },
     "execution_count": 22,
     "metadata": {},
     "output_type": "execute_result"
    }
   ],
   "execution_count": 22
  },
  {
   "metadata": {},
   "cell_type": "markdown",
   "source": "## 3.2 Subject Likeness and Gender",
   "id": "5bace7d9d22a1b4a"
  },
  {
   "metadata": {
    "ExecuteTime": {
     "end_time": "2025-03-19T20:39:31.676437Z",
     "start_time": "2025-03-19T20:39:31.665113Z"
    }
   },
   "cell_type": "code",
   "source": [
    "subject_likeness_mask = df.columns.str.contains(\"Like_Learning\")\n",
    "df[df.columns[subject_likeness_mask]].value_counts()"
   ],
   "id": "5ee553d022bc18e0",
   "outputs": [
    {
     "data": {
      "text/plain": [
       "Students_Like_Learning_Mathematics   Students_Like_Learning_Science \n",
       "Do Not Like Learning Mathematics     Do Not Like Learning Science       945\n",
       "                                     Somewhat Like Learning Science     806\n",
       "Somewhat Like Learning Mathematics   Somewhat Like Learning Science     520\n",
       "Do Not Like Learning Mathematics     Very Much Like Learning Science    468\n",
       "Somewhat Like Learning Mathematics   Very Much Like Learning Science    384\n",
       "                                     Do Not Like Learning Science       334\n",
       "Very Much Like Learning Mathematics  Very Much Like Learning Science    195\n",
       "                                     Somewhat Like Learning Science     147\n",
       "                                     Do Not Like Learning Science        76\n",
       "Name: count, dtype: int64"
      ]
     },
     "execution_count": 23,
     "metadata": {},
     "output_type": "execute_result"
    }
   ],
   "execution_count": 23
  },
  {
   "metadata": {
    "ExecuteTime": {
     "end_time": "2025-03-19T20:39:31.788885Z",
     "start_time": "2025-03-19T20:39:31.775423Z"
    }
   },
   "cell_type": "code",
   "source": [
    "df[\"Students_Like_Learning_Mathematics\"] = df[\"Students_Like_Learning_Mathematics\"].apply(lambda x: \"Do not like\" if \"Do Not\" in str(x) else x )\n",
    "df[\"Students_Like_Learning_Mathematics\"] = df[\"Students_Like_Learning_Mathematics\"].apply(lambda x: \"Some what like\" if \"Somewhat\" in str(x) else x )\n",
    "df[\"Students_Like_Learning_Mathematics\"] = df[\"Students_Like_Learning_Mathematics\"].apply(lambda x: \"Very much like\" if \"Very Much\" in str(x) else x )\n",
    "df[\"Students_Like_Learning_Mathematics\"].value_counts()\n",
    "\n"
   ],
   "id": "2a13d617bad189d9",
   "outputs": [
    {
     "data": {
      "text/plain": [
       "Students_Like_Learning_Mathematics\n",
       "Do not like       2219\n",
       "Some what like    1238\n",
       "Very much like     418\n",
       "Name: count, dtype: int64"
      ]
     },
     "execution_count": 24,
     "metadata": {},
     "output_type": "execute_result"
    }
   ],
   "execution_count": 24
  },
  {
   "metadata": {
    "ExecuteTime": {
     "end_time": "2025-03-19T20:39:31.976312Z",
     "start_time": "2025-03-19T20:39:31.963289Z"
    }
   },
   "cell_type": "code",
   "source": [
    "df[\"Students_Like_Learning_Science\"] = df[\"Students_Like_Learning_Science\"].apply(lambda x: \"Do not like\" if \"Do Not\" in str(x) else x )\n",
    "df[\"Students_Like_Learning_Science\"] = df[\"Students_Like_Learning_Science\"].apply(lambda x: \"Some what like\" if \"Somewhat\" in str(x) else x )\n",
    "df[\"Students_Like_Learning_Science\"] = df[\"Students_Like_Learning_Science\"].apply(lambda x: \"Very much like\" if \"Very Much\" in str(x) else x )\n",
    "df[\"Students_Like_Learning_Science\"].value_counts()\n",
    "\n"
   ],
   "id": "d43ec39585bdd7ee",
   "outputs": [
    {
     "data": {
      "text/plain": [
       "Students_Like_Learning_Science\n",
       "Some what like    1473\n",
       "Do not like       1355\n",
       "Very much like    1047\n",
       "Name: count, dtype: int64"
      ]
     },
     "execution_count": 25,
     "metadata": {},
     "output_type": "execute_result"
    }
   ],
   "execution_count": 25
  },
  {
   "metadata": {},
   "cell_type": "markdown",
   "source": "### 3.2.1 Gender and Likeness for Mathematics",
   "id": "ecf827a72e1ff8ad"
  },
  {
   "metadata": {},
   "cell_type": "markdown",
   "source": "#### 3.2.1.1 Gender wise distribution of students who like Mathematics",
   "id": "7f9ff4ca552d7123"
  },
  {
   "metadata": {
    "ExecuteTime": {
     "end_time": "2025-03-19T20:40:17.182969Z",
     "start_time": "2025-03-19T20:40:17.155616Z"
    }
   },
   "cell_type": "code",
   "source": [
    "ver_much_like = df[\"Students_Like_Learning_Mathematics\"].str.contains(\"Very\")\n",
    "some_what_like = df[\"Students_Like_Learning_Mathematics\"].str.contains(\"Some\")\n",
    "like_maths  = df[ver_much_like | some_what_like]\n",
    "like_maths.groupby(\"Gender_Student\" , observed=False)[\"Gender_Student\"].describe()\n"
   ],
   "id": "480f871f7a9e8082",
   "outputs": [
    {
     "data": {
      "text/plain": [
       "               count unique     top freq\n",
       "Gender_Student                          \n",
       "Others            46      1  Others   46\n",
       "Boy              887      1     Boy  887\n",
       "Girl             723      1    Girl  723"
      ],
      "text/html": [
       "<div>\n",
       "<style scoped>\n",
       "    .dataframe tbody tr th:only-of-type {\n",
       "        vertical-align: middle;\n",
       "    }\n",
       "\n",
       "    .dataframe tbody tr th {\n",
       "        vertical-align: top;\n",
       "    }\n",
       "\n",
       "    .dataframe thead th {\n",
       "        text-align: right;\n",
       "    }\n",
       "</style>\n",
       "<table border=\"1\" class=\"dataframe\">\n",
       "  <thead>\n",
       "    <tr style=\"text-align: right;\">\n",
       "      <th></th>\n",
       "      <th>count</th>\n",
       "      <th>unique</th>\n",
       "      <th>top</th>\n",
       "      <th>freq</th>\n",
       "    </tr>\n",
       "    <tr>\n",
       "      <th>Gender_Student</th>\n",
       "      <th></th>\n",
       "      <th></th>\n",
       "      <th></th>\n",
       "      <th></th>\n",
       "    </tr>\n",
       "  </thead>\n",
       "  <tbody>\n",
       "    <tr>\n",
       "      <th>Others</th>\n",
       "      <td>46</td>\n",
       "      <td>1</td>\n",
       "      <td>Others</td>\n",
       "      <td>46</td>\n",
       "    </tr>\n",
       "    <tr>\n",
       "      <th>Boy</th>\n",
       "      <td>887</td>\n",
       "      <td>1</td>\n",
       "      <td>Boy</td>\n",
       "      <td>887</td>\n",
       "    </tr>\n",
       "    <tr>\n",
       "      <th>Girl</th>\n",
       "      <td>723</td>\n",
       "      <td>1</td>\n",
       "      <td>Girl</td>\n",
       "      <td>723</td>\n",
       "    </tr>\n",
       "  </tbody>\n",
       "</table>\n",
       "</div>"
      ]
     },
     "execution_count": 31,
     "metadata": {},
     "output_type": "execute_result"
    }
   ],
   "execution_count": 31
  },
  {
   "metadata": {
    "ExecuteTime": {
     "end_time": "2025-03-19T20:44:09.084175Z",
     "start_time": "2025-03-19T20:44:08.969791Z"
    }
   },
   "cell_type": "code",
   "source": [
    "fig = plt.figure(figsize=(10,5))\n",
    "sns.countplot(data=like_maths, x=\"Gender_Student\", color=\"b\")\n",
    "plt.tight_layout()\n",
    "plt.show()"
   ],
   "id": "4812f956f2aef77d",
   "outputs": [
    {
     "data": {
      "text/plain": [
       "<Figure size 1000x500 with 1 Axes>"
      ],
      "image/png": "[encoded data removed]"
     },
     "metadata": {},
     "output_type": "display_data"
    }
   ],
   "execution_count": 37
  },
  {
   "metadata": {},
   "cell_type": "markdown",
   "source": "##### 3.2.1.1.1 Percentage of boys, who like mathematics",
   "id": "8a4e6c8fd16bd097"
  },
  {
   "metadata": {
    "ExecuteTime": {
     "end_time": "2025-03-19T20:41:17.112431Z",
     "start_time": "2025-03-19T20:41:17.087022Z"
    }
   },
   "cell_type": "code",
   "source": "utils.getPercentageByGender(like_maths,df,\"Boy\")",
   "id": "6abd2e15e85247d7",
   "outputs": [
    {
     "name": "stdout",
     "output_type": "stream",
     "text": [
      "0.4614984391259105\n"
     ]
    }
   ],
   "execution_count": 32
  },
  {
   "metadata": {},
   "cell_type": "markdown",
   "source": "##### 3.2.1.1.2 Percentage of girls, who like mathematics",
   "id": "33a20b49ede6e13e"
  },
  {
   "metadata": {
    "ExecuteTime": {
     "end_time": "2025-03-19T20:39:32.629701Z",
     "start_time": "2025-03-19T20:39:32.614419Z"
    }
   },
   "cell_type": "code",
   "source": "utils.getPercentageByGender(like_maths,df,\"Girl\")",
   "id": "93929d8c6927c387",
   "outputs": [
    {
     "name": "stdout",
     "output_type": "stream",
     "text": [
      "0.3931484502446982\n"
     ]
    }
   ],
   "execution_count": 28
  },
  {
   "metadata": {},
   "cell_type": "markdown",
   "source": "#### 3.2.1.2 Gender wise distribution of students who do not like Mathematics",
   "id": "79bbb2a51844959d"
  },
  {
   "metadata": {
    "ExecuteTime": {
     "end_time": "2025-03-19T20:44:56.172908Z",
     "start_time": "2025-03-19T20:44:55.872022Z"
    }
   },
   "cell_type": "code",
   "source": [
    "dont_like_maths, gender_groped = utils.subjectLikeness(df,\"Mathematics\", \"Do not\")\n",
    "gender_groped.describe()"
   ],
   "id": "535cd6d0dfad530a",
   "outputs": [
    {
     "data": {
      "text/plain": [
       "<Figure size 1000x600 with 2 Axes>"
      ],
      "image/png": "[encoded data removed]"
     },
     "metadata": {},
     "output_type": "display_data"
    },
    {
     "data": {
      "text/plain": [
       "               count unique     top  freq\n",
       "Gender_Student                           \n",
       "Others            68      1  Others    68\n",
       "Boy             1035      1     Boy  1035\n",
       "Girl            1116      1    Girl  1116"
      ],
      "text/html": [
       "<div>\n",
       "<style scoped>\n",
       "    .dataframe tbody tr th:only-of-type {\n",
       "        vertical-align: middle;\n",
       "    }\n",
       "\n",
       "    .dataframe tbody tr th {\n",
       "        vertical-align: top;\n",
       "    }\n",
       "\n",
       "    .dataframe thead th {\n",
       "        text-align: right;\n",
       "    }\n",
       "</style>\n",
       "<table border=\"1\" class=\"dataframe\">\n",
       "  <thead>\n",
       "    <tr style=\"text-align: right;\">\n",
       "      <th></th>\n",
       "      <th>count</th>\n",
       "      <th>unique</th>\n",
       "      <th>top</th>\n",
       "      <th>freq</th>\n",
       "    </tr>\n",
       "    <tr>\n",
       "      <th>Gender_Student</th>\n",
       "      <th></th>\n",
       "      <th></th>\n",
       "      <th></th>\n",
       "      <th></th>\n",
       "    </tr>\n",
       "  </thead>\n",
       "  <tbody>\n",
       "    <tr>\n",
       "      <th>Others</th>\n",
       "      <td>68</td>\n",
       "      <td>1</td>\n",
       "      <td>Others</td>\n",
       "      <td>68</td>\n",
       "    </tr>\n",
       "    <tr>\n",
       "      <th>Boy</th>\n",
       "      <td>1035</td>\n",
       "      <td>1</td>\n",
       "      <td>Boy</td>\n",
       "      <td>1035</td>\n",
       "    </tr>\n",
       "    <tr>\n",
       "      <th>Girl</th>\n",
       "      <td>1116</td>\n",
       "      <td>1</td>\n",
       "      <td>Girl</td>\n",
       "      <td>1116</td>\n",
       "    </tr>\n",
       "  </tbody>\n",
       "</table>\n",
       "</div>"
      ]
     },
     "execution_count": 38,
     "metadata": {},
     "output_type": "execute_result"
    }
   ],
   "execution_count": 38
  },
  {
   "metadata": {},
   "cell_type": "markdown",
   "source": "##### 3.2.1.2.1 Percentage of boys, do not like mathematics",
   "id": "2691417f66bb988c"
  },
  {
   "metadata": {
    "ExecuteTime": {
     "end_time": "2025-03-19T20:47:52.619063Z",
     "start_time": "2025-03-19T20:47:52.605392Z"
    }
   },
   "cell_type": "code",
   "source": "utils.getPercentageByGender(dont_like_maths,df,\"Boy\")",
   "id": "b2079acf9c198de6",
   "outputs": [
    {
     "name": "stdout",
     "output_type": "stream",
     "text": [
      "0.5385015608740895\n"
     ]
    }
   ],
   "execution_count": 42
  },
  {
   "metadata": {},
   "cell_type": "markdown",
   "source": "##### 3.2.1.2.2 Percentage of girls, do not like mathematics",
   "id": "ca6091bbd6c59965"
  },
  {
   "metadata": {
    "ExecuteTime": {
     "end_time": "2025-03-19T20:47:48.468473Z",
     "start_time": "2025-03-19T20:47:48.455488Z"
    }
   },
   "cell_type": "code",
   "source": "utils.getPercentageByGender(dont_like_maths,df,\"Girl\")",
   "id": "8e18ce68af308fd9",
   "outputs": [
    {
     "name": "stdout",
     "output_type": "stream",
     "text": [
      "0.6068515497553018\n"
     ]
    }
   ],
   "execution_count": 41
  },
  {
   "metadata": {},
   "cell_type": "markdown",
   "source": "### 3.2.2 Gender and Likeness for Science",
   "id": "208ea7feb7074452"
  },
  {
   "metadata": {},
   "cell_type": "markdown",
   "source": "#### 3.2.2.1 Gender wise distriibution of students who like Science",
   "id": "e51698bc89e1ca2f"
  },
  {
   "metadata": {
    "ExecuteTime": {
     "end_time": "2025-03-19T20:53:25.014130Z",
     "start_time": "2025-03-19T20:53:24.993178Z"
    }
   },
   "cell_type": "code",
   "source": [
    "ver_much_like = df[\"Students_Like_Learning_Science\"].str.contains(\"Very\")\n",
    "some_what_like = df[\"Students_Like_Learning_Science\"].str.contains(\"Some\")\n",
    "like_science  = df[ver_much_like | some_what_like]\n",
    "like_science.groupby(\"Gender_Student\" , observed=False)[\"Gender_Student\"].describe()\n"
   ],
   "id": "1ddff5148a89fc0a",
   "outputs": [
    {
     "data": {
      "text/plain": [
       "               count unique     top  freq\n",
       "Gender_Student                           \n",
       "Others            77      1  Others    77\n",
       "Boy             1305      1     Boy  1305\n",
       "Girl            1138      1    Girl  1138"
      ],
      "text/html": [
       "<div>\n",
       "<style scoped>\n",
       "    .dataframe tbody tr th:only-of-type {\n",
       "        vertical-align: middle;\n",
       "    }\n",
       "\n",
       "    .dataframe tbody tr th {\n",
       "        vertical-align: top;\n",
       "    }\n",
       "\n",
       "    .dataframe thead th {\n",
       "        text-align: right;\n",
       "    }\n",
       "</style>\n",
       "<table border=\"1\" class=\"dataframe\">\n",
       "  <thead>\n",
       "    <tr style=\"text-align: right;\">\n",
       "      <th></th>\n",
       "      <th>count</th>\n",
       "      <th>unique</th>\n",
       "      <th>top</th>\n",
       "      <th>freq</th>\n",
       "    </tr>\n",
       "    <tr>\n",
       "      <th>Gender_Student</th>\n",
       "      <th></th>\n",
       "      <th></th>\n",
       "      <th></th>\n",
       "      <th></th>\n",
       "    </tr>\n",
       "  </thead>\n",
       "  <tbody>\n",
       "    <tr>\n",
       "      <th>Others</th>\n",
       "      <td>77</td>\n",
       "      <td>1</td>\n",
       "      <td>Others</td>\n",
       "      <td>77</td>\n",
       "    </tr>\n",
       "    <tr>\n",
       "      <th>Boy</th>\n",
       "      <td>1305</td>\n",
       "      <td>1</td>\n",
       "      <td>Boy</td>\n",
       "      <td>1305</td>\n",
       "    </tr>\n",
       "    <tr>\n",
       "      <th>Girl</th>\n",
       "      <td>1138</td>\n",
       "      <td>1</td>\n",
       "      <td>Girl</td>\n",
       "      <td>1138</td>\n",
       "    </tr>\n",
       "  </tbody>\n",
       "</table>\n",
       "</div>"
      ]
     },
     "execution_count": 48,
     "metadata": {},
     "output_type": "execute_result"
    }
   ],
   "execution_count": 48
  },
  {
   "metadata": {
    "ExecuteTime": {
     "end_time": "2025-03-19T20:53:48.096964Z",
     "start_time": "2025-03-19T20:53:47.970267Z"
    }
   },
   "cell_type": "code",
   "source": [
    "fig = plt.figure(figsize=(10,5))\n",
    "sns.countplot(data=like_science, x=\"Gender_Student\", color=\"b\")\n",
    "plt.tight_layout()\n",
    "plt.show()"
   ],
   "id": "7d7d40e18adb0dd4",
   "outputs": [
    {
     "data": {
      "text/plain": [
       "<Figure size 1000x500 with 1 Axes>"
      ],
      "image/png": "[encoded data removed]"
     },
     "metadata": {},
     "output_type": "display_data"
    }
   ],
   "execution_count": 49
  },
  {
   "metadata": {},
   "cell_type": "markdown",
   "source": [
    "\n",
    "##### 3.2.2.1.1 Percentage of boys who like learning science"
   ],
   "id": "aa879294997e89df"
  },
  {
   "metadata": {
    "ExecuteTime": {
     "end_time": "2025-03-19T20:54:13.549762Z",
     "start_time": "2025-03-19T20:54:13.537592Z"
    }
   },
   "cell_type": "code",
   "source": "utils.getPercentageByGender(like_science,df,\"Boy\")",
   "id": "873b06bde8c94146",
   "outputs": [
    {
     "name": "stdout",
     "output_type": "stream",
     "text": [
      "0.6789802289281998\n"
     ]
    }
   ],
   "execution_count": 50
  },
  {
   "metadata": {},
   "cell_type": "markdown",
   "source": "##### 3.2.2.1.2 Percentage of girls who like learning science",
   "id": "bfd542a501a2f999"
  },
  {
   "metadata": {
    "ExecuteTime": {
     "end_time": "2025-03-19T20:54:35.939159Z",
     "start_time": "2025-03-19T20:54:35.926999Z"
    }
   },
   "cell_type": "code",
   "source": "utils.getPercentageByGender(like_science,df,\"Girl\")",
   "id": "e166c096cb1e48d7",
   "outputs": [
    {
     "name": "stdout",
     "output_type": "stream",
     "text": [
      "0.6188145731375748\n"
     ]
    }
   ],
   "execution_count": 51
  },
  {
   "metadata": {},
   "cell_type": "markdown",
   "source": "#### 3.2.2.2 Gender wise distriibution of students, who do not like Science",
   "id": "8d98ea61c9b8bfbf"
  },
  {
   "metadata": {
    "ExecuteTime": {
     "end_time": "2025-03-19T20:56:31.934128Z",
     "start_time": "2025-03-19T20:56:31.713916Z"
    }
   },
   "cell_type": "code",
   "source": [
    "dont_like_science, gender_groped = utils.subjectLikeness(df,\"Science\", \"Do not\")\n",
    "gender_groped.describe()"
   ],
   "id": "d44d7b6a1e09c183",
   "outputs": [
    {
     "data": {
      "text/plain": [
       "<Figure size 1000x600 with 2 Axes>"
      ],
      "image/png": "[encoded data removed]"
     },
     "metadata": {},
     "output_type": "display_data"
    },
    {
     "data": {
      "text/plain": [
       "               count unique     top freq\n",
       "Gender_Student                          \n",
       "Others            37      1  Others   37\n",
       "Boy              617      1     Boy  617\n",
       "Girl             701      1    Girl  701"
      ],
      "text/html": [
       "<div>\n",
       "<style scoped>\n",
       "    .dataframe tbody tr th:only-of-type {\n",
       "        vertical-align: middle;\n",
       "    }\n",
       "\n",
       "    .dataframe tbody tr th {\n",
       "        vertical-align: top;\n",
       "    }\n",
       "\n",
       "    .dataframe thead th {\n",
       "        text-align: right;\n",
       "    }\n",
       "</style>\n",
       "<table border=\"1\" class=\"dataframe\">\n",
       "  <thead>\n",
       "    <tr style=\"text-align: right;\">\n",
       "      <th></th>\n",
       "      <th>count</th>\n",
       "      <th>unique</th>\n",
       "      <th>top</th>\n",
       "      <th>freq</th>\n",
       "    </tr>\n",
       "    <tr>\n",
       "      <th>Gender_Student</th>\n",
       "      <th></th>\n",
       "      <th></th>\n",
       "      <th></th>\n",
       "      <th></th>\n",
       "    </tr>\n",
       "  </thead>\n",
       "  <tbody>\n",
       "    <tr>\n",
       "      <th>Others</th>\n",
       "      <td>37</td>\n",
       "      <td>1</td>\n",
       "      <td>Others</td>\n",
       "      <td>37</td>\n",
       "    </tr>\n",
       "    <tr>\n",
       "      <th>Boy</th>\n",
       "      <td>617</td>\n",
       "      <td>1</td>\n",
       "      <td>Boy</td>\n",
       "      <td>617</td>\n",
       "    </tr>\n",
       "    <tr>\n",
       "      <th>Girl</th>\n",
       "      <td>701</td>\n",
       "      <td>1</td>\n",
       "      <td>Girl</td>\n",
       "      <td>701</td>\n",
       "    </tr>\n",
       "  </tbody>\n",
       "</table>\n",
       "</div>"
      ]
     },
     "execution_count": 53,
     "metadata": {},
     "output_type": "execute_result"
    }
   ],
   "execution_count": 53
  },
  {
   "metadata": {},
   "cell_type": "markdown",
   "source": [
    "\n",
    "##### 3.2.2.2.1 Percentage of boys don't like learning science"
   ],
   "id": "7f0f3afa39d1c965"
  },
  {
   "metadata": {
    "ExecuteTime": {
     "end_time": "2025-03-19T20:57:16.580104Z",
     "start_time": "2025-03-19T20:57:16.567301Z"
    }
   },
   "cell_type": "code",
   "source": "utils.getPercentageByGender(dont_like_maths,df,\"Boy\")",
   "id": "6246cc079450a88e",
   "outputs": [
    {
     "name": "stdout",
     "output_type": "stream",
     "text": [
      "0.5385015608740895\n"
     ]
    }
   ],
   "execution_count": 54
  },
  {
   "metadata": {},
   "cell_type": "markdown",
   "source": [
    "\n",
    "##### 3.2.2.2.2 Percentage of girls don't like learning science"
   ],
   "id": "6aa5bf8dfc91a26d"
  },
  {
   "metadata": {
    "ExecuteTime": {
     "end_time": "2025-03-19T20:57:34.476394Z",
     "start_time": "2025-03-19T20:57:34.462620Z"
    }
   },
   "cell_type": "code",
   "source": "utils.getPercentageByGender(dont_like_maths,df,\"Girl\")",
   "id": "b9f2fcb8216667b1",
   "outputs": [
    {
     "name": "stdout",
     "output_type": "stream",
     "text": [
      "0.6068515497553018\n"
     ]
    }
   ],
   "execution_count": 55
  },
  {
   "metadata": {},
   "cell_type": "code",
   "outputs": [],
   "execution_count": null,
   "source": "",
   "id": "d852e3f7138c6d42"
  },
  {
   "metadata": {},
   "cell_type": "markdown",
   "source": "## 3.3 Confidence and Gender",
   "id": "83d66f923dafe2fe"
  },
  {
   "metadata": {
    "ExecuteTime": {
     "end_time": "2025-03-19T21:04:38.488143Z",
     "start_time": "2025-03-19T21:04:38.470748Z"
    }
   },
   "cell_type": "code",
   "source": [
    "subject_confidence_mask = df.columns.str.contains(\"Confident\")\n",
    "df[df.columns[subject_confidence_mask]].value_counts()"
   ],
   "id": "78c01a153f816282",
   "outputs": [
    {
     "data": {
      "text/plain": [
       "Students_Confident_in_Mathematics  Students_Confident_in_Science\n",
       "Not Confident in Mathematics       Not Confident in Science         1030\n",
       "                                   Somewhat Confident in Science     712\n",
       "Somewhat Confident in Mathematics  Somewhat Confident in Science     673\n",
       "                                   Not Confident in Science          502\n",
       "                                   Very Confident in Science         248\n",
       "Very Confident in Mathematics      Very Confident in Science         221\n",
       "                                   Somewhat Confident in Science     196\n",
       "Not Confident in Mathematics       Very Confident in Science         168\n",
       "Very Confident in Mathematics      Not Confident in Science          125\n",
       "Name: count, dtype: int64"
      ]
     },
     "execution_count": 56,
     "metadata": {},
     "output_type": "execute_result"
    }
   ],
   "execution_count": 56
  },
  {
   "metadata": {
    "ExecuteTime": {
     "end_time": "2025-03-19T21:06:15.663411Z",
     "start_time": "2025-03-19T21:06:15.645789Z"
    }
   },
   "cell_type": "code",
   "source": [
    "df[\"Students_Confident_in_Mathematics\"] = df[\"Students_Confident_in_Mathematics\"].apply(lambda x: \"Not Confident\" if \"Not\" in str(x) else x )\n",
    "df[\"Students_Confident_in_Mathematics\"] = df[\"Students_Confident_in_Mathematics\"].apply(lambda x: \"Some what confident\" if \"Somewhat\" in str(x) else x )\n",
    "df[\"Students_Confident_in_Mathematics\"] = df[\"Students_Confident_in_Mathematics\"].apply(lambda x: \"Very confident\" if \"Very\" in str(x) else x )\n",
    "df[\"Students_Confident_in_Mathematics\"].value_counts()\n",
    "\n"
   ],
   "id": "3458741bd4b862ca",
   "outputs": [
    {
     "data": {
      "text/plain": [
       "Students_Confident_in_Mathematics\n",
       "Not Confident          1910\n",
       "Some what confident    1423\n",
       "Very confident          542\n",
       "Name: count, dtype: int64"
      ]
     },
     "execution_count": 57,
     "metadata": {},
     "output_type": "execute_result"
    }
   ],
   "execution_count": 57
  },
  {
   "metadata": {
    "ExecuteTime": {
     "end_time": "2025-03-19T21:06:57.380263Z",
     "start_time": "2025-03-19T21:06:57.361742Z"
    }
   },
   "cell_type": "code",
   "source": [
    "df[\"Students_Confident_in_Science\"] = df[\"Students_Confident_in_Science\"].apply(lambda x: \"Not Confident\" if \"Not\" in str(x) else x )\n",
    "df[\"Students_Confident_in_Science\"] = df[\"Students_Confident_in_Science\"].apply(lambda x: \"Some what confident\" if \"Somewhat\" in str(x) else x )\n",
    "df[\"Students_Confident_in_Science\"] = df[\"Students_Confident_in_Science\"].apply(lambda x: \"Very confident\" if \"Very\" in str(x) else x )\n",
    "df[\"Students_Confident_in_Science\"].value_counts()\n",
    "\n"
   ],
   "id": "5d1dd56dc6752fb8",
   "outputs": [
    {
     "data": {
      "text/plain": [
       "Students_Confident_in_Science\n",
       "Not Confident          1657\n",
       "Some what confident    1581\n",
       "Very confident          637\n",
       "Name: count, dtype: int64"
      ]
     },
     "execution_count": 58,
     "metadata": {},
     "output_type": "execute_result"
    }
   ],
   "execution_count": 58
  },
  {
   "metadata": {},
   "cell_type": "markdown",
   "source": "### 3.3.1 Gender and Confidence in Mathematics",
   "id": "a3ad2d37686bb4f4"
  },
  {
   "metadata": {},
   "cell_type": "markdown",
   "source": "#### 3.3.1.1 Gender wise distribution of students are confident Mathematics",
   "id": "3ff58f7468617b5b"
  },
  {
   "metadata": {
    "ExecuteTime": {
     "end_time": "2025-03-19T21:15:43.764260Z",
     "start_time": "2025-03-19T21:15:43.739467Z"
    }
   },
   "cell_type": "code",
   "source": [
    "ver_much_like = df[\"Students_Confident_in_Mathematics\"].str.contains(\"Very\")\n",
    "some_what_like = df[\"Students_Confident_in_Mathematics\"].str.contains(\"Some\")\n",
    "confident_in_maths  = df[ver_much_like | some_what_like]\n",
    "confident_in_maths.groupby(\"Gender_Student\" , observed=False)[\"Gender_Student\"].describe()\n"
   ],
   "id": "e792dc86cb56506",
   "outputs": [
    {
     "data": {
      "text/plain": [
       "               count unique     top  freq\n",
       "Gender_Student                           \n",
       "Others            56      1  Others    56\n",
       "Boy             1068      1     Boy  1068\n",
       "Girl             841      1    Girl   841"
      ],
      "text/html": [
       "<div>\n",
       "<style scoped>\n",
       "    .dataframe tbody tr th:only-of-type {\n",
       "        vertical-align: middle;\n",
       "    }\n",
       "\n",
       "    .dataframe tbody tr th {\n",
       "        vertical-align: top;\n",
       "    }\n",
       "\n",
       "    .dataframe thead th {\n",
       "        text-align: right;\n",
       "    }\n",
       "</style>\n",
       "<table border=\"1\" class=\"dataframe\">\n",
       "  <thead>\n",
       "    <tr style=\"text-align: right;\">\n",
       "      <th></th>\n",
       "      <th>count</th>\n",
       "      <th>unique</th>\n",
       "      <th>top</th>\n",
       "      <th>freq</th>\n",
       "    </tr>\n",
       "    <tr>\n",
       "      <th>Gender_Student</th>\n",
       "      <th></th>\n",
       "      <th></th>\n",
       "      <th></th>\n",
       "      <th></th>\n",
       "    </tr>\n",
       "  </thead>\n",
       "  <tbody>\n",
       "    <tr>\n",
       "      <th>Others</th>\n",
       "      <td>56</td>\n",
       "      <td>1</td>\n",
       "      <td>Others</td>\n",
       "      <td>56</td>\n",
       "    </tr>\n",
       "    <tr>\n",
       "      <th>Boy</th>\n",
       "      <td>1068</td>\n",
       "      <td>1</td>\n",
       "      <td>Boy</td>\n",
       "      <td>1068</td>\n",
       "    </tr>\n",
       "    <tr>\n",
       "      <th>Girl</th>\n",
       "      <td>841</td>\n",
       "      <td>1</td>\n",
       "      <td>Girl</td>\n",
       "      <td>841</td>\n",
       "    </tr>\n",
       "  </tbody>\n",
       "</table>\n",
       "</div>"
      ]
     },
     "execution_count": 59,
     "metadata": {},
     "output_type": "execute_result"
    }
   ],
   "execution_count": 59
  },
  {
   "metadata": {
    "ExecuteTime": {
     "end_time": "2025-03-19T21:15:49.097476Z",
     "start_time": "2025-03-19T21:15:48.931511Z"
    }
   },
   "cell_type": "code",
   "source": [
    "fig = plt.figure(figsize=(10,5))\n",
    "sns.countplot(data=confident_in_maths, x=\"Gender_Student\", color=\"b\")\n",
    "plt.tight_layout()\n",
    "plt.show()"
   ],
   "id": "660ab6cd3c47f9ff",
   "outputs": [
    {
     "data": {
      "text/plain": [
       "<Figure size 1000x500 with 1 Axes>"
      ],
      "image/png": "[encoded data removed]"
     },
     "metadata": {},
     "output_type": "display_data"
    }
   ],
   "execution_count": 60
  },
  {
   "metadata": {},
   "cell_type": "markdown",
   "source": "##### 3.3.1.1.1 Percentage of boys, who are confident in mathematics",
   "id": "3ef1f57f6323de0b"
  },
  {
   "metadata": {
    "ExecuteTime": {
     "end_time": "2025-03-19T21:16:56.934152Z",
     "start_time": "2025-03-19T21:16:56.919539Z"
    }
   },
   "cell_type": "code",
   "source": "utils.getPercentageByGender(confident_in_maths,df,\"Boy\")",
   "id": "34102112241ddfd7",
   "outputs": [
    {
     "name": "stdout",
     "output_type": "stream",
     "text": [
      "0.5556711758584808\n"
     ]
    }
   ],
   "execution_count": 62
  },
  {
   "metadata": {},
   "cell_type": "markdown",
   "source": "##### 3.3.1.1.2 Percentage of girls, who like mathematics",
   "id": "7fd78eea61d42e7d"
  },
  {
   "metadata": {
    "ExecuteTime": {
     "end_time": "2025-03-19T21:17:19.846268Z",
     "start_time": "2025-03-19T21:17:19.830131Z"
    }
   },
   "cell_type": "code",
   "source": "utils.getPercentageByGender(confident_in_maths,df,\"Girl\")",
   "id": "76026995447f2468",
   "outputs": [
    {
     "name": "stdout",
     "output_type": "stream",
     "text": [
      "0.4573137574768896\n"
     ]
    }
   ],
   "execution_count": 63
  },
  {
   "metadata": {},
   "cell_type": "markdown",
   "source": "#### 3.3.1.2 Gender wise distribution of students who are not confident in Mathematics",
   "id": "fa421859d7a48939"
  },
  {
   "metadata": {
    "ExecuteTime": {
     "end_time": "2025-03-19T21:18:57.051270Z",
     "start_time": "2025-03-19T21:18:57.024337Z"
    }
   },
   "cell_type": "code",
   "source": [
    "not_confident = df[\"Students_Confident_in_Mathematics\"].str.contains(\"Not\")\n",
    "not_confident_in_maths  = df[not_confident]\n",
    "not_confident_in_maths.groupby(\"Gender_Student\" , observed=False)[\"Gender_Student\"].describe()\n"
   ],
   "id": "5b513ca68072f9cc",
   "outputs": [
    {
     "data": {
      "text/plain": [
       "               count unique     top freq\n",
       "Gender_Student                          \n",
       "Others            58      1  Others   58\n",
       "Boy              854      1     Boy  854\n",
       "Girl             998      1    Girl  998"
      ],
      "text/html": [
       "<div>\n",
       "<style scoped>\n",
       "    .dataframe tbody tr th:only-of-type {\n",
       "        vertical-align: middle;\n",
       "    }\n",
       "\n",
       "    .dataframe tbody tr th {\n",
       "        vertical-align: top;\n",
       "    }\n",
       "\n",
       "    .dataframe thead th {\n",
       "        text-align: right;\n",
       "    }\n",
       "</style>\n",
       "<table border=\"1\" class=\"dataframe\">\n",
       "  <thead>\n",
       "    <tr style=\"text-align: right;\">\n",
       "      <th></th>\n",
       "      <th>count</th>\n",
       "      <th>unique</th>\n",
       "      <th>top</th>\n",
       "      <th>freq</th>\n",
       "    </tr>\n",
       "    <tr>\n",
       "      <th>Gender_Student</th>\n",
       "      <th></th>\n",
       "      <th></th>\n",
       "      <th></th>\n",
       "      <th></th>\n",
       "    </tr>\n",
       "  </thead>\n",
       "  <tbody>\n",
       "    <tr>\n",
       "      <th>Others</th>\n",
       "      <td>58</td>\n",
       "      <td>1</td>\n",
       "      <td>Others</td>\n",
       "      <td>58</td>\n",
       "    </tr>\n",
       "    <tr>\n",
       "      <th>Boy</th>\n",
       "      <td>854</td>\n",
       "      <td>1</td>\n",
       "      <td>Boy</td>\n",
       "      <td>854</td>\n",
       "    </tr>\n",
       "    <tr>\n",
       "      <th>Girl</th>\n",
       "      <td>998</td>\n",
       "      <td>1</td>\n",
       "      <td>Girl</td>\n",
       "      <td>998</td>\n",
       "    </tr>\n",
       "  </tbody>\n",
       "</table>\n",
       "</div>"
      ]
     },
     "execution_count": 64,
     "metadata": {},
     "output_type": "execute_result"
    }
   ],
   "execution_count": 64
  },
  {
   "metadata": {},
   "cell_type": "markdown",
   "source": "##### 3.3.1.2.1 Percentage of boys, do not like mathematics",
   "id": "b456b5a58082e78a"
  },
  {
   "metadata": {
    "ExecuteTime": {
     "end_time": "2025-03-19T21:19:25.002471Z",
     "start_time": "2025-03-19T21:19:24.983121Z"
    }
   },
   "cell_type": "code",
   "source": "utils.getPercentageByGender(not_confident_in_maths,df,\"Boy\")",
   "id": "3fc79755de37ad0f",
   "outputs": [
    {
     "name": "stdout",
     "output_type": "stream",
     "text": [
      "0.44432882414151925\n"
     ]
    }
   ],
   "execution_count": 65
  },
  {
   "metadata": {},
   "cell_type": "markdown",
   "source": "##### 3.3.1.2.2 Percentage of girls, do not like mathematics",
   "id": "df0ed8eb02140e8f"
  },
  {
   "metadata": {
    "ExecuteTime": {
     "end_time": "2025-03-19T21:19:43.918334Z",
     "start_time": "2025-03-19T21:19:43.901205Z"
    }
   },
   "cell_type": "code",
   "source": "utils.getPercentageByGender(not_confident_in_maths,df,\"Girl\")",
   "id": "90780533f69d682f",
   "outputs": [
    {
     "name": "stdout",
     "output_type": "stream",
     "text": [
      "0.5426862425231104\n"
     ]
    }
   ],
   "execution_count": 66
  },
  {
   "metadata": {},
   "cell_type": "markdown",
   "source": "### 3.3.2 Gender and Likeness for Science",
   "id": "9e7116b76390f0ae"
  },
  {
   "metadata": {},
   "cell_type": "markdown",
   "source": "#### 3.3.2.1 Gender wise distriibution of students who like Science",
   "id": "6521657bb58783fe"
  },
  {
   "metadata": {
    "ExecuteTime": {
     "end_time": "2025-03-19T21:25:44.676876Z",
     "start_time": "2025-03-19T21:25:44.640239Z"
    }
   },
   "cell_type": "code",
   "source": [
    "ver_much_like = df[\"Students_Confident_in_Science\"].str.contains(\"Very\")\n",
    "some_what_like = df[\"Students_Confident_in_Science\"].str.contains(\"Some\")\n",
    "confident_in_science  = df[ver_much_like | some_what_like]\n",
    "confident_in_science.groupby(\"Gender_Student\" , observed=False)[\"Gender_Student\"].describe()\n"
   ],
   "id": "4c7b06e41e6c5cf0",
   "outputs": [
    {
     "data": {
      "text/plain": [
       "               count unique     top  freq\n",
       "Gender_Student                           \n",
       "Others            69      1  Others    69\n",
       "Boy             1187      1     Boy  1187\n",
       "Girl             962      1    Girl   962"
      ],
      "text/html": [
       "<div>\n",
       "<style scoped>\n",
       "    .dataframe tbody tr th:only-of-type {\n",
       "        vertical-align: middle;\n",
       "    }\n",
       "\n",
       "    .dataframe tbody tr th {\n",
       "        vertical-align: top;\n",
       "    }\n",
       "\n",
       "    .dataframe thead th {\n",
       "        text-align: right;\n",
       "    }\n",
       "</style>\n",
       "<table border=\"1\" class=\"dataframe\">\n",
       "  <thead>\n",
       "    <tr style=\"text-align: right;\">\n",
       "      <th></th>\n",
       "      <th>count</th>\n",
       "      <th>unique</th>\n",
       "      <th>top</th>\n",
       "      <th>freq</th>\n",
       "    </tr>\n",
       "    <tr>\n",
       "      <th>Gender_Student</th>\n",
       "      <th></th>\n",
       "      <th></th>\n",
       "      <th></th>\n",
       "      <th></th>\n",
       "    </tr>\n",
       "  </thead>\n",
       "  <tbody>\n",
       "    <tr>\n",
       "      <th>Others</th>\n",
       "      <td>69</td>\n",
       "      <td>1</td>\n",
       "      <td>Others</td>\n",
       "      <td>69</td>\n",
       "    </tr>\n",
       "    <tr>\n",
       "      <th>Boy</th>\n",
       "      <td>1187</td>\n",
       "      <td>1</td>\n",
       "      <td>Boy</td>\n",
       "      <td>1187</td>\n",
       "    </tr>\n",
       "    <tr>\n",
       "      <th>Girl</th>\n",
       "      <td>962</td>\n",
       "      <td>1</td>\n",
       "      <td>Girl</td>\n",
       "      <td>962</td>\n",
       "    </tr>\n",
       "  </tbody>\n",
       "</table>\n",
       "</div>"
      ]
     },
     "execution_count": 67,
     "metadata": {},
     "output_type": "execute_result"
    }
   ],
   "execution_count": 67
  },
  {
   "metadata": {
    "ExecuteTime": {
     "end_time": "2025-03-19T21:25:55.704096Z",
     "start_time": "2025-03-19T21:25:55.574572Z"
    }
   },
   "cell_type": "code",
   "source": [
    "fig = plt.figure(figsize=(10,5))\n",
    "sns.countplot(data=confident_in_science, x=\"Gender_Student\", color=\"b\")\n",
    "plt.tight_layout()\n",
    "plt.show()"
   ],
   "id": "bd22ca338fbc76a9",
   "outputs": [
    {
     "data": {
      "text/plain": [
       "<Figure size 1000x500 with 1 Axes>"
      ],
      "image/png": "[encoded data removed]"
     },
     "metadata": {},
     "output_type": "display_data"
    }
   ],
   "execution_count": 68
  },
  {
   "metadata": {},
   "cell_type": "markdown",
   "source": [
    "\n",
    "##### 3.3.2.1.1 Percentage of boys who like learning science"
   ],
   "id": "4f473af0d7b916cc"
  },
  {
   "metadata": {
    "ExecuteTime": {
     "end_time": "2025-03-19T21:26:17.612443Z",
     "start_time": "2025-03-19T21:26:17.597003Z"
    }
   },
   "cell_type": "code",
   "source": "utils.getPercentageByGender(confident_in_science,df,\"Boy\")",
   "id": "295380da2dc6c654",
   "outputs": [
    {
     "name": "stdout",
     "output_type": "stream",
     "text": [
      "0.617585848074922\n"
     ]
    }
   ],
   "execution_count": 69
  },
  {
   "metadata": {},
   "cell_type": "markdown",
   "source": "##### 3.3.2.1.2 Percentage of girls who like learning science",
   "id": "e16d46ac84d5de8e"
  },
  {
   "metadata": {
    "ExecuteTime": {
     "end_time": "2025-03-19T21:26:31.986034Z",
     "start_time": "2025-03-19T21:26:31.971734Z"
    }
   },
   "cell_type": "code",
   "source": "utils.getPercentageByGender(confident_in_science,df,\"Girl\")",
   "id": "2bcbd0c1380f4011",
   "outputs": [
    {
     "name": "stdout",
     "output_type": "stream",
     "text": [
      "0.523110386079391\n"
     ]
    }
   ],
   "execution_count": 70
  },
  {
   "metadata": {},
   "cell_type": "markdown",
   "source": "#### 3.3.2.2 Gender wise distriibution of students, who are not confident in Science",
   "id": "f9a16ca54b804d09"
  },
  {
   "metadata": {
    "ExecuteTime": {
     "end_time": "2025-03-19T21:27:57.947094Z",
     "start_time": "2025-03-19T21:27:57.921802Z"
    }
   },
   "cell_type": "code",
   "source": [
    "not_confident = df[\"Students_Confident_in_Science\"].str.contains(\"Not\")\n",
    "not_confident_in_science  = df[not_confident]\n",
    "not_confident_in_science.groupby(\"Gender_Student\" , observed=False)[\"Gender_Student\"].describe()\n"
   ],
   "id": "995acf3fdc0e22fb",
   "outputs": [
    {
     "data": {
      "text/plain": [
       "               count unique     top freq\n",
       "Gender_Student                          \n",
       "Others            45      1  Others   45\n",
       "Boy              735      1     Boy  735\n",
       "Girl             877      1    Girl  877"
      ],
      "text/html": [
       "<div>\n",
       "<style scoped>\n",
       "    .dataframe tbody tr th:only-of-type {\n",
       "        vertical-align: middle;\n",
       "    }\n",
       "\n",
       "    .dataframe tbody tr th {\n",
       "        vertical-align: top;\n",
       "    }\n",
       "\n",
       "    .dataframe thead th {\n",
       "        text-align: right;\n",
       "    }\n",
       "</style>\n",
       "<table border=\"1\" class=\"dataframe\">\n",
       "  <thead>\n",
       "    <tr style=\"text-align: right;\">\n",
       "      <th></th>\n",
       "      <th>count</th>\n",
       "      <th>unique</th>\n",
       "      <th>top</th>\n",
       "      <th>freq</th>\n",
       "    </tr>\n",
       "    <tr>\n",
       "      <th>Gender_Student</th>\n",
       "      <th></th>\n",
       "      <th></th>\n",
       "      <th></th>\n",
       "      <th></th>\n",
       "    </tr>\n",
       "  </thead>\n",
       "  <tbody>\n",
       "    <tr>\n",
       "      <th>Others</th>\n",
       "      <td>45</td>\n",
       "      <td>1</td>\n",
       "      <td>Others</td>\n",
       "      <td>45</td>\n",
       "    </tr>\n",
       "    <tr>\n",
       "      <th>Boy</th>\n",
       "      <td>735</td>\n",
       "      <td>1</td>\n",
       "      <td>Boy</td>\n",
       "      <td>735</td>\n",
       "    </tr>\n",
       "    <tr>\n",
       "      <th>Girl</th>\n",
       "      <td>877</td>\n",
       "      <td>1</td>\n",
       "      <td>Girl</td>\n",
       "      <td>877</td>\n",
       "    </tr>\n",
       "  </tbody>\n",
       "</table>\n",
       "</div>"
      ]
     },
     "execution_count": 71,
     "metadata": {},
     "output_type": "execute_result"
    }
   ],
   "execution_count": 71
  },
  {
   "metadata": {
    "ExecuteTime": {
     "end_time": "2025-03-19T21:28:20.483816Z",
     "start_time": "2025-03-19T21:28:20.349087Z"
    }
   },
   "cell_type": "code",
   "source": [
    "fig = plt.figure(figsize=(10,5))\n",
    "sns.countplot(data=not_confident_in_science, x=\"Gender_Student\", color=\"b\")\n",
    "plt.tight_layout()\n",
    "plt.show()"
   ],
   "id": "c588a6f79065ac4a",
   "outputs": [
    {
     "data": {
      "text/plain": [
       "<Figure size 1000x500 with 1 Axes>"
      ],
      "image/png": "[encoded data removed]"
     },
     "metadata": {},
     "output_type": "display_data"
    }
   ],
   "execution_count": 72
  },
  {
   "metadata": {},
   "cell_type": "markdown",
   "source": [
    "\n",
    "##### 3.3.2.2.1 Percentage of boys not confident in science"
   ],
   "id": "a026e789e1464374"
  },
  {
   "metadata": {
    "ExecuteTime": {
     "end_time": "2025-03-19T21:31:55.145667Z",
     "start_time": "2025-03-19T21:31:55.129866Z"
    }
   },
   "cell_type": "code",
   "source": "utils.getPercentageByGender(not_confident_in_science,df,\"Boy\")",
   "id": "cfbb865a52542e37",
   "outputs": [
    {
     "name": "stdout",
     "output_type": "stream",
     "text": [
      "0.38241415192507805\n"
     ]
    }
   ],
   "execution_count": 73
  },
  {
   "metadata": {},
   "cell_type": "markdown",
   "source": [
    "\n",
    "##### 3.2.2.2.2 Percentage of girls don't like learning science"
   ],
   "id": "20efa1c77cf62d0d"
  },
  {
   "metadata": {
    "ExecuteTime": {
     "end_time": "2025-03-19T21:32:06.988737Z",
     "start_time": "2025-03-19T21:32:06.976842Z"
    }
   },
   "cell_type": "code",
   "source": "utils.getPercentageByGender(not_confident_in_science,df,\"Girl\")",
   "id": "8a63fa3d76eed9ed",
   "outputs": [
    {
     "name": "stdout",
     "output_type": "stream",
     "text": [
      "0.476889613920609\n"
     ]
    }
   ],
   "execution_count": 74
  },
  {
   "metadata": {},
   "cell_type": "code",
   "outputs": [],
   "execution_count": null,
   "source": "",
   "id": "cf2407dffd9c6dcf"
  },
  {
   "metadata": {},
   "cell_type": "code",
   "outputs": [],
   "execution_count": null,
   "source": "",
   "id": "f1e8a9cb3250836a"
  }
 ],
 "metadata": {
  "kernelspec": {
   "display_name": "Python 3",
   "language": "python",
   "name": "python3"
  },
  "language_info": {
   "codemirror_mode": {
    "name": "ipython",
    "version": 2
   },
   "file_extension": ".py",
   "mimetype": "text/x-python",
   "name": "python",
   "nbconvert_exporter": "python",
   "pygments_lexer": "ipython2",
   "version": "2.7.6"
  }
 },
 "nbformat": 4,
 "nbformat_minor": 5
}

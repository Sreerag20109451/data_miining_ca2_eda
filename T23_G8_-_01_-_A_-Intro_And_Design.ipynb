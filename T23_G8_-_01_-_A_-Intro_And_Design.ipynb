{
 "cells": [
  {
   "metadata": {},
   "cell_type": "markdown",
   "source": "# Overview",
   "id": "3fd1670fb9f90242"
  },
  {
   "metadata": {},
   "cell_type": "markdown",
   "source": " The data set consists of the contextual variables, obtained from the TIIMS survey. It includes Facilities(room, computers etc), Plausible Value Scores and Behavioural Value variables(subject likeness, bullying, sense of belonging etc) This EDA will be focusing on finding out the relationsships and distrbutions of such variables in general, and their distributions with respect to Gender and Background",
   "id": "e53ea24b2b05ec39"
  },
  {
   "metadata": {},
   "cell_type": "markdown",
   "source": "# Focus Areas and Why",
   "id": "21a88dd083e6e78f"
  },
  {
   "metadata": {},
   "cell_type": "markdown",
   "source": [
    "\n",
    "The EDA is designed in a way that, it will give a general idea of different variables in the dataset. A overview section will be developed to give insights into the variables, and for a surface level data analysis. After that, the dataset has beem divided into 3 classes, and their relationships with gender and parental background will be investigated\n",
    "\n",
    "For convenience, the variables in the dataset have been classified into mainly 3 classes\n",
    "- Context(Facilities)\n",
    "   - These denote the facilities and living conditions of the student\n",
    "      - Examples are Own_Computer and Own Room\n",
    "- Educational Outcomes(Facilities)\n",
    "   - These denote the Plausible value scores of the students. For convenience, PV scores have been averaged across subjects and then used for analysis.\n",
    "      - Examples AVERAGE_PV_SCIENCE, AVERAGE_PV_MATHS\n",
    "- Educational Outcomes(Facilities)\n",
    "\n",
    "The primary aim of this EDA will be is to find out the gender and background biases and disparities that exist in student experiences in Ireland. Gender and Background of a student can often be used for discrimination, therefore it is important to get rid of any kind of bias that exists. This investigation is intended to give insights on how do gender and parental backgrounds affect student experiences in the ireland\n",
    "\n"
   ],
   "id": "1833ccc1bcd0f08b"
  },
  {
   "metadata": {},
   "cell_type": "markdown",
   "source": [
    "- Where do parents of the students come from, and what is thier highest educational qualifications ?\n",
    "- How does gender affect student scores?\n",
    "- How does gender affect student behaviours?\n",
    "- Is there any gender bias in student living conditions?\n",
    "- How does parents' background affect student scores?\n",
    "- How does parents' background affect student behaviours?\n",
    "- Is there any  bias in student living with parents background?"
   ],
   "id": "a4d0e34d972101d9"
  },
  {
   "metadata": {},
   "cell_type": "code",
   "outputs": [],
   "execution_count": null,
   "source": "",
   "id": "2313fc7b71ce7697"
  }
 ],
 "metadata": {
  "kernelspec": {
   "display_name": "Python 3",
   "language": "python",
   "name": "python3"
  },
  "language_info": {
   "codemirror_mode": {
    "name": "ipython",
    "version": 2
   },
   "file_extension": ".py",
   "mimetype": "text/x-python",
   "name": "python",
   "nbconvert_exporter": "python",
   "pygments_lexer": "ipython2",
   "version": "2.7.6"
  }
 },
 "nbformat": 4,
 "nbformat_minor": 5
}

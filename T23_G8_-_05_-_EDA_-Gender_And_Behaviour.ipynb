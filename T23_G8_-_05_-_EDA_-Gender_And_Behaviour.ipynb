{
 "cells": [
  {
   "metadata": {},
   "cell_type": "markdown",
   "source": "# 5. Gender and Behaviour",
   "id": "2a4a1ffc433fa4ce"
  },
  {
   "metadata": {
    "ExecuteTime": {
     "end_time": "2025-03-20T21:02:09.253330Z",
     "start_time": "2025-03-20T21:02:09.246832Z"
    }
   },
   "cell_type": "code",
   "source": [
    "from sys import dont_write_bytecode\n",
    "\n",
    "import pandas as pd\n",
    "import numpy as np\n",
    "import  seaborn as sns\n",
    "import matplotlib.pyplot as plt\n",
    "import utilityFunctions.genderStats as utils"
   ],
   "id": "f2fbb5daea9d14",
   "outputs": [],
   "execution_count": 120
  },
  {
   "metadata": {
    "ExecuteTime": {
     "end_time": "2025-03-20T21:02:09.492249Z",
     "start_time": "2025-03-20T21:02:09.458894Z"
    }
   },
   "cell_type": "code",
   "source": [
    "df = pd.read_feather(\"./data/averaged.feather\")\n",
    "df.info()"
   ],
   "id": "cc38ef568eb47712",
   "outputs": [
    {
     "name": "stdout",
     "output_type": "stream",
     "text": [
      "<class 'pandas.core.frame.DataFrame'>\n",
      "Index: 3875 entries, 0 to 5089\n",
      "Data columns (total 64 columns):\n",
      " #   Column                                        Non-Null Count  Dtype   \n",
      "---  ------                                        --------------  -----   \n",
      " 0   Gender_Student                                3875 non-null   category\n",
      " 1   Lang_Spoken_Home                              3875 non-null   category\n",
      " 2   Books_Home                                    3875 non-null   category\n",
      " 3   Own_Computer                                  3875 non-null   category\n",
      " 4   Shared_Computer                               3875 non-null   category\n",
      " 5   Smartphone                                    3875 non-null   category\n",
      " 6   Internet_Access                               3875 non-null   category\n",
      " 7   Study_Desk                                    3875 non-null   category\n",
      " 8   Own_Room                                      3875 non-null   category\n",
      " 9   ParentA_Edu_Level                             3875 non-null   category\n",
      " 10  ParentB_Edu_Level                             3875 non-null   category\n",
      " 11  Education_Expectation                         3875 non-null   category\n",
      " 12  ParentA_Born_Country                          3875 non-null   category\n",
      " 13  ParentB_Born_Country                          3875 non-null   category\n",
      " 14  1ST_PV_MATHEMATICS                            3875 non-null   float64 \n",
      " 15  2ND_PV_MATHEMATICS                            3875 non-null   float64 \n",
      " 16  3RD_PV_MATHEMATICS                            3875 non-null   float64 \n",
      " 17  4TH_PV_MATHEMATICS                            3875 non-null   float64 \n",
      " 18  5TH_PV_MATHEMATICS                            3875 non-null   float64 \n",
      " 19  1ST_PV_SCIENCE                                3875 non-null   float64 \n",
      " 20  2ND_PV_SCIENCE                                3875 non-null   float64 \n",
      " 21  3RD_PV_SCIENCE                                3875 non-null   float64 \n",
      " 22  4TH_PV_SCIENCE                                3875 non-null   float64 \n",
      " 23  5TH_PV_SCIENCE                                3875 non-null   float64 \n",
      " 24  1ST_PV_BIOLOGY                                3875 non-null   float64 \n",
      " 25  2ND_PV_BIOLOGY                                3875 non-null   float64 \n",
      " 26  3RD_PV_BIOLOGY                                3875 non-null   float64 \n",
      " 27  4TH_PV_BIOLOGY                                3875 non-null   float64 \n",
      " 28  5TH_PV_BIOLOGY                                3875 non-null   float64 \n",
      " 29  1ST_PV_CHEMISTRY                              3875 non-null   float64 \n",
      " 30  2ND_PV_CHEMISTRY                              3875 non-null   float64 \n",
      " 31  3RD_PV_CHEMISTRY                              3875 non-null   float64 \n",
      " 32  4TH_PV_CHEMISTRY                              3875 non-null   float64 \n",
      " 33  5TH_PV_CHEMISTRY                              3875 non-null   float64 \n",
      " 34  1ST_PV_PHYSICS                                3875 non-null   float64 \n",
      " 35  2ND_PV PHYSICS                                3875 non-null   float64 \n",
      " 36  3RD_PV_PHYSICS                                3875 non-null   float64 \n",
      " 37  4TH_PV_PHYSICS                                3875 non-null   float64 \n",
      " 38  5TH_PV_PHYSICS                                3875 non-null   float64 \n",
      " 39  1ST_PV_EARTH_SCIENCE                          3875 non-null   float64 \n",
      " 40  2ND_PV_EARTH_SCIENCE                          3875 non-null   float64 \n",
      " 41  3RD_PV_EARTH_SCIENCE                          3875 non-null   float64 \n",
      " 42  4TH_PV_EARTH_SCIENCE                          3875 non-null   float64 \n",
      " 43  5TH_PV_EARTH_SCIENCE                          3875 non-null   float64 \n",
      " 44  Sense_of_School_Belonging                     3875 non-null   category\n",
      " 45  Student_Bullying                              3875 non-null   category\n",
      " 46  Students_Like_Learning_Mathematics            3875 non-null   category\n",
      " 47  Instructional_Clarity_in_Mathematics_Lessons  3875 non-null   category\n",
      " 48  Disorderly_Behavior_during_Math_Lessons       3875 non-null   category\n",
      " 49  Students_Confident_in_Mathematics             3875 non-null   category\n",
      " 50  Students_Value_Mathematics                    3875 non-null   category\n",
      " 51  Students_Like_Learning_Science                3875 non-null   category\n",
      " 52  Instructional_Clarity_in_Science_Lessons      3875 non-null   category\n",
      " 53  Students_Confident_in_Science                 3875 non-null   category\n",
      " 54  Students_Value_Science                        3875 non-null   category\n",
      " 55  Digital_Self_Efficacy                         3875 non-null   category\n",
      " 56  Disorderly_Behavior_during_Science_Lessons    3875 non-null   category\n",
      " 57  Students_Value_Environmental_Preservation     3875 non-null   category\n",
      " 58  AVERAGE_PV_SCIENCE                            3875 non-null   float64 \n",
      " 59  AVERAGE_PV_MATHEMATICS                        3875 non-null   float64 \n",
      " 60  AVERAGE_PV_BIOLOGY                            3875 non-null   float64 \n",
      " 61  AVERAGE_PV_CHEMISTRY                          3875 non-null   float64 \n",
      " 62  AVERAGE_PV_PHYSICS                            3875 non-null   float64 \n",
      " 63  AVERAGE_PV_EARTH_SCIENCE                      3875 non-null   float64 \n",
      "dtypes: category(28), float64(36)\n",
      "memory usage: 1.2 MB\n"
     ]
    }
   ],
   "execution_count": 121
  },
  {
   "metadata": {},
   "cell_type": "markdown",
   "source": "# 5.1 Disorderly Behaviour and Gender",
   "id": "9ebbd468ee4160d9"
  },
  {
   "metadata": {
    "ExecuteTime": {
     "end_time": "2025-03-20T21:02:09.519051Z",
     "start_time": "2025-03-20T21:02:09.501103Z"
    }
   },
   "cell_type": "code",
   "source": [
    "disorderly_mask = df.columns.str.contains(\"Disorderly\")\n",
    "df[df.columns[disorderly_mask]].value_counts()"
   ],
   "id": "21d940a58679dfb5",
   "outputs": [
    {
     "data": {
      "text/plain": [
       "Disorderly_Behavior_during_Math_Lessons  Disorderly_Behavior_during_Science_Lessons\n",
       "Some Lessons                             Some Lessons                                  1248\n",
       "Few or No Lessons                        Few or No Lessons                              809\n",
       "Some Lessons                             Few or No Lessons                              649\n",
       "Few or No Lessons                        Some Lessons                                   571\n",
       "Most Lessons                             Some Lessons                                   185\n",
       "Some Lessons                             Most Lessons                                   162\n",
       "Most Lessons                             Most Lessons                                   106\n",
       "                                         Few or No Lessons                               84\n",
       "Few or No Lessons                        Most Lessons                                    61\n",
       "Name: count, dtype: int64"
      ]
     },
     "execution_count": 122,
     "metadata": {},
     "output_type": "execute_result"
    }
   ],
   "execution_count": 122
  },
  {
   "metadata": {
    "ExecuteTime": {
     "end_time": "2025-03-20T21:02:09.759811Z",
     "start_time": "2025-03-20T21:02:09.744932Z"
    }
   },
   "cell_type": "code",
   "source": [
    "df[\"Disorderly_Behavior_during_Math_Lessons\"] = df[\"Disorderly_Behavior_during_Math_Lessons\"].apply(lambda x: \"Few Lessons\" if \"Few\" in str(x) else x )\n",
    "df[\"Disorderly_Behavior_during_Math_Lessons\"] = df[\"Disorderly_Behavior_during_Math_Lessons\"].apply(lambda x: \"Most Lessons\" if \"Most\" in str(x) else x )\n",
    "df[\"Disorderly_Behavior_during_Math_Lessons\"] = df[\"Disorderly_Behavior_during_Math_Lessons\"].apply(lambda x: \"Some Lessons\" if \"Some\" in str(x) else x )\n",
    "df[\"Disorderly_Behavior_during_Math_Lessons\"].value_counts()"
   ],
   "id": "be7e404c62dfd9b2",
   "outputs": [
    {
     "data": {
      "text/plain": [
       "Disorderly_Behavior_during_Math_Lessons\n",
       "Some Lessons    2059\n",
       "Few Lessons     1441\n",
       "Most Lessons     375\n",
       "Name: count, dtype: int64"
      ]
     },
     "execution_count": 123,
     "metadata": {},
     "output_type": "execute_result"
    }
   ],
   "execution_count": 123
  },
  {
   "metadata": {
    "ExecuteTime": {
     "end_time": "2025-03-20T21:02:09.894767Z",
     "start_time": "2025-03-20T21:02:09.883010Z"
    }
   },
   "cell_type": "code",
   "source": [
    "df[\"Disorderly_Behavior_during_Math_Lessons\"]  = pd.Categorical(df[\"Disorderly_Behavior_during_Math_Lessons\"] ,ordered=True, categories=[\"Few Lessons\", \"Some Lessons\", \"Most Lessons\"])\n",
    "\n"
   ],
   "id": "2c49dc13f380f81",
   "outputs": [],
   "execution_count": 124
  },
  {
   "metadata": {
    "ExecuteTime": {
     "end_time": "2025-03-20T21:02:10.152945Z",
     "start_time": "2025-03-20T21:02:10.139232Z"
    }
   },
   "cell_type": "code",
   "source": [
    "df[\"Disorderly_Behavior_during_Science_Lessons\"] = df[\"Disorderly_Behavior_during_Science_Lessons\"].apply(lambda x: \"Few Lessons\" if \"Few\" in str(x) else x )\n",
    "df[\"Disorderly_Behavior_during_Science_Lessons\"] = df[\"Disorderly_Behavior_during_Science_Lessons\"].apply(lambda x: \"Most Lessons\" if \"Most\" in str(x) else x )\n",
    "df[\"Disorderly_Behavior_during_Science_Lessons\"] = df[\"Disorderly_Behavior_during_Science_Lessons\"].apply(lambda x: \"Some Lessons\" if \"Some\" in str(x) else x )\n",
    "df[\"Disorderly_Behavior_during_Science_Lessons\"].value_counts()"
   ],
   "id": "525c838b280d2579",
   "outputs": [
    {
     "data": {
      "text/plain": [
       "Disorderly_Behavior_during_Science_Lessons\n",
       "Some Lessons    2004\n",
       "Few Lessons     1542\n",
       "Most Lessons     329\n",
       "Name: count, dtype: int64"
      ]
     },
     "execution_count": 125,
     "metadata": {},
     "output_type": "execute_result"
    }
   ],
   "execution_count": 125
  },
  {
   "metadata": {
    "ExecuteTime": {
     "end_time": "2025-03-20T21:02:10.303111Z",
     "start_time": "2025-03-20T21:02:10.288873Z"
    }
   },
   "cell_type": "code",
   "source": [
    "df[\"Disorderly_Behavior_during_Science_Lessons\"]  = pd.Categorical(df[\"Disorderly_Behavior_during_Math_Lessons\"] ,ordered=True, categories=[\"Few Lessons\", \"Some Lessons\", \"Most Lessons\"])\n",
    "\n"
   ],
   "id": "e93c6756d41f1aa",
   "outputs": [],
   "execution_count": 126
  },
  {
   "metadata": {},
   "cell_type": "markdown",
   "source": "### 5.1.1 Gender and Disorderly Behaviour in Math Classes",
   "id": "e687ee50b2e35fe3"
  },
  {
   "metadata": {},
   "cell_type": "markdown",
   "source": "#### 5.1.1.1 Gender wise distribution of Pupils having frequent disorderly behaviour",
   "id": "bf0c40f4f1e3d632"
  },
  {
   "metadata": {
    "ExecuteTime": {
     "end_time": "2025-03-20T21:02:10.643167Z",
     "start_time": "2025-03-20T21:02:10.401721Z"
    }
   },
   "cell_type": "code",
   "source": [
    "maths_filterd, math_grouped = utils.getDisorderlyBehaviourPerGender(df, \"Math\", \"Most\")\n",
    "math_grouped.describe()"
   ],
   "id": "cb4a886286511c0c",
   "outputs": [
    {
     "data": {
      "text/plain": [
       "<Figure size 1000x600 with 2 Axes>"
      ],
      "image/png": "[encoded data removed]"
     },
     "metadata": {},
     "output_type": "display_data"
    },
    {
     "data": {
      "text/plain": [
       "               count unique     top freq\n",
       "Gender_Student                          \n",
       "Others            18      1  Others   18\n",
       "Boy              181      1     Boy  181\n",
       "Girl             176      1    Girl  176"
      ],
      "text/html": [
       "<div>\n",
       "<style scoped>\n",
       "    .dataframe tbody tr th:only-of-type {\n",
       "        vertical-align: middle;\n",
       "    }\n",
       "\n",
       "    .dataframe tbody tr th {\n",
       "        vertical-align: top;\n",
       "    }\n",
       "\n",
       "    .dataframe thead th {\n",
       "        text-align: right;\n",
       "    }\n",
       "</style>\n",
       "<table border=\"1\" class=\"dataframe\">\n",
       "  <thead>\n",
       "    <tr style=\"text-align: right;\">\n",
       "      <th></th>\n",
       "      <th>count</th>\n",
       "      <th>unique</th>\n",
       "      <th>top</th>\n",
       "      <th>freq</th>\n",
       "    </tr>\n",
       "    <tr>\n",
       "      <th>Gender_Student</th>\n",
       "      <th></th>\n",
       "      <th></th>\n",
       "      <th></th>\n",
       "      <th></th>\n",
       "    </tr>\n",
       "  </thead>\n",
       "  <tbody>\n",
       "    <tr>\n",
       "      <th>Others</th>\n",
       "      <td>18</td>\n",
       "      <td>1</td>\n",
       "      <td>Others</td>\n",
       "      <td>18</td>\n",
       "    </tr>\n",
       "    <tr>\n",
       "      <th>Boy</th>\n",
       "      <td>181</td>\n",
       "      <td>1</td>\n",
       "      <td>Boy</td>\n",
       "      <td>181</td>\n",
       "    </tr>\n",
       "    <tr>\n",
       "      <th>Girl</th>\n",
       "      <td>176</td>\n",
       "      <td>1</td>\n",
       "      <td>Girl</td>\n",
       "      <td>176</td>\n",
       "    </tr>\n",
       "  </tbody>\n",
       "</table>\n",
       "</div>"
      ]
     },
     "execution_count": 127,
     "metadata": {},
     "output_type": "execute_result"
    }
   ],
   "execution_count": 127
  },
  {
   "metadata": {},
   "cell_type": "markdown",
   "source": "#### 5.1.1.2 Gender wise distribution of Pupils having some disorderly behaviour",
   "id": "a9e5d766e4b2e034"
  },
  {
   "metadata": {
    "ExecuteTime": {
     "end_time": "2025-03-20T21:02:10.910947Z",
     "start_time": "2025-03-20T21:02:10.694847Z"
    }
   },
   "cell_type": "code",
   "source": [
    "maths_filterd, math_grouped = utils.getDisorderlyBehaviourPerGender(df, \"Math\", \"Some\")\n",
    "math_grouped.describe()"
   ],
   "id": "59a1ba0b8099c27b",
   "outputs": [
    {
     "data": {
      "text/plain": [
       "<Figure size 1000x600 with 2 Axes>"
      ],
      "image/png": "[encoded data removed]"
     },
     "metadata": {},
     "output_type": "display_data"
    },
    {
     "data": {
      "text/plain": [
       "               count unique     top  freq\n",
       "Gender_Student                           \n",
       "Others            67      1  Others    67\n",
       "Boy             1085      1     Boy  1085\n",
       "Girl             907      1    Girl   907"
      ],
      "text/html": [
       "<div>\n",
       "<style scoped>\n",
       "    .dataframe tbody tr th:only-of-type {\n",
       "        vertical-align: middle;\n",
       "    }\n",
       "\n",
       "    .dataframe tbody tr th {\n",
       "        vertical-align: top;\n",
       "    }\n",
       "\n",
       "    .dataframe thead th {\n",
       "        text-align: right;\n",
       "    }\n",
       "</style>\n",
       "<table border=\"1\" class=\"dataframe\">\n",
       "  <thead>\n",
       "    <tr style=\"text-align: right;\">\n",
       "      <th></th>\n",
       "      <th>count</th>\n",
       "      <th>unique</th>\n",
       "      <th>top</th>\n",
       "      <th>freq</th>\n",
       "    </tr>\n",
       "    <tr>\n",
       "      <th>Gender_Student</th>\n",
       "      <th></th>\n",
       "      <th></th>\n",
       "      <th></th>\n",
       "      <th></th>\n",
       "    </tr>\n",
       "  </thead>\n",
       "  <tbody>\n",
       "    <tr>\n",
       "      <th>Others</th>\n",
       "      <td>67</td>\n",
       "      <td>1</td>\n",
       "      <td>Others</td>\n",
       "      <td>67</td>\n",
       "    </tr>\n",
       "    <tr>\n",
       "      <th>Boy</th>\n",
       "      <td>1085</td>\n",
       "      <td>1</td>\n",
       "      <td>Boy</td>\n",
       "      <td>1085</td>\n",
       "    </tr>\n",
       "    <tr>\n",
       "      <th>Girl</th>\n",
       "      <td>907</td>\n",
       "      <td>1</td>\n",
       "      <td>Girl</td>\n",
       "      <td>907</td>\n",
       "    </tr>\n",
       "  </tbody>\n",
       "</table>\n",
       "</div>"
      ]
     },
     "execution_count": 128,
     "metadata": {},
     "output_type": "execute_result"
    }
   ],
   "execution_count": 128
  },
  {
   "metadata": {},
   "cell_type": "markdown",
   "source": "#### 5.1.1.3 Gender wise distribution of Pupils having few disorderly behaviour",
   "id": "7f264e00c76caaf6"
  },
  {
   "metadata": {
    "ExecuteTime": {
     "end_time": "2025-03-20T21:02:11.371580Z",
     "start_time": "2025-03-20T21:02:11.124495Z"
    }
   },
   "cell_type": "code",
   "source": [
    "maths_filterd, math_grouped = utils.getDisorderlyBehaviourPerGender(df, \"Math\", \"Few\")\n",
    "math_grouped.describe()"
   ],
   "id": "f9b47a00ab34460e",
   "outputs": [
    {
     "data": {
      "text/plain": [
       "<Figure size 1000x600 with 2 Axes>"
      ],
      "image/png": "[encoded data removed]"
     },
     "metadata": {},
     "output_type": "display_data"
    },
    {
     "data": {
      "text/plain": [
       "               count unique     top freq\n",
       "Gender_Student                          \n",
       "Others            29      1  Others   29\n",
       "Boy              656      1     Boy  656\n",
       "Girl             756      1    Girl  756"
      ],
      "text/html": [
       "<div>\n",
       "<style scoped>\n",
       "    .dataframe tbody tr th:only-of-type {\n",
       "        vertical-align: middle;\n",
       "    }\n",
       "\n",
       "    .dataframe tbody tr th {\n",
       "        vertical-align: top;\n",
       "    }\n",
       "\n",
       "    .dataframe thead th {\n",
       "        text-align: right;\n",
       "    }\n",
       "</style>\n",
       "<table border=\"1\" class=\"dataframe\">\n",
       "  <thead>\n",
       "    <tr style=\"text-align: right;\">\n",
       "      <th></th>\n",
       "      <th>count</th>\n",
       "      <th>unique</th>\n",
       "      <th>top</th>\n",
       "      <th>freq</th>\n",
       "    </tr>\n",
       "    <tr>\n",
       "      <th>Gender_Student</th>\n",
       "      <th></th>\n",
       "      <th></th>\n",
       "      <th></th>\n",
       "      <th></th>\n",
       "    </tr>\n",
       "  </thead>\n",
       "  <tbody>\n",
       "    <tr>\n",
       "      <th>Others</th>\n",
       "      <td>29</td>\n",
       "      <td>1</td>\n",
       "      <td>Others</td>\n",
       "      <td>29</td>\n",
       "    </tr>\n",
       "    <tr>\n",
       "      <th>Boy</th>\n",
       "      <td>656</td>\n",
       "      <td>1</td>\n",
       "      <td>Boy</td>\n",
       "      <td>656</td>\n",
       "    </tr>\n",
       "    <tr>\n",
       "      <th>Girl</th>\n",
       "      <td>756</td>\n",
       "      <td>1</td>\n",
       "      <td>Girl</td>\n",
       "      <td>756</td>\n",
       "    </tr>\n",
       "  </tbody>\n",
       "</table>\n",
       "</div>"
      ]
     },
     "execution_count": 129,
     "metadata": {},
     "output_type": "execute_result"
    }
   ],
   "execution_count": 129
  },
  {
   "metadata": {},
   "cell_type": "markdown",
   "source": "### 5.1.2 Gender and Disorderly Behaviour in Science Classes",
   "id": "ccd73124f079bec"
  },
  {
   "metadata": {},
   "cell_type": "markdown",
   "source": "#### 5.1.2.1 Gender wise distribution of Pupils having frequent disorderly behaviour",
   "id": "e748b4623133f267"
  },
  {
   "metadata": {
    "ExecuteTime": {
     "end_time": "2025-03-20T21:02:11.716632Z",
     "start_time": "2025-03-20T21:02:11.471811Z"
    }
   },
   "cell_type": "code",
   "source": [
    "maths_filterd, math_grouped = utils.getDisorderlyBehaviourPerGender(df, \"Math\", \"Most\")\n",
    "math_grouped.describe()"
   ],
   "id": "57b8e40f18e3ac94",
   "outputs": [
    {
     "data": {
      "text/plain": [
       "<Figure size 1000x600 with 2 Axes>"
      ],
      "image/png": "[encoded data removed]"
     },
     "metadata": {},
     "output_type": "display_data"
    },
    {
     "data": {
      "text/plain": [
       "               count unique     top freq\n",
       "Gender_Student                          \n",
       "Others            18      1  Others   18\n",
       "Boy              181      1     Boy  181\n",
       "Girl             176      1    Girl  176"
      ],
      "text/html": [
       "<div>\n",
       "<style scoped>\n",
       "    .dataframe tbody tr th:only-of-type {\n",
       "        vertical-align: middle;\n",
       "    }\n",
       "\n",
       "    .dataframe tbody tr th {\n",
       "        vertical-align: top;\n",
       "    }\n",
       "\n",
       "    .dataframe thead th {\n",
       "        text-align: right;\n",
       "    }\n",
       "</style>\n",
       "<table border=\"1\" class=\"dataframe\">\n",
       "  <thead>\n",
       "    <tr style=\"text-align: right;\">\n",
       "      <th></th>\n",
       "      <th>count</th>\n",
       "      <th>unique</th>\n",
       "      <th>top</th>\n",
       "      <th>freq</th>\n",
       "    </tr>\n",
       "    <tr>\n",
       "      <th>Gender_Student</th>\n",
       "      <th></th>\n",
       "      <th></th>\n",
       "      <th></th>\n",
       "      <th></th>\n",
       "    </tr>\n",
       "  </thead>\n",
       "  <tbody>\n",
       "    <tr>\n",
       "      <th>Others</th>\n",
       "      <td>18</td>\n",
       "      <td>1</td>\n",
       "      <td>Others</td>\n",
       "      <td>18</td>\n",
       "    </tr>\n",
       "    <tr>\n",
       "      <th>Boy</th>\n",
       "      <td>181</td>\n",
       "      <td>1</td>\n",
       "      <td>Boy</td>\n",
       "      <td>181</td>\n",
       "    </tr>\n",
       "    <tr>\n",
       "      <th>Girl</th>\n",
       "      <td>176</td>\n",
       "      <td>1</td>\n",
       "      <td>Girl</td>\n",
       "      <td>176</td>\n",
       "    </tr>\n",
       "  </tbody>\n",
       "</table>\n",
       "</div>"
      ]
     },
     "execution_count": 130,
     "metadata": {},
     "output_type": "execute_result"
    }
   ],
   "execution_count": 130
  },
  {
   "metadata": {},
   "cell_type": "markdown",
   "source": "#### 5.1.2.2 Gender wise distribution of Pupils having some disorderly behaviour",
   "id": "a85b7b85174080fc"
  },
  {
   "metadata": {
    "ExecuteTime": {
     "end_time": "2025-03-20T21:02:12.056119Z",
     "start_time": "2025-03-20T21:02:11.821963Z"
    }
   },
   "cell_type": "code",
   "source": [
    "maths_filterd, math_grouped = utils.getDisorderlyBehaviourPerGender(df, \"Math\", \"Some\")\n",
    "math_grouped.describe()\n"
   ],
   "id": "a5768b359c76c310",
   "outputs": [
    {
     "data": {
      "text/plain": [
       "<Figure size 1000x600 with 2 Axes>"
      ],
      "image/png": "[encoded data removed]"
     },
     "metadata": {},
     "output_type": "display_data"
    },
    {
     "data": {
      "text/plain": [
       "               count unique     top  freq\n",
       "Gender_Student                           \n",
       "Others            67      1  Others    67\n",
       "Boy             1085      1     Boy  1085\n",
       "Girl             907      1    Girl   907"
      ],
      "text/html": [
       "<div>\n",
       "<style scoped>\n",
       "    .dataframe tbody tr th:only-of-type {\n",
       "        vertical-align: middle;\n",
       "    }\n",
       "\n",
       "    .dataframe tbody tr th {\n",
       "        vertical-align: top;\n",
       "    }\n",
       "\n",
       "    .dataframe thead th {\n",
       "        text-align: right;\n",
       "    }\n",
       "</style>\n",
       "<table border=\"1\" class=\"dataframe\">\n",
       "  <thead>\n",
       "    <tr style=\"text-align: right;\">\n",
       "      <th></th>\n",
       "      <th>count</th>\n",
       "      <th>unique</th>\n",
       "      <th>top</th>\n",
       "      <th>freq</th>\n",
       "    </tr>\n",
       "    <tr>\n",
       "      <th>Gender_Student</th>\n",
       "      <th></th>\n",
       "      <th></th>\n",
       "      <th></th>\n",
       "      <th></th>\n",
       "    </tr>\n",
       "  </thead>\n",
       "  <tbody>\n",
       "    <tr>\n",
       "      <th>Others</th>\n",
       "      <td>67</td>\n",
       "      <td>1</td>\n",
       "      <td>Others</td>\n",
       "      <td>67</td>\n",
       "    </tr>\n",
       "    <tr>\n",
       "      <th>Boy</th>\n",
       "      <td>1085</td>\n",
       "      <td>1</td>\n",
       "      <td>Boy</td>\n",
       "      <td>1085</td>\n",
       "    </tr>\n",
       "    <tr>\n",
       "      <th>Girl</th>\n",
       "      <td>907</td>\n",
       "      <td>1</td>\n",
       "      <td>Girl</td>\n",
       "      <td>907</td>\n",
       "    </tr>\n",
       "  </tbody>\n",
       "</table>\n",
       "</div>"
      ]
     },
     "execution_count": 131,
     "metadata": {},
     "output_type": "execute_result"
    }
   ],
   "execution_count": 131
  },
  {
   "metadata": {},
   "cell_type": "markdown",
   "source": "#### 5.1.2.3 Gender wise distribution of Pupils having few disorderly behaviour",
   "id": "52e354c9ba2e53b1"
  },
  {
   "metadata": {
    "ExecuteTime": {
     "end_time": "2025-03-20T21:02:12.466057Z",
     "start_time": "2025-03-20T21:02:12.203993Z"
    }
   },
   "cell_type": "code",
   "source": [
    "maths_filterd, math_grouped = utils.getDisorderlyBehaviourPerGender(df, \"Math\", \"Few\")\n",
    "math_grouped.describe()"
   ],
   "id": "f7533859e92ee8b",
   "outputs": [
    {
     "data": {
      "text/plain": [
       "<Figure size 1000x600 with 2 Axes>"
      ],
      "image/png": "[encoded data removed]"
     },
     "metadata": {},
     "output_type": "display_data"
    },
    {
     "data": {
      "text/plain": [
       "               count unique     top freq\n",
       "Gender_Student                          \n",
       "Others            29      1  Others   29\n",
       "Boy              656      1     Boy  656\n",
       "Girl             756      1    Girl  756"
      ],
      "text/html": [
       "<div>\n",
       "<style scoped>\n",
       "    .dataframe tbody tr th:only-of-type {\n",
       "        vertical-align: middle;\n",
       "    }\n",
       "\n",
       "    .dataframe tbody tr th {\n",
       "        vertical-align: top;\n",
       "    }\n",
       "\n",
       "    .dataframe thead th {\n",
       "        text-align: right;\n",
       "    }\n",
       "</style>\n",
       "<table border=\"1\" class=\"dataframe\">\n",
       "  <thead>\n",
       "    <tr style=\"text-align: right;\">\n",
       "      <th></th>\n",
       "      <th>count</th>\n",
       "      <th>unique</th>\n",
       "      <th>top</th>\n",
       "      <th>freq</th>\n",
       "    </tr>\n",
       "    <tr>\n",
       "      <th>Gender_Student</th>\n",
       "      <th></th>\n",
       "      <th></th>\n",
       "      <th></th>\n",
       "      <th></th>\n",
       "    </tr>\n",
       "  </thead>\n",
       "  <tbody>\n",
       "    <tr>\n",
       "      <th>Others</th>\n",
       "      <td>29</td>\n",
       "      <td>1</td>\n",
       "      <td>Others</td>\n",
       "      <td>29</td>\n",
       "    </tr>\n",
       "    <tr>\n",
       "      <th>Boy</th>\n",
       "      <td>656</td>\n",
       "      <td>1</td>\n",
       "      <td>Boy</td>\n",
       "      <td>656</td>\n",
       "    </tr>\n",
       "    <tr>\n",
       "      <th>Girl</th>\n",
       "      <td>756</td>\n",
       "      <td>1</td>\n",
       "      <td>Girl</td>\n",
       "      <td>756</td>\n",
       "    </tr>\n",
       "  </tbody>\n",
       "</table>\n",
       "</div>"
      ]
     },
     "execution_count": 132,
     "metadata": {},
     "output_type": "execute_result"
    }
   ],
   "execution_count": 132
  },
  {
   "metadata": {},
   "cell_type": "markdown",
   "source": "### 5.1.3 Gender and  Overall Disorderly Behaviour",
   "id": "3913877d43022d85"
  },
  {
   "metadata": {
    "ExecuteTime": {
     "end_time": "2025-03-20T21:02:12.558724Z",
     "start_time": "2025-03-20T21:02:12.547551Z"
    }
   },
   "cell_type": "code",
   "source": [
    "science_most = df[\"Disorderly_Behavior_during_Science_Lessons\"].str.contains(\"Most\")\n",
    "maths_most = df[\"Disorderly_Behavior_during_Math_Lessons\"].str.contains(\"Most\")\n",
    "science_few = df[\"Disorderly_Behavior_during_Science_Lessons\"].str.contains(\"Few\")\n",
    "maths_few = df[\"Disorderly_Behavior_during_Math_Lessons\"].str.contains(\"Few\")\n",
    "\n"
   ],
   "id": "d37c72f1ca921a6e",
   "outputs": [],
   "execution_count": 133
  },
  {
   "metadata": {},
   "cell_type": "markdown",
   "source": "#### 5.1.3.1 Gender wise distribution of students having frequent disorderly behavior across subjects",
   "id": "6516a876c1852146"
  },
  {
   "metadata": {
    "ExecuteTime": {
     "end_time": "2025-03-20T21:02:12.820773Z",
     "start_time": "2025-03-20T21:02:12.728658Z"
    }
   },
   "cell_type": "code",
   "source": [
    "most_disorderly = df[science_most & maths_most]\n",
    "most_disorderly.describe()\n"
   ],
   "id": "2482714bc2199d7b",
   "outputs": [
    {
     "data": {
      "text/plain": [
       "       1ST_PV_MATHEMATICS  2ND_PV_MATHEMATICS  3RD_PV_MATHEMATICS  \\\n",
       "count          375.000000          375.000000          375.000000   \n",
       "mean           504.957021          507.967439          507.430038   \n",
       "std             72.076804           75.277862           73.323459   \n",
       "min            321.690010          301.721470          323.701920   \n",
       "25%            455.359065          460.015970          452.324495   \n",
       "50%            510.570510          513.028050          512.592640   \n",
       "75%            552.367395          560.164180          559.478110   \n",
       "max            709.089030          740.147210          697.746350   \n",
       "\n",
       "       4TH_PV_MATHEMATICS  5TH_PV_MATHEMATICS  1ST_PV_SCIENCE  2ND_PV_SCIENCE  \\\n",
       "count          375.000000          375.000000      375.000000      375.000000   \n",
       "mean           506.996353          507.643269      517.395550      519.363338   \n",
       "std             73.151227           75.047655       78.341466       82.896807   \n",
       "min            283.797580          285.025620      304.615810      262.684720   \n",
       "25%            458.439780          460.272860      460.427845      460.316145   \n",
       "50%            514.228300          509.982280      521.247920      522.164860   \n",
       "75%            556.733855          554.698950      567.452510      574.304715   \n",
       "max            704.066950          736.804680      741.083230      737.233290   \n",
       "\n",
       "       3RD_PV_SCIENCE  4TH_PV_SCIENCE  5TH_PV_SCIENCE  ...  \\\n",
       "count      375.000000      375.000000      375.000000  ...   \n",
       "mean       519.677339      521.794787      520.595490  ...   \n",
       "std         78.756068       82.635062       81.783305  ...   \n",
       "min        317.678650      298.899250      255.672900  ...   \n",
       "25%        467.059685      466.915120      474.173365  ...   \n",
       "50%        517.497900      523.824920      521.985970  ...   \n",
       "75%        576.266705      578.417630      580.651740  ...   \n",
       "max        756.094360      732.127710      724.134910  ...   \n",
       "\n",
       "       2ND_PV_EARTH_SCIENCE  3RD_PV_EARTH_SCIENCE  4TH_PV_EARTH_SCIENCE  \\\n",
       "count            375.000000            375.000000            375.000000   \n",
       "mean             522.570258            527.288851            524.217921   \n",
       "std               82.414376             82.044059             82.434559   \n",
       "min              235.014930            290.635780            210.880330   \n",
       "25%              468.228840            475.336215            473.000775   \n",
       "50%              528.833000            528.348630            526.261000   \n",
       "75%              579.652880            580.879850            579.092665   \n",
       "max              717.989830            742.065030            718.222080   \n",
       "\n",
       "       5TH_PV_EARTH_SCIENCE  AVERAGE_PV_SCIENCE  AVERAGE_PV_MATHEMATICS  \\\n",
       "count            375.000000          375.000000              375.000000   \n",
       "mean             523.628670          519.765301              506.998824   \n",
       "std               82.963126           77.146383               70.588357   \n",
       "min              270.262330          303.699012              307.604440   \n",
       "25%              469.248200          470.595295              458.082107   \n",
       "50%              526.473480          524.729316              513.948918   \n",
       "75%              572.122050          573.453676              555.179755   \n",
       "max              737.258580          697.753074              687.338924   \n",
       "\n",
       "       AVERAGE_PV_BIOLOGY  AVERAGE_PV_CHEMISTRY  AVERAGE_PV_PHYSICS  \\\n",
       "count          375.000000            375.000000          375.000000   \n",
       "mean           519.214729            521.885680          511.457032   \n",
       "std             82.494197             75.013464           81.504871   \n",
       "min            308.626900            297.973606          282.453055   \n",
       "25%            461.747890            470.247034          460.909382   \n",
       "50%            517.475674            528.181114          515.585190   \n",
       "75%            580.084199            571.597758          568.080555   \n",
       "max            721.367310            712.031484          704.573155   \n",
       "\n",
       "       AVERAGE_PV_EARTH_SCIENCE  \n",
       "count                375.000000  \n",
       "mean                 525.502349  \n",
       "std                   76.942052  \n",
       "min                  292.409028  \n",
       "25%                  480.328878  \n",
       "50%                  526.524528  \n",
       "75%                  581.454334  \n",
       "max                  700.483012  \n",
       "\n",
       "[8 rows x 36 columns]"
      ],
      "text/html": [
       "<div>\n",
       "<style scoped>\n",
       "    .dataframe tbody tr th:only-of-type {\n",
       "        vertical-align: middle;\n",
       "    }\n",
       "\n",
       "    .dataframe tbody tr th {\n",
       "        vertical-align: top;\n",
       "    }\n",
       "\n",
       "    .dataframe thead th {\n",
       "        text-align: right;\n",
       "    }\n",
       "</style>\n",
       "<table border=\"1\" class=\"dataframe\">\n",
       "  <thead>\n",
       "    <tr style=\"text-align: right;\">\n",
       "      <th></th>\n",
       "      <th>1ST_PV_MATHEMATICS</th>\n",
       "      <th>2ND_PV_MATHEMATICS</th>\n",
       "      <th>3RD_PV_MATHEMATICS</th>\n",
       "      <th>4TH_PV_MATHEMATICS</th>\n",
       "      <th>5TH_PV_MATHEMATICS</th>\n",
       "      <th>1ST_PV_SCIENCE</th>\n",
       "      <th>2ND_PV_SCIENCE</th>\n",
       "      <th>3RD_PV_SCIENCE</th>\n",
       "      <th>4TH_PV_SCIENCE</th>\n",
       "      <th>5TH_PV_SCIENCE</th>\n",
       "      <th>...</th>\n",
       "      <th>2ND_PV_EARTH_SCIENCE</th>\n",
       "      <th>3RD_PV_EARTH_SCIENCE</th>\n",
       "      <th>4TH_PV_EARTH_SCIENCE</th>\n",
       "      <th>5TH_PV_EARTH_SCIENCE</th>\n",
       "      <th>AVERAGE_PV_SCIENCE</th>\n",
       "      <th>AVERAGE_PV_MATHEMATICS</th>\n",
       "      <th>AVERAGE_PV_BIOLOGY</th>\n",
       "      <th>AVERAGE_PV_CHEMISTRY</th>\n",
       "      <th>AVERAGE_PV_PHYSICS</th>\n",
       "      <th>AVERAGE_PV_EARTH_SCIENCE</th>\n",
       "    </tr>\n",
       "  </thead>\n",
       "  <tbody>\n",
       "    <tr>\n",
       "      <th>count</th>\n",
       "      <td>375.000000</td>\n",
       "      <td>375.000000</td>\n",
       "      <td>375.000000</td>\n",
       "      <td>375.000000</td>\n",
       "      <td>375.000000</td>\n",
       "      <td>375.000000</td>\n",
       "      <td>375.000000</td>\n",
       "      <td>375.000000</td>\n",
       "      <td>375.000000</td>\n",
       "      <td>375.000000</td>\n",
       "      <td>...</td>\n",
       "      <td>375.000000</td>\n",
       "      <td>375.000000</td>\n",
       "      <td>375.000000</td>\n",
       "      <td>375.000000</td>\n",
       "      <td>375.000000</td>\n",
       "      <td>375.000000</td>\n",
       "      <td>375.000000</td>\n",
       "      <td>375.000000</td>\n",
       "      <td>375.000000</td>\n",
       "      <td>375.000000</td>\n",
       "    </tr>\n",
       "    <tr>\n",
       "      <th>mean</th>\n",
       "      <td>504.957021</td>\n",
       "      <td>507.967439</td>\n",
       "      <td>507.430038</td>\n",
       "      <td>506.996353</td>\n",
       "      <td>507.643269</td>\n",
       "      <td>517.395550</td>\n",
       "      <td>519.363338</td>\n",
       "      <td>519.677339</td>\n",
       "      <td>521.794787</td>\n",
       "      <td>520.595490</td>\n",
       "      <td>...</td>\n",
       "      <td>522.570258</td>\n",
       "      <td>527.288851</td>\n",
       "      <td>524.217921</td>\n",
       "      <td>523.628670</td>\n",
       "      <td>519.765301</td>\n",
       "      <td>506.998824</td>\n",
       "      <td>519.214729</td>\n",
       "      <td>521.885680</td>\n",
       "      <td>511.457032</td>\n",
       "      <td>525.502349</td>\n",
       "    </tr>\n",
       "    <tr>\n",
       "      <th>std</th>\n",
       "      <td>72.076804</td>\n",
       "      <td>75.277862</td>\n",
       "      <td>73.323459</td>\n",
       "      <td>73.151227</td>\n",
       "      <td>75.047655</td>\n",
       "      <td>78.341466</td>\n",
       "      <td>82.896807</td>\n",
       "      <td>78.756068</td>\n",
       "      <td>82.635062</td>\n",
       "      <td>81.783305</td>\n",
       "      <td>...</td>\n",
       "      <td>82.414376</td>\n",
       "      <td>82.044059</td>\n",
       "      <td>82.434559</td>\n",
       "      <td>82.963126</td>\n",
       "      <td>77.146383</td>\n",
       "      <td>70.588357</td>\n",
       "      <td>82.494197</td>\n",
       "      <td>75.013464</td>\n",
       "      <td>81.504871</td>\n",
       "      <td>76.942052</td>\n",
       "    </tr>\n",
       "    <tr>\n",
       "      <th>min</th>\n",
       "      <td>321.690010</td>\n",
       "      <td>301.721470</td>\n",
       "      <td>323.701920</td>\n",
       "      <td>283.797580</td>\n",
       "      <td>285.025620</td>\n",
       "      <td>304.615810</td>\n",
       "      <td>262.684720</td>\n",
       "      <td>317.678650</td>\n",
       "      <td>298.899250</td>\n",
       "      <td>255.672900</td>\n",
       "      <td>...</td>\n",
       "      <td>235.014930</td>\n",
       "      <td>290.635780</td>\n",
       "      <td>210.880330</td>\n",
       "      <td>270.262330</td>\n",
       "      <td>303.699012</td>\n",
       "      <td>307.604440</td>\n",
       "      <td>308.626900</td>\n",
       "      <td>297.973606</td>\n",
       "      <td>282.453055</td>\n",
       "      <td>292.409028</td>\n",
       "    </tr>\n",
       "    <tr>\n",
       "      <th>25%</th>\n",
       "      <td>455.359065</td>\n",
       "      <td>460.015970</td>\n",
       "      <td>452.324495</td>\n",
       "      <td>458.439780</td>\n",
       "      <td>460.272860</td>\n",
       "      <td>460.427845</td>\n",
       "      <td>460.316145</td>\n",
       "      <td>467.059685</td>\n",
       "      <td>466.915120</td>\n",
       "      <td>474.173365</td>\n",
       "      <td>...</td>\n",
       "      <td>468.228840</td>\n",
       "      <td>475.336215</td>\n",
       "      <td>473.000775</td>\n",
       "      <td>469.248200</td>\n",
       "      <td>470.595295</td>\n",
       "      <td>458.082107</td>\n",
       "      <td>461.747890</td>\n",
       "      <td>470.247034</td>\n",
       "      <td>460.909382</td>\n",
       "      <td>480.328878</td>\n",
       "    </tr>\n",
       "    <tr>\n",
       "      <th>50%</th>\n",
       "      <td>510.570510</td>\n",
       "      <td>513.028050</td>\n",
       "      <td>512.592640</td>\n",
       "      <td>514.228300</td>\n",
       "      <td>509.982280</td>\n",
       "      <td>521.247920</td>\n",
       "      <td>522.164860</td>\n",
       "      <td>517.497900</td>\n",
       "      <td>523.824920</td>\n",
       "      <td>521.985970</td>\n",
       "      <td>...</td>\n",
       "      <td>528.833000</td>\n",
       "      <td>528.348630</td>\n",
       "      <td>526.261000</td>\n",
       "      <td>526.473480</td>\n",
       "      <td>524.729316</td>\n",
       "      <td>513.948918</td>\n",
       "      <td>517.475674</td>\n",
       "      <td>528.181114</td>\n",
       "      <td>515.585190</td>\n",
       "      <td>526.524528</td>\n",
       "    </tr>\n",
       "    <tr>\n",
       "      <th>75%</th>\n",
       "      <td>552.367395</td>\n",
       "      <td>560.164180</td>\n",
       "      <td>559.478110</td>\n",
       "      <td>556.733855</td>\n",
       "      <td>554.698950</td>\n",
       "      <td>567.452510</td>\n",
       "      <td>574.304715</td>\n",
       "      <td>576.266705</td>\n",
       "      <td>578.417630</td>\n",
       "      <td>580.651740</td>\n",
       "      <td>...</td>\n",
       "      <td>579.652880</td>\n",
       "      <td>580.879850</td>\n",
       "      <td>579.092665</td>\n",
       "      <td>572.122050</td>\n",
       "      <td>573.453676</td>\n",
       "      <td>555.179755</td>\n",
       "      <td>580.084199</td>\n",
       "      <td>571.597758</td>\n",
       "      <td>568.080555</td>\n",
       "      <td>581.454334</td>\n",
       "    </tr>\n",
       "    <tr>\n",
       "      <th>max</th>\n",
       "      <td>709.089030</td>\n",
       "      <td>740.147210</td>\n",
       "      <td>697.746350</td>\n",
       "      <td>704.066950</td>\n",
       "      <td>736.804680</td>\n",
       "      <td>741.083230</td>\n",
       "      <td>737.233290</td>\n",
       "      <td>756.094360</td>\n",
       "      <td>732.127710</td>\n",
       "      <td>724.134910</td>\n",
       "      <td>...</td>\n",
       "      <td>717.989830</td>\n",
       "      <td>742.065030</td>\n",
       "      <td>718.222080</td>\n",
       "      <td>737.258580</td>\n",
       "      <td>697.753074</td>\n",
       "      <td>687.338924</td>\n",
       "      <td>721.367310</td>\n",
       "      <td>712.031484</td>\n",
       "      <td>704.573155</td>\n",
       "      <td>700.483012</td>\n",
       "    </tr>\n",
       "  </tbody>\n",
       "</table>\n",
       "<p>8 rows × 36 columns</p>\n",
       "</div>"
      ]
     },
     "execution_count": 134,
     "metadata": {},
     "output_type": "execute_result"
    }
   ],
   "execution_count": 134
  },
  {
   "metadata": {
    "ExecuteTime": {
     "end_time": "2025-03-20T21:02:13.025658Z",
     "start_time": "2025-03-20T21:02:13.006578Z"
    }
   },
   "cell_type": "code",
   "source": "most_disorderly.groupby(\"Gender_Student\", observed=False)[\"Gender_Student\"].describe()",
   "id": "9f558a1ab62ef90",
   "outputs": [
    {
     "data": {
      "text/plain": [
       "               count unique     top freq\n",
       "Gender_Student                          \n",
       "Others            18      1  Others   18\n",
       "Boy              181      1     Boy  181\n",
       "Girl             176      1    Girl  176"
      ],
      "text/html": [
       "<div>\n",
       "<style scoped>\n",
       "    .dataframe tbody tr th:only-of-type {\n",
       "        vertical-align: middle;\n",
       "    }\n",
       "\n",
       "    .dataframe tbody tr th {\n",
       "        vertical-align: top;\n",
       "    }\n",
       "\n",
       "    .dataframe thead th {\n",
       "        text-align: right;\n",
       "    }\n",
       "</style>\n",
       "<table border=\"1\" class=\"dataframe\">\n",
       "  <thead>\n",
       "    <tr style=\"text-align: right;\">\n",
       "      <th></th>\n",
       "      <th>count</th>\n",
       "      <th>unique</th>\n",
       "      <th>top</th>\n",
       "      <th>freq</th>\n",
       "    </tr>\n",
       "    <tr>\n",
       "      <th>Gender_Student</th>\n",
       "      <th></th>\n",
       "      <th></th>\n",
       "      <th></th>\n",
       "      <th></th>\n",
       "    </tr>\n",
       "  </thead>\n",
       "  <tbody>\n",
       "    <tr>\n",
       "      <th>Others</th>\n",
       "      <td>18</td>\n",
       "      <td>1</td>\n",
       "      <td>Others</td>\n",
       "      <td>18</td>\n",
       "    </tr>\n",
       "    <tr>\n",
       "      <th>Boy</th>\n",
       "      <td>181</td>\n",
       "      <td>1</td>\n",
       "      <td>Boy</td>\n",
       "      <td>181</td>\n",
       "    </tr>\n",
       "    <tr>\n",
       "      <th>Girl</th>\n",
       "      <td>176</td>\n",
       "      <td>1</td>\n",
       "      <td>Girl</td>\n",
       "      <td>176</td>\n",
       "    </tr>\n",
       "  </tbody>\n",
       "</table>\n",
       "</div>"
      ]
     },
     "execution_count": 135,
     "metadata": {},
     "output_type": "execute_result"
    }
   ],
   "execution_count": 135
  },
  {
   "metadata": {},
   "cell_type": "markdown",
   "source": "##### 5.1.3.1.1 Percentage of boys exhibiting frequent disorderly behaviour",
   "id": "385ffc817c912f4b"
  },
  {
   "metadata": {
    "ExecuteTime": {
     "end_time": "2025-03-20T21:02:13.172619Z",
     "start_time": "2025-03-20T21:02:13.158790Z"
    }
   },
   "cell_type": "code",
   "source": [
    "perc_boys = most_disorderly[most_disorderly[\"Gender_Student\"].str.contains(\"Boy\")][\"Gender_Student\"].count() / df[df[\"Gender_Student\"].str.contains(\"Boy\")][\"Gender_Student\"].count()\n",
    "perc_boys * 100"
   ],
   "id": "aaaedb1615b240b9",
   "outputs": [
    {
     "data": {
      "text/plain": [
       "np.float64(9.417273673257023)"
      ]
     },
     "execution_count": 136,
     "metadata": {},
     "output_type": "execute_result"
    }
   ],
   "execution_count": 136
  },
  {
   "metadata": {},
   "cell_type": "markdown",
   "source": "##### 5.1.3.1.2 Percentage of girls exhibiting frequent disorderly behaviour",
   "id": "b8425461b0464331"
  },
  {
   "metadata": {
    "ExecuteTime": {
     "end_time": "2025-03-20T21:02:13.546214Z",
     "start_time": "2025-03-20T21:02:13.530074Z"
    }
   },
   "cell_type": "code",
   "source": [
    "perc_boys = most_disorderly[most_disorderly[\"Gender_Student\"].str.contains(\"Girl\")][\"Gender_Student\"].count() / df[df[\"Gender_Student\"].str.contains(\"Girl\")][\"Gender_Student\"].count()\n",
    "perc_boys * 100"
   ],
   "id": "4085810e3286b6fb",
   "outputs": [
    {
     "data": {
      "text/plain": [
       "np.float64(9.57041870581838)"
      ]
     },
     "execution_count": 137,
     "metadata": {},
     "output_type": "execute_result"
    }
   ],
   "execution_count": 137
  },
  {
   "metadata": {},
   "cell_type": "markdown",
   "source": "#### 5.1.3.2 Gender wise distribution of students having very few disorderly behavior across subjects",
   "id": "a7f7bc72808dedf9"
  },
  {
   "metadata": {
    "ExecuteTime": {
     "end_time": "2025-03-20T21:02:14.013702Z",
     "start_time": "2025-03-20T21:02:14.005818Z"
    }
   },
   "cell_type": "code",
   "source": "few_disorderly = df[science_few & maths_few]",
   "id": "5ac92a56954091ef",
   "outputs": [],
   "execution_count": 138
  },
  {
   "metadata": {
    "ExecuteTime": {
     "end_time": "2025-03-20T21:02:14.376401Z",
     "start_time": "2025-03-20T21:02:14.355917Z"
    }
   },
   "cell_type": "code",
   "source": "few_disorderly.groupby(\"Gender_Student\")[\"Gender_Student\"].describe()",
   "id": "2335cfa857e7f0d3",
   "outputs": [
    {
     "name": "stderr",
     "output_type": "stream",
     "text": [
      "C:\\Users\\ssree\\AppData\\Local\\Temp\\ipykernel_11824\\1123985767.py:1: FutureWarning: The default of observed=False is deprecated and will be changed to True in a future version of pandas. Pass observed=False to retain current behavior or observed=True to adopt the future default and silence this warning.\n",
      "  few_disorderly.groupby(\"Gender_Student\")[\"Gender_Student\"].describe()\n"
     ]
    },
    {
     "data": {
      "text/plain": [
       "               count unique     top freq\n",
       "Gender_Student                          \n",
       "Others            29      1  Others   29\n",
       "Boy              656      1     Boy  656\n",
       "Girl             756      1    Girl  756"
      ],
      "text/html": [
       "<div>\n",
       "<style scoped>\n",
       "    .dataframe tbody tr th:only-of-type {\n",
       "        vertical-align: middle;\n",
       "    }\n",
       "\n",
       "    .dataframe tbody tr th {\n",
       "        vertical-align: top;\n",
       "    }\n",
       "\n",
       "    .dataframe thead th {\n",
       "        text-align: right;\n",
       "    }\n",
       "</style>\n",
       "<table border=\"1\" class=\"dataframe\">\n",
       "  <thead>\n",
       "    <tr style=\"text-align: right;\">\n",
       "      <th></th>\n",
       "      <th>count</th>\n",
       "      <th>unique</th>\n",
       "      <th>top</th>\n",
       "      <th>freq</th>\n",
       "    </tr>\n",
       "    <tr>\n",
       "      <th>Gender_Student</th>\n",
       "      <th></th>\n",
       "      <th></th>\n",
       "      <th></th>\n",
       "      <th></th>\n",
       "    </tr>\n",
       "  </thead>\n",
       "  <tbody>\n",
       "    <tr>\n",
       "      <th>Others</th>\n",
       "      <td>29</td>\n",
       "      <td>1</td>\n",
       "      <td>Others</td>\n",
       "      <td>29</td>\n",
       "    </tr>\n",
       "    <tr>\n",
       "      <th>Boy</th>\n",
       "      <td>656</td>\n",
       "      <td>1</td>\n",
       "      <td>Boy</td>\n",
       "      <td>656</td>\n",
       "    </tr>\n",
       "    <tr>\n",
       "      <th>Girl</th>\n",
       "      <td>756</td>\n",
       "      <td>1</td>\n",
       "      <td>Girl</td>\n",
       "      <td>756</td>\n",
       "    </tr>\n",
       "  </tbody>\n",
       "</table>\n",
       "</div>"
      ]
     },
     "execution_count": 139,
     "metadata": {},
     "output_type": "execute_result"
    }
   ],
   "execution_count": 139
  },
  {
   "metadata": {},
   "cell_type": "markdown",
   "source": [
    "\n",
    "##### 5.1.3.2.1 Percentage of boys exhibiting fewer disorderly behaviour"
   ],
   "id": "b7d16ad434723a2d"
  },
  {
   "metadata": {
    "ExecuteTime": {
     "end_time": "2025-03-20T21:02:14.486436Z",
     "start_time": "2025-03-20T21:02:14.474297Z"
    }
   },
   "cell_type": "code",
   "source": [
    "perc_boys = few_disorderly[few_disorderly[\"Gender_Student\"].str.contains(\"Boy\")][\"Gender_Student\"].count() / df[df[\"Gender_Student\"].str.contains(\"Boy\")][\"Gender_Student\"].count()\n",
    "perc_boys * 100"
   ],
   "id": "3b8e97ec9b731fa8",
   "outputs": [
    {
     "data": {
      "text/plain": [
       "np.float64(34.13111342351717)"
      ]
     },
     "execution_count": 140,
     "metadata": {},
     "output_type": "execute_result"
    }
   ],
   "execution_count": 140
  },
  {
   "metadata": {},
   "cell_type": "markdown",
   "source": [
    "\n",
    "##### 5.1.3.2.2 Percentage of girls exhibiting fewer disorderly behaviour"
   ],
   "id": "e60167709bf69b84"
  },
  {
   "metadata": {
    "ExecuteTime": {
     "end_time": "2025-03-20T21:02:14.606821Z",
     "start_time": "2025-03-20T21:02:14.584512Z"
    }
   },
   "cell_type": "code",
   "source": [
    "perc_boys = most_disorderly[most_disorderly[\"Gender_Student\"].str.contains(\"Girl\")][\"Gender_Student\"].count() / df[df[\"Gender_Student\"].str.contains(\"Girl\")][\"Gender_Student\"].count()\n",
    "perc_boys * 100"
   ],
   "id": "5a6a0c2a077ac5d0",
   "outputs": [
    {
     "data": {
      "text/plain": [
       "np.float64(9.57041870581838)"
      ]
     },
     "execution_count": 141,
     "metadata": {},
     "output_type": "execute_result"
    }
   ],
   "execution_count": 141
  },
  {
   "metadata": {},
   "cell_type": "markdown",
   "source": "## 5.2 Subject Likeness and Gender",
   "id": "5bace7d9d22a1b4a"
  },
  {
   "metadata": {
    "ExecuteTime": {
     "end_time": "2025-03-20T21:02:14.789132Z",
     "start_time": "2025-03-20T21:02:14.772520Z"
    }
   },
   "cell_type": "code",
   "source": [
    "subject_likeness_mask = df.columns.str.contains(\"Like_Learning\")\n",
    "df[df.columns[subject_likeness_mask]].value_counts()"
   ],
   "id": "5ee553d022bc18e0",
   "outputs": [
    {
     "data": {
      "text/plain": [
       "Students_Like_Learning_Mathematics   Students_Like_Learning_Science \n",
       "Do Not Like Learning Mathematics     Do Not Like Learning Science       945\n",
       "                                     Somewhat Like Learning Science     806\n",
       "Somewhat Like Learning Mathematics   Somewhat Like Learning Science     520\n",
       "Do Not Like Learning Mathematics     Very Much Like Learning Science    468\n",
       "Somewhat Like Learning Mathematics   Very Much Like Learning Science    384\n",
       "                                     Do Not Like Learning Science       334\n",
       "Very Much Like Learning Mathematics  Very Much Like Learning Science    195\n",
       "                                     Somewhat Like Learning Science     147\n",
       "                                     Do Not Like Learning Science        76\n",
       "Name: count, dtype: int64"
      ]
     },
     "execution_count": 142,
     "metadata": {},
     "output_type": "execute_result"
    }
   ],
   "execution_count": 142
  },
  {
   "metadata": {
    "ExecuteTime": {
     "end_time": "2025-03-20T21:02:15.030232Z",
     "start_time": "2025-03-20T21:02:15.017686Z"
    }
   },
   "cell_type": "code",
   "source": [
    "df[\"Students_Like_Learning_Mathematics\"] = df[\"Students_Like_Learning_Mathematics\"].apply(lambda x: \"Do not like\" if \"Do Not\" in str(x) else x )\n",
    "df[\"Students_Like_Learning_Mathematics\"] = df[\"Students_Like_Learning_Mathematics\"].apply(lambda x: \"Some what like\" if \"Somewhat\" in str(x) else x )\n",
    "df[\"Students_Like_Learning_Mathematics\"] = df[\"Students_Like_Learning_Mathematics\"].apply(lambda x: \"Very much like\" if \"Very Much\" in str(x) else x )\n",
    "df[\"Students_Like_Learning_Mathematics\"].value_counts()\n",
    "\n"
   ],
   "id": "2a13d617bad189d9",
   "outputs": [
    {
     "data": {
      "text/plain": [
       "Students_Like_Learning_Mathematics\n",
       "Do not like       2219\n",
       "Some what like    1238\n",
       "Very much like     418\n",
       "Name: count, dtype: int64"
      ]
     },
     "execution_count": 143,
     "metadata": {},
     "output_type": "execute_result"
    }
   ],
   "execution_count": 143
  },
  {
   "metadata": {
    "ExecuteTime": {
     "end_time": "2025-03-20T21:02:15.264228Z",
     "start_time": "2025-03-20T21:02:15.247769Z"
    }
   },
   "cell_type": "code",
   "source": [
    "df[\"Students_Like_Learning_Science\"] = df[\"Students_Like_Learning_Science\"].apply(lambda x: \"Do not like\" if \"Do Not\" in str(x) else x )\n",
    "df[\"Students_Like_Learning_Science\"] = df[\"Students_Like_Learning_Science\"].apply(lambda x: \"Some what like\" if \"Somewhat\" in str(x) else x )\n",
    "df[\"Students_Like_Learning_Science\"] = df[\"Students_Like_Learning_Science\"].apply(lambda x: \"Very much like\" if \"Very Much\" in str(x) else x )\n",
    "df[\"Students_Like_Learning_Science\"].value_counts()\n",
    "\n"
   ],
   "id": "d43ec39585bdd7ee",
   "outputs": [
    {
     "data": {
      "text/plain": [
       "Students_Like_Learning_Science\n",
       "Some what like    1473\n",
       "Do not like       1355\n",
       "Very much like    1047\n",
       "Name: count, dtype: int64"
      ]
     },
     "execution_count": 144,
     "metadata": {},
     "output_type": "execute_result"
    }
   ],
   "execution_count": 144
  },
  {
   "metadata": {},
   "cell_type": "markdown",
   "source": "### 5.2.1 Gender and Likeness for Mathematics",
   "id": "ecf827a72e1ff8ad"
  },
  {
   "metadata": {},
   "cell_type": "markdown",
   "source": "#### 5.2.1.1 Gender wise distribution of students who like Mathematics",
   "id": "7f9ff4ca552d7123"
  },
  {
   "metadata": {
    "ExecuteTime": {
     "end_time": "2025-03-20T21:02:15.436936Z",
     "start_time": "2025-03-20T21:02:15.418753Z"
    }
   },
   "cell_type": "code",
   "source": [
    "ver_much_like = df[\"Students_Like_Learning_Mathematics\"].str.contains(\"Very\")\n",
    "some_what_like = df[\"Students_Like_Learning_Mathematics\"].str.contains(\"Some\")\n",
    "like_maths  = df[ver_much_like | some_what_like]\n",
    "like_maths.groupby(\"Gender_Student\" , observed=False)[\"Gender_Student\"].describe()\n"
   ],
   "id": "480f871f7a9e8082",
   "outputs": [
    {
     "data": {
      "text/plain": [
       "               count unique     top freq\n",
       "Gender_Student                          \n",
       "Others            46      1  Others   46\n",
       "Boy              887      1     Boy  887\n",
       "Girl             723      1    Girl  723"
      ],
      "text/html": [
       "<div>\n",
       "<style scoped>\n",
       "    .dataframe tbody tr th:only-of-type {\n",
       "        vertical-align: middle;\n",
       "    }\n",
       "\n",
       "    .dataframe tbody tr th {\n",
       "        vertical-align: top;\n",
       "    }\n",
       "\n",
       "    .dataframe thead th {\n",
       "        text-align: right;\n",
       "    }\n",
       "</style>\n",
       "<table border=\"1\" class=\"dataframe\">\n",
       "  <thead>\n",
       "    <tr style=\"text-align: right;\">\n",
       "      <th></th>\n",
       "      <th>count</th>\n",
       "      <th>unique</th>\n",
       "      <th>top</th>\n",
       "      <th>freq</th>\n",
       "    </tr>\n",
       "    <tr>\n",
       "      <th>Gender_Student</th>\n",
       "      <th></th>\n",
       "      <th></th>\n",
       "      <th></th>\n",
       "      <th></th>\n",
       "    </tr>\n",
       "  </thead>\n",
       "  <tbody>\n",
       "    <tr>\n",
       "      <th>Others</th>\n",
       "      <td>46</td>\n",
       "      <td>1</td>\n",
       "      <td>Others</td>\n",
       "      <td>46</td>\n",
       "    </tr>\n",
       "    <tr>\n",
       "      <th>Boy</th>\n",
       "      <td>887</td>\n",
       "      <td>1</td>\n",
       "      <td>Boy</td>\n",
       "      <td>887</td>\n",
       "    </tr>\n",
       "    <tr>\n",
       "      <th>Girl</th>\n",
       "      <td>723</td>\n",
       "      <td>1</td>\n",
       "      <td>Girl</td>\n",
       "      <td>723</td>\n",
       "    </tr>\n",
       "  </tbody>\n",
       "</table>\n",
       "</div>"
      ]
     },
     "execution_count": 145,
     "metadata": {},
     "output_type": "execute_result"
    }
   ],
   "execution_count": 145
  },
  {
   "metadata": {
    "ExecuteTime": {
     "end_time": "2025-03-20T21:02:15.732882Z",
     "start_time": "2025-03-20T21:02:15.597950Z"
    }
   },
   "cell_type": "code",
   "source": [
    "fig = plt.figure(figsize=(10,5))\n",
    "sns.countplot(data=like_maths, x=\"Gender_Student\", color=\"b\")\n",
    "plt.tight_layout()\n",
    "plt.show()"
   ],
   "id": "4812f956f2aef77d",
   "outputs": [
    {
     "data": {
      "text/plain": [
       "<Figure size 1000x500 with 1 Axes>"
      ],
      "image/png": "[encoded data removed]"
     },
     "metadata": {},
     "output_type": "display_data"
    }
   ],
   "execution_count": 146
  },
  {
   "metadata": {},
   "cell_type": "markdown",
   "source": "##### 5.2.1.1.1 Percentage of boys, who like mathematics",
   "id": "8a4e6c8fd16bd097"
  },
  {
   "metadata": {
    "ExecuteTime": {
     "end_time": "2025-03-20T21:02:15.902047Z",
     "start_time": "2025-03-20T21:02:15.877585Z"
    }
   },
   "cell_type": "code",
   "source": "utils.getPercentageByGender(like_maths,df,\"Boy\")",
   "id": "6abd2e15e85247d7",
   "outputs": [
    {
     "name": "stdout",
     "output_type": "stream",
     "text": [
      "0.4614984391259105\n"
     ]
    }
   ],
   "execution_count": 147
  },
  {
   "metadata": {},
   "cell_type": "markdown",
   "source": "##### 5.2.1.1.2 Percentage of girls, who like mathematics",
   "id": "33a20b49ede6e13e"
  },
  {
   "metadata": {
    "ExecuteTime": {
     "end_time": "2025-03-20T21:02:16.012781Z",
     "start_time": "2025-03-20T21:02:16.002857Z"
    }
   },
   "cell_type": "code",
   "source": "utils.getPercentageByGender(like_maths,df,\"Girl\")",
   "id": "93929d8c6927c387",
   "outputs": [
    {
     "name": "stdout",
     "output_type": "stream",
     "text": [
      "0.3931484502446982\n"
     ]
    }
   ],
   "execution_count": 148
  },
  {
   "metadata": {},
   "cell_type": "markdown",
   "source": "#### 5.2.1.2 Gender wise distribution of students who do not like Mathematics",
   "id": "79bbb2a51844959d"
  },
  {
   "metadata": {
    "ExecuteTime": {
     "end_time": "2025-03-20T21:02:16.469938Z",
     "start_time": "2025-03-20T21:02:16.199831Z"
    }
   },
   "cell_type": "code",
   "source": [
    "dont_like_maths, gender_groped = utils.subjectLikeness(df,\"Mathematics\", \"Do not\")\n",
    "dont_like_maths"
   ],
   "id": "535cd6d0dfad530a",
   "outputs": [
    {
     "data": {
      "text/plain": [
       "<Figure size 1000x600 with 2 Axes>"
      ],
      "image/png": "[encoded data removed]"
     },
     "metadata": {},
     "output_type": "display_data"
    },
    {
     "data": {
      "text/plain": [
       "     Gender_Student Lang_Spoken_Home               Books_Home Own_Computer  \\\n",
       "0              Girl        Sometimes            One Book Case          Yes   \n",
       "1              Girl        Sometimes            One Book Case          Yes   \n",
       "2              Girl    Almost always            One Book Case          Yes   \n",
       "4            Others    Almost always            One Book Case          Yes   \n",
       "5              Girl           Always            One Book Case          Yes   \n",
       "...             ...              ...                      ...          ...   \n",
       "5076            Boy    Almost always  More than two bookcases          Yes   \n",
       "5078           Girl           Always           Two Book Cases          Yes   \n",
       "5080           Girl    Almost always           Two Book Cases          Yes   \n",
       "5083            Boy        Sometimes           Two Book Cases          Yes   \n",
       "5089            Boy           Always            One Book Case          Yes   \n",
       "\n",
       "     Shared_Computer Smartphone Internet_Access Study_Desk Own_Room  \\\n",
       "0                Yes        Yes             Yes        Yes      Yes   \n",
       "1                Yes        Yes             Yes        Yes      Yes   \n",
       "2                 No        Yes             Yes        Yes      Yes   \n",
       "4                Yes        Yes             Yes        Yes      Yes   \n",
       "5                Yes        Yes             Yes        Yes      Yes   \n",
       "...              ...        ...             ...        ...      ...   \n",
       "5076             Yes        Yes             Yes        Yes      Yes   \n",
       "5078              No        Yes             Yes        Yes      Yes   \n",
       "5080             Yes        Yes             Yes         No      Yes   \n",
       "5083             Yes        Yes             Yes        Yes      Yes   \n",
       "5089              No        Yes             Yes        Yes      Yes   \n",
       "\n",
       "                                   ParentA_Edu_Level  ...  \\\n",
       "0                                       I don’t know  ...   \n",
       "1                                       I don’t know  ...   \n",
       "2                                       I don’t know  ...   \n",
       "4          <Upper secondary education—ISCED Level 3>  ...   \n",
       "5          <Upper secondary education—ISCED Level 3>  ...   \n",
       "...                                              ...  ...   \n",
       "5076                                    I don’t know  ...   \n",
       "5078                                    I don’t know  ...   \n",
       "5080                                    I don’t know  ...   \n",
       "5083                                    I don’t know  ...   \n",
       "5089  <Short-cycle tertiary education—ISCED Level 5>  ...   \n",
       "\n",
       "      Students_Value_Science         Digital_Self_Efficacy  \\\n",
       "0     Strongly Value Science    High Digital Self-Efficacy   \n",
       "1     Somewhat Value Science    High Digital Self-Efficacy   \n",
       "2     Strongly Value Science    High Digital Self-Efficacy   \n",
       "4     Strongly Value Science    High Digital Self-Efficacy   \n",
       "5       Do Not Value Science    High Digital Self-Efficacy   \n",
       "...                      ...                           ...   \n",
       "5076    Do Not Value Science  Medium Digital Self-Efficacy   \n",
       "5078  Somewhat Value Science    High Digital Self-Efficacy   \n",
       "5080  Somewhat Value Science  Medium Digital Self-Efficacy   \n",
       "5083    Do Not Value Science    High Digital Self-Efficacy   \n",
       "5089  Somewhat Value Science    High Digital Self-Efficacy   \n",
       "\n",
       "     Disorderly_Behavior_during_Science_Lessons  \\\n",
       "0                                  Some Lessons   \n",
       "1                                  Some Lessons   \n",
       "2                                  Some Lessons   \n",
       "4                                  Some Lessons   \n",
       "5                                  Some Lessons   \n",
       "...                                         ...   \n",
       "5076                               Some Lessons   \n",
       "5078                               Some Lessons   \n",
       "5080                                Few Lessons   \n",
       "5083                               Some Lessons   \n",
       "5089                               Some Lessons   \n",
       "\n",
       "     Students_Value_Environmental_Preservation  AVERAGE_PV_SCIENCE  \\\n",
       "0                               Strongly Value          646.737090   \n",
       "1                               Strongly Value          575.796714   \n",
       "2                          Very Strongly Value          544.337234   \n",
       "4                          Very Strongly Value          553.328876   \n",
       "5                          Very Strongly Value          507.999488   \n",
       "...                                        ...                 ...   \n",
       "5076                            Strongly Value          563.522256   \n",
       "5078                            Strongly Value          522.176480   \n",
       "5080                       Very Strongly Value          629.605738   \n",
       "5083                       Very Strongly Value          646.945754   \n",
       "5089                            Somewhat Value          544.257326   \n",
       "\n",
       "      AVERAGE_PV_MATHEMATICS  AVERAGE_PV_BIOLOGY  AVERAGE_PV_CHEMISTRY  \\\n",
       "0                 617.370980          621.484356            629.224984   \n",
       "1                 526.669736          536.705586            620.597004   \n",
       "2                 496.228622          563.870548            529.335138   \n",
       "4                 512.365232          537.317922            544.287360   \n",
       "5                 480.515014          521.578806            515.389704   \n",
       "...                      ...                 ...                   ...   \n",
       "5076              563.840346          577.376610            605.933812   \n",
       "5078              507.862110          530.681208            494.987954   \n",
       "5080              597.979224          641.984574            738.854870   \n",
       "5083              624.863504          631.829872            630.396432   \n",
       "5089              568.369492          543.396124            573.257784   \n",
       "\n",
       "      AVERAGE_PV_PHYSICS  AVERAGE_PV_EARTH_SCIENCE  \n",
       "0             604.773000                592.261964  \n",
       "1             575.948448                596.971438  \n",
       "2             493.620340                497.036416  \n",
       "4             531.582183                566.663730  \n",
       "5             521.796587                510.857384  \n",
       "...                  ...                       ...  \n",
       "5076          578.129028                585.769956  \n",
       "5078          507.845203                552.619188  \n",
       "5080          617.042255                629.178072  \n",
       "5083          626.257028                678.994776  \n",
       "5089          590.844263                543.298278  \n",
       "\n",
       "[2219 rows x 64 columns]"
      ],
      "text/html": [
       "<div>\n",
       "<style scoped>\n",
       "    .dataframe tbody tr th:only-of-type {\n",
       "        vertical-align: middle;\n",
       "    }\n",
       "\n",
       "    .dataframe tbody tr th {\n",
       "        vertical-align: top;\n",
       "    }\n",
       "\n",
       "    .dataframe thead th {\n",
       "        text-align: right;\n",
       "    }\n",
       "</style>\n",
       "<table border=\"1\" class=\"dataframe\">\n",
       "  <thead>\n",
       "    <tr style=\"text-align: right;\">\n",
       "      <th></th>\n",
       "      <th>Gender_Student</th>\n",
       "      <th>Lang_Spoken_Home</th>\n",
       "      <th>Books_Home</th>\n",
       "      <th>Own_Computer</th>\n",
       "      <th>Shared_Computer</th>\n",
       "      <th>Smartphone</th>\n",
       "      <th>Internet_Access</th>\n",
       "      <th>Study_Desk</th>\n",
       "      <th>Own_Room</th>\n",
       "      <th>ParentA_Edu_Level</th>\n",
       "      <th>...</th>\n",
       "      <th>Students_Value_Science</th>\n",
       "      <th>Digital_Self_Efficacy</th>\n",
       "      <th>Disorderly_Behavior_during_Science_Lessons</th>\n",
       "      <th>Students_Value_Environmental_Preservation</th>\n",
       "      <th>AVERAGE_PV_SCIENCE</th>\n",
       "      <th>AVERAGE_PV_MATHEMATICS</th>\n",
       "      <th>AVERAGE_PV_BIOLOGY</th>\n",
       "      <th>AVERAGE_PV_CHEMISTRY</th>\n",
       "      <th>AVERAGE_PV_PHYSICS</th>\n",
       "      <th>AVERAGE_PV_EARTH_SCIENCE</th>\n",
       "    </tr>\n",
       "  </thead>\n",
       "  <tbody>\n",
       "    <tr>\n",
       "      <th>0</th>\n",
       "      <td>Girl</td>\n",
       "      <td>Sometimes</td>\n",
       "      <td>One Book Case</td>\n",
       "      <td>Yes</td>\n",
       "      <td>Yes</td>\n",
       "      <td>Yes</td>\n",
       "      <td>Yes</td>\n",
       "      <td>Yes</td>\n",
       "      <td>Yes</td>\n",
       "      <td>I don’t know</td>\n",
       "      <td>...</td>\n",
       "      <td>Strongly Value Science</td>\n",
       "      <td>High Digital Self-Efficacy</td>\n",
       "      <td>Some Lessons</td>\n",
       "      <td>Strongly Value</td>\n",
       "      <td>646.737090</td>\n",
       "      <td>617.370980</td>\n",
       "      <td>621.484356</td>\n",
       "      <td>629.224984</td>\n",
       "      <td>604.773000</td>\n",
       "      <td>592.261964</td>\n",
       "    </tr>\n",
       "    <tr>\n",
       "      <th>1</th>\n",
       "      <td>Girl</td>\n",
       "      <td>Sometimes</td>\n",
       "      <td>One Book Case</td>\n",
       "      <td>Yes</td>\n",
       "      <td>Yes</td>\n",
       "      <td>Yes</td>\n",
       "      <td>Yes</td>\n",
       "      <td>Yes</td>\n",
       "      <td>Yes</td>\n",
       "      <td>I don’t know</td>\n",
       "      <td>...</td>\n",
       "      <td>Somewhat Value Science</td>\n",
       "      <td>High Digital Self-Efficacy</td>\n",
       "      <td>Some Lessons</td>\n",
       "      <td>Strongly Value</td>\n",
       "      <td>575.796714</td>\n",
       "      <td>526.669736</td>\n",
       "      <td>536.705586</td>\n",
       "      <td>620.597004</td>\n",
       "      <td>575.948448</td>\n",
       "      <td>596.971438</td>\n",
       "    </tr>\n",
       "    <tr>\n",
       "      <th>2</th>\n",
       "      <td>Girl</td>\n",
       "      <td>Almost always</td>\n",
       "      <td>One Book Case</td>\n",
       "      <td>Yes</td>\n",
       "      <td>No</td>\n",
       "      <td>Yes</td>\n",
       "      <td>Yes</td>\n",
       "      <td>Yes</td>\n",
       "      <td>Yes</td>\n",
       "      <td>I don’t know</td>\n",
       "      <td>...</td>\n",
       "      <td>Strongly Value Science</td>\n",
       "      <td>High Digital Self-Efficacy</td>\n",
       "      <td>Some Lessons</td>\n",
       "      <td>Very Strongly Value</td>\n",
       "      <td>544.337234</td>\n",
       "      <td>496.228622</td>\n",
       "      <td>563.870548</td>\n",
       "      <td>529.335138</td>\n",
       "      <td>493.620340</td>\n",
       "      <td>497.036416</td>\n",
       "    </tr>\n",
       "    <tr>\n",
       "      <th>4</th>\n",
       "      <td>Others</td>\n",
       "      <td>Almost always</td>\n",
       "      <td>One Book Case</td>\n",
       "      <td>Yes</td>\n",
       "      <td>Yes</td>\n",
       "      <td>Yes</td>\n",
       "      <td>Yes</td>\n",
       "      <td>Yes</td>\n",
       "      <td>Yes</td>\n",
       "      <td>&lt;Upper secondary education—ISCED Level 3&gt;</td>\n",
       "      <td>...</td>\n",
       "      <td>Strongly Value Science</td>\n",
       "      <td>High Digital Self-Efficacy</td>\n",
       "      <td>Some Lessons</td>\n",
       "      <td>Very Strongly Value</td>\n",
       "      <td>553.328876</td>\n",
       "      <td>512.365232</td>\n",
       "      <td>537.317922</td>\n",
       "      <td>544.287360</td>\n",
       "      <td>531.582183</td>\n",
       "      <td>566.663730</td>\n",
       "    </tr>\n",
       "    <tr>\n",
       "      <th>5</th>\n",
       "      <td>Girl</td>\n",
       "      <td>Always</td>\n",
       "      <td>One Book Case</td>\n",
       "      <td>Yes</td>\n",
       "      <td>Yes</td>\n",
       "      <td>Yes</td>\n",
       "      <td>Yes</td>\n",
       "      <td>Yes</td>\n",
       "      <td>Yes</td>\n",
       "      <td>&lt;Upper secondary education—ISCED Level 3&gt;</td>\n",
       "      <td>...</td>\n",
       "      <td>Do Not Value Science</td>\n",
       "      <td>High Digital Self-Efficacy</td>\n",
       "      <td>Some Lessons</td>\n",
       "      <td>Very Strongly Value</td>\n",
       "      <td>507.999488</td>\n",
       "      <td>480.515014</td>\n",
       "      <td>521.578806</td>\n",
       "      <td>515.389704</td>\n",
       "      <td>521.796587</td>\n",
       "      <td>510.857384</td>\n",
       "    </tr>\n",
       "    <tr>\n",
       "      <th>...</th>\n",
       "      <td>...</td>\n",
       "      <td>...</td>\n",
       "      <td>...</td>\n",
       "      <td>...</td>\n",
       "      <td>...</td>\n",
       "      <td>...</td>\n",
       "      <td>...</td>\n",
       "      <td>...</td>\n",
       "      <td>...</td>\n",
       "      <td>...</td>\n",
       "      <td>...</td>\n",
       "      <td>...</td>\n",
       "      <td>...</td>\n",
       "      <td>...</td>\n",
       "      <td>...</td>\n",
       "      <td>...</td>\n",
       "      <td>...</td>\n",
       "      <td>...</td>\n",
       "      <td>...</td>\n",
       "      <td>...</td>\n",
       "      <td>...</td>\n",
       "    </tr>\n",
       "    <tr>\n",
       "      <th>5076</th>\n",
       "      <td>Boy</td>\n",
       "      <td>Almost always</td>\n",
       "      <td>More than two bookcases</td>\n",
       "      <td>Yes</td>\n",
       "      <td>Yes</td>\n",
       "      <td>Yes</td>\n",
       "      <td>Yes</td>\n",
       "      <td>Yes</td>\n",
       "      <td>Yes</td>\n",
       "      <td>I don’t know</td>\n",
       "      <td>...</td>\n",
       "      <td>Do Not Value Science</td>\n",
       "      <td>Medium Digital Self-Efficacy</td>\n",
       "      <td>Some Lessons</td>\n",
       "      <td>Strongly Value</td>\n",
       "      <td>563.522256</td>\n",
       "      <td>563.840346</td>\n",
       "      <td>577.376610</td>\n",
       "      <td>605.933812</td>\n",
       "      <td>578.129028</td>\n",
       "      <td>585.769956</td>\n",
       "    </tr>\n",
       "    <tr>\n",
       "      <th>5078</th>\n",
       "      <td>Girl</td>\n",
       "      <td>Always</td>\n",
       "      <td>Two Book Cases</td>\n",
       "      <td>Yes</td>\n",
       "      <td>No</td>\n",
       "      <td>Yes</td>\n",
       "      <td>Yes</td>\n",
       "      <td>Yes</td>\n",
       "      <td>Yes</td>\n",
       "      <td>I don’t know</td>\n",
       "      <td>...</td>\n",
       "      <td>Somewhat Value Science</td>\n",
       "      <td>High Digital Self-Efficacy</td>\n",
       "      <td>Some Lessons</td>\n",
       "      <td>Strongly Value</td>\n",
       "      <td>522.176480</td>\n",
       "      <td>507.862110</td>\n",
       "      <td>530.681208</td>\n",
       "      <td>494.987954</td>\n",
       "      <td>507.845203</td>\n",
       "      <td>552.619188</td>\n",
       "    </tr>\n",
       "    <tr>\n",
       "      <th>5080</th>\n",
       "      <td>Girl</td>\n",
       "      <td>Almost always</td>\n",
       "      <td>Two Book Cases</td>\n",
       "      <td>Yes</td>\n",
       "      <td>Yes</td>\n",
       "      <td>Yes</td>\n",
       "      <td>Yes</td>\n",
       "      <td>No</td>\n",
       "      <td>Yes</td>\n",
       "      <td>I don’t know</td>\n",
       "      <td>...</td>\n",
       "      <td>Somewhat Value Science</td>\n",
       "      <td>Medium Digital Self-Efficacy</td>\n",
       "      <td>Few Lessons</td>\n",
       "      <td>Very Strongly Value</td>\n",
       "      <td>629.605738</td>\n",
       "      <td>597.979224</td>\n",
       "      <td>641.984574</td>\n",
       "      <td>738.854870</td>\n",
       "      <td>617.042255</td>\n",
       "      <td>629.178072</td>\n",
       "    </tr>\n",
       "    <tr>\n",
       "      <th>5083</th>\n",
       "      <td>Boy</td>\n",
       "      <td>Sometimes</td>\n",
       "      <td>Two Book Cases</td>\n",
       "      <td>Yes</td>\n",
       "      <td>Yes</td>\n",
       "      <td>Yes</td>\n",
       "      <td>Yes</td>\n",
       "      <td>Yes</td>\n",
       "      <td>Yes</td>\n",
       "      <td>I don’t know</td>\n",
       "      <td>...</td>\n",
       "      <td>Do Not Value Science</td>\n",
       "      <td>High Digital Self-Efficacy</td>\n",
       "      <td>Some Lessons</td>\n",
       "      <td>Very Strongly Value</td>\n",
       "      <td>646.945754</td>\n",
       "      <td>624.863504</td>\n",
       "      <td>631.829872</td>\n",
       "      <td>630.396432</td>\n",
       "      <td>626.257028</td>\n",
       "      <td>678.994776</td>\n",
       "    </tr>\n",
       "    <tr>\n",
       "      <th>5089</th>\n",
       "      <td>Boy</td>\n",
       "      <td>Always</td>\n",
       "      <td>One Book Case</td>\n",
       "      <td>Yes</td>\n",
       "      <td>No</td>\n",
       "      <td>Yes</td>\n",
       "      <td>Yes</td>\n",
       "      <td>Yes</td>\n",
       "      <td>Yes</td>\n",
       "      <td>&lt;Short-cycle tertiary education—ISCED Level 5&gt;</td>\n",
       "      <td>...</td>\n",
       "      <td>Somewhat Value Science</td>\n",
       "      <td>High Digital Self-Efficacy</td>\n",
       "      <td>Some Lessons</td>\n",
       "      <td>Somewhat Value</td>\n",
       "      <td>544.257326</td>\n",
       "      <td>568.369492</td>\n",
       "      <td>543.396124</td>\n",
       "      <td>573.257784</td>\n",
       "      <td>590.844263</td>\n",
       "      <td>543.298278</td>\n",
       "    </tr>\n",
       "  </tbody>\n",
       "</table>\n",
       "<p>2219 rows × 64 columns</p>\n",
       "</div>"
      ]
     },
     "execution_count": 149,
     "metadata": {},
     "output_type": "execute_result"
    }
   ],
   "execution_count": 149
  },
  {
   "metadata": {},
   "cell_type": "markdown",
   "source": "##### 5.2.1.2.1 Percentage of boys, do not like mathematics",
   "id": "2691417f66bb988c"
  },
  {
   "metadata": {
    "ExecuteTime": {
     "end_time": "2025-03-20T21:02:16.726956Z",
     "start_time": "2025-03-20T21:02:16.715825Z"
    }
   },
   "cell_type": "code",
   "source": "utils.getPercentageByGender(dont_like_maths,df,\"Boy\")",
   "id": "b2079acf9c198de6",
   "outputs": [
    {
     "name": "stdout",
     "output_type": "stream",
     "text": [
      "0.5385015608740895\n"
     ]
    }
   ],
   "execution_count": 150
  },
  {
   "metadata": {},
   "cell_type": "markdown",
   "source": "##### 5.2.1.2.2 Percentage of girls, do not like mathematics",
   "id": "ca6091bbd6c59965"
  },
  {
   "metadata": {
    "ExecuteTime": {
     "end_time": "2025-03-20T21:02:16.798557Z",
     "start_time": "2025-03-20T21:02:16.786667Z"
    }
   },
   "cell_type": "code",
   "source": "utils.getPercentageByGender(dont_like_maths,df,\"Girl\")",
   "id": "8e18ce68af308fd9",
   "outputs": [
    {
     "name": "stdout",
     "output_type": "stream",
     "text": [
      "0.6068515497553018\n"
     ]
    }
   ],
   "execution_count": 151
  },
  {
   "metadata": {},
   "cell_type": "markdown",
   "source": "### 5.2.2 Gender and Likeness for Science",
   "id": "208ea7feb7074452"
  },
  {
   "metadata": {},
   "cell_type": "markdown",
   "source": "#### 5.2.2.1 Gender wise distriibution of students who like Science",
   "id": "e51698bc89e1ca2f"
  },
  {
   "metadata": {
    "ExecuteTime": {
     "end_time": "2025-03-20T21:02:17.308029Z",
     "start_time": "2025-03-20T21:02:17.283057Z"
    }
   },
   "cell_type": "code",
   "source": [
    "ver_much_like = df[\"Students_Like_Learning_Science\"].str.contains(\"Very\")\n",
    "some_what_like = df[\"Students_Like_Learning_Science\"].str.contains(\"Some\")\n",
    "like_science  = df[ver_much_like | some_what_like]\n",
    "like_science.groupby(\"Gender_Student\" , observed=False)[\"Gender_Student\"].describe()\n"
   ],
   "id": "1ddff5148a89fc0a",
   "outputs": [
    {
     "data": {
      "text/plain": [
       "               count unique     top  freq\n",
       "Gender_Student                           \n",
       "Others            77      1  Others    77\n",
       "Boy             1305      1     Boy  1305\n",
       "Girl            1138      1    Girl  1138"
      ],
      "text/html": [
       "<div>\n",
       "<style scoped>\n",
       "    .dataframe tbody tr th:only-of-type {\n",
       "        vertical-align: middle;\n",
       "    }\n",
       "\n",
       "    .dataframe tbody tr th {\n",
       "        vertical-align: top;\n",
       "    }\n",
       "\n",
       "    .dataframe thead th {\n",
       "        text-align: right;\n",
       "    }\n",
       "</style>\n",
       "<table border=\"1\" class=\"dataframe\">\n",
       "  <thead>\n",
       "    <tr style=\"text-align: right;\">\n",
       "      <th></th>\n",
       "      <th>count</th>\n",
       "      <th>unique</th>\n",
       "      <th>top</th>\n",
       "      <th>freq</th>\n",
       "    </tr>\n",
       "    <tr>\n",
       "      <th>Gender_Student</th>\n",
       "      <th></th>\n",
       "      <th></th>\n",
       "      <th></th>\n",
       "      <th></th>\n",
       "    </tr>\n",
       "  </thead>\n",
       "  <tbody>\n",
       "    <tr>\n",
       "      <th>Others</th>\n",
       "      <td>77</td>\n",
       "      <td>1</td>\n",
       "      <td>Others</td>\n",
       "      <td>77</td>\n",
       "    </tr>\n",
       "    <tr>\n",
       "      <th>Boy</th>\n",
       "      <td>1305</td>\n",
       "      <td>1</td>\n",
       "      <td>Boy</td>\n",
       "      <td>1305</td>\n",
       "    </tr>\n",
       "    <tr>\n",
       "      <th>Girl</th>\n",
       "      <td>1138</td>\n",
       "      <td>1</td>\n",
       "      <td>Girl</td>\n",
       "      <td>1138</td>\n",
       "    </tr>\n",
       "  </tbody>\n",
       "</table>\n",
       "</div>"
      ]
     },
     "execution_count": 152,
     "metadata": {},
     "output_type": "execute_result"
    }
   ],
   "execution_count": 152
  },
  {
   "metadata": {
    "ExecuteTime": {
     "end_time": "2025-03-20T21:02:17.531592Z",
     "start_time": "2025-03-20T21:02:17.366646Z"
    }
   },
   "cell_type": "code",
   "source": [
    "fig = plt.figure(figsize=(10,5))\n",
    "sns.countplot(data=like_science, x=\"Gender_Student\", color=\"b\")\n",
    "plt.tight_layout()\n",
    "plt.show()"
   ],
   "id": "7d7d40e18adb0dd4",
   "outputs": [
    {
     "data": {
      "text/plain": [
       "<Figure size 1000x500 with 1 Axes>"
      ],
      "image/png": "[encoded data removed]"
     },
     "metadata": {},
     "output_type": "display_data"
    }
   ],
   "execution_count": 153
  },
  {
   "metadata": {},
   "cell_type": "markdown",
   "source": [
    "\n",
    "##### 5.2.2.1.1 Percentage of boys who like learning science"
   ],
   "id": "aa879294997e89df"
  },
  {
   "metadata": {
    "ExecuteTime": {
     "end_time": "2025-03-20T21:02:17.603399Z",
     "start_time": "2025-03-20T21:02:17.581454Z"
    }
   },
   "cell_type": "code",
   "source": "utils.getPercentageByGender(like_science,df,\"Boy\")",
   "id": "873b06bde8c94146",
   "outputs": [
    {
     "name": "stdout",
     "output_type": "stream",
     "text": [
      "0.6789802289281998\n"
     ]
    }
   ],
   "execution_count": 154
  },
  {
   "metadata": {},
   "cell_type": "markdown",
   "source": "##### 5.2.2.1.2 Percentage of girls who like learning science",
   "id": "bfd542a501a2f999"
  },
  {
   "metadata": {
    "ExecuteTime": {
     "end_time": "2025-03-20T21:02:17.734780Z",
     "start_time": "2025-03-20T21:02:17.722429Z"
    }
   },
   "cell_type": "code",
   "source": "utils.getPercentageByGender(like_science,df,\"Girl\")",
   "id": "e166c096cb1e48d7",
   "outputs": [
    {
     "name": "stdout",
     "output_type": "stream",
     "text": [
      "0.6188145731375748\n"
     ]
    }
   ],
   "execution_count": 155
  },
  {
   "metadata": {},
   "cell_type": "markdown",
   "source": "#### 5.2.2.2 Gender wise distriibution of students, who do not like Science",
   "id": "8d98ea61c9b8bfbf"
  },
  {
   "metadata": {
    "ExecuteTime": {
     "end_time": "2025-03-20T21:02:18.170059Z",
     "start_time": "2025-03-20T21:02:17.943593Z"
    }
   },
   "cell_type": "code",
   "source": [
    "dont_like_science, math_grouped = utils.subjectLikeness(df,\"Science\", \"Do not\")\n",
    "gender_groped.describe()"
   ],
   "id": "d44d7b6a1e09c183",
   "outputs": [
    {
     "data": {
      "text/plain": [
       "<Figure size 1000x600 with 2 Axes>"
      ],
      "image/png": "[encoded data removed]"
     },
     "metadata": {},
     "output_type": "display_data"
    },
    {
     "data": {
      "text/plain": [
       "               count unique     top  freq\n",
       "Gender_Student                           \n",
       "Others            68      1  Others    68\n",
       "Boy             1035      1     Boy  1035\n",
       "Girl            1116      1    Girl  1116"
      ],
      "text/html": [
       "<div>\n",
       "<style scoped>\n",
       "    .dataframe tbody tr th:only-of-type {\n",
       "        vertical-align: middle;\n",
       "    }\n",
       "\n",
       "    .dataframe tbody tr th {\n",
       "        vertical-align: top;\n",
       "    }\n",
       "\n",
       "    .dataframe thead th {\n",
       "        text-align: right;\n",
       "    }\n",
       "</style>\n",
       "<table border=\"1\" class=\"dataframe\">\n",
       "  <thead>\n",
       "    <tr style=\"text-align: right;\">\n",
       "      <th></th>\n",
       "      <th>count</th>\n",
       "      <th>unique</th>\n",
       "      <th>top</th>\n",
       "      <th>freq</th>\n",
       "    </tr>\n",
       "    <tr>\n",
       "      <th>Gender_Student</th>\n",
       "      <th></th>\n",
       "      <th></th>\n",
       "      <th></th>\n",
       "      <th></th>\n",
       "    </tr>\n",
       "  </thead>\n",
       "  <tbody>\n",
       "    <tr>\n",
       "      <th>Others</th>\n",
       "      <td>68</td>\n",
       "      <td>1</td>\n",
       "      <td>Others</td>\n",
       "      <td>68</td>\n",
       "    </tr>\n",
       "    <tr>\n",
       "      <th>Boy</th>\n",
       "      <td>1035</td>\n",
       "      <td>1</td>\n",
       "      <td>Boy</td>\n",
       "      <td>1035</td>\n",
       "    </tr>\n",
       "    <tr>\n",
       "      <th>Girl</th>\n",
       "      <td>1116</td>\n",
       "      <td>1</td>\n",
       "      <td>Girl</td>\n",
       "      <td>1116</td>\n",
       "    </tr>\n",
       "  </tbody>\n",
       "</table>\n",
       "</div>"
      ]
     },
     "execution_count": 156,
     "metadata": {},
     "output_type": "execute_result"
    }
   ],
   "execution_count": 156
  },
  {
   "metadata": {},
   "cell_type": "markdown",
   "source": [
    "\n",
    "##### 5.2.2.2.1 Percentage of boys don't like learning science"
   ],
   "id": "7f0f3afa39d1c965"
  },
  {
   "metadata": {
    "ExecuteTime": {
     "end_time": "2025-03-20T21:02:18.421120Z",
     "start_time": "2025-03-20T21:02:18.406732Z"
    }
   },
   "cell_type": "code",
   "source": "utils.getPercentageByGender(dont_like_maths,df,\"Boy\")",
   "id": "6246cc079450a88e",
   "outputs": [
    {
     "name": "stdout",
     "output_type": "stream",
     "text": [
      "0.5385015608740895\n"
     ]
    }
   ],
   "execution_count": 157
  },
  {
   "metadata": {},
   "cell_type": "markdown",
   "source": [
    "\n",
    "##### 5.2.2.2.2 Percentage of girls don't like learning science"
   ],
   "id": "6aa5bf8dfc91a26d"
  },
  {
   "metadata": {
    "ExecuteTime": {
     "end_time": "2025-03-20T21:02:18.524506Z",
     "start_time": "2025-03-20T21:02:18.511091Z"
    }
   },
   "cell_type": "code",
   "source": "utils.getPercentageByGender(dont_like_maths,df,\"Girl\")",
   "id": "b9f2fcb8216667b1",
   "outputs": [
    {
     "name": "stdout",
     "output_type": "stream",
     "text": [
      "0.6068515497553018\n"
     ]
    }
   ],
   "execution_count": 158
  },
  {
   "metadata": {
    "ExecuteTime": {
     "end_time": "2025-03-20T21:02:18.657658Z",
     "start_time": "2025-03-20T21:02:18.652446Z"
    }
   },
   "cell_type": "code",
   "source": "",
   "id": "d852e3f7138c6d42",
   "outputs": [],
   "execution_count": null
  },
  {
   "metadata": {},
   "cell_type": "markdown",
   "source": "## 5.3 Confidence and Gender",
   "id": "83d66f923dafe2fe"
  },
  {
   "metadata": {
    "ExecuteTime": {
     "end_time": "2025-03-20T21:02:18.972567Z",
     "start_time": "2025-03-20T21:02:18.956434Z"
    }
   },
   "cell_type": "code",
   "source": [
    "subject_confidence_mask = df.columns.str.contains(\"Confident\")\n",
    "df[df.columns[subject_confidence_mask]].value_counts()"
   ],
   "id": "78c01a153f816282",
   "outputs": [
    {
     "data": {
      "text/plain": [
       "Students_Confident_in_Mathematics  Students_Confident_in_Science\n",
       "Not Confident in Mathematics       Not Confident in Science         1030\n",
       "                                   Somewhat Confident in Science     712\n",
       "Somewhat Confident in Mathematics  Somewhat Confident in Science     673\n",
       "                                   Not Confident in Science          502\n",
       "                                   Very Confident in Science         248\n",
       "Very Confident in Mathematics      Very Confident in Science         221\n",
       "                                   Somewhat Confident in Science     196\n",
       "Not Confident in Mathematics       Very Confident in Science         168\n",
       "Very Confident in Mathematics      Not Confident in Science          125\n",
       "Name: count, dtype: int64"
      ]
     },
     "execution_count": 159,
     "metadata": {},
     "output_type": "execute_result"
    }
   ],
   "execution_count": 159
  },
  {
   "metadata": {
    "ExecuteTime": {
     "end_time": "2025-03-20T21:02:19.237326Z",
     "start_time": "2025-03-20T21:02:19.223845Z"
    }
   },
   "cell_type": "code",
   "source": [
    "df[\"Students_Confident_in_Mathematics\"] = df[\"Students_Confident_in_Mathematics\"].apply(lambda x: \"Not Confident\" if \"Not\" in str(x) else x )\n",
    "df[\"Students_Confident_in_Mathematics\"] = df[\"Students_Confident_in_Mathematics\"].apply(lambda x: \"Some what confident\" if \"Somewhat\" in str(x) else x )\n",
    "df[\"Students_Confident_in_Mathematics\"] = df[\"Students_Confident_in_Mathematics\"].apply(lambda x: \"Very confident\" if \"Very\" in str(x) else x )\n",
    "df[\"Students_Confident_in_Mathematics\"].value_counts()\n",
    "\n"
   ],
   "id": "3458741bd4b862ca",
   "outputs": [
    {
     "data": {
      "text/plain": [
       "Students_Confident_in_Mathematics\n",
       "Not Confident          1910\n",
       "Some what confident    1423\n",
       "Very confident          542\n",
       "Name: count, dtype: int64"
      ]
     },
     "execution_count": 160,
     "metadata": {},
     "output_type": "execute_result"
    }
   ],
   "execution_count": 160
  },
  {
   "metadata": {
    "ExecuteTime": {
     "end_time": "2025-03-20T21:02:19.374855Z",
     "start_time": "2025-03-20T21:02:19.357290Z"
    }
   },
   "cell_type": "code",
   "source": [
    "df[\"Students_Confident_in_Science\"] = df[\"Students_Confident_in_Science\"].apply(lambda x: \"Not Confident\" if \"Not\" in str(x) else x )\n",
    "df[\"Students_Confident_in_Science\"] = df[\"Students_Confident_in_Science\"].apply(lambda x: \"Some what confident\" if \"Somewhat\" in str(x) else x )\n",
    "df[\"Students_Confident_in_Science\"] = df[\"Students_Confident_in_Science\"].apply(lambda x: \"Very confident\" if \"Very\" in str(x) else x )\n",
    "df[\"Students_Confident_in_Science\"].value_counts()\n",
    "\n"
   ],
   "id": "5d1dd56dc6752fb8",
   "outputs": [
    {
     "data": {
      "text/plain": [
       "Students_Confident_in_Science\n",
       "Not Confident          1657\n",
       "Some what confident    1581\n",
       "Very confident          637\n",
       "Name: count, dtype: int64"
      ]
     },
     "execution_count": 161,
     "metadata": {},
     "output_type": "execute_result"
    }
   ],
   "execution_count": 161
  },
  {
   "metadata": {},
   "cell_type": "markdown",
   "source": "### 5.3.1 Gender and Confidence in Mathematics",
   "id": "a3ad2d37686bb4f4"
  },
  {
   "metadata": {},
   "cell_type": "markdown",
   "source": "#### 5.3.1.1 Gender wise distribution of students are confident Mathematics",
   "id": "3ff58f7468617b5b"
  },
  {
   "metadata": {
    "ExecuteTime": {
     "end_time": "2025-03-20T21:02:19.621014Z",
     "start_time": "2025-03-20T21:02:19.597914Z"
    }
   },
   "cell_type": "code",
   "source": [
    "ver_much_like = df[\"Students_Confident_in_Mathematics\"].str.contains(\"Very\")\n",
    "some_what_like = df[\"Students_Confident_in_Mathematics\"].str.contains(\"Some\")\n",
    "confident_in_maths  = df[ver_much_like | some_what_like]\n",
    "confident_in_maths.groupby(\"Gender_Student\" , observed=False)[\"Gender_Student\"].describe()\n"
   ],
   "id": "e792dc86cb56506",
   "outputs": [
    {
     "data": {
      "text/plain": [
       "               count unique     top  freq\n",
       "Gender_Student                           \n",
       "Others            56      1  Others    56\n",
       "Boy             1068      1     Boy  1068\n",
       "Girl             841      1    Girl   841"
      ],
      "text/html": [
       "<div>\n",
       "<style scoped>\n",
       "    .dataframe tbody tr th:only-of-type {\n",
       "        vertical-align: middle;\n",
       "    }\n",
       "\n",
       "    .dataframe tbody tr th {\n",
       "        vertical-align: top;\n",
       "    }\n",
       "\n",
       "    .dataframe thead th {\n",
       "        text-align: right;\n",
       "    }\n",
       "</style>\n",
       "<table border=\"1\" class=\"dataframe\">\n",
       "  <thead>\n",
       "    <tr style=\"text-align: right;\">\n",
       "      <th></th>\n",
       "      <th>count</th>\n",
       "      <th>unique</th>\n",
       "      <th>top</th>\n",
       "      <th>freq</th>\n",
       "    </tr>\n",
       "    <tr>\n",
       "      <th>Gender_Student</th>\n",
       "      <th></th>\n",
       "      <th></th>\n",
       "      <th></th>\n",
       "      <th></th>\n",
       "    </tr>\n",
       "  </thead>\n",
       "  <tbody>\n",
       "    <tr>\n",
       "      <th>Others</th>\n",
       "      <td>56</td>\n",
       "      <td>1</td>\n",
       "      <td>Others</td>\n",
       "      <td>56</td>\n",
       "    </tr>\n",
       "    <tr>\n",
       "      <th>Boy</th>\n",
       "      <td>1068</td>\n",
       "      <td>1</td>\n",
       "      <td>Boy</td>\n",
       "      <td>1068</td>\n",
       "    </tr>\n",
       "    <tr>\n",
       "      <th>Girl</th>\n",
       "      <td>841</td>\n",
       "      <td>1</td>\n",
       "      <td>Girl</td>\n",
       "      <td>841</td>\n",
       "    </tr>\n",
       "  </tbody>\n",
       "</table>\n",
       "</div>"
      ]
     },
     "execution_count": 162,
     "metadata": {},
     "output_type": "execute_result"
    }
   ],
   "execution_count": 162
  },
  {
   "metadata": {
    "ExecuteTime": {
     "end_time": "2025-03-20T21:02:19.966191Z",
     "start_time": "2025-03-20T21:02:19.822417Z"
    }
   },
   "cell_type": "code",
   "source": [
    "fig = plt.figure(figsize=(10,5))\n",
    "sns.countplot(data=confident_in_maths, x=\"Gender_Student\", color=\"b\")\n",
    "plt.tight_layout()\n",
    "plt.show()"
   ],
   "id": "660ab6cd3c47f9ff",
   "outputs": [
    {
     "data": {
      "text/plain": [
       "<Figure size 1000x500 with 1 Axes>"
      ],
      "image/png": "[encoded data removed]"
     },
     "metadata": {},
     "output_type": "display_data"
    }
   ],
   "execution_count": 163
  },
  {
   "metadata": {},
   "cell_type": "markdown",
   "source": "##### 5.3.1.1.1 Percentage of boys, who are confident in mathematics",
   "id": "3ef1f57f6323de0b"
  },
  {
   "metadata": {
    "ExecuteTime": {
     "end_time": "2025-03-20T21:02:20.179322Z",
     "start_time": "2025-03-20T21:02:20.167193Z"
    }
   },
   "cell_type": "code",
   "source": "utils.getPercentageByGender(confident_in_maths,df,\"Boy\")",
   "id": "34102112241ddfd7",
   "outputs": [
    {
     "name": "stdout",
     "output_type": "stream",
     "text": [
      "0.5556711758584808\n"
     ]
    }
   ],
   "execution_count": 164
  },
  {
   "metadata": {},
   "cell_type": "markdown",
   "source": "##### 5.3.1.1.2 Percentage of girls, who are confident in mathematics",
   "id": "7fd78eea61d42e7d"
  },
  {
   "metadata": {
    "ExecuteTime": {
     "end_time": "2025-03-20T21:02:20.262576Z",
     "start_time": "2025-03-20T21:02:20.247657Z"
    }
   },
   "cell_type": "code",
   "source": "utils.getPercentageByGender(confident_in_maths,df,\"Girl\")",
   "id": "76026995447f2468",
   "outputs": [
    {
     "name": "stdout",
     "output_type": "stream",
     "text": [
      "0.4573137574768896\n"
     ]
    }
   ],
   "execution_count": 165
  },
  {
   "metadata": {},
   "cell_type": "markdown",
   "source": "#### 5.3.1.2 Gender wise distribution of students who are not confident in Mathematics",
   "id": "fa421859d7a48939"
  },
  {
   "metadata": {
    "ExecuteTime": {
     "end_time": "2025-03-20T21:02:20.509897Z",
     "start_time": "2025-03-20T21:02:20.482316Z"
    }
   },
   "cell_type": "code",
   "source": [
    "not_confident = df[\"Students_Confident_in_Mathematics\"].str.contains(\"Not\")\n",
    "not_confident_in_maths  = df[not_confident]\n",
    "not_confident_in_maths.groupby(\"Gender_Student\" , observed=False)[\"Gender_Student\"].describe()\n"
   ],
   "id": "5b513ca68072f9cc",
   "outputs": [
    {
     "data": {
      "text/plain": [
       "               count unique     top freq\n",
       "Gender_Student                          \n",
       "Others            58      1  Others   58\n",
       "Boy              854      1     Boy  854\n",
       "Girl             998      1    Girl  998"
      ],
      "text/html": [
       "<div>\n",
       "<style scoped>\n",
       "    .dataframe tbody tr th:only-of-type {\n",
       "        vertical-align: middle;\n",
       "    }\n",
       "\n",
       "    .dataframe tbody tr th {\n",
       "        vertical-align: top;\n",
       "    }\n",
       "\n",
       "    .dataframe thead th {\n",
       "        text-align: right;\n",
       "    }\n",
       "</style>\n",
       "<table border=\"1\" class=\"dataframe\">\n",
       "  <thead>\n",
       "    <tr style=\"text-align: right;\">\n",
       "      <th></th>\n",
       "      <th>count</th>\n",
       "      <th>unique</th>\n",
       "      <th>top</th>\n",
       "      <th>freq</th>\n",
       "    </tr>\n",
       "    <tr>\n",
       "      <th>Gender_Student</th>\n",
       "      <th></th>\n",
       "      <th></th>\n",
       "      <th></th>\n",
       "      <th></th>\n",
       "    </tr>\n",
       "  </thead>\n",
       "  <tbody>\n",
       "    <tr>\n",
       "      <th>Others</th>\n",
       "      <td>58</td>\n",
       "      <td>1</td>\n",
       "      <td>Others</td>\n",
       "      <td>58</td>\n",
       "    </tr>\n",
       "    <tr>\n",
       "      <th>Boy</th>\n",
       "      <td>854</td>\n",
       "      <td>1</td>\n",
       "      <td>Boy</td>\n",
       "      <td>854</td>\n",
       "    </tr>\n",
       "    <tr>\n",
       "      <th>Girl</th>\n",
       "      <td>998</td>\n",
       "      <td>1</td>\n",
       "      <td>Girl</td>\n",
       "      <td>998</td>\n",
       "    </tr>\n",
       "  </tbody>\n",
       "</table>\n",
       "</div>"
      ]
     },
     "execution_count": 166,
     "metadata": {},
     "output_type": "execute_result"
    }
   ],
   "execution_count": 166
  },
  {
   "metadata": {},
   "cell_type": "markdown",
   "source": "##### 5.3.1.2.1 Percentage of boys, who are not confident mathematics",
   "id": "b456b5a58082e78a"
  },
  {
   "metadata": {
    "ExecuteTime": {
     "end_time": "2025-03-20T21:02:20.763620Z",
     "start_time": "2025-03-20T21:02:20.749246Z"
    }
   },
   "cell_type": "code",
   "source": "utils.getPercentageByGender(not_confident_in_maths,df,\"Boy\")",
   "id": "3fc79755de37ad0f",
   "outputs": [
    {
     "name": "stdout",
     "output_type": "stream",
     "text": [
      "0.44432882414151925\n"
     ]
    }
   ],
   "execution_count": 167
  },
  {
   "metadata": {},
   "cell_type": "markdown",
   "source": "##### 5.3.1.2.2 Percentage of girls, who are not confident in mathematics",
   "id": "df0ed8eb02140e8f"
  },
  {
   "metadata": {
    "ExecuteTime": {
     "end_time": "2025-03-20T21:02:20.891369Z",
     "start_time": "2025-03-20T21:02:20.877978Z"
    }
   },
   "cell_type": "code",
   "source": "utils.getPercentageByGender(not_confident_in_maths,df,\"Girl\")",
   "id": "90780533f69d682f",
   "outputs": [
    {
     "name": "stdout",
     "output_type": "stream",
     "text": [
      "0.5426862425231104\n"
     ]
    }
   ],
   "execution_count": 168
  },
  {
   "metadata": {},
   "cell_type": "markdown",
   "source": "### 5.3.2 Gender and Confidence in Science",
   "id": "9e7116b76390f0ae"
  },
  {
   "metadata": {},
   "cell_type": "markdown",
   "source": "#### 5.3.2.1 Gender wise distriibution of students who like Science",
   "id": "6521657bb58783fe"
  },
  {
   "metadata": {
    "ExecuteTime": {
     "end_time": "2025-03-20T21:02:21.106022Z",
     "start_time": "2025-03-20T21:02:21.082263Z"
    }
   },
   "cell_type": "code",
   "source": [
    "ver_much_like = df[\"Students_Confident_in_Science\"].str.contains(\"Very\")\n",
    "some_what_like = df[\"Students_Confident_in_Science\"].str.contains(\"Some\")\n",
    "confident_in_science  = df[ver_much_like | some_what_like]\n",
    "confident_in_science.groupby(\"Gender_Student\" , observed=False)[\"Gender_Student\"].describe()\n"
   ],
   "id": "4c7b06e41e6c5cf0",
   "outputs": [
    {
     "data": {
      "text/plain": [
       "               count unique     top  freq\n",
       "Gender_Student                           \n",
       "Others            69      1  Others    69\n",
       "Boy             1187      1     Boy  1187\n",
       "Girl             962      1    Girl   962"
      ],
      "text/html": [
       "<div>\n",
       "<style scoped>\n",
       "    .dataframe tbody tr th:only-of-type {\n",
       "        vertical-align: middle;\n",
       "    }\n",
       "\n",
       "    .dataframe tbody tr th {\n",
       "        vertical-align: top;\n",
       "    }\n",
       "\n",
       "    .dataframe thead th {\n",
       "        text-align: right;\n",
       "    }\n",
       "</style>\n",
       "<table border=\"1\" class=\"dataframe\">\n",
       "  <thead>\n",
       "    <tr style=\"text-align: right;\">\n",
       "      <th></th>\n",
       "      <th>count</th>\n",
       "      <th>unique</th>\n",
       "      <th>top</th>\n",
       "      <th>freq</th>\n",
       "    </tr>\n",
       "    <tr>\n",
       "      <th>Gender_Student</th>\n",
       "      <th></th>\n",
       "      <th></th>\n",
       "      <th></th>\n",
       "      <th></th>\n",
       "    </tr>\n",
       "  </thead>\n",
       "  <tbody>\n",
       "    <tr>\n",
       "      <th>Others</th>\n",
       "      <td>69</td>\n",
       "      <td>1</td>\n",
       "      <td>Others</td>\n",
       "      <td>69</td>\n",
       "    </tr>\n",
       "    <tr>\n",
       "      <th>Boy</th>\n",
       "      <td>1187</td>\n",
       "      <td>1</td>\n",
       "      <td>Boy</td>\n",
       "      <td>1187</td>\n",
       "    </tr>\n",
       "    <tr>\n",
       "      <th>Girl</th>\n",
       "      <td>962</td>\n",
       "      <td>1</td>\n",
       "      <td>Girl</td>\n",
       "      <td>962</td>\n",
       "    </tr>\n",
       "  </tbody>\n",
       "</table>\n",
       "</div>"
      ]
     },
     "execution_count": 169,
     "metadata": {},
     "output_type": "execute_result"
    }
   ],
   "execution_count": 169
  },
  {
   "metadata": {
    "ExecuteTime": {
     "end_time": "2025-03-20T21:02:21.528406Z",
     "start_time": "2025-03-20T21:02:21.365195Z"
    }
   },
   "cell_type": "code",
   "source": [
    "fig = plt.figure(figsize=(10,5))\n",
    "sns.countplot(data=confident_in_science, x=\"Gender_Student\", color=\"b\")\n",
    "plt.tight_layout()\n",
    "plt.show()"
   ],
   "id": "bd22ca338fbc76a9",
   "outputs": [
    {
     "data": {
      "text/plain": [
       "<Figure size 1000x500 with 1 Axes>"
      ],
      "image/png": "[encoded data removed]"
     },
     "metadata": {},
     "output_type": "display_data"
    }
   ],
   "execution_count": 170
  },
  {
   "metadata": {},
   "cell_type": "markdown",
   "source": [
    "\n",
    "##### 5.3.2.1.1 Percentage of boys who like learning science"
   ],
   "id": "4f473af0d7b916cc"
  },
  {
   "metadata": {
    "ExecuteTime": {
     "end_time": "2025-03-20T21:02:21.591524Z",
     "start_time": "2025-03-20T21:02:21.579957Z"
    }
   },
   "cell_type": "code",
   "source": "utils.getPercentageByGender(confident_in_science,df,\"Boy\")",
   "id": "295380da2dc6c654",
   "outputs": [
    {
     "name": "stdout",
     "output_type": "stream",
     "text": [
      "0.617585848074922\n"
     ]
    }
   ],
   "execution_count": 171
  },
  {
   "metadata": {},
   "cell_type": "markdown",
   "source": "##### 5.3.2.1.2 Percentage of girls who like learning science",
   "id": "e16d46ac84d5de8e"
  },
  {
   "metadata": {
    "ExecuteTime": {
     "end_time": "2025-03-20T21:02:21.699986Z",
     "start_time": "2025-03-20T21:02:21.685591Z"
    }
   },
   "cell_type": "code",
   "source": "utils.getPercentageByGender(confident_in_science,df,\"Girl\")",
   "id": "2bcbd0c1380f4011",
   "outputs": [
    {
     "name": "stdout",
     "output_type": "stream",
     "text": [
      "0.523110386079391\n"
     ]
    }
   ],
   "execution_count": 172
  },
  {
   "metadata": {},
   "cell_type": "markdown",
   "source": "#### 5.3.2.2 Gender wise distriibution of students, who are not confident in Science",
   "id": "f9a16ca54b804d09"
  },
  {
   "metadata": {
    "ExecuteTime": {
     "end_time": "2025-03-20T21:02:21.942458Z",
     "start_time": "2025-03-20T21:02:21.917899Z"
    }
   },
   "cell_type": "code",
   "source": [
    "not_confident = df[\"Students_Confident_in_Science\"].str.contains(\"Not\")\n",
    "not_confident_in_science  = df[not_confident]\n",
    "not_confident_in_science.groupby(\"Gender_Student\" , observed=False)[\"Gender_Student\"].describe()\n"
   ],
   "id": "995acf3fdc0e22fb",
   "outputs": [
    {
     "data": {
      "text/plain": [
       "               count unique     top freq\n",
       "Gender_Student                          \n",
       "Others            45      1  Others   45\n",
       "Boy              735      1     Boy  735\n",
       "Girl             877      1    Girl  877"
      ],
      "text/html": [
       "<div>\n",
       "<style scoped>\n",
       "    .dataframe tbody tr th:only-of-type {\n",
       "        vertical-align: middle;\n",
       "    }\n",
       "\n",
       "    .dataframe tbody tr th {\n",
       "        vertical-align: top;\n",
       "    }\n",
       "\n",
       "    .dataframe thead th {\n",
       "        text-align: right;\n",
       "    }\n",
       "</style>\n",
       "<table border=\"1\" class=\"dataframe\">\n",
       "  <thead>\n",
       "    <tr style=\"text-align: right;\">\n",
       "      <th></th>\n",
       "      <th>count</th>\n",
       "      <th>unique</th>\n",
       "      <th>top</th>\n",
       "      <th>freq</th>\n",
       "    </tr>\n",
       "    <tr>\n",
       "      <th>Gender_Student</th>\n",
       "      <th></th>\n",
       "      <th></th>\n",
       "      <th></th>\n",
       "      <th></th>\n",
       "    </tr>\n",
       "  </thead>\n",
       "  <tbody>\n",
       "    <tr>\n",
       "      <th>Others</th>\n",
       "      <td>45</td>\n",
       "      <td>1</td>\n",
       "      <td>Others</td>\n",
       "      <td>45</td>\n",
       "    </tr>\n",
       "    <tr>\n",
       "      <th>Boy</th>\n",
       "      <td>735</td>\n",
       "      <td>1</td>\n",
       "      <td>Boy</td>\n",
       "      <td>735</td>\n",
       "    </tr>\n",
       "    <tr>\n",
       "      <th>Girl</th>\n",
       "      <td>877</td>\n",
       "      <td>1</td>\n",
       "      <td>Girl</td>\n",
       "      <td>877</td>\n",
       "    </tr>\n",
       "  </tbody>\n",
       "</table>\n",
       "</div>"
      ]
     },
     "execution_count": 173,
     "metadata": {},
     "output_type": "execute_result"
    }
   ],
   "execution_count": 173
  },
  {
   "metadata": {
    "ExecuteTime": {
     "end_time": "2025-03-20T21:02:22.342372Z",
     "start_time": "2025-03-20T21:02:22.185567Z"
    }
   },
   "cell_type": "code",
   "source": [
    "fig = plt.figure(figsize=(10,5))\n",
    "sns.countplot(data=not_confident_in_science, x=\"Gender_Student\", color=\"b\")\n",
    "plt.tight_layout()\n",
    "plt.show()"
   ],
   "id": "c588a6f79065ac4a",
   "outputs": [
    {
     "data": {
      "text/plain": [
       "<Figure size 1000x500 with 1 Axes>"
      ],
      "image/png": "[encoded data removed]"
     },
     "metadata": {},
     "output_type": "display_data"
    }
   ],
   "execution_count": 174
  },
  {
   "metadata": {},
   "cell_type": "markdown",
   "source": [
    "\n",
    "##### 5.3.2.2.1 Percentage of boys not confident in science"
   ],
   "id": "a026e789e1464374"
  },
  {
   "metadata": {
    "ExecuteTime": {
     "end_time": "2025-03-20T21:02:22.407680Z",
     "start_time": "2025-03-20T21:02:22.392218Z"
    }
   },
   "cell_type": "code",
   "source": "utils.getPercentageByGender(not_confident_in_science,df,\"Boy\")",
   "id": "cfbb865a52542e37",
   "outputs": [
    {
     "name": "stdout",
     "output_type": "stream",
     "text": [
      "0.38241415192507805\n"
     ]
    }
   ],
   "execution_count": 175
  },
  {
   "metadata": {},
   "cell_type": "markdown",
   "source": [
    "\n",
    "##### 5.2.2.2.2 Percentage of girls don't like learning science"
   ],
   "id": "20efa1c77cf62d0d"
  },
  {
   "metadata": {
    "ExecuteTime": {
     "end_time": "2025-03-20T21:02:22.501199Z",
     "start_time": "2025-03-20T21:02:22.487462Z"
    }
   },
   "cell_type": "code",
   "source": "utils.getPercentageByGender(not_confident_in_science,df,\"Girl\")",
   "id": "8a63fa3d76eed9ed",
   "outputs": [
    {
     "name": "stdout",
     "output_type": "stream",
     "text": [
      "0.476889613920609\n"
     ]
    }
   ],
   "execution_count": 176
  },
  {
   "metadata": {},
   "cell_type": "markdown",
   "source": "## 5.4 Subject Clarity  and Gender",
   "id": "58e96a96d0723ae9"
  },
  {
   "metadata": {
    "ExecuteTime": {
     "end_time": "2025-03-20T21:02:22.729903Z",
     "start_time": "2025-03-20T21:02:22.714697Z"
    }
   },
   "cell_type": "code",
   "source": [
    "clarity_mask = df.columns.str.contains(\"Clarity\")\n",
    "df[df.columns[clarity_mask]].value_counts()"
   ],
   "id": "f90c561476ae26bc",
   "outputs": [
    {
     "data": {
      "text/plain": [
       "Instructional_Clarity_in_Mathematics_Lessons  Instructional_Clarity_in_Science_Lessons\n",
       "High Clarity of Instruction                   High Clarity of Instruction                 920\n",
       "Moderate Clarity of Instruction               Moderate Clarity of Instruction             641\n",
       "                                              High Clarity of Instruction                 502\n",
       "High Clarity of Instruction                   Moderate Clarity of Instruction             480\n",
       "Low Clarity of Instruction                    High Clarity of Instruction                 311\n",
       "                                              Moderate Clarity of Instruction             285\n",
       "Moderate Clarity of Instruction               Low Clarity of Instruction                  257\n",
       "High Clarity of Instruction                   Low Clarity of Instruction                  252\n",
       "Low Clarity of Instruction                    Low Clarity of Instruction                  227\n",
       "Name: count, dtype: int64"
      ]
     },
     "execution_count": 177,
     "metadata": {},
     "output_type": "execute_result"
    }
   ],
   "execution_count": 177
  },
  {
   "metadata": {
    "ExecuteTime": {
     "end_time": "2025-03-20T21:02:22.982971Z",
     "start_time": "2025-03-20T21:02:22.966358Z"
    }
   },
   "cell_type": "code",
   "source": [
    "df[\"Instructional_Clarity_in_Mathematics_Lessons\"] = df[\"Instructional_Clarity_in_Mathematics_Lessons\"].apply(lambda x: \"High\" if \"High\" in str(x) else x )\n",
    "df[\"Instructional_Clarity_in_Mathematics_Lessons\"] = df[\"Instructional_Clarity_in_Mathematics_Lessons\"].apply(lambda x: \"Moderate\" if \"Moderate\" in str(x) else x )\n",
    "df[\"Instructional_Clarity_in_Mathematics_Lessons\"] = df[\"Instructional_Clarity_in_Mathematics_Lessons\"].apply(lambda x: \"Low\" if \"Low\" in str(x) else x )\n",
    "df[\"Instructional_Clarity_in_Mathematics_Lessons\"].value_counts()\n",
    "\n"
   ],
   "id": "277a95e0b47a87cd",
   "outputs": [
    {
     "data": {
      "text/plain": [
       "Instructional_Clarity_in_Mathematics_Lessons\n",
       "High        1652\n",
       "Moderate    1400\n",
       "Low          823\n",
       "Name: count, dtype: int64"
      ]
     },
     "execution_count": 178,
     "metadata": {},
     "output_type": "execute_result"
    }
   ],
   "execution_count": 178
  },
  {
   "metadata": {
    "ExecuteTime": {
     "end_time": "2025-03-20T21:02:23.142853Z",
     "start_time": "2025-03-20T21:02:23.128687Z"
    }
   },
   "cell_type": "code",
   "source": [
    "df[\"Instructional_Clarity_in_Science_Lessons\"] = df[\"Instructional_Clarity_in_Science_Lessons\"].apply(lambda x: \"High\" if \"High\" in str(x) else x )\n",
    "df[\"Instructional_Clarity_in_Science_Lessons\"] = df[\"Instructional_Clarity_in_Science_Lessons\"].apply(lambda x: \"Moderate\" if \"Moderate\" in str(x) else x )\n",
    "df[\"Instructional_Clarity_in_Science_Lessons\"] = df[\"Instructional_Clarity_in_Science_Lessons\"].apply(lambda x: \"Low\" if \"Low\" in str(x) else x )\n",
    "df[\"Instructional_Clarity_in_Science_Lessons\"].value_counts()\n",
    "\n"
   ],
   "id": "c7cb0fe7f3d0e29f",
   "outputs": [
    {
     "data": {
      "text/plain": [
       "Instructional_Clarity_in_Science_Lessons\n",
       "High        1733\n",
       "Moderate    1406\n",
       "Low          736\n",
       "Name: count, dtype: int64"
      ]
     },
     "execution_count": 179,
     "metadata": {},
     "output_type": "execute_result"
    }
   ],
   "execution_count": 179
  },
  {
   "metadata": {},
   "cell_type": "markdown",
   "source": "### 5.4.1 Gender and Clarity in Mathematics",
   "id": "cbc64f4ac50e6154"
  },
  {
   "metadata": {},
   "cell_type": "markdown",
   "source": "#### 5.4.1.1 Gender wise distribution of students with clarity in Mathmatics Lessons\n",
   "id": "9f31ea1ce17f1d1b"
  },
  {
   "metadata": {
    "ExecuteTime": {
     "end_time": "2025-03-20T21:02:23.383921Z",
     "start_time": "2025-03-20T21:02:23.359517Z"
    }
   },
   "cell_type": "code",
   "source": [
    "high_clarity = df[\"Instructional_Clarity_in_Mathematics_Lessons\"].str.contains(\"High\")\n",
    "moderate_clarity = df[\"Instructional_Clarity_in_Mathematics_Lessons\"].str.contains(\"Moderate\")\n",
    "clarity_in_maths  = df[high_clarity | moderate_clarity]\n",
    "clarity_in_maths.groupby(\"Gender_Student\" , observed=False)[\"Gender_Student\"].describe()\n"
   ],
   "id": "2c7d197b5de68203",
   "outputs": [
    {
     "data": {
      "text/plain": [
       "               count unique     top  freq\n",
       "Gender_Student                           \n",
       "Others            82      1  Others    82\n",
       "Boy             1577      1     Boy  1577\n",
       "Girl            1393      1    Girl  1393"
      ],
      "text/html": [
       "<div>\n",
       "<style scoped>\n",
       "    .dataframe tbody tr th:only-of-type {\n",
       "        vertical-align: middle;\n",
       "    }\n",
       "\n",
       "    .dataframe tbody tr th {\n",
       "        vertical-align: top;\n",
       "    }\n",
       "\n",
       "    .dataframe thead th {\n",
       "        text-align: right;\n",
       "    }\n",
       "</style>\n",
       "<table border=\"1\" class=\"dataframe\">\n",
       "  <thead>\n",
       "    <tr style=\"text-align: right;\">\n",
       "      <th></th>\n",
       "      <th>count</th>\n",
       "      <th>unique</th>\n",
       "      <th>top</th>\n",
       "      <th>freq</th>\n",
       "    </tr>\n",
       "    <tr>\n",
       "      <th>Gender_Student</th>\n",
       "      <th></th>\n",
       "      <th></th>\n",
       "      <th></th>\n",
       "      <th></th>\n",
       "    </tr>\n",
       "  </thead>\n",
       "  <tbody>\n",
       "    <tr>\n",
       "      <th>Others</th>\n",
       "      <td>82</td>\n",
       "      <td>1</td>\n",
       "      <td>Others</td>\n",
       "      <td>82</td>\n",
       "    </tr>\n",
       "    <tr>\n",
       "      <th>Boy</th>\n",
       "      <td>1577</td>\n",
       "      <td>1</td>\n",
       "      <td>Boy</td>\n",
       "      <td>1577</td>\n",
       "    </tr>\n",
       "    <tr>\n",
       "      <th>Girl</th>\n",
       "      <td>1393</td>\n",
       "      <td>1</td>\n",
       "      <td>Girl</td>\n",
       "      <td>1393</td>\n",
       "    </tr>\n",
       "  </tbody>\n",
       "</table>\n",
       "</div>"
      ]
     },
     "execution_count": 180,
     "metadata": {},
     "output_type": "execute_result"
    }
   ],
   "execution_count": 180
  },
  {
   "metadata": {
    "ExecuteTime": {
     "end_time": "2025-03-20T21:02:23.770065Z",
     "start_time": "2025-03-20T21:02:23.592549Z"
    }
   },
   "cell_type": "code",
   "source": [
    "fig = plt.figure(figsize=(10,5))\n",
    "sns.countplot(data=clarity_in_maths, x=\"Gender_Student\", color=\"b\")\n",
    "plt.tight_layout()\n",
    "plt.show()"
   ],
   "id": "2228637c0d8b85ad",
   "outputs": [
    {
     "data": {
      "text/plain": [
       "<Figure size 1000x500 with 1 Axes>"
      ],
      "image/png": "[encoded data removed]"
     },
     "metadata": {},
     "output_type": "display_data"
    }
   ],
   "execution_count": 181
  },
  {
   "metadata": {},
   "cell_type": "markdown",
   "source": "##### 5.4.1.1.1 Percentage of boys, who are confident in mathematics",
   "id": "20abfb55f1f9eac3"
  },
  {
   "metadata": {
    "ExecuteTime": {
     "end_time": "2025-03-20T21:02:23.914430Z",
     "start_time": "2025-03-20T21:02:23.901208Z"
    }
   },
   "cell_type": "code",
   "source": "utils.getPercentageByGender(clarity_in_maths,df,\"Boy\")",
   "id": "fb97b2c9ae2b8f6f",
   "outputs": [
    {
     "name": "stdout",
     "output_type": "stream",
     "text": [
      "0.8204994797086368\n"
     ]
    }
   ],
   "execution_count": 182
  },
  {
   "metadata": {},
   "cell_type": "markdown",
   "source": "##### 5.3.1.1.2 Percentage of girls, who are confident in mathematics",
   "id": "45e5045b9ac4019f"
  },
  {
   "metadata": {
    "ExecuteTime": {
     "end_time": "2025-03-20T21:02:24.063642Z",
     "start_time": "2025-03-20T21:02:24.052506Z"
    }
   },
   "cell_type": "code",
   "source": "utils.getPercentageByGender(clarity_in_maths,df,\"Girl\")",
   "id": "2887a08208159193",
   "outputs": [
    {
     "name": "stdout",
     "output_type": "stream",
     "text": [
      "0.7574768896139206\n"
     ]
    }
   ],
   "execution_count": 183
  },
  {
   "metadata": {},
   "cell_type": "markdown",
   "source": "#### 5.4.1.2 Gender wise distribution of students who do not have clarity in Mathematics",
   "id": "c3c209d4a91c6184"
  },
  {
   "metadata": {
    "ExecuteTime": {
     "end_time": "2025-03-20T21:02:24.342962Z",
     "start_time": "2025-03-20T21:02:24.319822Z"
    }
   },
   "cell_type": "code",
   "source": [
    "no_clarity = df[\"Instructional_Clarity_in_Mathematics_Lessons\"].str.contains(\"Low\")\n",
    "not_clear_in_maths  = df[no_clarity]\n",
    "not_clear_in_maths.groupby(\"Gender_Student\" , observed=False)[\"Gender_Student\"].describe()\n"
   ],
   "id": "85eb417f071f585f",
   "outputs": [
    {
     "data": {
      "text/plain": [
       "               count unique     top freq\n",
       "Gender_Student                          \n",
       "Others            32      1  Others   32\n",
       "Boy              345      1     Boy  345\n",
       "Girl             446      1    Girl  446"
      ],
      "text/html": [
       "<div>\n",
       "<style scoped>\n",
       "    .dataframe tbody tr th:only-of-type {\n",
       "        vertical-align: middle;\n",
       "    }\n",
       "\n",
       "    .dataframe tbody tr th {\n",
       "        vertical-align: top;\n",
       "    }\n",
       "\n",
       "    .dataframe thead th {\n",
       "        text-align: right;\n",
       "    }\n",
       "</style>\n",
       "<table border=\"1\" class=\"dataframe\">\n",
       "  <thead>\n",
       "    <tr style=\"text-align: right;\">\n",
       "      <th></th>\n",
       "      <th>count</th>\n",
       "      <th>unique</th>\n",
       "      <th>top</th>\n",
       "      <th>freq</th>\n",
       "    </tr>\n",
       "    <tr>\n",
       "      <th>Gender_Student</th>\n",
       "      <th></th>\n",
       "      <th></th>\n",
       "      <th></th>\n",
       "      <th></th>\n",
       "    </tr>\n",
       "  </thead>\n",
       "  <tbody>\n",
       "    <tr>\n",
       "      <th>Others</th>\n",
       "      <td>32</td>\n",
       "      <td>1</td>\n",
       "      <td>Others</td>\n",
       "      <td>32</td>\n",
       "    </tr>\n",
       "    <tr>\n",
       "      <th>Boy</th>\n",
       "      <td>345</td>\n",
       "      <td>1</td>\n",
       "      <td>Boy</td>\n",
       "      <td>345</td>\n",
       "    </tr>\n",
       "    <tr>\n",
       "      <th>Girl</th>\n",
       "      <td>446</td>\n",
       "      <td>1</td>\n",
       "      <td>Girl</td>\n",
       "      <td>446</td>\n",
       "    </tr>\n",
       "  </tbody>\n",
       "</table>\n",
       "</div>"
      ]
     },
     "execution_count": 184,
     "metadata": {},
     "output_type": "execute_result"
    }
   ],
   "execution_count": 184
  },
  {
   "metadata": {},
   "cell_type": "markdown",
   "source": "##### 5.4.1.2.1 Percentage of boys, who are not confident mathematics",
   "id": "d1954a7cc0ad4724"
  },
  {
   "metadata": {
    "ExecuteTime": {
     "end_time": "2025-03-20T21:02:24.612576Z",
     "start_time": "2025-03-20T21:02:24.600975Z"
    }
   },
   "cell_type": "code",
   "source": "utils.getPercentageByGender(not_clear_in_maths,df,\"Boy\")",
   "id": "b15ea5b8830c069b",
   "outputs": [
    {
     "name": "stdout",
     "output_type": "stream",
     "text": [
      "0.17950052029136315\n"
     ]
    }
   ],
   "execution_count": 185
  },
  {
   "metadata": {},
   "cell_type": "markdown",
   "source": "##### 5.4.1.2.2 Percentage of girls, who are not confident in mathematics",
   "id": "dec78a1d39d05f34"
  },
  {
   "metadata": {
    "ExecuteTime": {
     "end_time": "2025-03-20T21:02:24.776862Z",
     "start_time": "2025-03-20T21:02:24.762340Z"
    }
   },
   "cell_type": "code",
   "source": "utils.getPercentageByGender(not_clear_in_maths,df,\"Girl\")",
   "id": "20b29e40d0d03612",
   "outputs": [
    {
     "name": "stdout",
     "output_type": "stream",
     "text": [
      "0.2425231103860794\n"
     ]
    }
   ],
   "execution_count": 186
  },
  {
   "metadata": {},
   "cell_type": "markdown",
   "source": "### 5.4.2 Gender and Likeness for Science",
   "id": "ea0db2d197156511"
  },
  {
   "metadata": {},
   "cell_type": "markdown",
   "source": "#### 5.4.2.1 Gender wise distriibution of students who like Science",
   "id": "2f6a75cd4199ea7f"
  },
  {
   "metadata": {
    "ExecuteTime": {
     "end_time": "2025-03-20T21:02:24.882471Z",
     "start_time": "2025-03-20T21:02:24.852352Z"
    }
   },
   "cell_type": "code",
   "source": [
    "ver_much_clear = df[\"Instructional_Clarity_in_Science_Lessons\"].str.contains(\"High\")\n",
    "some_what_clear = df[\"Instructional_Clarity_in_Science_Lessons\"].str.contains(\"Moderate\")\n",
    "clear_in_science  = df[ver_much_clear | some_what_clear]\n",
    "clear_in_science.groupby(\"Gender_Student\" , observed=False)[\"Gender_Student\"].describe()\n"
   ],
   "id": "a938c16fff31897",
   "outputs": [
    {
     "data": {
      "text/plain": [
       "               count unique     top  freq\n",
       "Gender_Student                           \n",
       "Others            87      1  Others    87\n",
       "Boy             1610      1     Boy  1610\n",
       "Girl            1442      1    Girl  1442"
      ],
      "text/html": [
       "<div>\n",
       "<style scoped>\n",
       "    .dataframe tbody tr th:only-of-type {\n",
       "        vertical-align: middle;\n",
       "    }\n",
       "\n",
       "    .dataframe tbody tr th {\n",
       "        vertical-align: top;\n",
       "    }\n",
       "\n",
       "    .dataframe thead th {\n",
       "        text-align: right;\n",
       "    }\n",
       "</style>\n",
       "<table border=\"1\" class=\"dataframe\">\n",
       "  <thead>\n",
       "    <tr style=\"text-align: right;\">\n",
       "      <th></th>\n",
       "      <th>count</th>\n",
       "      <th>unique</th>\n",
       "      <th>top</th>\n",
       "      <th>freq</th>\n",
       "    </tr>\n",
       "    <tr>\n",
       "      <th>Gender_Student</th>\n",
       "      <th></th>\n",
       "      <th></th>\n",
       "      <th></th>\n",
       "      <th></th>\n",
       "    </tr>\n",
       "  </thead>\n",
       "  <tbody>\n",
       "    <tr>\n",
       "      <th>Others</th>\n",
       "      <td>87</td>\n",
       "      <td>1</td>\n",
       "      <td>Others</td>\n",
       "      <td>87</td>\n",
       "    </tr>\n",
       "    <tr>\n",
       "      <th>Boy</th>\n",
       "      <td>1610</td>\n",
       "      <td>1</td>\n",
       "      <td>Boy</td>\n",
       "      <td>1610</td>\n",
       "    </tr>\n",
       "    <tr>\n",
       "      <th>Girl</th>\n",
       "      <td>1442</td>\n",
       "      <td>1</td>\n",
       "      <td>Girl</td>\n",
       "      <td>1442</td>\n",
       "    </tr>\n",
       "  </tbody>\n",
       "</table>\n",
       "</div>"
      ]
     },
     "execution_count": 187,
     "metadata": {},
     "output_type": "execute_result"
    }
   ],
   "execution_count": 187
  },
  {
   "metadata": {
    "ExecuteTime": {
     "end_time": "2025-03-20T21:02:25.366685Z",
     "start_time": "2025-03-20T21:02:25.179511Z"
    }
   },
   "cell_type": "code",
   "source": [
    "fig = plt.figure(figsize=(10,5))\n",
    "sns.countplot(data=clear_in_science, x=\"Gender_Student\", color=\"b\")\n",
    "plt.tight_layout()\n",
    "plt.show()"
   ],
   "id": "3e3e05675af1f08b",
   "outputs": [
    {
     "data": {
      "text/plain": [
       "<Figure size 1000x500 with 1 Axes>"
      ],
      "image/png": "[encoded data removed]"
     },
     "metadata": {},
     "output_type": "display_data"
    }
   ],
   "execution_count": 188
  },
  {
   "metadata": {},
   "cell_type": "markdown",
   "source": [
    "\n",
    "##### 5.4.2.1.1 Percentage of boys who like learning science"
   ],
   "id": "59b4dab25686ba96"
  },
  {
   "metadata": {
    "ExecuteTime": {
     "end_time": "2025-03-20T21:02:25.563652Z",
     "start_time": "2025-03-20T21:02:25.547542Z"
    }
   },
   "cell_type": "code",
   "source": "utils.getPercentageByGender(clear_in_science,df,\"Boy\")",
   "id": "3f467f87398f4a87",
   "outputs": [
    {
     "name": "stdout",
     "output_type": "stream",
     "text": [
      "0.8376690946930281\n"
     ]
    }
   ],
   "execution_count": 189
  },
  {
   "metadata": {},
   "cell_type": "markdown",
   "source": "##### 5.4.2.1.2 Percentage of girls who like learning science",
   "id": "f97c45adcbbe98d1"
  },
  {
   "metadata": {
    "ExecuteTime": {
     "end_time": "2025-03-20T21:02:25.630574Z",
     "start_time": "2025-03-20T21:02:25.617442Z"
    }
   },
   "cell_type": "code",
   "source": "utils.getPercentageByGender(clear_in_science,df,\"Girl\")",
   "id": "fd27fa94b6b34a3d",
   "outputs": [
    {
     "name": "stdout",
     "output_type": "stream",
     "text": [
      "0.7841218053289831\n"
     ]
    }
   ],
   "execution_count": 190
  },
  {
   "metadata": {},
   "cell_type": "markdown",
   "source": "#### 5.4.2.2 Gender wise distriibution of students, who are not confident in Science",
   "id": "494906da92884024"
  },
  {
   "metadata": {
    "ExecuteTime": {
     "end_time": "2025-03-20T21:02:25.886121Z",
     "start_time": "2025-03-20T21:02:25.859280Z"
    }
   },
   "cell_type": "code",
   "source": [
    "not_clear_in_science_mask = df[\"Students_Confident_in_Science\"].str.contains(\"Not\")\n",
    "not_clear_in_science  = df[not_clear_in_science_mask]\n",
    "not_clear_in_science.groupby(\"Gender_Student\" , observed=False)[\"Gender_Student\"].describe()\n"
   ],
   "id": "f3dac505aa1592cc",
   "outputs": [
    {
     "data": {
      "text/plain": [
       "               count unique     top freq\n",
       "Gender_Student                          \n",
       "Others            45      1  Others   45\n",
       "Boy              735      1     Boy  735\n",
       "Girl             877      1    Girl  877"
      ],
      "text/html": [
       "<div>\n",
       "<style scoped>\n",
       "    .dataframe tbody tr th:only-of-type {\n",
       "        vertical-align: middle;\n",
       "    }\n",
       "\n",
       "    .dataframe tbody tr th {\n",
       "        vertical-align: top;\n",
       "    }\n",
       "\n",
       "    .dataframe thead th {\n",
       "        text-align: right;\n",
       "    }\n",
       "</style>\n",
       "<table border=\"1\" class=\"dataframe\">\n",
       "  <thead>\n",
       "    <tr style=\"text-align: right;\">\n",
       "      <th></th>\n",
       "      <th>count</th>\n",
       "      <th>unique</th>\n",
       "      <th>top</th>\n",
       "      <th>freq</th>\n",
       "    </tr>\n",
       "    <tr>\n",
       "      <th>Gender_Student</th>\n",
       "      <th></th>\n",
       "      <th></th>\n",
       "      <th></th>\n",
       "      <th></th>\n",
       "    </tr>\n",
       "  </thead>\n",
       "  <tbody>\n",
       "    <tr>\n",
       "      <th>Others</th>\n",
       "      <td>45</td>\n",
       "      <td>1</td>\n",
       "      <td>Others</td>\n",
       "      <td>45</td>\n",
       "    </tr>\n",
       "    <tr>\n",
       "      <th>Boy</th>\n",
       "      <td>735</td>\n",
       "      <td>1</td>\n",
       "      <td>Boy</td>\n",
       "      <td>735</td>\n",
       "    </tr>\n",
       "    <tr>\n",
       "      <th>Girl</th>\n",
       "      <td>877</td>\n",
       "      <td>1</td>\n",
       "      <td>Girl</td>\n",
       "      <td>877</td>\n",
       "    </tr>\n",
       "  </tbody>\n",
       "</table>\n",
       "</div>"
      ]
     },
     "execution_count": 191,
     "metadata": {},
     "output_type": "execute_result"
    }
   ],
   "execution_count": 191
  },
  {
   "metadata": {
    "ExecuteTime": {
     "end_time": "2025-03-20T21:02:26.281145Z",
     "start_time": "2025-03-20T21:02:26.144494Z"
    }
   },
   "cell_type": "code",
   "source": [
    "fig = plt.figure(figsize=(10,5))\n",
    "sns.countplot(data=not_clear_in_science, x=\"Gender_Student\", color=\"b\")\n",
    "plt.tight_layout()\n",
    "plt.show()"
   ],
   "id": "67eb64bb3ceee768",
   "outputs": [
    {
     "data": {
      "text/plain": [
       "<Figure size 1000x500 with 1 Axes>"
      ],
      "image/png": "[encoded data removed]"
     },
     "metadata": {},
     "output_type": "display_data"
    }
   ],
   "execution_count": 192
  },
  {
   "metadata": {},
   "cell_type": "markdown",
   "source": [
    "\n",
    "##### 5.4.2.2.1 Percentage of boys not confident in science"
   ],
   "id": "ff2a582b24cc750c"
  },
  {
   "metadata": {
    "ExecuteTime": {
     "end_time": "2025-03-20T21:02:26.342601Z",
     "start_time": "2025-03-20T21:02:26.330568Z"
    }
   },
   "cell_type": "code",
   "source": "utils.getPercentageByGender(not_clear_in_science,df,\"Boy\")",
   "id": "df1846f7712a7d7",
   "outputs": [
    {
     "name": "stdout",
     "output_type": "stream",
     "text": [
      "0.38241415192507805\n"
     ]
    }
   ],
   "execution_count": 193
  },
  {
   "metadata": {},
   "cell_type": "markdown",
   "source": [
    "\n",
    "##### 5.3.2.2.2 Percentage of girls don't like learning science"
   ],
   "id": "33f20a873b9ae557"
  },
  {
   "metadata": {
    "ExecuteTime": {
     "end_time": "2025-03-20T21:02:26.446284Z",
     "start_time": "2025-03-20T21:02:26.432523Z"
    }
   },
   "cell_type": "code",
   "source": "utils.getPercentageByGender(not_clear_in_science,df,\"Girl\")",
   "id": "6792a94ab38a3cab",
   "outputs": [
    {
     "name": "stdout",
     "output_type": "stream",
     "text": [
      "0.476889613920609\n"
     ]
    }
   ],
   "execution_count": 194
  },
  {
   "metadata": {},
   "cell_type": "markdown",
   "source": "## 5.5 Value for Subject, and Environmental Preservation and Gender",
   "id": "1ae0ff9c7cb99cc3"
  },
  {
   "metadata": {
    "ExecuteTime": {
     "end_time": "2025-03-20T21:02:26.708606Z",
     "start_time": "2025-03-20T21:02:26.693787Z"
    }
   },
   "cell_type": "code",
   "source": [
    "value_mask = df.columns.str.contains(\"Value\")\n",
    "print(df[df.columns[value_mask]].value_counts())"
   ],
   "id": "177ad7b9f06d5078",
   "outputs": [
    {
     "name": "stdout",
     "output_type": "stream",
     "text": [
      "Students_Value_Mathematics  Students_Value_Science  Students_Value_Environmental_Preservation\n",
      "Somewhat Value Mathematics  Somewhat Value Science  Strongly Value                               405\n",
      "                                                    Very Strongly Value                          403\n",
      "Do Not Value Mathematics    Do Not Value Science    Strongly Value                               316\n",
      "Somewhat Value Mathematics  Do Not Value Science    Strongly Value                               305\n",
      "Strongly Value Mathematics  Strongly Value Science  Very Strongly Value                          296\n",
      "Do Not Value Mathematics    Do Not Value Science    Very Strongly Value                          258\n",
      "Somewhat Value Mathematics  Strongly Value Science  Very Strongly Value                          203\n",
      "                            Do Not Value Science    Very Strongly Value                          188\n",
      "Strongly Value Mathematics  Somewhat Value Science  Very Strongly Value                          182\n",
      "                            Strongly Value Science  Strongly Value                               162\n",
      "Do Not Value Mathematics    Do Not Value Science    Somewhat Value                               150\n",
      "Strongly Value Mathematics  Somewhat Value Science  Strongly Value                               145\n",
      "Do Not Value Mathematics    Somewhat Value Science  Very Strongly Value                          121\n",
      "Somewhat Value Mathematics  Strongly Value Science  Strongly Value                               113\n",
      "Do Not Value Mathematics    Somewhat Value Science  Strongly Value                               113\n",
      "Somewhat Value Mathematics  Do Not Value Science    Somewhat Value                                93\n",
      "Strongly Value Mathematics  Do Not Value Science    Strongly Value                                91\n",
      "                                                    Very Strongly Value                           78\n",
      "Somewhat Value Mathematics  Somewhat Value Science  Somewhat Value                                61\n",
      "Do Not Value Mathematics    Somewhat Value Science  Somewhat Value                                36\n",
      "                            Strongly Value Science  Very Strongly Value                           30\n",
      "                                                    Strongly Value                                29\n",
      "Strongly Value Mathematics  Strongly Value Science  Somewhat Value                                28\n",
      "                            Somewhat Value Science  Somewhat Value                                24\n",
      "Somewhat Value Mathematics  Strongly Value Science  Somewhat Value                                21\n",
      "Strongly Value Mathematics  Do Not Value Science    Somewhat Value                                14\n",
      "Do Not Value Mathematics    Strongly Value Science  Somewhat Value                                10\n",
      "Name: count, dtype: int64\n"
     ]
    }
   ],
   "execution_count": 195
  },
  {
   "metadata": {
    "ExecuteTime": {
     "end_time": "2025-03-20T21:02:26.964254Z",
     "start_time": "2025-03-20T21:02:26.948402Z"
    }
   },
   "cell_type": "code",
   "source": [
    "df[\"Students_Value_Science\"] = df[\"Students_Value_Science\"].apply(lambda x: \"Strongly value\" if \"Strongly\" in str(x) else x )\n",
    "df[\"Students_Value_Science\"] = df[\"Students_Value_Science\"].apply(lambda x: \"Do not value\" if \"Do not\" in str(x) else x )\n",
    "df[\"Students_Value_Science\"] = df[\"Students_Value_Science\"].apply(lambda x: \"Somewhat value\" if \"Somewhat\" in str(x) else x )\n",
    "print(df[\"Students_Value_Science\"].value_counts())\n",
    "\n"
   ],
   "id": "95051edffa61d470",
   "outputs": [
    {
     "name": "stdout",
     "output_type": "stream",
     "text": [
      "Students_Value_Science\n",
      "Do Not Value Science    1493\n",
      "Somewhat value          1490\n",
      "Strongly value           892\n",
      "Name: count, dtype: int64\n"
     ]
    }
   ],
   "execution_count": 196
  },
  {
   "metadata": {
    "ExecuteTime": {
     "end_time": "2025-03-20T21:02:27.217567Z",
     "start_time": "2025-03-20T21:02:27.193545Z"
    }
   },
   "cell_type": "code",
   "source": [
    "df[\"Students_Value_Mathematics\"] = df[\"Students_Value_Mathematics\"].apply(lambda x: \"Strongly value\" if \"Strongly\" in str(x) else x )\n",
    "df[\"Students_Value_Mathematics\"] = df[\"Students_Value_Mathematics\"].apply(lambda x: \"Do not value\" if \"Do not\" in str(x) else x )\n",
    "df[\"Students_Value_Mathematics\"] = df[\"Students_Value_Mathematics\"].apply(lambda x: \"Somewhat value\" if \"Somewhat\" in str(x) else x )\n",
    "print(df[\"Students_Value_Mathematics\"].value_counts())\n",
    "\n"
   ],
   "id": "1149e3a002646409",
   "outputs": [
    {
     "name": "stdout",
     "output_type": "stream",
     "text": [
      "Students_Value_Mathematics\n",
      "Somewhat value              1792\n",
      "Do Not Value Mathematics    1063\n",
      "Strongly value              1020\n",
      "Name: count, dtype: int64\n"
     ]
    }
   ],
   "execution_count": 197
  },
  {
   "metadata": {
    "ExecuteTime": {
     "end_time": "2025-03-20T21:02:27.512576Z",
     "start_time": "2025-03-20T21:02:27.495018Z"
    }
   },
   "cell_type": "code",
   "source": [
    "df[\"Students_Value_Environmental_Preservation\"] = df[\"Students_Value_Environmental_Preservation\"].apply(lambda x: \"Strongly value\" if \"Strongly\" in str(x) else x )\n",
    "df[\"Students_Value_Environmental_Preservation\"] = df[\"Students_Value_Environmental_Preservation\"].apply(lambda x: \"Do not value\" if \"Do not\" in str(x) else x )\n",
    "df[\"Students_Value_Environmental_Preservation\"] = df[\"Students_Value_Environmental_Preservation\"].apply(lambda x: \"Somewhat value\" if \"Somewhat\" in str(x) else x )\n",
    "print(df[\"Students_Value_Environmental_Preservation\"].value_counts())\n",
    "\n"
   ],
   "id": "cee55c020122ec3d",
   "outputs": [
    {
     "name": "stdout",
     "output_type": "stream",
     "text": [
      "Students_Value_Environmental_Preservation\n",
      "Strongly value    3438\n",
      "Somewhat value     437\n",
      "Name: count, dtype: int64\n"
     ]
    }
   ],
   "execution_count": 198
  },
  {
   "metadata": {},
   "cell_type": "markdown",
   "source": "### 5.5.1 Gender and Value for Mathematics",
   "id": "4f0601e09f80451b"
  },
  {
   "metadata": {},
   "cell_type": "markdown",
   "source": "#### 5.5.1.1 Gender wise distribution of students, who value Mathematics",
   "id": "82fa6ee1f09fdfc3"
  },
  {
   "metadata": {
    "ExecuteTime": {
     "end_time": "2025-03-20T21:02:27.745735Z",
     "start_time": "2025-03-20T21:02:27.722426Z"
    }
   },
   "cell_type": "code",
   "source": [
    "strong_value = df[\"Students_Value_Mathematics\"].str.contains(\"Strongly\")\n",
    "some_what_value = df[\"Students_Value_Mathematics\"].str.contains(\"Somewhat\")\n",
    "value_for_maths  = df[strong_value | some_what_value]\n",
    "value_for_maths.groupby(\"Gender_Student\" , observed=False)[\"Gender_Student\"].describe()\n"
   ],
   "id": "f54a77ba597705bf",
   "outputs": [
    {
     "data": {
      "text/plain": [
       "               count unique     top  freq\n",
       "Gender_Student                           \n",
       "Others            77      1  Others    77\n",
       "Boy             1412      1     Boy  1412\n",
       "Girl            1323      1    Girl  1323"
      ],
      "text/html": [
       "<div>\n",
       "<style scoped>\n",
       "    .dataframe tbody tr th:only-of-type {\n",
       "        vertical-align: middle;\n",
       "    }\n",
       "\n",
       "    .dataframe tbody tr th {\n",
       "        vertical-align: top;\n",
       "    }\n",
       "\n",
       "    .dataframe thead th {\n",
       "        text-align: right;\n",
       "    }\n",
       "</style>\n",
       "<table border=\"1\" class=\"dataframe\">\n",
       "  <thead>\n",
       "    <tr style=\"text-align: right;\">\n",
       "      <th></th>\n",
       "      <th>count</th>\n",
       "      <th>unique</th>\n",
       "      <th>top</th>\n",
       "      <th>freq</th>\n",
       "    </tr>\n",
       "    <tr>\n",
       "      <th>Gender_Student</th>\n",
       "      <th></th>\n",
       "      <th></th>\n",
       "      <th></th>\n",
       "      <th></th>\n",
       "    </tr>\n",
       "  </thead>\n",
       "  <tbody>\n",
       "    <tr>\n",
       "      <th>Others</th>\n",
       "      <td>77</td>\n",
       "      <td>1</td>\n",
       "      <td>Others</td>\n",
       "      <td>77</td>\n",
       "    </tr>\n",
       "    <tr>\n",
       "      <th>Boy</th>\n",
       "      <td>1412</td>\n",
       "      <td>1</td>\n",
       "      <td>Boy</td>\n",
       "      <td>1412</td>\n",
       "    </tr>\n",
       "    <tr>\n",
       "      <th>Girl</th>\n",
       "      <td>1323</td>\n",
       "      <td>1</td>\n",
       "      <td>Girl</td>\n",
       "      <td>1323</td>\n",
       "    </tr>\n",
       "  </tbody>\n",
       "</table>\n",
       "</div>"
      ]
     },
     "execution_count": 199,
     "metadata": {},
     "output_type": "execute_result"
    }
   ],
   "execution_count": 199
  },
  {
   "metadata": {
    "ExecuteTime": {
     "end_time": "2025-03-20T21:02:28.174033Z",
     "start_time": "2025-03-20T21:02:27.998525Z"
    }
   },
   "cell_type": "code",
   "source": [
    "fig = plt.figure(figsize=(10,5))\n",
    "sns.countplot(data=value_for_maths, x=\"Gender_Student\", color=\"b\")\n",
    "plt.tight_layout()\n",
    "plt.show()"
   ],
   "id": "5f8ab04d2dff8923",
   "outputs": [
    {
     "data": {
      "text/plain": [
       "<Figure size 1000x500 with 1 Axes>"
      ],
      "image/png": "[encoded data removed]"
     },
     "metadata": {},
     "output_type": "display_data"
    }
   ],
   "execution_count": 200
  },
  {
   "metadata": {},
   "cell_type": "markdown",
   "source": "##### 5.5.1.1.1 Percentage of boys, who are confident in mathematics",
   "id": "8d4b5f9918a99993"
  },
  {
   "metadata": {
    "ExecuteTime": {
     "end_time": "2025-03-20T21:02:28.234211Z",
     "start_time": "2025-03-20T21:02:28.221340Z"
    }
   },
   "cell_type": "code",
   "source": "utils.getPercentageByGender(value_for_maths,df,\"Boy\")",
   "id": "bbbd0c704dbd2df",
   "outputs": [
    {
     "name": "stdout",
     "output_type": "stream",
     "text": [
      "0.7346514047866806\n"
     ]
    }
   ],
   "execution_count": 201
  },
  {
   "metadata": {},
   "cell_type": "markdown",
   "source": "##### 5.5.1.1.2 Percentage of girls, who are confident in mathematics",
   "id": "dcb289710cc2fd89"
  },
  {
   "metadata": {
    "ExecuteTime": {
     "end_time": "2025-03-20T21:02:28.339983Z",
     "start_time": "2025-03-20T21:02:28.325238Z"
    }
   },
   "cell_type": "code",
   "source": "utils.getPercentageByGender(value_for_maths,df,\"Girl\")",
   "id": "8779cc36d2779762",
   "outputs": [
    {
     "name": "stdout",
     "output_type": "stream",
     "text": [
      "0.7194127243066885\n"
     ]
    }
   ],
   "execution_count": 202
  },
  {
   "metadata": {},
   "cell_type": "markdown",
   "source": "#### 5.5.1.2 Gender wise distribution of students who do not have clarity in Mathematics",
   "id": "d857bf548f06babb"
  },
  {
   "metadata": {
    "ExecuteTime": {
     "end_time": "2025-03-20T21:02:28.600791Z",
     "start_time": "2025-03-20T21:02:28.578257Z"
    }
   },
   "cell_type": "code",
   "source": [
    "no_value_maths = df[\"Students_Value_Mathematics\"].str.contains(\"Do Not\")\n",
    "do_not_value_maths  = df[no_value_maths]\n",
    "do_not_value_maths.groupby(\"Gender_Student\" , observed=False)[\"Gender_Student\"].describe()\n"
   ],
   "id": "339a360d1df991ff",
   "outputs": [
    {
     "data": {
      "text/plain": [
       "               count unique     top freq\n",
       "Gender_Student                          \n",
       "Others            37      1  Others   37\n",
       "Boy              510      1     Boy  510\n",
       "Girl             516      1    Girl  516"
      ],
      "text/html": [
       "<div>\n",
       "<style scoped>\n",
       "    .dataframe tbody tr th:only-of-type {\n",
       "        vertical-align: middle;\n",
       "    }\n",
       "\n",
       "    .dataframe tbody tr th {\n",
       "        vertical-align: top;\n",
       "    }\n",
       "\n",
       "    .dataframe thead th {\n",
       "        text-align: right;\n",
       "    }\n",
       "</style>\n",
       "<table border=\"1\" class=\"dataframe\">\n",
       "  <thead>\n",
       "    <tr style=\"text-align: right;\">\n",
       "      <th></th>\n",
       "      <th>count</th>\n",
       "      <th>unique</th>\n",
       "      <th>top</th>\n",
       "      <th>freq</th>\n",
       "    </tr>\n",
       "    <tr>\n",
       "      <th>Gender_Student</th>\n",
       "      <th></th>\n",
       "      <th></th>\n",
       "      <th></th>\n",
       "      <th></th>\n",
       "    </tr>\n",
       "  </thead>\n",
       "  <tbody>\n",
       "    <tr>\n",
       "      <th>Others</th>\n",
       "      <td>37</td>\n",
       "      <td>1</td>\n",
       "      <td>Others</td>\n",
       "      <td>37</td>\n",
       "    </tr>\n",
       "    <tr>\n",
       "      <th>Boy</th>\n",
       "      <td>510</td>\n",
       "      <td>1</td>\n",
       "      <td>Boy</td>\n",
       "      <td>510</td>\n",
       "    </tr>\n",
       "    <tr>\n",
       "      <th>Girl</th>\n",
       "      <td>516</td>\n",
       "      <td>1</td>\n",
       "      <td>Girl</td>\n",
       "      <td>516</td>\n",
       "    </tr>\n",
       "  </tbody>\n",
       "</table>\n",
       "</div>"
      ]
     },
     "execution_count": 203,
     "metadata": {},
     "output_type": "execute_result"
    }
   ],
   "execution_count": 203
  },
  {
   "metadata": {},
   "cell_type": "markdown",
   "source": "##### 5.5.1.2.1 Percentage of boys, who are not confident mathematics",
   "id": "9cdc2dfd63f0c376"
  },
  {
   "metadata": {
    "ExecuteTime": {
     "end_time": "2025-03-20T21:02:28.871018Z",
     "start_time": "2025-03-20T21:02:28.854574Z"
    }
   },
   "cell_type": "code",
   "source": "utils.getPercentageByGender(do_not_value_maths,df,\"Boy\")",
   "id": "990db1b534b61196",
   "outputs": [
    {
     "name": "stdout",
     "output_type": "stream",
     "text": [
      "0.26534859521331944\n"
     ]
    }
   ],
   "execution_count": 204
  },
  {
   "metadata": {},
   "cell_type": "markdown",
   "source": "##### 5.5.1.2.2 Percentage of girls, who are not confident in mathematics",
   "id": "2be64a489c65936"
  },
  {
   "metadata": {
    "ExecuteTime": {
     "end_time": "2025-03-20T21:02:29.014556Z",
     "start_time": "2025-03-20T21:02:29.002404Z"
    }
   },
   "cell_type": "code",
   "source": "utils.getPercentageByGender(do_not_value_maths,df,\"Girl\")",
   "id": "713f209732ef7dd4",
   "outputs": [
    {
     "name": "stdout",
     "output_type": "stream",
     "text": [
      "0.2805872756933116\n"
     ]
    }
   ],
   "execution_count": 205
  },
  {
   "metadata": {},
   "cell_type": "markdown",
   "source": "### 5.5.2 Gender and Value for Science",
   "id": "45c247bdf83858a0"
  },
  {
   "metadata": {},
   "cell_type": "markdown",
   "source": "#### 5.5.2.1 Gender wise distriibution of students who value Science",
   "id": "702cf1478e49fdb1"
  },
  {
   "metadata": {
    "ExecuteTime": {
     "end_time": "2025-03-20T21:02:29.207490Z",
     "start_time": "2025-03-20T21:02:29.182510Z"
    }
   },
   "cell_type": "code",
   "source": [
    "strong_value = df[\"Students_Value_Science\"].str.contains(\"Strongly\")\n",
    "moderate_value = df[\"Students_Value_Science\"].str.contains(\"Moderate\")\n",
    "value_for_science  = df[strong_value | moderate_value]\n",
    "value_for_science.groupby(\"Gender_Student\" , observed=False)[\"Gender_Student\"].describe()\n"
   ],
   "id": "893fbc9b70bd44ae",
   "outputs": [
    {
     "data": {
      "text/plain": [
       "               count unique     top freq\n",
       "Gender_Student                          \n",
       "Others            31      1  Others   31\n",
       "Boy              395      1     Boy  395\n",
       "Girl             466      1    Girl  466"
      ],
      "text/html": [
       "<div>\n",
       "<style scoped>\n",
       "    .dataframe tbody tr th:only-of-type {\n",
       "        vertical-align: middle;\n",
       "    }\n",
       "\n",
       "    .dataframe tbody tr th {\n",
       "        vertical-align: top;\n",
       "    }\n",
       "\n",
       "    .dataframe thead th {\n",
       "        text-align: right;\n",
       "    }\n",
       "</style>\n",
       "<table border=\"1\" class=\"dataframe\">\n",
       "  <thead>\n",
       "    <tr style=\"text-align: right;\">\n",
       "      <th></th>\n",
       "      <th>count</th>\n",
       "      <th>unique</th>\n",
       "      <th>top</th>\n",
       "      <th>freq</th>\n",
       "    </tr>\n",
       "    <tr>\n",
       "      <th>Gender_Student</th>\n",
       "      <th></th>\n",
       "      <th></th>\n",
       "      <th></th>\n",
       "      <th></th>\n",
       "    </tr>\n",
       "  </thead>\n",
       "  <tbody>\n",
       "    <tr>\n",
       "      <th>Others</th>\n",
       "      <td>31</td>\n",
       "      <td>1</td>\n",
       "      <td>Others</td>\n",
       "      <td>31</td>\n",
       "    </tr>\n",
       "    <tr>\n",
       "      <th>Boy</th>\n",
       "      <td>395</td>\n",
       "      <td>1</td>\n",
       "      <td>Boy</td>\n",
       "      <td>395</td>\n",
       "    </tr>\n",
       "    <tr>\n",
       "      <th>Girl</th>\n",
       "      <td>466</td>\n",
       "      <td>1</td>\n",
       "      <td>Girl</td>\n",
       "      <td>466</td>\n",
       "    </tr>\n",
       "  </tbody>\n",
       "</table>\n",
       "</div>"
      ]
     },
     "execution_count": 206,
     "metadata": {},
     "output_type": "execute_result"
    }
   ],
   "execution_count": 206
  },
  {
   "metadata": {
    "ExecuteTime": {
     "end_time": "2025-03-20T21:02:29.629679Z",
     "start_time": "2025-03-20T21:02:29.463777Z"
    }
   },
   "cell_type": "code",
   "source": [
    "fig = plt.figure(figsize=(10,5))\n",
    "sns.countplot(data=value_for_science, x=\"Gender_Student\", color=\"b\")\n",
    "plt.tight_layout()\n",
    "plt.show()"
   ],
   "id": "cad6a54e286867eb",
   "outputs": [
    {
     "data": {
      "text/plain": [
       "<Figure size 1000x500 with 1 Axes>"
      ],
      "image/png": "[encoded data removed]"
     },
     "metadata": {},
     "output_type": "display_data"
    }
   ],
   "execution_count": 207
  },
  {
   "metadata": {},
   "cell_type": "markdown",
   "source": [
    "\n",
    "##### 5.5.2.1.1 Percentage of boys who value science"
   ],
   "id": "43ab18fa8b462bb4"
  },
  {
   "metadata": {
    "ExecuteTime": {
     "end_time": "2025-03-20T21:02:29.694036Z",
     "start_time": "2025-03-20T21:02:29.682302Z"
    }
   },
   "cell_type": "code",
   "source": "utils.getPercentageByGender(value_for_science,df,\"Boy\")",
   "id": "df4cce6b064a53c4",
   "outputs": [
    {
     "name": "stdout",
     "output_type": "stream",
     "text": [
      "0.20551508844953173\n"
     ]
    }
   ],
   "execution_count": 208
  },
  {
   "metadata": {},
   "cell_type": "markdown",
   "source": "##### 5.5.2.1.2 Percentage of girls who value  science",
   "id": "5618e017b723d69d"
  },
  {
   "metadata": {
    "ExecuteTime": {
     "end_time": "2025-03-20T21:02:29.785006Z",
     "start_time": "2025-03-20T21:02:29.772319Z"
    }
   },
   "cell_type": "code",
   "source": [
    "\n",
    "utils.getPercentageByGender(value_for_science,df,\"Girl\")"
   ],
   "id": "8dc20f359fd7c432",
   "outputs": [
    {
     "name": "stdout",
     "output_type": "stream",
     "text": [
      "0.25339858618814576\n"
     ]
    }
   ],
   "execution_count": 209
  },
  {
   "metadata": {},
   "cell_type": "markdown",
   "source": "#### 5.5.2.2 Gender wise distriibution of students, who do not value Science",
   "id": "95a811f171771e3c"
  },
  {
   "metadata": {
    "ExecuteTime": {
     "end_time": "2025-03-20T21:02:30.187783Z",
     "start_time": "2025-03-20T21:02:30.162427Z"
    }
   },
   "cell_type": "code",
   "source": [
    "dont_value_science_mask = df[\"Students_Value_Science\"].str.contains(\"Do Not\")\n",
    "dont_value_science  = df[dont_value_science_mask]\n",
    "dont_value_science.groupby(\"Gender_Student\" , observed=False)[\"Gender_Student\"].describe()\n"
   ],
   "id": "6edc10fbdfe3c62b",
   "outputs": [
    {
     "data": {
      "text/plain": [
       "               count unique     top freq\n",
       "Gender_Student                          \n",
       "Others            40      1  Others   40\n",
       "Boy              781      1     Boy  781\n",
       "Girl             672      1    Girl  672"
      ],
      "text/html": [
       "<div>\n",
       "<style scoped>\n",
       "    .dataframe tbody tr th:only-of-type {\n",
       "        vertical-align: middle;\n",
       "    }\n",
       "\n",
       "    .dataframe tbody tr th {\n",
       "        vertical-align: top;\n",
       "    }\n",
       "\n",
       "    .dataframe thead th {\n",
       "        text-align: right;\n",
       "    }\n",
       "</style>\n",
       "<table border=\"1\" class=\"dataframe\">\n",
       "  <thead>\n",
       "    <tr style=\"text-align: right;\">\n",
       "      <th></th>\n",
       "      <th>count</th>\n",
       "      <th>unique</th>\n",
       "      <th>top</th>\n",
       "      <th>freq</th>\n",
       "    </tr>\n",
       "    <tr>\n",
       "      <th>Gender_Student</th>\n",
       "      <th></th>\n",
       "      <th></th>\n",
       "      <th></th>\n",
       "      <th></th>\n",
       "    </tr>\n",
       "  </thead>\n",
       "  <tbody>\n",
       "    <tr>\n",
       "      <th>Others</th>\n",
       "      <td>40</td>\n",
       "      <td>1</td>\n",
       "      <td>Others</td>\n",
       "      <td>40</td>\n",
       "    </tr>\n",
       "    <tr>\n",
       "      <th>Boy</th>\n",
       "      <td>781</td>\n",
       "      <td>1</td>\n",
       "      <td>Boy</td>\n",
       "      <td>781</td>\n",
       "    </tr>\n",
       "    <tr>\n",
       "      <th>Girl</th>\n",
       "      <td>672</td>\n",
       "      <td>1</td>\n",
       "      <td>Girl</td>\n",
       "      <td>672</td>\n",
       "    </tr>\n",
       "  </tbody>\n",
       "</table>\n",
       "</div>"
      ]
     },
     "execution_count": 210,
     "metadata": {},
     "output_type": "execute_result"
    }
   ],
   "execution_count": 210
  },
  {
   "metadata": {
    "ExecuteTime": {
     "end_time": "2025-03-20T21:02:30.437570Z",
     "start_time": "2025-03-20T21:02:30.275670Z"
    }
   },
   "cell_type": "code",
   "source": [
    "\n",
    "fig = plt.figure(figsize=(10,5))\n",
    "sns.countplot(data=not_clear_in_science, x=\"Gender_Student\", color=\"b\")\n",
    "plt.tight_layout()\n",
    "plt.show()"
   ],
   "id": "a52266cb67b6f730",
   "outputs": [
    {
     "data": {
      "text/plain": [
       "<Figure size 1000x500 with 1 Axes>"
      ],
      "image/png": "[encoded data removed]"
     },
     "metadata": {},
     "output_type": "display_data"
    }
   ],
   "execution_count": 211
  },
  {
   "metadata": {},
   "cell_type": "markdown",
   "source": [
    "\n",
    "##### 5.4.2.2.1 Percentage of boys not confident in science"
   ],
   "id": "327cbc8ef91162f0"
  },
  {
   "metadata": {
    "ExecuteTime": {
     "end_time": "2025-03-20T21:02:30.495874Z",
     "start_time": "2025-03-20T21:02:30.482657Z"
    }
   },
   "cell_type": "code",
   "source": "utils.getPercentageByGender(dont_value_science,df,\"Boy\")",
   "id": "d1e9752ba81ed695",
   "outputs": [
    {
     "name": "stdout",
     "output_type": "stream",
     "text": [
      "0.40634755463059313\n"
     ]
    }
   ],
   "execution_count": 212
  },
  {
   "metadata": {},
   "cell_type": "markdown",
   "source": [
    "\n",
    "##### 5.3.2.2.2 Percentage of girls don't like learning science"
   ],
   "id": "490cd8509617f274"
  },
  {
   "metadata": {
    "ExecuteTime": {
     "end_time": "2025-03-20T21:02:30.575867Z",
     "start_time": "2025-03-20T21:02:30.562818Z"
    }
   },
   "cell_type": "code",
   "source": "utils.getPercentageByGender(dont_value_science,df,\"Girl\")",
   "id": "65a432b7ecaf036e",
   "outputs": [
    {
     "name": "stdout",
     "output_type": "stream",
     "text": [
      "0.36541598694942906\n"
     ]
    }
   ],
   "execution_count": 213
  },
  {
   "metadata": {},
   "cell_type": "markdown",
   "source": "### 5.5.3 Gender and Value for Environmental Preservation",
   "id": "43b7e8b2a3e163dd"
  },
  {
   "metadata": {},
   "cell_type": "markdown",
   "source": "#### 5.5.2.1 Gender wise distriibution of students who value Environmental Preservation",
   "id": "d86e775cb5664531"
  },
  {
   "metadata": {
    "ExecuteTime": {
     "end_time": "2025-03-20T21:02:30.827566Z",
     "start_time": "2025-03-20T21:02:30.799651Z"
    }
   },
   "cell_type": "code",
   "source": [
    "strong_value = df[\"Students_Value_Environmental_Preservation\"].str.contains(\"Strongly\")\n",
    "moderate_value = df[\"Students_Value_Environmental_Preservation\"].str.contains(\"Moderate\")\n",
    "value_for_ep  = df[strong_value | moderate_value]\n",
    "value_for_ep.groupby(\"Gender_Student\" , observed=False)[\"Gender_Student\"].describe()\n"
   ],
   "id": "1b1a6de08ef05c15",
   "outputs": [
    {
     "data": {
      "text/plain": [
       "               count unique     top  freq\n",
       "Gender_Student                           \n",
       "Others            91      1  Others    91\n",
       "Boy             1623      1     Boy  1623\n",
       "Girl            1724      1    Girl  1724"
      ],
      "text/html": [
       "<div>\n",
       "<style scoped>\n",
       "    .dataframe tbody tr th:only-of-type {\n",
       "        vertical-align: middle;\n",
       "    }\n",
       "\n",
       "    .dataframe tbody tr th {\n",
       "        vertical-align: top;\n",
       "    }\n",
       "\n",
       "    .dataframe thead th {\n",
       "        text-align: right;\n",
       "    }\n",
       "</style>\n",
       "<table border=\"1\" class=\"dataframe\">\n",
       "  <thead>\n",
       "    <tr style=\"text-align: right;\">\n",
       "      <th></th>\n",
       "      <th>count</th>\n",
       "      <th>unique</th>\n",
       "      <th>top</th>\n",
       "      <th>freq</th>\n",
       "    </tr>\n",
       "    <tr>\n",
       "      <th>Gender_Student</th>\n",
       "      <th></th>\n",
       "      <th></th>\n",
       "      <th></th>\n",
       "      <th></th>\n",
       "    </tr>\n",
       "  </thead>\n",
       "  <tbody>\n",
       "    <tr>\n",
       "      <th>Others</th>\n",
       "      <td>91</td>\n",
       "      <td>1</td>\n",
       "      <td>Others</td>\n",
       "      <td>91</td>\n",
       "    </tr>\n",
       "    <tr>\n",
       "      <th>Boy</th>\n",
       "      <td>1623</td>\n",
       "      <td>1</td>\n",
       "      <td>Boy</td>\n",
       "      <td>1623</td>\n",
       "    </tr>\n",
       "    <tr>\n",
       "      <th>Girl</th>\n",
       "      <td>1724</td>\n",
       "      <td>1</td>\n",
       "      <td>Girl</td>\n",
       "      <td>1724</td>\n",
       "    </tr>\n",
       "  </tbody>\n",
       "</table>\n",
       "</div>"
      ]
     },
     "execution_count": 214,
     "metadata": {},
     "output_type": "execute_result"
    }
   ],
   "execution_count": 214
  },
  {
   "metadata": {
    "ExecuteTime": {
     "end_time": "2025-03-20T21:02:31.277837Z",
     "start_time": "2025-03-20T21:02:31.093050Z"
    }
   },
   "cell_type": "code",
   "source": [
    "fig = plt.figure(figsize=(10,5))\n",
    "sns.countplot(data=value_for_ep, x=\"Gender_Student\", color=\"b\")\n",
    "plt.tight_layout()\n",
    "plt.show()"
   ],
   "id": "e7b94de3468d7b36",
   "outputs": [
    {
     "data": {
      "text/plain": [
       "<Figure size 1000x500 with 1 Axes>"
      ],
      "image/png": "[encoded data removed]"
     },
     "metadata": {},
     "output_type": "display_data"
    }
   ],
   "execution_count": 215
  },
  {
   "metadata": {},
   "cell_type": "markdown",
   "source": [
    "\n",
    "##### 5.5.3.1.1 Percentage of boys who value Environment Preservation"
   ],
   "id": "19ede7564e40d15"
  },
  {
   "metadata": {
    "ExecuteTime": {
     "end_time": "2025-03-20T21:02:31.343774Z",
     "start_time": "2025-03-20T21:02:31.328361Z"
    }
   },
   "cell_type": "code",
   "source": "utils.getPercentageByGender(value_for_ep,df,\"Boy\")",
   "id": "7e68af2e6f2cfee9",
   "outputs": [
    {
     "name": "stdout",
     "output_type": "stream",
     "text": [
      "0.8444328824141519\n"
     ]
    }
   ],
   "execution_count": 216
  },
  {
   "metadata": {},
   "cell_type": "markdown",
   "source": "##### 5.5.2.1.2 Percentage of girls who value Environmental Preservation",
   "id": "c3b676760dcdcaab"
  },
  {
   "metadata": {
    "ExecuteTime": {
     "end_time": "2025-03-20T21:02:31.402589Z",
     "start_time": "2025-03-20T21:02:31.387477Z"
    }
   },
   "cell_type": "code",
   "source": "utils.getPercentageByGender(value_for_ep,df,\"Girl\")",
   "id": "797696adf8131b6e",
   "outputs": [
    {
     "name": "stdout",
     "output_type": "stream",
     "text": [
      "0.9374660141381186\n"
     ]
    }
   ],
   "execution_count": 217
  },
  {
   "metadata": {},
   "cell_type": "markdown",
   "source": "#### 5.5.3.2 Gender wise distriibution of students, who do not value SEnvironemntal Preservation",
   "id": "3aec10b381fc24ee"
  },
  {
   "metadata": {
    "ExecuteTime": {
     "end_time": "2025-03-20T21:02:31.634559Z",
     "start_time": "2025-03-20T21:02:31.612499Z"
    }
   },
   "cell_type": "code",
   "source": [
    "dont_value_ep_stu = df[\"Students_Value_Science\"].str.contains(\"Do Not\")\n",
    "dont_value_ep  = df[dont_value_ep_stu]\n",
    "dont_value_ep.groupby(\"Gender_Student\" , observed=False)[\"Gender_Student\"].describe()\n"
   ],
   "id": "4b0b9cdedc4c55eb",
   "outputs": [
    {
     "data": {
      "text/plain": [
       "               count unique     top freq\n",
       "Gender_Student                          \n",
       "Others            40      1  Others   40\n",
       "Boy              781      1     Boy  781\n",
       "Girl             672      1    Girl  672"
      ],
      "text/html": [
       "<div>\n",
       "<style scoped>\n",
       "    .dataframe tbody tr th:only-of-type {\n",
       "        vertical-align: middle;\n",
       "    }\n",
       "\n",
       "    .dataframe tbody tr th {\n",
       "        vertical-align: top;\n",
       "    }\n",
       "\n",
       "    .dataframe thead th {\n",
       "        text-align: right;\n",
       "    }\n",
       "</style>\n",
       "<table border=\"1\" class=\"dataframe\">\n",
       "  <thead>\n",
       "    <tr style=\"text-align: right;\">\n",
       "      <th></th>\n",
       "      <th>count</th>\n",
       "      <th>unique</th>\n",
       "      <th>top</th>\n",
       "      <th>freq</th>\n",
       "    </tr>\n",
       "    <tr>\n",
       "      <th>Gender_Student</th>\n",
       "      <th></th>\n",
       "      <th></th>\n",
       "      <th></th>\n",
       "      <th></th>\n",
       "    </tr>\n",
       "  </thead>\n",
       "  <tbody>\n",
       "    <tr>\n",
       "      <th>Others</th>\n",
       "      <td>40</td>\n",
       "      <td>1</td>\n",
       "      <td>Others</td>\n",
       "      <td>40</td>\n",
       "    </tr>\n",
       "    <tr>\n",
       "      <th>Boy</th>\n",
       "      <td>781</td>\n",
       "      <td>1</td>\n",
       "      <td>Boy</td>\n",
       "      <td>781</td>\n",
       "    </tr>\n",
       "    <tr>\n",
       "      <th>Girl</th>\n",
       "      <td>672</td>\n",
       "      <td>1</td>\n",
       "      <td>Girl</td>\n",
       "      <td>672</td>\n",
       "    </tr>\n",
       "  </tbody>\n",
       "</table>\n",
       "</div>"
      ]
     },
     "execution_count": 218,
     "metadata": {},
     "output_type": "execute_result"
    }
   ],
   "execution_count": 218
  },
  {
   "metadata": {
    "ExecuteTime": {
     "end_time": "2025-03-20T21:02:32.099413Z",
     "start_time": "2025-03-20T21:02:31.917619Z"
    }
   },
   "cell_type": "code",
   "source": [
    "fig = plt.figure(figsize=(10,5))\n",
    "sns.countplot(data=dont_value_ep, x=\"Gender_Student\", color=\"b\")\n",
    "plt.tight_layout()\n",
    "plt.show()"
   ],
   "id": "f39de89fa29d2725",
   "outputs": [
    {
     "data": {
      "text/plain": [
       "<Figure size 1000x500 with 1 Axes>"
      ],
      "image/png": "[encoded data removed]"
     },
     "metadata": {},
     "output_type": "display_data"
    }
   ],
   "execution_count": 219
  },
  {
   "metadata": {},
   "cell_type": "markdown",
   "source": [
    "\n",
    "##### 5.4.2.2.1 Percentage of boys, who dont value Environmental Preservation"
   ],
   "id": "52a531d740a28a83"
  },
  {
   "metadata": {
    "ExecuteTime": {
     "end_time": "2025-03-20T21:02:32.296591Z",
     "start_time": "2025-03-20T21:02:32.282945Z"
    }
   },
   "cell_type": "code",
   "source": "utils.getPercentageByGender(dont_value_ep,df,\"Boy\")",
   "id": "ef57d94f55feb922",
   "outputs": [
    {
     "name": "stdout",
     "output_type": "stream",
     "text": [
      "0.40634755463059313\n"
     ]
    }
   ],
   "execution_count": 220
  },
  {
   "metadata": {},
   "cell_type": "markdown",
   "source": [
    "\n",
    "##### 5.3.2.2.2 Percentage of girls don't like learning science"
   ],
   "id": "befc9eff360a538c"
  },
  {
   "metadata": {
    "ExecuteTime": {
     "end_time": "2025-03-20T21:02:32.338209Z",
     "start_time": "2025-03-20T21:02:32.323457Z"
    }
   },
   "cell_type": "code",
   "source": "utils.getPercentageByGender(dont_value_ep,df,\"Girl\")",
   "id": "764a824a2e633f3e",
   "outputs": [
    {
     "name": "stdout",
     "output_type": "stream",
     "text": [
      "0.36541598694942906\n"
     ]
    }
   ],
   "execution_count": 221
  },
  {
   "metadata": {},
   "cell_type": "markdown",
   "source": "## 5.6 Gender and Bullying",
   "id": "9287502dc746df5d"
  },
  {
   "metadata": {
    "ExecuteTime": {
     "end_time": "2025-03-20T21:02:32.613138Z",
     "start_time": "2025-03-20T21:02:32.571018Z"
    }
   },
   "cell_type": "code",
   "source": [
    "df.info()\n",
    "\n",
    "df.to_feather(\"./data/cleaned_behavior.feather\")"
   ],
   "id": "f7e4533c56e15553",
   "outputs": [
    {
     "name": "stdout",
     "output_type": "stream",
     "text": [
      "<class 'pandas.core.frame.DataFrame'>\n",
      "Index: 3875 entries, 0 to 5089\n",
      "Data columns (total 64 columns):\n",
      " #   Column                                        Non-Null Count  Dtype   \n",
      "---  ------                                        --------------  -----   \n",
      " 0   Gender_Student                                3875 non-null   category\n",
      " 1   Lang_Spoken_Home                              3875 non-null   category\n",
      " 2   Books_Home                                    3875 non-null   category\n",
      " 3   Own_Computer                                  3875 non-null   category\n",
      " 4   Shared_Computer                               3875 non-null   category\n",
      " 5   Smartphone                                    3875 non-null   category\n",
      " 6   Internet_Access                               3875 non-null   category\n",
      " 7   Study_Desk                                    3875 non-null   category\n",
      " 8   Own_Room                                      3875 non-null   category\n",
      " 9   ParentA_Edu_Level                             3875 non-null   category\n",
      " 10  ParentB_Edu_Level                             3875 non-null   category\n",
      " 11  Education_Expectation                         3875 non-null   category\n",
      " 12  ParentA_Born_Country                          3875 non-null   category\n",
      " 13  ParentB_Born_Country                          3875 non-null   category\n",
      " 14  1ST_PV_MATHEMATICS                            3875 non-null   float64 \n",
      " 15  2ND_PV_MATHEMATICS                            3875 non-null   float64 \n",
      " 16  3RD_PV_MATHEMATICS                            3875 non-null   float64 \n",
      " 17  4TH_PV_MATHEMATICS                            3875 non-null   float64 \n",
      " 18  5TH_PV_MATHEMATICS                            3875 non-null   float64 \n",
      " 19  1ST_PV_SCIENCE                                3875 non-null   float64 \n",
      " 20  2ND_PV_SCIENCE                                3875 non-null   float64 \n",
      " 21  3RD_PV_SCIENCE                                3875 non-null   float64 \n",
      " 22  4TH_PV_SCIENCE                                3875 non-null   float64 \n",
      " 23  5TH_PV_SCIENCE                                3875 non-null   float64 \n",
      " 24  1ST_PV_BIOLOGY                                3875 non-null   float64 \n",
      " 25  2ND_PV_BIOLOGY                                3875 non-null   float64 \n",
      " 26  3RD_PV_BIOLOGY                                3875 non-null   float64 \n",
      " 27  4TH_PV_BIOLOGY                                3875 non-null   float64 \n",
      " 28  5TH_PV_BIOLOGY                                3875 non-null   float64 \n",
      " 29  1ST_PV_CHEMISTRY                              3875 non-null   float64 \n",
      " 30  2ND_PV_CHEMISTRY                              3875 non-null   float64 \n",
      " 31  3RD_PV_CHEMISTRY                              3875 non-null   float64 \n",
      " 32  4TH_PV_CHEMISTRY                              3875 non-null   float64 \n",
      " 33  5TH_PV_CHEMISTRY                              3875 non-null   float64 \n",
      " 34  1ST_PV_PHYSICS                                3875 non-null   float64 \n",
      " 35  2ND_PV PHYSICS                                3875 non-null   float64 \n",
      " 36  3RD_PV_PHYSICS                                3875 non-null   float64 \n",
      " 37  4TH_PV_PHYSICS                                3875 non-null   float64 \n",
      " 38  5TH_PV_PHYSICS                                3875 non-null   float64 \n",
      " 39  1ST_PV_EARTH_SCIENCE                          3875 non-null   float64 \n",
      " 40  2ND_PV_EARTH_SCIENCE                          3875 non-null   float64 \n",
      " 41  3RD_PV_EARTH_SCIENCE                          3875 non-null   float64 \n",
      " 42  4TH_PV_EARTH_SCIENCE                          3875 non-null   float64 \n",
      " 43  5TH_PV_EARTH_SCIENCE                          3875 non-null   float64 \n",
      " 44  Sense_of_School_Belonging                     3875 non-null   category\n",
      " 45  Student_Bullying                              3875 non-null   category\n",
      " 46  Students_Like_Learning_Mathematics            3875 non-null   category\n",
      " 47  Instructional_Clarity_in_Mathematics_Lessons  3875 non-null   category\n",
      " 48  Disorderly_Behavior_during_Math_Lessons       3875 non-null   category\n",
      " 49  Students_Confident_in_Mathematics             3875 non-null   category\n",
      " 50  Students_Value_Mathematics                    3875 non-null   category\n",
      " 51  Students_Like_Learning_Science                3875 non-null   category\n",
      " 52  Instructional_Clarity_in_Science_Lessons      3875 non-null   category\n",
      " 53  Students_Confident_in_Science                 3875 non-null   category\n",
      " 54  Students_Value_Science                        3875 non-null   category\n",
      " 55  Digital_Self_Efficacy                         3875 non-null   category\n",
      " 56  Disorderly_Behavior_during_Science_Lessons    3875 non-null   category\n",
      " 57  Students_Value_Environmental_Preservation     3875 non-null   object  \n",
      " 58  AVERAGE_PV_SCIENCE                            3875 non-null   float64 \n",
      " 59  AVERAGE_PV_MATHEMATICS                        3875 non-null   float64 \n",
      " 60  AVERAGE_PV_BIOLOGY                            3875 non-null   float64 \n",
      " 61  AVERAGE_PV_CHEMISTRY                          3875 non-null   float64 \n",
      " 62  AVERAGE_PV_PHYSICS                            3875 non-null   float64 \n",
      " 63  AVERAGE_PV_EARTH_SCIENCE                      3875 non-null   float64 \n",
      "dtypes: category(27), float64(36), object(1)\n",
      "memory usage: 1.2+ MB\n"
     ]
    }
   ],
   "execution_count": 222
  },
  {
   "metadata": {
    "ExecuteTime": {
     "end_time": "2025-03-20T21:02:33.042949Z",
     "start_time": "2025-03-20T21:02:33.038915Z"
    }
   },
   "cell_type": "code",
   "source": "",
   "id": "53b6992676036c55",
   "outputs": [],
   "execution_count": null
  }
 ],
 "metadata": {
  "kernelspec": {
   "display_name": "Python 3",
   "language": "python",
   "name": "python3"
  },
  "language_info": {
   "codemirror_mode": {
    "name": "ipython",
    "version": 2
   },
   "file_extension": ".py",
   "mimetype": "text/x-python",
   "name": "python",
   "nbconvert_exporter": "python",
   "pygments_lexer": "ipython2",
   "version": "2.7.6"
  }
 },
 "nbformat": 4,
 "nbformat_minor": 5
}

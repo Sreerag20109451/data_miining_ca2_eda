{
 "cells": [
  {
   "metadata": {},
   "cell_type": "markdown",
   "source": "# 6 Background and Facilities",
   "id": "976aee8317642451"
  },
  {
   "metadata": {
    "ExecuteTime": {
     "end_time": "2025-03-22T13:13:54.019379Z",
     "start_time": "2025-03-22T13:13:54.015975Z"
    }
   },
   "cell_type": "code",
   "source": [
    "import pandas as pd\n",
    "import numpy as np\n",
    "import matplotlib.pyplot as plt\n",
    "import seaborn as sns"
   ],
   "id": "6414f8dca78a0836",
   "outputs": [],
   "execution_count": 1
  },
  {
   "metadata": {},
   "cell_type": "code",
   "outputs": [],
   "execution_count": null,
   "source": "df = pd.read_feather(\"./data/\")",
   "id": "f2b0325770ffc13b"
  },
  {
   "metadata": {},
   "cell_type": "code",
   "outputs": [],
   "execution_count": null,
   "source": "# 6.1 Parental Origin and Facilities",
   "id": "de8e193b8147aca4"
  }
 ],
 "metadata": {
  "kernelspec": {
   "display_name": "Python 3",
   "language": "python",
   "name": "python3"
  },
  "language_info": {
   "codemirror_mode": {
    "name": "ipython",
    "version": 2
   },
   "file_extension": ".py",
   "mimetype": "text/x-python",
   "name": "python",
   "nbconvert_exporter": "python",
   "pygments_lexer": "ipython2",
   "version": "2.7.6"
  }
 },
 "nbformat": 4,
 "nbformat_minor": 5
}

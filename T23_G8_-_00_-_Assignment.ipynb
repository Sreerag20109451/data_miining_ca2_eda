{
 "cells": [
  {
   "cell_type": "markdown",
   "metadata": {},
   "source": [
    "# T23_G8 - 00 - Assignment\n",
    "\n",
    "* Create assignment tree. \n",
    "* Download the required datafiles and documentation.\n",
    "* Generate a zip file of your assignment files to upload to Moodle.\n",
    "\n",
    "You should just run all cells to setup assignment tree at start of assignment and again at end of assignment to generate the archive to upload to [Moodle]() when done. (You have to do the uploading to Moodle yourself.)"
   ]
  },
  {
   "cell_type": "markdown",
   "metadata": {},
   "source": [
    "## Setup"
   ]
  },
  {
   "cell_type": "code",
   "metadata": {
    "ExecuteTime": {
     "end_time": "2025-03-23T13:50:50.878213Z",
     "start_time": "2025-03-23T13:50:50.855752Z"
    }
   },
   "source": [
    "import os\n",
    "import glob\n",
    "from zipfile import ZipFile"
   ],
   "outputs": [],
   "execution_count": 2
  },
  {
   "cell_type": "markdown",
   "metadata": {},
   "source": [
    "## Assignment Setup"
   ]
  },
  {
   "cell_type": "code",
   "metadata": {
    "ExecuteTime": {
     "end_time": "2025-03-23T13:50:50.957476Z",
     "start_time": "2025-03-23T13:50:50.935553Z"
    }
   },
   "source": [
    "for d in ['orig/SPSS', 'orig/extra', 'orig/docs', 'data']: \n",
    "    os.makedirs(d, exist_ok=True)"
   ],
   "outputs": [],
   "execution_count": 3
  },
  {
   "cell_type": "code",
   "metadata": {
    "ExecuteTime": {
     "end_time": "2025-03-23T13:50:51.088974Z",
     "start_time": "2025-03-23T13:50:51.062606Z"
    }
   },
   "source": [
    "FILES = [\n",
    "    ('orig', 'docs/T23_User_Guide_International_Database.pdf'),\n",
    "    ('orig', 'docs/T23_G8_Codebook.xlsx'),\n",
    "    ('orig', 'extra/TIMSS_2023_National_Report_Ireland.pdf'),\n",
    "    ('.', 'T23_G8_-_01_-_Import.ipynb'),\n",
    "] + [\n",
    "    ('orig', f'SPSS/{f}irlm8.sav') for f in ['bcg','bsa','bsg','bsp','bsr','bst','btm','bts']\n",
    "]"
   ],
   "outputs": [],
   "execution_count": 4
  },
  {
   "cell_type": "code",
   "metadata": {
    "ExecuteTime": {
     "end_time": "2025-03-23T13:50:51.198420Z",
     "start_time": "2025-03-23T13:50:51.162405Z"
    }
   },
   "source": [
    "for dirname, filename in FILES:\n",
    "    source = f\"https://setu-datamining.github.io/live/resources/TIMSS/{filename}\"\n",
    "    target = f\"{dirname}/{filename}\"\n",
    "    if not os.path.isfile(target):\n",
    "        print (f\"Downloading remote file {filename}\", sep=\"\")\n",
    "        import urllib.request\n",
    "        urllib.request.urlretrieve(source, target)\n",
    "    else:\n",
    "        print(f\"Using local copy of {dirname}/{filename}\")\n"
   ],
   "outputs": [
    {
     "name": "stdout",
     "output_type": "stream",
     "text": [
      "Using local copy of orig/docs/T23_User_Guide_International_Database.pdf\n",
      "Using local copy of orig/docs/T23_G8_Codebook.xlsx\n",
      "Using local copy of orig/extra/TIMSS_2023_National_Report_Ireland.pdf\n",
      "Using local copy of ./T23_G8_-_01_-_Import.ipynb\n",
      "Using local copy of orig/SPSS/bcgirlm8.sav\n",
      "Using local copy of orig/SPSS/bsairlm8.sav\n",
      "Using local copy of orig/SPSS/bsgirlm8.sav\n",
      "Using local copy of orig/SPSS/bspirlm8.sav\n",
      "Using local copy of orig/SPSS/bsrirlm8.sav\n",
      "Using local copy of orig/SPSS/bstirlm8.sav\n",
      "Using local copy of orig/SPSS/btmirlm8.sav\n",
      "Using local copy of orig/SPSS/btsirlm8.sav\n"
     ]
    }
   ],
   "execution_count": 5
  },
  {
   "cell_type": "markdown",
   "metadata": {},
   "source": [
    "## Deliverable"
   ]
  },
  {
   "cell_type": "code",
   "metadata": {
    "ExecuteTime": {
     "end_time": "2025-03-23T13:50:51.752026Z",
     "start_time": "2025-03-23T13:50:51.370629Z"
    }
   },
   "source": [
    "target = f'TIMSS_EDA.zip'\n",
    "\n",
    "FILES_TO_UPLOAD = [\n",
    "    *glob.iglob('T23_G8_-*.ipynb'),\n",
    "    'utils.py',  # Include utils.py\n",
    "    *glob.iglob('data/**', recursive=True),\n",
    "\n",
    "]\n",
    "\n",
    "print(f\"Creating zip ... {target}\")\n",
    "\n",
    "with ZipFile(target,'w') as zip:\n",
    "    for file in FILES_TO_UPLOAD:\n",
    "        print(f\"\\tAdding file ... {file}\")\n",
    "        zip.write(file) \n",
    "\n",
    "print(\"Upload created zip file to Moodle\")"
   ],
   "outputs": [
    {
     "name": "stdout",
     "output_type": "stream",
     "text": [
      "Creating zip ... TIMSS_EDA.zip\n",
      "\tAdding file ... T23_G8_-_00_-_Assignment.ipynb\n",
      "\tAdding file ... T23_G8_-_01_-_Import.ipynb\n",
      "\tAdding file ... T23_G8_-_02_-_EDA_-_Overview.ipynb\n",
      "\tAdding file ... T23_G8_-_03_-_EDA_-Gender_And_Context.ipynb\n",
      "\tAdding file ... T23_G8_-_04_-_EDA_-Gender_And_Educational_-Outcomes.ipynb\n",
      "\tAdding file ... T23_G8_-_05_-_EDA_-Gender_And_Behaviour.ipynb\n",
      "\tAdding file ... T23_G8_-_06_-_EDA_-Background_-And_-Facilities.ipynb\n",
      "\tAdding file ... T23_G8_-_07_-_EDA_-Background_And_Behaviour.ipynb\n",
      "\tAdding file ... T23_G8_-_08_-_EDA_-Background_And_Educational_-Outcomes.ipynb\n",
      "\tAdding file ... utils.py\n",
      "\tAdding file ... data\\\n",
      "\tAdding file ... data\\averaged.feather\n",
      "\tAdding file ... data\\changed_books_home.feather\n",
      "\tAdding file ... data\\cleaned_behavior.feather\n",
      "\tAdding file ... data\\cleaned_parental_education.feather\n",
      "\tAdding file ... data\\cleaned_parental_origin\n",
      "\tAdding file ... data\\imported_and_cleaned.feather\n",
      "\tAdding file ... data\\score_averaged_feather\n",
      "\tAdding file ... data\\score_averaged_feather.feather\n",
      "Upload created zip file to Moodle\n"
     ]
    }
   ],
   "execution_count": 6
  },
  {
   "cell_type": "code",
   "metadata": {
    "ExecuteTime": {
     "end_time": "2025-03-23T13:50:51.785803Z",
     "start_time": "2025-03-23T13:50:51.775050Z"
    }
   },
   "source": [],
   "outputs": [],
   "execution_count": null
  }
 ],
 "metadata": {
  "kernelspec": {
   "display_name": "Python 3 (ipykernel)",
   "language": "python",
   "name": "python3"
  },
  "language_info": {
   "codemirror_mode": {
    "name": "ipython",
    "version": 3
   },
   "file_extension": ".py",
   "mimetype": "text/x-python",
   "name": "python",
   "nbconvert_exporter": "python",
   "pygments_lexer": "ipython3",
   "version": "3.12.8"
  }
 },
 "nbformat": 4,
 "nbformat_minor": 4
}

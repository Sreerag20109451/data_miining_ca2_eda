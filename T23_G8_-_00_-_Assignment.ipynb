{
 "cells": [
  {
   "cell_type": "markdown",
   "metadata": {},
   "source": [
    "# T23_G8 - 00 - Assignment\n",
    "\n",
    "* Create assignment tree. \n",
    "* Download the required datafiles and documentation.\n",
    "* Generate a zip file of your assignment files to upload to Moodle.\n",
    "\n",
    "You should just run all cells to setup assignment tree at start of assignment and again at end of assignment to generate the archive to upload to [Moodle]() when done. (You have to do the uploading to Moodle yourself.)"
   ]
  },
  {
   "cell_type": "markdown",
   "metadata": {},
   "source": [
    "## Setup"
   ]
  },
  {
   "cell_type": "code",
   "metadata": {
    "ExecuteTime": {
     "end_time": "2025-03-06T13:49:23.430130Z",
     "start_time": "2025-03-06T13:49:23.418625Z"
    }
   },
   "source": [
    "import os\n",
    "import glob\n",
    "from zipfile import ZipFile"
   ],
   "outputs": [],
   "execution_count": 1
  },
  {
   "cell_type": "markdown",
   "metadata": {},
   "source": [
    "## Assignment Setup"
   ]
  },
  {
   "cell_type": "code",
   "metadata": {
    "ExecuteTime": {
     "end_time": "2025-03-06T13:49:23.516746Z",
     "start_time": "2025-03-06T13:49:23.504670Z"
    }
   },
   "source": [
    "for d in ['orig/SPSS', 'orig/extra', 'orig/docs', 'data']: \n",
    "    os.makedirs(d, exist_ok=True)"
   ],
   "outputs": [],
   "execution_count": 2
  },
  {
   "cell_type": "code",
   "metadata": {
    "ExecuteTime": {
     "end_time": "2025-03-06T13:49:23.918328Z",
     "start_time": "2025-03-06T13:49:23.910076Z"
    }
   },
   "source": [
    "FILES = [\n",
    "    ('orig', 'docs/T23_User_Guide_International_Database.pdf'),\n",
    "    ('orig', 'docs/T23_G8_Codebook.xlsx'),\n",
    "    ('orig', 'extra/TIMSS_2023_National_Report_Ireland.pdf'),\n",
    "    ('.', 'T23_G8_-_01_-_Import.ipynb'),\n",
    "] + [\n",
    "    ('orig', f'SPSS/{f}irlm8.sav') for f in ['bcg','bsa','bsg','bsp','bsr','bst','btm','bts']\n",
    "]"
   ],
   "outputs": [],
   "execution_count": 3
  },
  {
   "cell_type": "code",
   "metadata": {
    "ExecuteTime": {
     "end_time": "2025-03-06T13:58:26.756914Z",
     "start_time": "2025-03-06T13:49:24.079191Z"
    }
   },
   "source": [
    "for dirname, filename in FILES:\n",
    "    source = f\"https://setu-datamining.github.io/live/resources/TIMSS/{filename}\"\n",
    "    target = f\"{dirname}/{filename}\"\n",
    "    if not os.path.isfile(target):\n",
    "        print (f\"Downloading remote file {filename}\", sep=\"\")\n",
    "        import urllib.request\n",
    "        urllib.request.urlretrieve(source, target)\n",
    "    else:\n",
    "        print(f\"Using local copy of {dirname}/{filename}\")\n"
   ],
   "outputs": [
    {
     "name": "stdout",
     "output_type": "stream",
     "text": [
      "Downloading remote file docs/T23_User_Guide_International_Database.pdf\n"
     ]
    },
    {
     "ename": "FileNotFoundError",
     "evalue": "[Errno 2] No such file or directory: 'orig/docs/T23_User_Guide_International_Database.pdf'",
     "output_type": "error",
     "traceback": [
      "\u001B[0;31m---------------------------------------------------------------------------\u001B[0m",
      "\u001B[0;31mFileNotFoundError\u001B[0m                         Traceback (most recent call last)",
      "Cell \u001B[0;32mIn[4], line 7\u001B[0m\n\u001B[1;32m      5\u001B[0m     \u001B[38;5;28mprint\u001B[39m (\u001B[38;5;124mf\u001B[39m\u001B[38;5;124m\"\u001B[39m\u001B[38;5;124mDownloading remote file \u001B[39m\u001B[38;5;132;01m{\u001B[39;00mfilename\u001B[38;5;132;01m}\u001B[39;00m\u001B[38;5;124m\"\u001B[39m, sep\u001B[38;5;241m=\u001B[39m\u001B[38;5;124m\"\u001B[39m\u001B[38;5;124m\"\u001B[39m)\n\u001B[1;32m      6\u001B[0m     \u001B[38;5;28;01mimport\u001B[39;00m\u001B[38;5;250m \u001B[39m\u001B[38;5;21;01murllib\u001B[39;00m\u001B[38;5;21;01m.\u001B[39;00m\u001B[38;5;21;01mrequest\u001B[39;00m\n\u001B[0;32m----> 7\u001B[0m     \u001B[43murllib\u001B[49m\u001B[38;5;241;43m.\u001B[39;49m\u001B[43mrequest\u001B[49m\u001B[38;5;241;43m.\u001B[39;49m\u001B[43murlretrieve\u001B[49m\u001B[43m(\u001B[49m\u001B[43msource\u001B[49m\u001B[43m,\u001B[49m\u001B[43m \u001B[49m\u001B[43mtarget\u001B[49m\u001B[43m)\u001B[49m\n\u001B[1;32m      8\u001B[0m \u001B[38;5;28;01melse\u001B[39;00m:\n\u001B[1;32m      9\u001B[0m     \u001B[38;5;28mprint\u001B[39m(\u001B[38;5;124mf\u001B[39m\u001B[38;5;124m\"\u001B[39m\u001B[38;5;124mUsing local copy of \u001B[39m\u001B[38;5;132;01m{\u001B[39;00mdirname\u001B[38;5;132;01m}\u001B[39;00m\u001B[38;5;124m/\u001B[39m\u001B[38;5;132;01m{\u001B[39;00mfilename\u001B[38;5;132;01m}\u001B[39;00m\u001B[38;5;124m\"\u001B[39m)\n",
      "File \u001B[0;32m/usr/lib/python3.10/urllib/request.py:251\u001B[0m, in \u001B[0;36murlretrieve\u001B[0;34m(url, filename, reporthook, data)\u001B[0m\n\u001B[1;32m    249\u001B[0m \u001B[38;5;66;03m# Handle temporary file setup.\u001B[39;00m\n\u001B[1;32m    250\u001B[0m \u001B[38;5;28;01mif\u001B[39;00m filename:\n\u001B[0;32m--> 251\u001B[0m     tfp \u001B[38;5;241m=\u001B[39m \u001B[38;5;28;43mopen\u001B[39;49m\u001B[43m(\u001B[49m\u001B[43mfilename\u001B[49m\u001B[43m,\u001B[49m\u001B[43m \u001B[49m\u001B[38;5;124;43m'\u001B[39;49m\u001B[38;5;124;43mwb\u001B[39;49m\u001B[38;5;124;43m'\u001B[39;49m\u001B[43m)\u001B[49m\n\u001B[1;32m    252\u001B[0m \u001B[38;5;28;01melse\u001B[39;00m:\n\u001B[1;32m    253\u001B[0m     tfp \u001B[38;5;241m=\u001B[39m tempfile\u001B[38;5;241m.\u001B[39mNamedTemporaryFile(delete\u001B[38;5;241m=\u001B[39m\u001B[38;5;28;01mFalse\u001B[39;00m)\n",
      "\u001B[0;31mFileNotFoundError\u001B[0m: [Errno 2] No such file or directory: 'orig/docs/T23_User_Guide_International_Database.pdf'"
     ]
    }
   ],
   "execution_count": 4
  },
  {
   "cell_type": "markdown",
   "metadata": {},
   "source": [
    "## Deliverable"
   ]
  },
  {
   "cell_type": "code",
   "execution_count": null,
   "metadata": {},
   "outputs": [],
   "source": [
    "target = f'TIMSS_EDA.zip'\n",
    "\n",
    "FILES_TO_UPLOAD = [\n",
    "    *glob.iglob('T23_G8_-*.ipynb')\n",
    "] + [\n",
    "    # include any extra files you want to upload here\n",
    "]\n",
    "\n",
    "print(f\"Creating zip ... {target}\")\n",
    "\n",
    "with ZipFile(target,'w') as zip:\n",
    "    for file in FILES_TO_UPLOAD:\n",
    "        print(f\"\\tAdding file ... {file}\")\n",
    "        zip.write(file) \n",
    "\n",
    "print(\"Upload created zip file to Moodle\")"
   ]
  },
  {
   "cell_type": "code",
   "execution_count": null,
   "metadata": {},
   "outputs": [],
   "source": []
  }
 ],
 "metadata": {
  "kernelspec": {
   "display_name": "Python 3 (ipykernel)",
   "language": "python",
   "name": "python3"
  },
  "language_info": {
   "codemirror_mode": {
    "name": "ipython",
    "version": 3
   },
   "file_extension": ".py",
   "mimetype": "text/x-python",
   "name": "python",
   "nbconvert_exporter": "python",
   "pygments_lexer": "ipython3",
   "version": "3.12.8"
  }
 },
 "nbformat": 4,
 "nbformat_minor": 4
}
